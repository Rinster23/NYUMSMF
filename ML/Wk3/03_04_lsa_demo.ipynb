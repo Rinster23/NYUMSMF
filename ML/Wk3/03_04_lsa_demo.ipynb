{
 "cells": [
  {
   "cell_type": "markdown",
   "metadata": {},
   "source": [
    "# Application of SVD: Latent Semantic Analysis\n",
    "\n",
    "Strategy: given a corpus of articles, we want to create a term-document-type of matrix, for which we can do SVD analysis"
   ]
  },
  {
   "cell_type": "code",
   "execution_count": 1,
   "metadata": {},
   "outputs": [],
   "source": [
    "import pickle\n",
    "import os\n",
    "import time\n",
    "\n",
    "import numpy as np\n",
    "import scipy.sparse.csr as csr\n",
    "import scipy.sparse as sparse\n",
    "from sklearn.base import clone\n",
    "from sklearn.feature_extraction.text import TfidfVectorizer\n",
    "from sklearn.decomposition import TruncatedSVD\n",
    "from sklearn.pipeline import make_pipeline\n",
    "from sklearn.preprocessing import Normalizer\n",
    "from sklearn.neighbors import KNeighborsClassifier\n",
    "\n",
    "import matplotlib.pyplot as plt\n",
    "%matplotlib inline"
   ]
  },
  {
   "cell_type": "markdown",
   "metadata": {},
   "source": [
    "# I. Representing a corpus of documents as a matrix"
   ]
  },
  {
   "cell_type": "markdown",
   "metadata": {},
   "source": [
    "## Bag of Words matrix\n",
    "\n",
    "Following the <a href=\"http://scikit-learn.org/stable/modules/feature_extraction.html\">Sklearn Feature-extraction documentation page</a>\n",
    "\n",
    "- we start with a given **corpus** of $D$ documents.\n",
    "- we preprocess each document and convert it into a list of terms (features)\n",
    "    - by lowercasing first\n",
    "    - accepting only word patterns (defined via regex)\n",
    "- then we form the $CV$ Count-Vectorizer term-frequency matrix defined as:\n",
    "\n",
    "$$\n",
    "\\begin{align}\n",
    "\\text{tf}(t, d)\\equiv{CF}_{d,t} = \\text{# times term }t\\text{ occurs in document }\n",
    "\\end{align}\n",
    "$$\n",
    "\n",
    "\n"
   ]
  },
  {
   "cell_type": "code",
   "execution_count": 2,
   "metadata": {},
   "outputs": [
    {
     "data": {
      "text/plain": [
       "CountVectorizer()"
      ]
     },
     "execution_count": 2,
     "metadata": {},
     "output_type": "execute_result"
    }
   ],
   "source": [
    "from sklearn.feature_extraction.text import CountVectorizer\n",
    "\n",
    "tpatterns = [\n",
    "    '(?u)\\\\b\\\\w\\\\w+\\\\b', #default\n",
    "    '(?u)\\\\b[a-zA-Z]\\\\w+\\\\b',\n",
    "    '\\\\w',\n",
    "    '\\\\w+',\n",
    "    '(?u)\\\\b[a-zA-Z]\\\\w+\\\\b|\\\\b[0-9]\\\\b'\n",
    "]\n",
    "\n",
    "vectorizer = CountVectorizer(token_pattern=tpatterns[0])\n",
    "vectorizer"
   ]
  },
  {
   "cell_type": "code",
   "execution_count": 3,
   "metadata": {},
   "outputs": [
    {
     "data": {
      "text/plain": [
       "<4x11 sparse matrix of type '<class 'numpy.int64'>'\n",
       "\twith 21 stored elements in Compressed Sparse Row format>"
      ]
     },
     "execution_count": 3,
     "metadata": {},
     "output_type": "execute_result"
    }
   ],
   "source": [
    "corpus = [\n",
    "    'This is the the first first document abra.',\n",
    "    'This is the second second document cadabra.',\n",
    "    'And the third one 3.',\n",
    "    'Is this the first document 4?',\n",
    "]\n",
    "X_corpus_docterm = vectorizer.fit_transform(corpus)\n",
    "X_corpus_docterm"
   ]
  },
  {
   "cell_type": "code",
   "execution_count": 4,
   "metadata": {},
   "outputs": [
    {
     "data": {
      "text/plain": [
       "array(['abra', 'and', 'cadabra', 'document', 'first', 'is', 'one',\n",
       "       'second', 'the', 'third', 'this'], dtype=object)"
      ]
     },
     "execution_count": 4,
     "metadata": {},
     "output_type": "execute_result"
    }
   ],
   "source": [
    "# note the effect of modifying the token_pattern above....\n",
    "features = vectorizer.get_feature_names_out() \n",
    "features"
   ]
  },
  {
   "cell_type": "code",
   "execution_count": 5,
   "metadata": {},
   "outputs": [
    {
     "name": "stdout",
     "output_type": "stream",
     "text": [
      "(?u)\\b\\w\\w+\\b\n",
      "['abra' 'and' 'cadabra' 'document' 'first' 'is' 'one' 'second' 'the'\n",
      " 'third' 'this']\n",
      "\n",
      "\n",
      "(?u)\\b[a-zA-Z]\\w+\\b\n",
      "['abra' 'and' 'cadabra' 'document' 'first' 'is' 'one' 'second' 'the'\n",
      " 'third' 'this']\n",
      "\n",
      "\n",
      "\\w\n",
      "['3' '4' 'a' 'b' 'c' 'd' 'e' 'f' 'h' 'i' 'm' 'n' 'o' 'r' 's' 't' 'u']\n",
      "\n",
      "\n",
      "\\w+\n",
      "['3' '4' 'abra' 'and' 'cadabra' 'document' 'first' 'is' 'one' 'second'\n",
      " 'the' 'third' 'this']\n",
      "\n",
      "\n",
      "(?u)\\b[a-zA-Z]\\w+\\b|\\b[0-9]\\b\n",
      "['3' '4' 'abra' 'and' 'cadabra' 'document' 'first' 'is' 'one' 'second'\n",
      " 'the' 'third' 'this']\n",
      "\n",
      "\n"
     ]
    }
   ],
   "source": [
    "for tp in tpatterns:\n",
    "    vectorizer.token_pattern = tp\n",
    "    print(vectorizer.token_pattern)\n",
    "    X_corpus_docterm = vectorizer.fit_transform(corpus)\n",
    "    features = vectorizer.get_feature_names_out()\n",
    "    print(features)\n",
    "    print('\\n')\n"
   ]
  },
  {
   "cell_type": "code",
   "execution_count": 6,
   "metadata": {},
   "outputs": [
    {
     "name": "stdout",
     "output_type": "stream",
     "text": [
      "['abra' 'and' 'cadabra' 'document' 'first' 'is' 'one' 'second' 'the'\n",
      " 'third' 'this']\n"
     ]
    }
   ],
   "source": [
    "vectorizer.token_pattern = tpatterns[0] #back to the default\n",
    "X_corpus_docterm = vectorizer.fit_transform(corpus)\n",
    "features = vectorizer.get_feature_names_out()\n",
    "print(features)"
   ]
  },
  {
   "cell_type": "code",
   "execution_count": 7,
   "metadata": {},
   "outputs": [
    {
     "data": {
      "text/plain": [
       "['This is the the first first document abra.',\n",
       " 'This is the second second document cadabra.',\n",
       " 'And the third one 3.',\n",
       " 'Is this the first document 4?']"
      ]
     },
     "execution_count": 7,
     "metadata": {},
     "output_type": "execute_result"
    }
   ],
   "source": [
    "corpus"
   ]
  },
  {
   "cell_type": "code",
   "execution_count": 8,
   "metadata": {},
   "outputs": [
    {
     "data": {
      "text/plain": [
       "array([[0, 0, 0, 0, 0, 0, 0, 0, 0, 0, 0],\n",
       "       [0, 0, 0, 0, 0, 0, 0, 0, 0, 0, 1]], dtype=int64)"
      ]
     },
     "execution_count": 8,
     "metadata": {},
     "output_type": "execute_result"
    }
   ],
   "source": [
    "vectorizer.transform(['42', 'this this3']).toarray()"
   ]
  },
  {
   "cell_type": "code",
   "execution_count": 9,
   "metadata": {},
   "outputs": [
    {
     "data": {
      "text/plain": [
       "array([[1, 0, 0, 1, 2, 1, 0, 0, 2, 0, 1],\n",
       "       [0, 0, 1, 1, 0, 1, 0, 2, 1, 0, 1],\n",
       "       [0, 1, 0, 0, 0, 0, 1, 0, 1, 1, 0],\n",
       "       [0, 0, 0, 1, 1, 1, 0, 0, 1, 0, 1]], dtype=int64)"
      ]
     },
     "execution_count": 9,
     "metadata": {},
     "output_type": "execute_result"
    }
   ],
   "source": [
    "# This is our document-term matrix CV:\n",
    "CV = X_corpus_docterm.toarray()\n",
    "CV"
   ]
  },
  {
   "cell_type": "markdown",
   "metadata": {},
   "source": [
    "## What if we want to vectorize a document in the test set?\n",
    "\n",
    "E.g. this could even be a document with words not even encountered beforew"
   ]
  },
  {
   "cell_type": "code",
   "execution_count": 10,
   "metadata": {},
   "outputs": [
    {
     "name": "stdout",
     "output_type": "stream",
     "text": [
      "['abra' 'and' 'cadabra' 'document' 'first' 'is' 'one' 'second' 'the'\n",
      " 'third' 'this']\n",
      "\n",
      "\n",
      "rain\n",
      "[[0 0 0 0 0 0 0 0 0 0 0]]\n",
      "\n",
      "\n",
      "The a yoghurt\n",
      "[[0 0 0 0 0 0 0 0 1 0 0]]\n",
      "\n",
      "\n",
      "three two one hurray\n",
      "[[0 0 0 0 0 0 1 0 0 0 0]]\n",
      "\n",
      "\n",
      "and abra document is first cadabra\n",
      "[[1 1 1 1 1 1 0 0 0 0 0]]\n",
      "\n",
      "\n",
      "one-third abra is the first cadabra and this document a second\n",
      "[[1 1 1 1 1 1 1 1 1 1 1]]\n",
      "\n",
      "\n",
      "[[0 0 0 0 0 0 0 0 0 0 0]\n",
      " [0 0 0 0 0 0 0 0 1 0 0]\n",
      " [0 0 0 0 0 0 1 0 0 0 0]\n",
      " [1 1 1 1 1 1 0 0 0 0 0]\n",
      " [1 1 1 1 1 1 1 1 1 1 1]]\n"
     ]
    }
   ],
   "source": [
    "# just call the .transform() method of the trained vectorizer\n",
    "\n",
    "def docs2vec(docs, vectorizer):\n",
    "    return vectorizer.transform(docs)\n",
    "\n",
    "docs_test = [\n",
    "    'rain',\n",
    "    'The a yoghurt',\n",
    "    'three two one hurray',\n",
    "    'and abra document is first cadabra',\n",
    "    'one-third abra is the first cadabra and this document a second',\n",
    "]\n",
    "\n",
    "print(vectorizer.get_feature_names_out())\n",
    "\n",
    "for doc in docs_test:\n",
    "    print('\\n')\n",
    "    print(doc)\n",
    "    print(docs2vec([doc], vectorizer).toarray())\n",
    "\n",
    "X_docterm_test = docs2vec(docs_test, vectorizer)\n",
    "print('\\n')\n",
    "print(X_docterm_test.toarray())"
   ]
  },
  {
   "cell_type": "markdown",
   "metadata": {},
   "source": [
    "### Problems with Term-Document matrix:\n",
    "\n",
    "- The document vectors are not normalized \n",
    "    - so can't really compare documents\n",
    "    \n",
    "- The document vectors contain many common english words containing no information\n",
    "    - ideally we want to remove those, e.g. 'the', 'is', etc\n"
   ]
  },
  {
   "cell_type": "markdown",
   "metadata": {},
   "source": [
    "### Solution: TF-IDF vectorizer (see <a href=http://scikit-learn.org/stable/modules/feature_extraction.html> The TF-idf section in the Scikit-Learn feature extraction manual</a>)\n",
    "\n",
    "Instead, let's consider the following matrix\n",
    "\n",
    "$$\n",
    "\\begin{align}\n",
    "\\text{tf-idf}(t,d) &\\equiv{\\text{tf}}(t,d)\\times\\text{idf}(t)\\\\\n",
    "\\text{idf}(t)&\\equiv\\log\\frac{1+n_d}{1+\\text{df}(d,t)} + 1\n",
    "\\end{align}\n",
    "$$\n",
    "\n",
    "where \n",
    "\n",
    "- $\\text{df}(d,t)$ is the number of documents containing feature $t$\n",
    "- the rows of the tf-idf matrix are normalized to have unit norm (either $L_1$ or $L_2$)\n",
    "    - this way we can compare documents by the norm of their doc2vec overlaps\n",
    "    \n",
    "Let's see this in practice"
   ]
  },
  {
   "cell_type": "code",
   "execution_count": 11,
   "metadata": {},
   "outputs": [
    {
     "name": "stdout",
     "output_type": "stream",
     "text": [
      "blah abra cadabra\n",
      "blah abra cadabra\n",
      "blah abra \n",
      "blah abra \n",
      "blah abra \n",
      "blah abra \n",
      "blah abra \n",
      "blah abra \n",
      "blah abra \n",
      "blah abra \n",
      "blah abra \n",
      "blah abra \n",
      "blah abra \n",
      "blah abra \n",
      "blah abra \n",
      "blah abra \n",
      "blah abra \n",
      "blah abra \n",
      "blah abra \n",
      "blah abra \n",
      "blah abra \n",
      "blah abra \n",
      "blah abra \n",
      "blah abra \n",
      "blah abra \n",
      "blah abra \n",
      "blah abra \n",
      "blah abra \n",
      "blah abra \n",
      "blah abra \n"
     ]
    }
   ],
   "source": [
    "vectorizer = TfidfVectorizer(\n",
    "    stop_words='english',\n",
    "    norm='l2', # each output vector has l2 norm equal to 1\n",
    "    use_idf=True)\n",
    "\n",
    "# create a corpus with various levels of repetition of its terms\n",
    "N = 1000\n",
    "corpus = np.reshape(['blah', 'abra', 'cadabra'] * N, (N,3))\n",
    "corpus[2:,2] = ''\n",
    "corpus[int(N/2):,1] = ''\n",
    "corpus = [' '.join(corpus[i]) for i in range(N)]\n",
    "\n",
    "print('\\n'.join(corpus[:30]))\n"
   ]
  },
  {
   "cell_type": "code",
   "execution_count": 12,
   "metadata": {},
   "outputs": [
    {
     "name": "stdout",
     "output_type": "stream",
     "text": [
      "['abra' 'blah' 'cadabra']\n"
     ]
    },
    {
     "data": {
      "text/plain": [
       "array([[0.23873034, 0.14108119, 0.96078297],\n",
       "       [0.23873034, 0.14108119, 0.96078297],\n",
       "       [0.86090559, 0.50876474, 0.        ],\n",
       "       [0.86090559, 0.50876474, 0.        ],\n",
       "       [0.86090559, 0.50876474, 0.        ],\n",
       "       [0.86090559, 0.50876474, 0.        ],\n",
       "       [0.86090559, 0.50876474, 0.        ],\n",
       "       [0.86090559, 0.50876474, 0.        ],\n",
       "       [0.86090559, 0.50876474, 0.        ],\n",
       "       [0.86090559, 0.50876474, 0.        ]])"
      ]
     },
     "execution_count": 12,
     "metadata": {},
     "output_type": "execute_result"
    }
   ],
   "source": [
    "X_corpus_tfidf=vectorizer.fit_transform(corpus)\n",
    "\n",
    "print(vectorizer.get_feature_names_out()) \n",
    "\n",
    "# what happens to the weight of 'cadabra' when we vary N?\n",
    "# what happens to the weight of 'blah' and 'abra'?\n",
    "# can you explain?\n",
    "X_corpus_tfidf.toarray()[:10,:]"
   ]
  },
  {
   "cell_type": "markdown",
   "metadata": {},
   "source": [
    "# II. Latent Semantic Analysis\n",
    "\n",
    "## Or Truncated SVD on the TF-IDF matrix\n",
    "\n",
    "**The Following code is based on <a href=\"http://scikit-learn.org/stable/auto_examples/applications/plot_out_of_core_classification.html\">Scikit-Learn's Reuters Dataset TF-IDF + K-NN classification example</a> along with <a href=\"http://mccormickml.com/2016/03/25/lsa-for-text-classification-tutorial/\">Chris McCormic's LSA tutorial</a> and his <a href=\"https://github.com/chrisjmccormick/LSA_Classification\">github page</a>. The original Reuter's 21578 dataset is part of the <a href=\"http://archive.ics.uci.edu/ml/machine-learning-databases\">UCI-ML</a> repository and can be found <a href=\"http://archive.ics.uci.edu/ml/machine-learning-databases/reuters21578-mld/reuters21578.tar.gz\">here</a>. However, in this demo we are using the already <a href=\"https://github.com/chrisjmccormick/LSA_Classification/tree/master/data\">pre-processed</a> version in Chris McCormic's github page**\n",
    "\n",
    "\n",
    "### Let's look at some real data - the Reuters Articles Corpus\n"
   ]
  },
  {
   "cell_type": "code",
   "execution_count": 13,
   "metadata": {},
   "outputs": [
    {
     "name": "stdout",
     "output_type": "stream",
     "text": [
      "Number of train docs: 4743 Number of test docs: 4858\n",
      "\n",
      "Example train labels: [['cocoa', 'el-salvador', 'usa', 'uruguay'], ['usa'], ['usa'], ['usa', 'brazil']]\n"
     ]
    }
   ],
   "source": [
    "fname = \"raw_text_dataset.pickle\"\n",
    "filepath = os.getcwd() + '/' + fname\n",
    "raw_text_dataset = pickle.load(open(filepath, \"rb\"))\n",
    "corpus_train, labels_train = raw_text_dataset[0], raw_text_dataset[1] \n",
    "corpus_test, labels_test = raw_text_dataset[2], raw_text_dataset[3]\n",
    "\n",
    "print('Number of train docs:', len(corpus_train), 'Number of test docs:', len(corpus_test))\n",
    "print('\\nExample train labels:', labels_train[:4])\n"
   ]
  },
  {
   "cell_type": "code",
   "execution_count": 14,
   "metadata": {},
   "outputs": [
    {
     "name": "stdout",
     "output_type": "stream",
     "text": [
      "\n",
      "This is how a article  3323  looks like:\n",
      "\n",
      " SERVICE RESOURCES CORP SRC> 4TH QTR NET\n",
      "\n",
      "Oper shr profit five cts vs loss 1.71 dlrs Oper net profit 196,000 vs loss 2,388,000 Sales 40.5 mln vs 43.2 mln Avg shrs 2,212,000 vs 1,482,000 Year Oper shr profit 71 cts vs loss 6.24 dlrs Oper net profit 1,799,000 vs loss 8,991,000 Sales 154.5 mln vs 145.0 mln NOTE: Net excludes losses from discontinued operations of 712,000 dlrs vs 2,843,000 dlrs in quarter and 1,972,000 dlrs vs 10.6 mln dlrs in year. 1986 net excludes extraordinary loss 1,167,000 dlrs\n",
      "\n",
      "And these are its topic labels:\n",
      "\n",
      " ['earn', 'usa']\n"
     ]
    }
   ],
   "source": [
    "n = np.random.choice(len(corpus_train))\n",
    "\n",
    "print('\\nThis is how a article ', n,' looks like:\\n\\n', \n",
    "      corpus_train[n][:500])\n",
    "\n",
    "print('\\nAnd these are its topic labels:\\n\\n', \n",
    "      labels_train[n][:500])"
   ]
  },
  {
   "cell_type": "markdown",
   "metadata": {},
   "source": [
    "### TF-IDF vectorizer step:\n",
    "The TfidfVectorizer below does the following:\n",
    "- TF Step\n",
    "    - Strips out “stop words”, e.g. frequently occuring english words\n",
    "    - Filters out terms that occur in more than half of the docs\n",
    "    (max_df=0.5)\n",
    "    - Filters out terms that occur in only one document (min_df=2).\n",
    "    - Selects the 10,000 most frequently occuring words in the corpus.\n",
    "    - Normalizes the vector to account for the effect of document\n",
    "    length on the tf-idf values. Here we use l1 norm which normalized\n",
    "    by the document length\n",
    "- IDF Step\n",
    "    - Nomalize each \n",
    "    \n"
   ]
  },
  {
   "cell_type": "code",
   "execution_count": 15,
   "metadata": {},
   "outputs": [
    {
     "name": "stdout",
     "output_type": "stream",
     "text": [
      "(4743, 10000)\n",
      "first 10 features: ['a300' 'a330' 'a340' 'aa' 'aaa' 'aapl' 'ab' 'abandon' 'abandoned'\n",
      " 'abandonment']\n",
      "last 10 features: ['zinc' 'zntl' 'zoete' 'zone' 'zones' 'zorinsky' 'zortman' 'zuckerman'\n",
      " 'zurich' 'zy']\n"
     ]
    }
   ],
   "source": [
    "vectorizer = TfidfVectorizer(\n",
    "    max_df=0.5, # ignore terms which occur in more than half of the documents\n",
    "    max_features=10000,\n",
    "    min_df=2, # ignore terms which occur in less than 2 documents\n",
    "    stop_words='english',\n",
    "    norm='l2',\n",
    "    use_idf=True, \n",
    "    analyzer='word',\n",
    "    # token_pattern='(?u)\\\\b\\\\w\\\\w+\\\\b'\n",
    "    token_pattern = '(?u)\\\\b[a-zA-Z]\\\\w+\\\\b'\n",
    "    )\n",
    "\n",
    "# note how changing the token_pattern changes the output below\n",
    "X_train_tfidf = vectorizer.fit_transform(corpus_train)\n",
    "print(X_train_tfidf.shape)\n",
    "print('first 10 features:', vectorizer.get_feature_names_out()[:10])\n",
    "print('last 10 features:', vectorizer.get_feature_names_out()[-10:])"
   ]
  },
  {
   "cell_type": "code",
   "execution_count": 16,
   "metadata": {},
   "outputs": [
    {
     "name": "stdout",
     "output_type": "stream",
     "text": [
      "200  documents found for target word:  earnings\n",
      "document  105 :\n",
      "AMERICAN EXPRESS AXP> SEEN IN POSSIBLE SPINNOFF\n",
      "\n",
      "American Express Co remained silent on market rumors it would spinoff all or part of its Shearson Lehman Brothers Inc, but some analysts said the company may be considering such a move because it is unhappy with the market value of its stock. American Express stock got a lift from the rumor, as the market calculated a partially public Shearson may command a good market value, thereby boosting the total value of American Express. The rumor also was accompanied by talk the financial services firm would split its stock and boost its dividend. American Express closed on the New York Stock Exchange at 72-5/8, up 4-1/8 on heavy volume. American Express would not comment on the rumors or its stock activity. Analysts said comments by the company at an analysts' meeting Tuesday helped fuel the rumors as did an announcement yesterday of management changes. At the meeting, company officials said American Express stock is undervalued and does not fully reflect the performance of Shearson, according to analysts. Yesterday, Shearson said it was elevating its chief operating officer, Jeffery Lane, to the added position of president, which had been vacant. It also created four new positions for chairmen of its operating divisions. Analysts speculated a partial spinoff would make most sense, contrary to one variation on market rumors of a total spinoff. Some analysts, however, disagreed that any spinoff of Shearson would be good since it is a strong profit center for American Express, contributing about 20 pct of earnings last year. \"I think it is highly unlikely that American Express is going to sell shearson,\" said Perrin Long of Lipper Analytical. He questioned what would be a better investment than \"a very profitable securities firm.\" Several analysts said American Express is not in need of cash, which might be the only reason to sell a part of a strong asset. But others believe the company could very well of considered the option of spinning out part of Shearson, and one rumor suggests selling about 20 pct of it in the market. Larry Eckenfelder of Prudential-Bache Securities said he believes American Express could have considered a partial spinoff in the past. \"Shearson being as profitable as it is would have fetched a big premium in the market place. Shearson's book value is in the 1.4 mln dlr range. Shearson in the market place would probably be worth three to 3.5 bilion dlrs in terms of market capitalization,\" said Eckenfelder. Some analysts said American Express could use capital since it plans to expand globally. \"They have enormous internal growth plans that takes capital. You want your stock to reflect realistic valuations to enhance your ability to make all kinds of endeavors down the road,\" said E.F. Hutton Group analyst Michael Lewis. \"They've outlined the fact that they're investing heavily in the future, which goes heavily into the international arena,\" said Lewis. \"...That does not preclude acquisitions and divestitures along the way,\" he said. Lewis said if American Express reduced its exposure to the brokerage business by selling part of shearson, its stock might better reflect other assets, such as the travel related services business. \"It could find its true water mark with a lesser exposure to brokerage. The value of the other components could command a higher multiple because they constitute a higher percentage of the total operating earnings of the company,\" he said. Lewis said Shearson contributed 316 mln in after-tax operating earnings, up from about 200 mln dlrs in 1985. Reuter \n"
     ]
    }
   ],
   "source": [
    "# let's look at documents that contain a target wordthe word '\n",
    "# target_word = 'bullish'\n",
    "# target_word = 'cocoa'\n",
    "target_word = 'earnings'\n",
    "\n",
    "doc_idx = X_train_tfidf[\n",
    "    :, vectorizer.vocabulary_.get(target_word)].nonzero()[0].tolist()\n",
    "print(len(doc_idx), ' documents found for target word: ', target_word)\n",
    "i = np.random.choice(len(doc_idx))\n",
    "print('document ', doc_idx[i], ':')\n",
    "print(corpus_train[doc_idx[i]])"
   ]
  },
  {
   "cell_type": "code",
   "execution_count": 17,
   "metadata": {},
   "outputs": [
    {
     "data": {
      "text/plain": [
       "<4743x10000 sparse matrix of type '<class 'numpy.float64'>'\n",
       "\twith 217725 stored elements in Compressed Sparse Row format>"
      ]
     },
     "execution_count": 17,
     "metadata": {},
     "output_type": "execute_result"
    }
   ],
   "source": [
    "X_train_tfidf"
   ]
  },
  {
   "cell_type": "code",
   "execution_count": 26,
   "metadata": {},
   "outputs": [
    {
     "name": "stdout",
     "output_type": "stream",
     "text": [
      "\n",
      "Performing dimensionality reduction using LSA\n",
      "  done in 1.072sec\n"
     ]
    }
   ],
   "source": [
    "print(\"\\nPerforming dimensionality reduction using LSA\")\n",
    "t0 = time.time()\n",
    "\n",
    "# Project the tfidf vectors onto the first N principal components.\n",
    "# Though this is significantly fewer features than the original tfidf vector,\n",
    "# they are stronger features, and the accuracy is higher.\n",
    "svd = TruncatedSVD(\n",
    "    n_components=200,\n",
    "    random_state=42,\n",
    "#     algorithm='arpack'\n",
    ")\n",
    "\n",
    "lsa = make_pipeline(\n",
    "    svd, \n",
    "    #Normalizer(copy=False) # try commenting this out. Do you get a better result?\n",
    ")\n",
    "\n",
    "# Run SVD on the training data, then project the training data.\n",
    "X_train_lsa = lsa.fit_transform(X_train_tfidf)\n",
    "\n",
    "print(\"  done in %.3fsec\" % (time.time() - t0))"
   ]
  },
  {
   "cell_type": "code",
   "execution_count": 27,
   "metadata": {},
   "outputs": [
    {
     "name": "stdout",
     "output_type": "stream",
     "text": [
      "  Explained variance of the SVD step: 39%\n"
     ]
    }
   ],
   "source": [
    "explained_variance = svd.explained_variance_ratio_.sum()\n",
    "print(\"  Explained variance of the SVD step: {}%\".format(int(explained_variance * 100)))\n",
    "\n",
    "\n",
    "# Now apply the transformations to the test data as well.\n",
    "# note that we are using the transform method only\n",
    "X_test_tfidf = vectorizer.transform(corpus_test)\n",
    "X_test_lsa = lsa.transform(X_test_tfidf)"
   ]
  },
  {
   "cell_type": "code",
   "execution_count": 28,
   "metadata": {},
   "outputs": [
    {
     "data": {
      "text/plain": [
       "((4858, 200), (4858, 10000))"
      ]
     },
     "execution_count": 28,
     "metadata": {},
     "output_type": "execute_result"
    }
   ],
   "source": [
    "X_test_lsa.shape, X_test_tfidf.shape"
   ]
  },
  {
   "cell_type": "markdown",
   "metadata": {},
   "source": [
    "### Let's improve a K-nn classifier using LSA"
   ]
  },
  {
   "cell_type": "code",
   "execution_count": 29,
   "metadata": {},
   "outputs": [
    {
     "name": "stdout",
     "output_type": "stream",
     "text": [
      "590 articles found with target_label = acq\n"
     ]
    }
   ],
   "source": [
    "# The Reuters dataset consists of ~100 categories. However, we are going to\n",
    "# simplify this to a binary classification problem. The 'positive class' will\n",
    "# be the articles related to a given target label. All\n",
    "# other articles will be negative.\n",
    "\n",
    "target_label = 'acq'\n",
    "# target_label = 'uk'\n",
    "# target_label = 'japan'\n",
    "# target_label = 'grain'\n",
    "# target_label = 'earn'\n",
    "\n",
    "\n",
    "y_train = [target_label in y for y in labels_train]\n",
    "y_test = [target_label in y for y in labels_test]\n",
    "\n",
    "print(np.array(y_train).sum(), 'articles found with target_label =', target_label)"
   ]
  },
  {
   "cell_type": "code",
   "execution_count": 30,
   "metadata": {},
   "outputs": [
    {
     "data": {
      "text/plain": [
       "[False, False, False, False, False, False, False, False, False, True]"
      ]
     },
     "execution_count": 30,
     "metadata": {},
     "output_type": "execute_result"
    }
   ],
   "source": [
    "y_train[:10]"
   ]
  },
  {
   "cell_type": "code",
   "execution_count": 31,
   "metadata": {
    "scrolled": true
   },
   "outputs": [
    {
     "name": "stdout",
     "output_type": "stream",
     "text": [
      "\n",
      "Classifying tfidf vectors...\n",
      "  (4467 / 4858) correct - 91.95%\n",
      "  done in 0.830sec\n"
     ]
    }
   ],
   "source": [
    "print(\"\\nClassifying tfidf vectors...\")\n",
    "\n",
    "# Time this step.\n",
    "t0 = time.time()\n",
    "\n",
    "# Build a k-NN classifier. Use k = 5 (majority wins), the cosine distance, \n",
    "# and brute-force calculation of distances.\n",
    "knn_tfidf = KNeighborsClassifier(\n",
    "    n_neighbors=5, algorithm='brute', metric='cosine')\n",
    "knn_tfidf.fit(X_train_tfidf, y_train)\n",
    "\n",
    "# Classify the test vectors.\n",
    "p_tfidf = knn_tfidf.predict(X_test_tfidf)\n",
    "\n",
    "# Measure accuracy\n",
    "numRight = 0;\n",
    "for i in range(0,len(p_tfidf)):\n",
    "    if p_tfidf[i] == y_test[i]:\n",
    "        numRight += 1\n",
    "\n",
    "print(\"  (%d / %d) correct - %.2f%%\" % (numRight, len(y_test), float(numRight) / float(len(y_test)) * 100.0))\n",
    "\n",
    "# Calculate the elapsed time (in seconds)\n",
    "elapsed = (time.time() - t0)\n",
    "print(\"  done in %.3fsec\" % elapsed)"
   ]
  },
  {
   "cell_type": "code",
   "execution_count": 32,
   "metadata": {},
   "outputs": [
    {
     "name": "stdout",
     "output_type": "stream",
     "text": [
      "\n",
      "Classifying LSA vectors...\n",
      "  (4556 / 4858) correct - 93.78%\n",
      "    done in 0.518sec\n"
     ]
    }
   ],
   "source": [
    "print(\"\\nClassifying LSA vectors...\")\n",
    "\n",
    "# Time this step.\n",
    "t0 = time.time()\n",
    "\n",
    "# Build a k-NN classifier. Use k = 5 (majority wins), the cosine distance, \n",
    "# and brute-force calculation of distances.\n",
    "knn_lsa = KNeighborsClassifier(\n",
    "    n_neighbors=5, algorithm='brute', metric='cosine')\n",
    "knn_lsa.fit(\n",
    "    X_train_lsa, \n",
    "#     np.c_[X_train_lsa, X_train_tfidf.toarray()],\n",
    "    y_train)\n",
    "\n",
    "# Classify the test vectors.\n",
    "p = knn_lsa.predict(\n",
    "    X_test_lsa\n",
    "#     np.c_[X_test_lsa, X_test_tfidf.toarray()],\n",
    ")\n",
    "\n",
    "# Measure accuracy\n",
    "numRight = 0;\n",
    "for i in range(0,len(p)):\n",
    "    if p[i] == y_test[i]:\n",
    "        numRight += 1\n",
    "\n",
    "print(\"  (%d / %d) correct - %.2f%%\" % (numRight, len(y_test), float(numRight) / float(len(y_test)) * 100.0))\n",
    "\n",
    "# Calculate the elapsed time (in seconds)\n",
    "elapsed = (time.time() - t0)    \n",
    "print(\"    done in %.3fsec\" % elapsed)\n"
   ]
  },
  {
   "cell_type": "code",
   "execution_count": 33,
   "metadata": {},
   "outputs": [
    {
     "data": {
      "image/png": "[encoded data removed]",
      "text/plain": [
       "<Figure size 576x576 with 1 Axes>"
      ]
     },
     "metadata": {
      "needs_background": "light"
     },
     "output_type": "display_data"
    }
   ],
   "source": [
    "from sklearn.model_selection import cross_val_predict\n",
    "from sklearn.metrics import confusion_matrix\n",
    "from sklearn.metrics import roc_curve\n",
    "\n",
    "\n",
    "def plot_roc_curve(ax, fpr, tpr, label=None):\n",
    "    ax.plot(fpr, tpr, linewidth=2, label=label)\n",
    "    if label is not None:\n",
    "        ax.legend()\n",
    "    ax.plot([0, 1], [0, 1], 'k--')\n",
    "    plt.axis([0, 1, 0, 1])\n",
    "    plt.xlabel('False Positive Rate', fontsize=16)\n",
    "    plt.ylabel('True Positive Rate', fontsize=16)\n",
    "\n",
    "models = {'knn_tfidf': knn_tfidf, 'knn_lsa': knn_lsa}\n",
    "features_train = {'knn_tfidf': X_train_tfidf, 'knn_lsa': X_train_lsa}    \n",
    "\n",
    "for i, mname in enumerate(models.keys()):\n",
    "    p_scores = cross_val_predict(models[mname], features_train[mname], y_train, cv=10,\n",
    "                             method=\"predict_proba\")\n",
    "\n",
    "    # hack to work around issue #9589 introduced in Scikit-Learn 0.19.0\n",
    "    # see https://github.com/scikit-learn/scikit-learn/issues/9589\n",
    "    if p_scores.ndim == 2:\n",
    "        p_scores = p_scores[:, 1]\n",
    "    \n",
    "\n",
    "\n",
    "    fpr, tpr, thresholds = roc_curve(y_train, p_scores)\n",
    "\n",
    "    if i == 0:\n",
    "        fig, ax = plt.subplots(1,1, figsize=(8,8))\n",
    "    plot_roc_curve(ax, fpr, tpr, label=mname)\n",
    "\n",
    "plt.show()"
   ]
  },
  {
   "cell_type": "code",
   "execution_count": 34,
   "metadata": {},
   "outputs": [
    {
     "data": {
      "text/plain": [
       "array([0. , 0. , 0.2, ..., 0. , 0. , 0. ])"
      ]
     },
     "execution_count": 34,
     "metadata": {},
     "output_type": "execute_result"
    }
   ],
   "source": [
    "p_scores"
   ]
  },
  {
   "cell_type": "code",
   "execution_count": null,
   "metadata": {},
   "outputs": [],
   "source": []
  }
 ],
 "metadata": {
  "kernelspec": {
   "display_name": "Python 3 (ipykernel)",
   "language": "python",
   "name": "python3"
  },
  "language_info": {
   "codemirror_mode": {
    "name": "ipython",
    "version": 3
   },
   "file_extension": ".py",
   "mimetype": "text/x-python",
   "name": "python",
   "nbconvert_exporter": "python",
   "pygments_lexer": "ipython3",
   "version": "3.7.4"
  }
 },
 "nbformat": 4,
 "nbformat_minor": 4
}
