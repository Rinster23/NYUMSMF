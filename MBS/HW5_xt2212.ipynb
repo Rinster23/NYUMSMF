{
 "cells": [
  {
   "cell_type": "code",
   "execution_count": 1,
   "id": "a98b10f2",
   "metadata": {},
   "outputs": [],
   "source": [
    "import pandas as pd\n",
    "import numpy as np\n",
    "import matplotlib.pyplot as plt"
   ]
  },
  {
   "cell_type": "code",
   "execution_count": 2,
   "id": "82297097",
   "metadata": {},
   "outputs": [],
   "source": [
    "def interpolate_PSA(num):\n",
    "    diff = [-300,-200,-100,-50,0,50,100,200,300]\n",
    "    PSAs = [1164,998,621,371,185,145,117,90,83]\n",
    "    from scipy.interpolate import interp1d\n",
    "    cs = interp1d(diff, PSAs)\n",
    "    num = 10000 * num\n",
    "    num[num > 300] = 300\n",
    "    num[num < -300] = -300\n",
    "    itpl = interp1d(diff, PSAs)\n",
    "    return itpl(num)\n",
    "\n",
    "def get_SMM(PSA_data):\n",
    "    A = PSA_data[:,:30]\n",
    "    B = PSA_data[:,30:]\n",
    "    CPR_A = A / 100 * np.linspace(1,30,30) * 0.002\n",
    "    CPR_B = B / 100 * 0.06\n",
    "    CPR = np.hstack((CPR_A , CPR_B))\n",
    "    SMM = 1 - (1 - CPR) ** (1 / 12)\n",
    "    return SMM"
   ]
  },
  {
   "cell_type": "code",
   "execution_count": 3,
   "id": "7f4c5cab",
   "metadata": {},
   "outputs": [],
   "source": [
    "paths = np.array(pd.read_excel('HW5_data.xlsx')) * 0.01\n",
    "N_paths = 500\n",
    "\n",
    "def generate_cashflow(shock=0):\n",
    "\n",
    "    DF = np.cumprod((1+ (paths+shock)/12), axis=1)\n",
    "    DF = 1 / DF\n",
    "\n",
    "    denominator = np.ones((500,360))\n",
    "\n",
    "    for i in range(241):\n",
    "        sub = DF[:,i:i+120]\n",
    "        denominator[:,i] = np.sum(sub,axis=1)\n",
    "\n",
    "    nominator = np.zeros((500,360))\n",
    "    nominator[:,:241] = (1 - DF[:,119:]) * 12\n",
    "    swap_rates = nominator / denominator\n",
    "    swap_rates[:,241:] = swap_rates[:,240].reshape(-1,1)\n",
    "\n",
    "    swap_rates = swap_rates[:N_paths,:]\n",
    "    \n",
    "    mortgage_rate = swap_rates + 0.0175\n",
    "    WAC = 0.0407\n",
    "    Curr_amt = 405903\n",
    "    M = 331\n",
    "    mthly_pymt = WAC/12 * (1 + WAC/12) ** M / ((1 + WAC/12) ** M - 1) * Curr_amt\n",
    "    \n",
    "    difference = mortgage_rate - WAC\n",
    "    PSAs = interpolate_PSA(difference)\n",
    "    SMM = get_SMM(PSAs)\n",
    "    cash_flow_store = []\n",
    "   \n",
    "    for i in range(N_paths):\n",
    "        principal_end = [Curr_amt]\n",
    "        cash_flow = []\n",
    "        j = 0\n",
    "        while principal_end[-1] > 0.1:\n",
    "            smm = SMM[i,j]\n",
    "            pymt = mthly_pymt + principal_end[-1] * smm\n",
    "            cash_flow.append(pymt)\n",
    "            interest = principal_end[-1] * WAC / 12\n",
    "            principal_pymt = pymt - interest\n",
    "            if principal_end[-1] - principal_pymt > 0:\n",
    "                principal_end.append(principal_end[-1] - principal_pymt)\n",
    "            else:\n",
    "                principal_end.append(0)\n",
    "            j += 1\n",
    "        cash_flow_store.append(cash_flow)    \n",
    "    return cash_flow_store"
   ]
  },
  {
   "cell_type": "code",
   "execution_count": 4,
   "id": "02929952",
   "metadata": {},
   "outputs": [],
   "source": [
    "def solve_oas(oas, price, cur_balance, cash_flow_store, discount):\n",
    "    PVs = []\n",
    "    for i in range(N_paths):\n",
    "        temp = 0\n",
    "        d = np.cumprod(1 + (discount[i]+oas)/12)\n",
    "        cash_flow = cash_flow_store[i]\n",
    "        for j in range(len(cash_flow)):\n",
    "            temp += cash_flow[j] / d[j]\n",
    "        PVs.append(temp)\n",
    "    return (np.mean(PVs) - price/100*cur_balance)**2"
   ]
  },
  {
   "cell_type": "code",
   "execution_count": 5,
   "id": "3186f178",
   "metadata": {},
   "outputs": [
    {
     "name": "stdout",
     "output_type": "stream",
     "text": [
      "Solved OAS is 0.0093\n"
     ]
    }
   ],
   "source": [
    "from scipy import optimize\n",
    "cash_flow_store = generate_cashflow()\n",
    "res = optimize.minimize_scalar(solve_oas, bounds=(-1,1),args=(104+21/32,405903,cash_flow_store,paths))\n",
    "OAS = res.x\n",
    "print('Solved OAS is {}'.format(round(OAS,4)))"
   ]
  },
  {
   "cell_type": "markdown",
   "id": "f7f76293",
   "metadata": {},
   "source": [
    "# Q2"
   ]
  },
  {
   "cell_type": "code",
   "execution_count": 6,
   "id": "7db41a54",
   "metadata": {},
   "outputs": [
    {
     "name": "stdout",
     "output_type": "stream",
     "text": [
      "PV01:  -206.3156075310544 $MM\n",
      "PV50:  -10121.146469020692 $MM\n",
      "PV100:  -19857.79059116234 $MM\n"
     ]
    }
   ],
   "source": [
    "def get_PV(oas,cash_flow_store,discount,shock=0):\n",
    "    PVs = []\n",
    "    for i in range(N_paths):\n",
    "        temp = 0\n",
    "        d = np.cumprod(1 + (discount[i]+oas+shock)/12)\n",
    "        cash_flow = cash_flow_store[i]\n",
    "        for j in range(len(cash_flow)):\n",
    "            temp += cash_flow[j] / d[j]\n",
    "        PVs.append(temp)\n",
    "    \n",
    "    return np.mean(PVs)\n",
    "\n",
    "PV = get_PV(OAS,cash_flow_store,paths)\n",
    "PV01 = get_PV(OAS,cash_flow_store,paths,0.0001) - PV\n",
    "PV_50 = get_PV(OAS, cash_flow_store,paths,0.005) - PV\n",
    "PV_100 = get_PV(OAS, cash_flow_store,paths,0.01) - PV\n",
    "print('PV01: ',PV01, '$MM')\n",
    "print('PV50: ',PV_50, '$MM')\n",
    "print('PV100: ',PV_100, '$MM')"
   ]
  },
  {
   "cell_type": "markdown",
   "id": "830ff823",
   "metadata": {},
   "source": [
    "# Q4"
   ]
  },
  {
   "cell_type": "code",
   "execution_count": 7,
   "id": "4c9ef090",
   "metadata": {},
   "outputs": [
    {
     "name": "stdout",
     "output_type": "stream",
     "text": [
      "PV50 Q4:  -8050.717749758856 $MM\n"
     ]
    }
   ],
   "source": [
    "cash_flow_store_50 = generate_cashflow(0.005)\n",
    "PV_50_new = get_PV(OAS, cash_flow_store_50, paths+0.005) - PV\n",
    "print('PV50 Q4: ',PV_50_new, '$MM')"
   ]
  },
  {
   "cell_type": "code",
   "execution_count": 8,
   "id": "75658fff",
   "metadata": {},
   "outputs": [
    {
     "name": "stdout",
     "output_type": "stream",
     "text": [
      "PV100 Q4:  -17308.18522393494 $MM\n"
     ]
    }
   ],
   "source": [
    "cash_flow_store_100 = generate_cashflow(0.01)\n",
    "PV_100_new = get_PV(OAS, cash_flow_store_100, paths+0.01) - PV\n",
    "print('PV100 Q4: ',PV_100_new, '$MM')"
   ]
  },
  {
   "cell_type": "code",
   "execution_count": 9,
   "id": "2d96676b",
   "metadata": {},
   "outputs": [
    {
     "data": {
      "image/png": "[encoded data removed]",
      "text/plain": [
       "<Figure size 720x576 with 1 Axes>"
      ]
     },
     "metadata": {
      "needs_background": "light"
     },
     "output_type": "display_data"
    }
   ],
   "source": [
    "plt.figure(figsize=(10,8))\n",
    "plt.scatter([50,100], [PV_50, PV_100],label='Q2')\n",
    "plt.scatter([50,100], [PV_50_new, PV_100_new],label='Q4')\n",
    "plt.xlabel('Shock (BPs)')\n",
    "plt.ylabel('Change in present value (Million)')\n",
    "plt.legend()\n",
    "plt.show()"
   ]
  },
  {
   "cell_type": "markdown",
   "id": "6d960513",
   "metadata": {},
   "source": [
    "In Q2, we assumed that CPRs stay the same when we shocked the rates, but in Q4, CPRs also changed when we shocked the forward rates (forward rates change --> swap rates change --> mortgage rates change --> PSA change)"
   ]
  },
  {
   "cell_type": "code",
   "execution_count": null,
   "id": "cea9f6eb",
   "metadata": {},
   "outputs": [],
   "source": []
  }
 ],
 "metadata": {
  "kernelspec": {
   "display_name": "Python 3 (ipykernel)",
   "language": "python",
   "name": "python3"
  },
  "language_info": {
   "codemirror_mode": {
    "name": "ipython",
    "version": 3
   },
   "file_extension": ".py",
   "mimetype": "text/x-python",
   "name": "python",
   "nbconvert_exporter": "python",
   "pygments_lexer": "ipython3",
   "version": "3.7.4"
  }
 },
 "nbformat": 4,
 "nbformat_minor": 5
}
