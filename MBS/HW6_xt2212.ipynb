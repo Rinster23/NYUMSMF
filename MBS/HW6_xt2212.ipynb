{
 "cells": [
  {
   "cell_type": "markdown",
   "id": "1db39904",
   "metadata": {},
   "source": [
    "# Q1"
   ]
  },
  {
   "cell_type": "code",
   "execution_count": 1,
   "id": "d33dd542",
   "metadata": {},
   "outputs": [],
   "source": [
    "asset = 100\n",
    "asset_c = 0.07 / 12\n",
    "classA = 75\n",
    "classA_c = 0.06 / 12\n",
    "classB = 15\n",
    "classB_c = 0.09 / 12\n",
    "T = 10 * 12"
   ]
  },
  {
   "cell_type": "markdown",
   "id": "fed56797",
   "metadata": {},
   "source": [
    "## (a) 0% annualized default rate"
   ]
  },
  {
   "cell_type": "code",
   "execution_count": 2,
   "id": "2c6cbdd3",
   "metadata": {},
   "outputs": [],
   "source": [
    "import pandas as pd\n",
    "pd.set_option('display.max_rows', None)\n",
    "pd.set_option('display.float_format', lambda x: '%.5f' % x)\n",
    "\n",
    "months = list(range(1,T+1))\n",
    "df = pd.DataFrame({'Month':months, 'Not\\'I': asset, 'Not\\'I after default':asset, 'Princ':0,'Int':asset * asset_c,\n",
    "                  'Class A Not\\'I':classA,'Class A Int':classA*classA_c,'Class A Princ':0,'End Class A Not\\'I':classA,\n",
    "                  'Class B Not\\'I':classB,'Class B Int':classB*classB_c,'Class B Princ':0,'End Class B Not\\'I':classB,\n",
    "                  'Equity Not\\'I':10,'Equity Int':asset*asset_c-classA*classA_c-classB*classB_c,'Equity Princ':0,'End Equity Not\\'I':10\n",
    "                  })\n",
    "df.loc[119, 'Princ'] = asset\n",
    "df.loc[119, 'Class A Princ'] = classA\n",
    "df.loc[119, 'End Class A Not\\'I'] = 0\n",
    "df.loc[119, 'Class B Princ'] = classB\n",
    "df.loc[119, 'End Class B Not\\'I'] = 0\n",
    "df.loc[119, 'Equity Princ'] = 10\n",
    "df.loc[119, 'End Equity Not\\'I'] = 0"
   ]
  },
  {
   "cell_type": "code",
   "execution_count": 3,
   "id": "2a99e349",
   "metadata": {},
   "outputs": [],
   "source": [
    "df.to_excel('Q1_a.xlsx',index=False)"
   ]
  },
  {
   "cell_type": "markdown",
   "id": "913c2db9",
   "metadata": {},
   "source": [
    "## (b) 1% annualized default rate "
   ]
  },
  {
   "cell_type": "code",
   "execution_count": 4,
   "id": "45fbde82",
   "metadata": {},
   "outputs": [],
   "source": [
    "mthly_default = 1 - 0.99**(1/12)"
   ]
  },
  {
   "cell_type": "code",
   "execution_count": 5,
   "id": "5b1cf48b",
   "metadata": {},
   "outputs": [],
   "source": [
    "Not_aft_def = [100]\n",
    "Int = []\n",
    "equity_Int = []\n",
    "classA_int = classA * classA_c\n",
    "classB_int = classB * classB_c\n",
    "for i in range(120):\n",
    "    Not_aft_def.append(Not_aft_def[-1] * (1-mthly_default))\n",
    "    Int.append(Not_aft_def[-1] * asset_c)\n",
    "    equity_Int.append(Int[-1] - classA_int - classB_int)\n",
    "\n",
    "df = pd.DataFrame({'Month':months, 'Not\\'I': Not_aft_def[:-1], 'Not\\'I after default':Not_aft_def[1:], 'Princ':0,'Int':Int,\n",
    "                  'Class A Not\\'I':classA,'Class A Int':classA*classA_c,'Class A Princ':0,'End Class A Not\\'I':classA,\n",
    "                  'Class B Not\\'I':classB,'Class B Int':classB*classB_c,'Class B Princ':0,'End Class B Not\\'I':classB,\n",
    "                  'Equity Not\\'I':10,'Equity Int':equity_Int,'Equity Princ':0,'End Equity Not\\'I':10\n",
    "                  })\n",
    "\n",
    "df.loc[119, 'Princ'] = Not_aft_def[-1]\n",
    "df.loc[119, 'Class A Princ'] = classA if Not_aft_def[-1] >= classA else Not_aft_def[-1]\n",
    "df.loc[119, 'End Class A Not\\'I'] = 0 if Not_aft_def[-1] >= classA else classA - Not_aft_def[-1]\n",
    "df.loc[119, 'Class B Princ'] = classB if Not_aft_def[-1] >= classA + classB else Not_aft_def[-1] - classA\n",
    "df.loc[119, 'End Class B Not\\'I'] = 0 if Not_aft_def[-1] >= classA + classB else classA + classB - Not_aft_def[-1]\n",
    "df.loc[119, 'Equity Princ'] = max(Not_aft_def[-1] - classA - classB, 0)\n",
    "df.loc[119, 'End Equity Not\\'I'] = 10 - max(Not_aft_def[-1] - classA - classB, 0)\n",
    "df.to_excel('Q1_b.xlsx',index=False)"
   ]
  },
  {
   "cell_type": "markdown",
   "id": "d7593491",
   "metadata": {},
   "source": [
    "## (c)/(d)"
   ]
  },
  {
   "cell_type": "code",
   "execution_count": 6,
   "id": "f3e4ca99",
   "metadata": {},
   "outputs": [
    {
     "name": "stdout",
     "output_type": "stream",
     "text": [
      "Annualized default rate that causes the B class to lose ~$1 of principal:  0.010479423841461277\n",
      "Annualized default rate that causes the A class to lose ~$1 of principal:  0.02836064622292489\n"
     ]
    }
   ],
   "source": [
    "import scipy.optimize as opt\n",
    "\n",
    "def solve_default(mthly_default):\n",
    "    return ((1-mthly_default)**120*100000000 - 89999999)**2\n",
    "\n",
    "soln = opt.minimize_scalar(solve_default, method='bounded', bounds=(0, 0.01))\n",
    "print('Annualized default rate that causes the B class to lose ~$1 of principal: ', 1 - (1-soln.x)**12)\n",
    "def solve_default2(mthly_default):\n",
    "    return ((1-mthly_default)**120*100000000 - 74999999)**2\n",
    "\n",
    "soln = opt.minimize_scalar(solve_default2, method='bounded', bounds=(0, 0.01))\n",
    "print('Annualized default rate that causes the A class to lose ~$1 of principal: ', 1 - (1-soln.x)**12)"
   ]
  },
  {
   "cell_type": "markdown",
   "id": "a5eb1569",
   "metadata": {},
   "source": [
    "# Q2"
   ]
  },
  {
   "cell_type": "code",
   "execution_count": 7,
   "id": "94c565bb",
   "metadata": {},
   "outputs": [],
   "source": [
    "triggerA = 1.2\n",
    "triggerB = 1.05"
   ]
  },
  {
   "cell_type": "markdown",
   "id": "60442d32",
   "metadata": {},
   "source": [
    "## (a) 0% annualized default rate"
   ]
  },
  {
   "cell_type": "markdown",
   "id": "e753c22f",
   "metadata": {},
   "source": [
    "When there is no default, the answer is the same as without OC test."
   ]
  },
  {
   "cell_type": "markdown",
   "id": "549e30ee",
   "metadata": {},
   "source": [
    "## (b) 1% annualized default rate "
   ]
  },
  {
   "cell_type": "code",
   "execution_count": 8,
   "id": "60665ab8",
   "metadata": {},
   "outputs": [],
   "source": [
    "Not_aft_def = [100.]\n",
    "Int = []\n",
    "classA_Not = [75.]\n",
    "classA_int = []\n",
    "classA_princ = []\n",
    "classB_Not = [15.]\n",
    "classB_int = []\n",
    "classB_princ = []\n",
    "\n",
    "equity_Int = []\n",
    "\n",
    "for i in range(120):\n",
    "    Not_aft_def.append(Not_aft_def[-1] * (1-mthly_default))\n",
    "    Int.append(Not_aft_def[-1] * asset_c)\n",
    "    ratio_A = Not_aft_def[-1] / classA_Not[-1]\n",
    "    if ratio_A >= triggerA:\n",
    "        classA_int.append(classA_Not[-1] * classA_c)\n",
    "        classA_princ.append(0)\n",
    "        classA_Not.append(classA_Not[-1])\n",
    "        ratio_B = Not_aft_def[-1] / (classA_Not[-1]+classB_Not[-1])\n",
    "        if ratio_B >= triggerB:\n",
    "            classB_int.append(classB_Not[-1] * classB_c)\n",
    "            classB_princ.append(0)\n",
    "            classB_Not.append(classB_Not[-1])\n",
    "            equity_Int.append(Int[-1]-classA_int[-1]-classB_int[-1])\n",
    "        else:\n",
    "            classB_int.append(classB_Not[-1] * classB_c)\n",
    "            classB_princ.append(min(classA_Not[-1]+classB_Not[-1]-Not_aft_def[-1]/triggerB,Int[-1]-classA_int[-1]-classB_int[-1]))\n",
    "            classB_Not.append(classB_Not[-1] - classB_princ[-1])\n",
    "            equity_Int.append(max(Int[-1]-classA_int[-1]-classB_int[-1]-classB_princ[-1],0))\n",
    "    else:\n",
    "        classA_int.append(classA_Not[-1] * classA_c)\n",
    "        classA_princ.append(min(classA_Not[-1]-Not_aft_def[-1]/triggerA,Int[-1]-classA_int[-1]))\n",
    "        classA_Not.append(classA_Not[-1]-classA_princ[-1])\n",
    "        ratio_B = Not_aft_def[-1] / (classA_Not[-1]+classB_Not[-1])\n",
    "        if ratio_B >= triggerB:\n",
    "            classB_int.append(min(classB_Not[-1] * classB_c, Int[-1]-classA_int[-1]-classA_princ[-1]))\n",
    "            classB_princ.append(0)\n",
    "            classB_Not.append(classB_Not[-1])\n",
    "            equity_Int.append(max(Int[-1]-classA_int[-1]-classA_princ[-1]-classB_int[-1],0))\n",
    "        else:\n",
    "            classB_int.append(min(classB_Not[-1] * classB_c, Int[-1]-classA_int[-1]-classA_princ[-1]))\n",
    "            classB_princ.append(min(classA_Not[-1]+classB_Not[-1]-Not_aft_def[-1]/triggerB,Int[-1]-classA_int[-1]-classA_princ[-1]-classB_int[-1]))\n",
    "            classB_Not.append(classB_Not[-1] - classB_princ[-1])\n",
    "            equity_Int.append(max(Int[-1]-classA_int[-1]-classA_princ[-1]-classB_int[-1]-classB_princ[-1],0))     \n",
    "        "
   ]
  },
  {
   "cell_type": "code",
   "execution_count": 9,
   "id": "9b9f7f0b",
   "metadata": {},
   "outputs": [],
   "source": [
    "df = pd.DataFrame({'Month':months, 'Not\\'I': Not_aft_def[:-1], 'Not\\'I after default':Not_aft_def[1:], 'Princ':0,'Int':Int,\n",
    "                  'Class A Not\\'I':classA_Not[:-1],'Class A Int':classA_int,'Class A Princ':classA_princ,'End Class A Not\\'I':classA_Not[1:],\n",
    "                  'Class B Not\\'I':classB_Not[:-1],'Class B Int':classB_int,'Class B Princ':classB_princ,'End Class B Not\\'I':classB_Not[1:],\n",
    "                  'Equity Not\\'I':10,'Equity Int':equity_Int,'Equity Princ':0,'End Equity Not\\'I':10\n",
    "                  })\n",
    "\n",
    "df.loc[119, 'Princ'] = Not_aft_def[-1]\n",
    "df.loc[119, 'Class A Princ'] = classA_Not[-1] if Not_aft_def[-1] >= classA_Not[-1] else Not_aft_def[-1]\n",
    "df.loc[119, 'End Class A Not\\'I'] = 0 if Not_aft_def[-1] >= classA_Not[-1] else classA_Not[-1] - Not_aft_def[-1]\n",
    "df.loc[119, 'Class B Princ'] = classB_Not[-1] if Not_aft_def[-1] >= classA_Not[-1] + classB_Not[-1] else max(Not_aft_def[-1] - classA_Not[-1],0)\n",
    "df.loc[119, 'End Class B Not\\'I'] = classB - df['Class B Princ'].sum()\n",
    "df.loc[119, 'Equity Princ'] = max(Not_aft_def[-1] - classA_Not[-1] - classB_Not[-1], 0)\n",
    "df.loc[119, 'End Equity Not\\'I'] = 10 - max(Not_aft_def[-1] - classA_Not[-1] - classB_Not[-1], 0)\n",
    "df.to_excel('Q2_b.xlsx',index=False)"
   ]
  },
  {
   "cell_type": "markdown",
   "id": "27556c94",
   "metadata": {},
   "source": [
    "## (c)/(d)"
   ]
  },
  {
   "cell_type": "code",
   "execution_count": 10,
   "id": "9ab876e3",
   "metadata": {},
   "outputs": [],
   "source": [
    "def solve_default3(mthly_default):\n",
    "    Not_aft_def = [100.]\n",
    "    Int = []\n",
    "    classA_Not = [75.]\n",
    "    classA_int = []\n",
    "    classA_princ = []\n",
    "    classB_Not = [15.]\n",
    "    classB_int = []\n",
    "    classB_princ = []\n",
    "\n",
    "    equity_Int = []\n",
    "\n",
    "    for i in range(120):\n",
    "        Not_aft_def.append(Not_aft_def[-1] * (1-mthly_default))\n",
    "        Int.append(Not_aft_def[-1] * asset_c)\n",
    "        ratio_A = Not_aft_def[-1] / classA_Not[-1]\n",
    "        if ratio_A >= triggerA:\n",
    "            classA_int.append(classA_Not[-1] * classA_c)\n",
    "            classA_princ.append(0)\n",
    "            classA_Not.append(classA_Not[-1])\n",
    "            ratio_B = Not_aft_def[-1] / (classA_Not[-1]+classB_Not[-1])\n",
    "            if ratio_B >= triggerB:\n",
    "                classB_int.append(classB_Not[-1] * classB_c)\n",
    "                classB_princ.append(0)\n",
    "                classB_Not.append(classB_Not[-1])\n",
    "                equity_Int.append(Int[-1]-classA_int[-1]-classB_int[-1])\n",
    "            else:\n",
    "                classB_int.append(classB_Not[-1] * classB_c)\n",
    "                classB_princ.append(min(classA_Not[-1]+classB_Not[-1]-Not_aft_def[-1]/triggerB,Int[-1]-classA_int[-1]-classB_int[-1]))\n",
    "                classB_Not.append(classB_Not[-1] - classB_princ[-1])\n",
    "                equity_Int.append(max(Int[-1]-classA_int[-1]-classB_int[-1]-classB_princ[-1],0))\n",
    "        else:\n",
    "            classA_int.append(classA_Not[-1] * classA_c)\n",
    "            classA_princ.append(min(classA_Not[-1]-Not_aft_def[-1]/triggerA,Int[-1]-classA_int[-1]))\n",
    "            classA_Not.append(classA_Not[-1]-classA_princ[-1])\n",
    "            ratio_B = Not_aft_def[-1] / (classA_Not[-1]+classB_Not[-1])\n",
    "            if ratio_B >= triggerB:\n",
    "                classB_int.append(min(classB_Not[-1] * classB_c, Int[-1]-classA_int[-1]-classA_princ[-1]))\n",
    "                classB_princ.append(0)\n",
    "                classB_Not.append(classB_Not[-1])\n",
    "                equity_Int.append(max(Int[-1]-classA_int[-1]-classA_princ[-1]-classB_int[-1],0))\n",
    "            else:\n",
    "                classB_int.append(min(classB_Not[-1] * classB_c, Int[-1]-classA_int[-1]-classA_princ[-1]))\n",
    "                classB_princ.append(min(classA_Not[-1]+classB_Not[-1]-Not_aft_def[-1]/triggerB,Int[-1]-classA_int[-1]-classA_princ[-1]-classB_int[-1]))\n",
    "                classB_Not.append(classB_Not[-1] - classB_princ[-1])\n",
    "                equity_Int.append(max(Int[-1]-classA_int[-1]-classA_princ[-1]-classB_int[-1]-classB_princ[-1],0))  \n",
    "                \n",
    "    return abs((Not_aft_def[-1]-classA_Not[-1]-classB_Not[-1])*1000000+1)"
   ]
  },
  {
   "cell_type": "code",
   "execution_count": 11,
   "id": "14ec83dc",
   "metadata": {},
   "outputs": [],
   "source": [
    "def solve_default4(mthly_default):\n",
    "    Not_aft_def = [100.]\n",
    "    Int = []\n",
    "    classA_Not = [75.]\n",
    "    classA_int = []\n",
    "    classA_princ = []\n",
    "    classB_Not = [15.]\n",
    "    classB_int = []\n",
    "    classB_princ = []\n",
    "\n",
    "    equity_Int = []\n",
    "\n",
    "    for i in range(120):\n",
    "        Not_aft_def.append(Not_aft_def[-1] * (1-mthly_default))\n",
    "        Int.append(Not_aft_def[-1] * asset_c)\n",
    "        ratio_A = Not_aft_def[-1] / classA_Not[-1]\n",
    "        if ratio_A >= triggerA:\n",
    "            classA_int.append(classA_Not[-1] * classA_c)\n",
    "            classA_princ.append(0)\n",
    "            classA_Not.append(classA_Not[-1])\n",
    "            ratio_B = Not_aft_def[-1] / (classA_Not[-1]+classB_Not[-1])\n",
    "            if ratio_B >= triggerB:\n",
    "                classB_int.append(classB_Not[-1] * classB_c)\n",
    "                classB_princ.append(0)\n",
    "                classB_Not.append(classB_Not[-1])\n",
    "                equity_Int.append(Int[-1]-classA_int[-1]-classB_int[-1])\n",
    "            else:\n",
    "                classB_int.append(classB_Not[-1] * classB_c)\n",
    "                classB_princ.append(min(classA_Not[-1]+classB_Not[-1]-Not_aft_def[-1]/triggerB,Int[-1]-classA_int[-1]-classB_int[-1]))\n",
    "                classB_Not.append(classB_Not[-1] - classB_princ[-1])\n",
    "                equity_Int.append(max(Int[-1]-classA_int[-1]-classB_int[-1]-classB_princ[-1],0))\n",
    "        else:\n",
    "            classA_int.append(classA_Not[-1] * classA_c)\n",
    "            classA_princ.append(min(classA_Not[-1]-Not_aft_def[-1]/triggerA,Int[-1]-classA_int[-1]))\n",
    "            classA_Not.append(classA_Not[-1]-classA_princ[-1])\n",
    "            ratio_B = Not_aft_def[-1] / (classA_Not[-1]+classB_Not[-1])\n",
    "            if ratio_B >= triggerB:\n",
    "                classB_int.append(min(classB_Not[-1] * classB_c, Int[-1]-classA_int[-1]-classA_princ[-1]))\n",
    "                classB_princ.append(0)\n",
    "                classB_Not.append(classB_Not[-1])\n",
    "                equity_Int.append(max(Int[-1]-classA_int[-1]-classA_princ[-1]-classB_int[-1],0))\n",
    "            else:\n",
    "                classB_int.append(min(classB_Not[-1] * classB_c, Int[-1]-classA_int[-1]-classA_princ[-1]))\n",
    "                classB_princ.append(min(classA_Not[-1]+classB_Not[-1]-Not_aft_def[-1]/triggerB,Int[-1]-classA_int[-1]-classA_princ[-1]-classB_int[-1]))\n",
    "                classB_Not.append(classB_Not[-1] - classB_princ[-1])\n",
    "                equity_Int.append(max(Int[-1]-classA_int[-1]-classA_princ[-1]-classB_int[-1]-classB_princ[-1],0))  \n",
    "                \n",
    "    return abs((Not_aft_def[-1]-classA_Not[-1])*1000000+1)"
   ]
  },
  {
   "cell_type": "code",
   "execution_count": 12,
   "id": "a65f0497",
   "metadata": {},
   "outputs": [
    {
     "name": "stdout",
     "output_type": "stream",
     "text": [
      "Annualized default rate that causes the B class to lose ~$1 of principal:  0.021256358687119836\n",
      "Annualized default rate that causes the A class to lose ~$1 of principal:  0.04089217942572998\n"
     ]
    }
   ],
   "source": [
    "soln = opt.minimize_scalar(solve_default3, method='bounded', bounds=(0.001, 0.02))\n",
    "print('Annualized default rate that causes the B class to lose ~$1 of principal: ', 1 - (1-soln.x)**12)\n",
    "soln = opt.minimize_scalar(solve_default4, method='bounded', bounds=(0, 0.1))\n",
    "print('Annualized default rate that causes the A class to lose ~$1 of principal: ', 1 - (1-soln.x)**12)"
   ]
  }
 ],
 "metadata": {
  "kernelspec": {
   "display_name": "Python 3 (ipykernel)",
   "language": "python",
   "name": "python3"
  },
  "language_info": {
   "codemirror_mode": {
    "name": "ipython",
    "version": 3
   },
   "file_extension": ".py",
   "mimetype": "text/x-python",
   "name": "python",
   "nbconvert_exporter": "python",
   "pygments_lexer": "ipython3",
   "version": "3.7.4"
  }
 },
 "nbformat": 4,
 "nbformat_minor": 5
}
