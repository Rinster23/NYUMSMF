{
 "cells": [
  {
   "cell_type": "code",
   "execution_count": 1,
   "metadata": {},
   "outputs": [],
   "source": [
    "import pandas as pd\n",
    "import numpy as np\n",
    "import matplotlib.pyplot as plt\n",
    "%matplotlib inline\n",
    "import sympy as sp\n",
    "import sys"
   ]
  },
  {
   "cell_type": "markdown",
   "metadata": {
    "slideshow": {
     "slide_type": "subslide"
    }
   },
   "source": [
    "# Subtle errors\n",
    "\n",
    "The limited precision can cause subtle errors that are puzzling even for experienced programmers."
   ]
  },
  {
   "cell_type": "code",
   "execution_count": 2,
   "metadata": {},
   "outputs": [
    {
     "data": {
      "text/plain": [
       "'1.66660999999999992'"
      ]
     },
     "execution_count": 2,
     "metadata": {},
     "output_type": "execute_result"
    }
   ],
   "source": [
    "X = 1.66661\n",
    "format(X, '.17f')"
   ]
  },
  {
   "cell_type": "code",
   "execution_count": 2,
   "metadata": {},
   "outputs": [],
   "source": [
    "a = 0.1\n",
    "b = 0.10000000000000001"
   ]
  },
  {
   "cell_type": "code",
   "execution_count": 3,
   "metadata": {},
   "outputs": [
    {
     "data": {
      "text/plain": [
       "True"
      ]
     },
     "execution_count": 3,
     "metadata": {},
     "output_type": "execute_result"
    }
   ],
   "source": [
    "a==b"
   ]
  },
  {
   "cell_type": "code",
   "execution_count": 5,
   "metadata": {},
   "outputs": [
    {
     "data": {
      "text/plain": [
       "36028797018963968"
      ]
     },
     "execution_count": 5,
     "metadata": {},
     "output_type": "execute_result"
    }
   ],
   "source": [
    "c = 3602879701896397 / 2 ** 55\n",
    "2 ** 55"
   ]
  },
  {
   "cell_type": "code",
   "execution_count": 6,
   "metadata": {},
   "outputs": [
    {
     "data": {
      "text/plain": [
       "True"
      ]
     },
     "execution_count": 6,
     "metadata": {},
     "output_type": "execute_result"
    }
   ],
   "source": [
    "a==c"
   ]
  },
  {
   "cell_type": "code",
   "execution_count": 7,
   "metadata": {},
   "outputs": [
    {
     "data": {
      "text/plain": [
       "True"
      ]
     },
     "execution_count": 7,
     "metadata": {},
     "output_type": "execute_result"
    }
   ],
   "source": [
    "b==c"
   ]
  },
  {
   "cell_type": "code",
   "execution_count": 8,
   "metadata": {},
   "outputs": [
    {
     "data": {
      "text/plain": [
       "'0.10000000000000000555'"
      ]
     },
     "execution_count": 8,
     "metadata": {},
     "output_type": "execute_result"
    }
   ],
   "source": [
    "format(c, '.20f')"
   ]
  },
  {
   "cell_type": "code",
   "execution_count": 9,
   "metadata": {},
   "outputs": [
    {
     "data": {
      "text/plain": [
       "False"
      ]
     },
     "execution_count": 9,
     "metadata": {},
     "output_type": "execute_result"
    }
   ],
   "source": [
    "0.3 == 0.1 + 0.1 + 0.1"
   ]
  },
  {
   "cell_type": "code",
   "execution_count": 10,
   "metadata": {},
   "outputs": [
    {
     "data": {
      "text/plain": [
       "'0.10000000000000001'"
      ]
     },
     "execution_count": 10,
     "metadata": {},
     "output_type": "execute_result"
    }
   ],
   "source": [
    "x = 0.1\n",
    "format(x, '.17f')"
   ]
  },
  {
   "cell_type": "code",
   "execution_count": 11,
   "metadata": {},
   "outputs": [
    {
     "data": {
      "text/plain": [
       "True"
      ]
     },
     "execution_count": 11,
     "metadata": {},
     "output_type": "execute_result"
    }
   ],
   "source": [
    "round(.1 + .1 + .1, 10) == 0.3"
   ]
  },
  {
   "cell_type": "markdown",
   "metadata": {},
   "source": [
    "Floating point arithmetic is not associative. Order is important."
   ]
  },
  {
   "cell_type": "code",
   "execution_count": 12,
   "metadata": {},
   "outputs": [],
   "source": [
    "p = (1e-20 + 1) - 1\n",
    "q = 1e-20 + (1 - 1)"
   ]
  },
  {
   "cell_type": "code",
   "execution_count": 13,
   "metadata": {},
   "outputs": [
    {
     "name": "stdout",
     "output_type": "stream",
     "text": [
      "p = 0.0\n",
      "q = 1e-20\n"
     ]
    }
   ],
   "source": [
    "print(f\"p = {p}\")\n",
    "print(f\"q = {q}\")"
   ]
  },
  {
   "cell_type": "markdown",
   "metadata": {},
   "source": [
    "Big numbers can lead to unexpected results."
   ]
  },
  {
   "cell_type": "code",
   "execution_count": 7,
   "metadata": {},
   "outputs": [
    {
     "name": "stdout",
     "output_type": "stream",
     "text": [
      "4503599627370496 7205759403792793 9007199254740992\n"
     ]
    }
   ],
   "source": [
    "x = 2**52\n",
    "y = (2**56) //10\n",
    "z = 2**53\n",
    "print(x,y,z)"
   ]
  },
  {
   "cell_type": "code",
   "execution_count": 15,
   "metadata": {},
   "outputs": [
    {
     "data": {
      "text/plain": [
       "True"
      ]
     },
     "execution_count": 15,
     "metadata": {},
     "output_type": "execute_result"
    }
   ],
   "source": [
    "x <= y"
   ]
  },
  {
   "cell_type": "code",
   "execution_count": 16,
   "metadata": {},
   "outputs": [
    {
     "data": {
      "text/plain": [
       "True"
      ]
     },
     "execution_count": 16,
     "metadata": {},
     "output_type": "execute_result"
    }
   ],
   "source": [
    "x <= z"
   ]
  },
  {
   "cell_type": "code",
   "execution_count": 17,
   "metadata": {},
   "outputs": [
    {
     "data": {
      "text/plain": [
       "True"
      ]
     },
     "execution_count": 17,
     "metadata": {},
     "output_type": "execute_result"
    }
   ],
   "source": [
    "y <= z"
   ]
  },
  {
   "cell_type": "markdown",
   "metadata": {},
   "source": [
    "So can little numbers."
   ]
  },
  {
   "cell_type": "code",
   "execution_count": 26,
   "metadata": {},
   "outputs": [],
   "source": [
    "a = -3210.48"
   ]
  },
  {
   "cell_type": "code",
   "execution_count": 27,
   "metadata": {},
   "outputs": [],
   "source": [
    "b = 2**(-41)"
   ]
  },
  {
   "cell_type": "code",
   "execution_count": 28,
   "metadata": {},
   "outputs": [],
   "source": [
    "c = -7059920181484585 * b"
   ]
  },
  {
   "cell_type": "code",
   "execution_count": 40,
   "metadata": {},
   "outputs": [
    {
     "data": {
      "text/plain": [
       "True"
      ]
     },
     "execution_count": 40,
     "metadata": {},
     "output_type": "execute_result"
    }
   ],
   "source": [
    "a == c"
   ]
  },
  {
   "cell_type": "markdown",
   "metadata": {},
   "source": [
    "Where are the limits?"
   ]
  },
  {
   "cell_type": "code",
   "execution_count": 44,
   "metadata": {},
   "outputs": [
    {
     "data": {
      "text/plain": [
       "9223372036854775807"
      ]
     },
     "execution_count": 44,
     "metadata": {},
     "output_type": "execute_result"
    }
   ],
   "source": [
    "sys.maxsize"
   ]
  },
  {
   "cell_type": "code",
   "execution_count": 45,
   "metadata": {},
   "outputs": [
    {
     "data": {
      "text/plain": [
       "-9223372036854775808"
      ]
     },
     "execution_count": 45,
     "metadata": {},
     "output_type": "execute_result"
    }
   ],
   "source": [
    "-sys.maxsize -1"
   ]
  },
  {
   "cell_type": "markdown",
   "metadata": {},
   "source": [
    "=========================================================================================================\n",
    "\n",
    "*Back to PDF*\n",
    "\n",
    "========================================================================================================="
   ]
  },
  {
   "cell_type": "markdown",
   "metadata": {
    "slideshow": {
     "slide_type": "subslide"
    }
   },
   "source": [
    "# Examples of floating point numbers"
   ]
  },
  {
   "cell_type": "code",
   "execution_count": 46,
   "metadata": {
    "slideshow": {
     "slide_type": "skip"
    }
   },
   "outputs": [],
   "source": [
    "def f2parts(num, processor_type):\n",
    "    ######################################################################\n",
    "    #\n",
    "    # f2parts turns a floating point number into the binary parts and their\n",
    "    # decimal representations\n",
    "    #\n",
    "    # inputs: floating point number and processor\n",
    "    #\n",
    "    ######################################################################\n",
    "    import bitstring # may need to install package: \"!pip install bitstring\"\n",
    "    import pandas as pd\n",
    "    \n",
    "    processor = {32: 9, 64 : 12}\n",
    "    p_len = processor[processor_type]\n",
    "    bias = 2**(p_len - 2) - 1 # determines the bias for the processor\n",
    "    \n",
    "    # compute the hexadecimal value for the input\n",
    "    hex_value = bitstring.BitArray(float=num, length=processor_type)\n",
    "    \n",
    "    # extract the binary parts\n",
    "    sign_bit = hex_value[:1]\n",
    "    fraction_bits = hex_value[p_len:]\n",
    "    exponential_bits = hex_value[1:p_len]\n",
    "    \n",
    "    # convert binary to decimal form\n",
    "    if exponential_bits.uint > 0:\n",
    "        fract_decimal = 1. + 1.*fraction_bits.uint/2**(processor_type-p_len)\n",
    "    else:\n",
    "        fract_decimal = 2.*fraction_bits.uint/2**(processor_type-p_len)\n",
    "    exponent = exponential_bits.uint - bias\n",
    "    \n",
    "    # collect the binary and decimal values and print\n",
    "    binary_values = np.array([sign_bit.bin, exponential_bits.bin, fraction_bits.bin])\n",
    "    decimal_values = np.array([1-sign_bit.uint*2, exponent, fract_decimal])\n",
    "    display(pd.DataFrame(np.array([binary_values, decimal_values]).T, columns=['Bits', 'Decimal'], \n",
    "                               index=[\"Sign\", \"Exponent\", \"Fraction\"]).T)"
   ]
  },
  {
   "cell_type": "markdown",
   "metadata": {},
   "source": [
    "f2parts takes a floating number and its bit length (32 or 64) and shows the three parts. "
   ]
  },
  {
   "cell_type": "code",
   "execution_count": 47,
   "metadata": {
    "slideshow": {
     "slide_type": "-"
    }
   },
   "outputs": [
    {
     "data": {
      "text/html": [
       "<div>\n",
       "<style scoped>\n",
       "    .dataframe tbody tr th:only-of-type {\n",
       "        vertical-align: middle;\n",
       "    }\n",
       "\n",
       "    .dataframe tbody tr th {\n",
       "        vertical-align: top;\n",
       "    }\n",
       "\n",
       "    .dataframe thead th {\n",
       "        text-align: right;\n",
       "    }\n",
       "</style>\n",
       "<table border=\"1\" class=\"dataframe\">\n",
       "  <thead>\n",
       "    <tr style=\"text-align: right;\">\n",
       "      <th></th>\n",
       "      <th>Sign</th>\n",
       "      <th>Exponent</th>\n",
       "      <th>Fraction</th>\n",
       "    </tr>\n",
       "  </thead>\n",
       "  <tbody>\n",
       "    <tr>\n",
       "      <th>Bits</th>\n",
       "      <td>0</td>\n",
       "      <td>10000010</td>\n",
       "      <td>01010110011001100110011</td>\n",
       "    </tr>\n",
       "    <tr>\n",
       "      <th>Decimal</th>\n",
       "      <td>1.0</td>\n",
       "      <td>3.0</td>\n",
       "      <td>1.337499976158142</td>\n",
       "    </tr>\n",
       "  </tbody>\n",
       "</table>\n",
       "</div>"
      ],
      "text/plain": [
       "        Sign  Exponent                 Fraction\n",
       "Bits       0  10000010  01010110011001100110011\n",
       "Decimal  1.0       3.0        1.337499976158142"
      ]
     },
     "metadata": {},
     "output_type": "display_data"
    }
   ],
   "source": [
    "f2parts(10.7, 32);"
   ]
  },
  {
   "cell_type": "code",
   "execution_count": 48,
   "metadata": {},
   "outputs": [
    {
     "data": {
      "text/html": [
       "<div>\n",
       "<style scoped>\n",
       "    .dataframe tbody tr th:only-of-type {\n",
       "        vertical-align: middle;\n",
       "    }\n",
       "\n",
       "    .dataframe tbody tr th {\n",
       "        vertical-align: top;\n",
       "    }\n",
       "\n",
       "    .dataframe thead th {\n",
       "        text-align: right;\n",
       "    }\n",
       "</style>\n",
       "<table border=\"1\" class=\"dataframe\">\n",
       "  <thead>\n",
       "    <tr style=\"text-align: right;\">\n",
       "      <th></th>\n",
       "      <th>Sign</th>\n",
       "      <th>Exponent</th>\n",
       "      <th>Fraction</th>\n",
       "    </tr>\n",
       "  </thead>\n",
       "  <tbody>\n",
       "    <tr>\n",
       "      <th>Bits</th>\n",
       "      <td>1</td>\n",
       "      <td>10000001101</td>\n",
       "      <td>0110111001010101000000000000000000000000000000...</td>\n",
       "    </tr>\n",
       "    <tr>\n",
       "      <th>Decimal</th>\n",
       "      <td>-1.0</td>\n",
       "      <td>14.0</td>\n",
       "      <td>1.4309844970703125</td>\n",
       "    </tr>\n",
       "  </tbody>\n",
       "</table>\n",
       "</div>"
      ],
      "text/plain": [
       "         Sign     Exponent                                           Fraction\n",
       "Bits        1  10000001101  0110111001010101000000000000000000000000000000...\n",
       "Decimal  -1.0         14.0                                 1.4309844970703125"
      ]
     },
     "metadata": {},
     "output_type": "display_data"
    }
   ],
   "source": [
    "f2parts(-23445.25, 64)"
   ]
  },
  {
   "cell_type": "code",
   "execution_count": 49,
   "metadata": {},
   "outputs": [],
   "source": [
    "def parts2f(sign, exponent, sig):\n",
    "    return ((-1)**(sign-1)*sig*2.**exponent)"
   ]
  },
  {
   "cell_type": "code",
   "execution_count": 50,
   "metadata": {},
   "outputs": [
    {
     "data": {
      "text/plain": [
       "10.699999809265137"
      ]
     },
     "execution_count": 50,
     "metadata": {},
     "output_type": "execute_result"
    }
   ],
   "source": [
    "parts2f(1, 3, 1.337499976158142)"
   ]
  },
  {
   "cell_type": "code",
   "execution_count": 51,
   "metadata": {},
   "outputs": [
    {
     "data": {
      "text/plain": [
       "1.9073486257070726e-07"
      ]
     },
     "execution_count": 51,
     "metadata": {},
     "output_type": "execute_result"
    }
   ],
   "source": [
    "10.7 - parts2f(1, 3, 1.337499976158142)"
   ]
  },
  {
   "cell_type": "markdown",
   "metadata": {
    "slideshow": {
     "slide_type": "subslide"
    }
   },
   "source": [
    "## Range and precision"
   ]
  },
  {
   "cell_type": "code",
   "execution_count": 52,
   "metadata": {
    "slideshow": {
     "slide_type": "fragment"
    }
   },
   "outputs": [
    {
     "data": {
      "text/html": [
       "<div>\n",
       "<style scoped>\n",
       "    .dataframe tbody tr th:only-of-type {\n",
       "        vertical-align: middle;\n",
       "    }\n",
       "\n",
       "    .dataframe tbody tr th {\n",
       "        vertical-align: top;\n",
       "    }\n",
       "\n",
       "    .dataframe thead th {\n",
       "        text-align: right;\n",
       "    }\n",
       "</style>\n",
       "<table border=\"1\" class=\"dataframe\">\n",
       "  <thead>\n",
       "    <tr style=\"text-align: right;\">\n",
       "      <th></th>\n",
       "      <th>Min</th>\n",
       "      <th>Max</th>\n",
       "      <th>Machine Precision</th>\n",
       "      <th># of Significant Digits</th>\n",
       "    </tr>\n",
       "  </thead>\n",
       "  <tbody>\n",
       "    <tr>\n",
       "      <th>32 bit</th>\n",
       "      <td>-1.175494e-38</td>\n",
       "      <td>3.402823e+38</td>\n",
       "      <td>5.960464e-08</td>\n",
       "      <td>7.22472</td>\n",
       "    </tr>\n",
       "    <tr>\n",
       "      <th>64 bit</th>\n",
       "      <td>-2.225074e-308</td>\n",
       "      <td>1.797693e+308</td>\n",
       "      <td>1.110223e-16</td>\n",
       "      <td>15.95459</td>\n",
       "    </tr>\n",
       "  </tbody>\n",
       "</table>\n",
       "</div>"
      ],
      "text/plain": [
       "                  Min            Max  Machine Precision  \\\n",
       "32 bit  -1.175494e-38   3.402823e+38       5.960464e-08   \n",
       "64 bit -2.225074e-308  1.797693e+308       1.110223e-16   \n",
       "\n",
       "        # of Significant Digits  \n",
       "32 bit                  7.22472  \n",
       "64 bit                 15.95459  "
      ]
     },
     "metadata": {},
     "output_type": "display_data"
    }
   ],
   "source": [
    "prec32 = 2**(-24)\n",
    "prec64 = 2**(-53)\n",
    "\n",
    "f32 = [parts2f(0, -126, 1), parts2f(1, 254-127, (2.-prec32*2)), prec32, -np.log10(prec32)]\n",
    "f64 = [parts2f(0, -1022, 1), parts2f(1, 2046-1023, (2.-prec64*2)), prec64, -np.log10(prec64)]\n",
    "\n",
    "display(pd.DataFrame(np.array([f32, f64]), index=['32 bit', '64 bit'], \n",
    "                           columns=[\"Min\", \"Max\", \"Machine Precision\", \"# of Significant Digits\"]))"
   ]
  },
  {
   "cell_type": "markdown",
   "metadata": {
    "slideshow": {
     "slide_type": "subslide"
    }
   },
   "source": [
    "## Examples of floating point representations"
   ]
  },
  {
   "cell_type": "code",
   "execution_count": 53,
   "metadata": {
    "slideshow": {
     "slide_type": "-"
    }
   },
   "outputs": [
    {
     "data": {
      "text/html": [
       "<div>\n",
       "<style scoped>\n",
       "    .dataframe tbody tr th:only-of-type {\n",
       "        vertical-align: middle;\n",
       "    }\n",
       "\n",
       "    .dataframe tbody tr th {\n",
       "        vertical-align: top;\n",
       "    }\n",
       "\n",
       "    .dataframe thead th {\n",
       "        text-align: right;\n",
       "    }\n",
       "</style>\n",
       "<table border=\"1\" class=\"dataframe\">\n",
       "  <thead>\n",
       "    <tr style=\"text-align: right;\">\n",
       "      <th></th>\n",
       "      <th>Sign</th>\n",
       "      <th>Exponent</th>\n",
       "      <th>Fraction</th>\n",
       "    </tr>\n",
       "  </thead>\n",
       "  <tbody>\n",
       "    <tr>\n",
       "      <th>Bits</th>\n",
       "      <td>1</td>\n",
       "      <td>00000000</td>\n",
       "      <td>00000000000000000000000</td>\n",
       "    </tr>\n",
       "    <tr>\n",
       "      <th>Decimal</th>\n",
       "      <td>-1.0</td>\n",
       "      <td>-127.0</td>\n",
       "      <td>0.0</td>\n",
       "    </tr>\n",
       "  </tbody>\n",
       "</table>\n",
       "</div>"
      ],
      "text/plain": [
       "         Sign  Exponent                 Fraction\n",
       "Bits        1  00000000  00000000000000000000000\n",
       "Decimal  -1.0    -127.0                      0.0"
      ]
     },
     "metadata": {},
     "output_type": "display_data"
    }
   ],
   "source": [
    "f2parts(-0.0, 32);"
   ]
  },
  {
   "cell_type": "code",
   "execution_count": 54,
   "metadata": {
    "slideshow": {
     "slide_type": "-"
    }
   },
   "outputs": [
    {
     "data": {
      "text/html": [
       "<div>\n",
       "<style scoped>\n",
       "    .dataframe tbody tr th:only-of-type {\n",
       "        vertical-align: middle;\n",
       "    }\n",
       "\n",
       "    .dataframe tbody tr th {\n",
       "        vertical-align: top;\n",
       "    }\n",
       "\n",
       "    .dataframe thead th {\n",
       "        text-align: right;\n",
       "    }\n",
       "</style>\n",
       "<table border=\"1\" class=\"dataframe\">\n",
       "  <thead>\n",
       "    <tr style=\"text-align: right;\">\n",
       "      <th></th>\n",
       "      <th>Sign</th>\n",
       "      <th>Exponent</th>\n",
       "      <th>Fraction</th>\n",
       "    </tr>\n",
       "  </thead>\n",
       "  <tbody>\n",
       "    <tr>\n",
       "      <th>Bits</th>\n",
       "      <td>0</td>\n",
       "      <td>11111111</td>\n",
       "      <td>10000000000000000000000</td>\n",
       "    </tr>\n",
       "    <tr>\n",
       "      <th>Decimal</th>\n",
       "      <td>1.0</td>\n",
       "      <td>128.0</td>\n",
       "      <td>1.5</td>\n",
       "    </tr>\n",
       "  </tbody>\n",
       "</table>\n",
       "</div>"
      ],
      "text/plain": [
       "        Sign  Exponent                 Fraction\n",
       "Bits       0  11111111  10000000000000000000000\n",
       "Decimal  1.0     128.0                      1.5"
      ]
     },
     "metadata": {},
     "output_type": "display_data"
    }
   ],
   "source": [
    "f2parts(np.NaN, 32);"
   ]
  },
  {
   "cell_type": "code",
   "execution_count": 55,
   "metadata": {
    "slideshow": {
     "slide_type": "subslide"
    }
   },
   "outputs": [
    {
     "data": {
      "text/html": [
       "<div>\n",
       "<style scoped>\n",
       "    .dataframe tbody tr th:only-of-type {\n",
       "        vertical-align: middle;\n",
       "    }\n",
       "\n",
       "    .dataframe tbody tr th {\n",
       "        vertical-align: top;\n",
       "    }\n",
       "\n",
       "    .dataframe thead th {\n",
       "        text-align: right;\n",
       "    }\n",
       "</style>\n",
       "<table border=\"1\" class=\"dataframe\">\n",
       "  <thead>\n",
       "    <tr style=\"text-align: right;\">\n",
       "      <th></th>\n",
       "      <th>Sign</th>\n",
       "      <th>Exponent</th>\n",
       "      <th>Fraction</th>\n",
       "    </tr>\n",
       "  </thead>\n",
       "  <tbody>\n",
       "    <tr>\n",
       "      <th>Bits</th>\n",
       "      <td>1</td>\n",
       "      <td>11111111</td>\n",
       "      <td>00000000000000000000000</td>\n",
       "    </tr>\n",
       "    <tr>\n",
       "      <th>Decimal</th>\n",
       "      <td>-1.0</td>\n",
       "      <td>128.0</td>\n",
       "      <td>1.0</td>\n",
       "    </tr>\n",
       "  </tbody>\n",
       "</table>\n",
       "</div>"
      ],
      "text/plain": [
       "         Sign  Exponent                 Fraction\n",
       "Bits        1  11111111  00000000000000000000000\n",
       "Decimal  -1.0     128.0                      1.0"
      ]
     },
     "metadata": {},
     "output_type": "display_data"
    }
   ],
   "source": [
    "f2parts(-np.Inf, 32);"
   ]
  },
  {
   "cell_type": "code",
   "execution_count": 56,
   "metadata": {
    "slideshow": {
     "slide_type": "-"
    }
   },
   "outputs": [
    {
     "data": {
      "text/html": [
       "<div>\n",
       "<style scoped>\n",
       "    .dataframe tbody tr th:only-of-type {\n",
       "        vertical-align: middle;\n",
       "    }\n",
       "\n",
       "    .dataframe tbody tr th {\n",
       "        vertical-align: top;\n",
       "    }\n",
       "\n",
       "    .dataframe thead th {\n",
       "        text-align: right;\n",
       "    }\n",
       "</style>\n",
       "<table border=\"1\" class=\"dataframe\">\n",
       "  <thead>\n",
       "    <tr style=\"text-align: right;\">\n",
       "      <th></th>\n",
       "      <th>Sign</th>\n",
       "      <th>Exponent</th>\n",
       "      <th>Fraction</th>\n",
       "    </tr>\n",
       "  </thead>\n",
       "  <tbody>\n",
       "    <tr>\n",
       "      <th>Bits</th>\n",
       "      <td>1</td>\n",
       "      <td>00000000</td>\n",
       "      <td>00000000000000000000001</td>\n",
       "    </tr>\n",
       "    <tr>\n",
       "      <th>Decimal</th>\n",
       "      <td>-1.0</td>\n",
       "      <td>-127.0</td>\n",
       "      <td>2.384185791015625e-07</td>\n",
       "    </tr>\n",
       "  </tbody>\n",
       "</table>\n",
       "</div>"
      ],
      "text/plain": [
       "         Sign  Exponent                 Fraction\n",
       "Bits        1  00000000  00000000000000000000001\n",
       "Decimal  -1.0    -127.0    2.384185791015625e-07"
      ]
     },
     "metadata": {},
     "output_type": "display_data"
    }
   ],
   "source": [
    "f2parts(-1e-45, 32);"
   ]
  },
  {
   "cell_type": "markdown",
   "metadata": {
    "slideshow": {
     "slide_type": "subslide"
    }
   },
   "source": [
    "##  Floating point computing is NOT exact"
   ]
  },
  {
   "cell_type": "code",
   "execution_count": 57,
   "metadata": {
    "slideshow": {
     "slide_type": "-"
    }
   },
   "outputs": [
    {
     "name": "stdout",
     "output_type": "stream",
     "text": [
      "b == c? False !\n",
      "b - c = -1.110223e-16\n"
     ]
    }
   ],
   "source": [
    "a = 1./3\n",
    "b = a + a + 1. - 1.  # should be 2/3\n",
    "c = 2*a # should be 2/3\n",
    "print(\"b == c? {} !\".format(b == c))\n",
    "print(\"b - c = {:e}\".format(b - c))"
   ]
  },
  {
   "cell_type": "code",
   "execution_count": 58,
   "metadata": {},
   "outputs": [],
   "source": [
    "pd.set_option(\"display.max_colwidth\", 80)"
   ]
  },
  {
   "cell_type": "code",
   "execution_count": 59,
   "metadata": {
    "slideshow": {
     "slide_type": "fragment"
    }
   },
   "outputs": [
    {
     "data": {
      "text/html": [
       "<div>\n",
       "<style scoped>\n",
       "    .dataframe tbody tr th:only-of-type {\n",
       "        vertical-align: middle;\n",
       "    }\n",
       "\n",
       "    .dataframe tbody tr th {\n",
       "        vertical-align: top;\n",
       "    }\n",
       "\n",
       "    .dataframe thead th {\n",
       "        text-align: right;\n",
       "    }\n",
       "</style>\n",
       "<table border=\"1\" class=\"dataframe\">\n",
       "  <thead>\n",
       "    <tr style=\"text-align: right;\">\n",
       "      <th></th>\n",
       "      <th>Sign</th>\n",
       "      <th>Exponent</th>\n",
       "      <th>Fraction</th>\n",
       "    </tr>\n",
       "  </thead>\n",
       "  <tbody>\n",
       "    <tr>\n",
       "      <th>Bits</th>\n",
       "      <td>0</td>\n",
       "      <td>01111111110</td>\n",
       "      <td>0101010101010101010101010101010101010101010101010100</td>\n",
       "    </tr>\n",
       "    <tr>\n",
       "      <th>Decimal</th>\n",
       "      <td>1.0</td>\n",
       "      <td>-1.0</td>\n",
       "      <td>1.333333333333333</td>\n",
       "    </tr>\n",
       "  </tbody>\n",
       "</table>\n",
       "</div>"
      ],
      "text/plain": [
       "        Sign     Exponent  \\\n",
       "Bits       0  01111111110   \n",
       "Decimal  1.0         -1.0   \n",
       "\n",
       "                                                     Fraction  \n",
       "Bits     0101010101010101010101010101010101010101010101010100  \n",
       "Decimal                                     1.333333333333333  "
      ]
     },
     "metadata": {},
     "output_type": "display_data"
    }
   ],
   "source": [
    "f2parts(b, 64);"
   ]
  },
  {
   "cell_type": "code",
   "execution_count": 60,
   "metadata": {
    "slideshow": {
     "slide_type": "fragment"
    }
   },
   "outputs": [
    {
     "data": {
      "text/html": [
       "<div>\n",
       "<style scoped>\n",
       "    .dataframe tbody tr th:only-of-type {\n",
       "        vertical-align: middle;\n",
       "    }\n",
       "\n",
       "    .dataframe tbody tr th {\n",
       "        vertical-align: top;\n",
       "    }\n",
       "\n",
       "    .dataframe thead th {\n",
       "        text-align: right;\n",
       "    }\n",
       "</style>\n",
       "<table border=\"1\" class=\"dataframe\">\n",
       "  <thead>\n",
       "    <tr style=\"text-align: right;\">\n",
       "      <th></th>\n",
       "      <th>Sign</th>\n",
       "      <th>Exponent</th>\n",
       "      <th>Fraction</th>\n",
       "    </tr>\n",
       "  </thead>\n",
       "  <tbody>\n",
       "    <tr>\n",
       "      <th>Bits</th>\n",
       "      <td>0</td>\n",
       "      <td>01111111110</td>\n",
       "      <td>0101010101010101010101010101010101010101010101010101</td>\n",
       "    </tr>\n",
       "    <tr>\n",
       "      <th>Decimal</th>\n",
       "      <td>1.0</td>\n",
       "      <td>-1.0</td>\n",
       "      <td>1.3333333333333333</td>\n",
       "    </tr>\n",
       "  </tbody>\n",
       "</table>\n",
       "</div>"
      ],
      "text/plain": [
       "        Sign     Exponent  \\\n",
       "Bits       0  01111111110   \n",
       "Decimal  1.0         -1.0   \n",
       "\n",
       "                                                     Fraction  \n",
       "Bits     0101010101010101010101010101010101010101010101010101  \n",
       "Decimal                                    1.3333333333333333  "
      ]
     },
     "metadata": {},
     "output_type": "display_data"
    }
   ],
   "source": [
    "f2parts(c, 64);"
   ]
  },
  {
   "cell_type": "markdown",
   "metadata": {
    "slideshow": {
     "slide_type": "subslide"
    }
   },
   "source": [
    "## Floating point computation can't handle numbers too large or small"
   ]
  },
  {
   "cell_type": "code",
   "execution_count": 61,
   "metadata": {
    "slideshow": {
     "slide_type": "-"
    }
   },
   "outputs": [
    {
     "name": "stdout",
     "output_type": "stream",
     "text": [
      "inverse of 1.000000e-308 is 1.000000e+308\n"
     ]
    }
   ],
   "source": [
    "x = 1e-308\n",
    "print(\"inverse of {:e} is {:e}\".format(x, 1/x))"
   ]
  },
  {
   "cell_type": "code",
   "execution_count": 62,
   "metadata": {
    "slideshow": {
     "slide_type": "-"
    }
   },
   "outputs": [
    {
     "name": "stdout",
     "output_type": "stream",
     "text": [
      "inverse of 1.000000e-309 is inf\n"
     ]
    }
   ],
   "source": [
    "x = 1e-309\n",
    "print(\"inverse of {:e} is {:e}\".format(x, 1/x))"
   ]
  },
  {
   "cell_type": "markdown",
   "metadata": {
    "slideshow": {
     "slide_type": "subslide"
    }
   },
   "source": [
    "## Limited precision\n",
    "\n",
    "* Small numbers (in relative sense) are lost in addition and subtraction"
   ]
  },
  {
   "cell_type": "code",
   "execution_count": 63,
   "metadata": {
    "slideshow": {
     "slide_type": "-"
    }
   },
   "outputs": [
    {
     "name": "stdout",
     "output_type": "stream",
     "text": [
      "False\n"
     ]
    }
   ],
   "source": [
    "print(1. - 1e-16 == 1.)"
   ]
  },
  {
   "cell_type": "code",
   "execution_count": 64,
   "metadata": {
    "slideshow": {
     "slide_type": "-"
    }
   },
   "outputs": [
    {
     "name": "stdout",
     "output_type": "stream",
     "text": [
      "True\n"
     ]
    }
   ],
   "source": [
    "print(1. + 1e-16 == 1.)"
   ]
  },
  {
   "cell_type": "code",
   "execution_count": 65,
   "metadata": {
    "slideshow": {
     "slide_type": "subslide"
    }
   },
   "outputs": [
    {
     "name": "stdout",
     "output_type": "stream",
     "text": [
      "Integer arithmetic:\n",
      "a =  265252859812191058636308480000000\n",
      "a - 4294967295 == a ? False\n",
      "\n",
      "Floating point arithmetic:\n",
      "b =  2.6525285981219107e+32\n",
      "b - 4294967295 == b ? True\n"
     ]
    }
   ],
   "source": [
    "import math\n",
    "largeint = 2**32 - 1\n",
    "\n",
    "# here we subtract the large integer from an integer\n",
    "print(\"Integer arithmetic:\")\n",
    "a = math.factorial(30) # a big number in Python \n",
    "print(\"a = \", a)\n",
    "print(\"a - {:d} == a ?\".format(largeint), (a - largeint) == a)\n",
    "\n",
    "# here we subtract the large integer as a floating point number from a floating point number\n",
    "print(\"\\nFloating point arithmetic:\")\n",
    "b = float(math.factorial(30)) # the big number as a floating point number\n",
    "\n",
    "# note that there is truncation of the floating point number\n",
    "print(\"b = \", b)\n",
    "print(\"b - {:d} == b ?\".format(largeint), (b - largeint) == b)"
   ]
  },
  {
   "cell_type": "markdown",
   "metadata": {},
   "source": [
    "=========================================================================================================\n",
    "\n",
    "*Back to PDF*\n",
    "\n",
    "========================================================================================================="
   ]
  },
  {
   "cell_type": "markdown",
   "metadata": {
    "slideshow": {
     "slide_type": "subslide"
    }
   },
   "source": [
    "# Catastrophic cancellation"
   ]
  },
  {
   "cell_type": "markdown",
   "metadata": {},
   "source": [
    "Using explicit mathematical formulas may not always be the best way to compute something. Consider the following examples."
   ]
  },
  {
   "cell_type": "markdown",
   "metadata": {},
   "source": [
    "## First Example\n",
    "\n",
    "The solution(s) to the second-order equation:\n",
    "$$\n",
    "x^2 - 2 p x -  q = 0\n",
    "$$\n",
    "\n",
    "Would usually be provided by:\n",
    "$$\n",
    "\\text{solutions = } \\frac{-2p \\pm \\sqrt {4p^2+4q} }{2}\n",
    "$$\n",
    "But if we program the solution for the smallest root, $r_{min}$, we get:"
   ]
  },
  {
   "cell_type": "code",
   "execution_count": 66,
   "metadata": {},
   "outputs": [
    {
     "name": "stdout",
     "output_type": "stream",
     "text": [
      "Method 1 = -4.0978193283081055e-08\n"
     ]
    }
   ],
   "source": [
    "def r1(p1,q1):\n",
    "    return (p1 - np.sqrt(p1**2 + q1))\n",
    "\n",
    "p1 = 12345678\n",
    "q1 = 1\n",
    "\n",
    "print(f\"Method 1 = {r1(p1,q1)}\")\n"
   ]
  },
  {
   "cell_type": "markdown",
   "metadata": {},
   "source": [
    "Recognizing that $-q$ is the product of $r_{min}$ and $r_{max}$, the smaller root could also be computed as:"
   ]
  },
  {
   "cell_type": "code",
   "execution_count": 67,
   "metadata": {},
   "outputs": [
    {
     "name": "stdout",
     "output_type": "stream",
     "text": [
      "Method 2 = -4.0500003321000205e-08\n"
     ]
    }
   ],
   "source": [
    "def r2(p1,q1):\n",
    "    return (-(q1)/(p1 + np.sqrt(p1**2 + q1)))\n",
    "\n",
    "p1 = 12345678\n",
    "q1 = 1\n",
    "\n",
    "print(f\"Method 2 = {r2(p1,q1)}\")"
   ]
  },
  {
   "cell_type": "markdown",
   "metadata": {},
   "source": [
    "Method 1 has almost no correct significant digits. It attempts to compute a small number by subtracting two nearly equal large numbers. Almost all correct significant digits in the input are lost during the subtraction. Method 2 however, produces an answer that is correct to full machine precision."
   ]
  },
  {
   "cell_type": "markdown",
   "metadata": {
    "slideshow": {
     "slide_type": "subslide"
    }
   },
   "source": [
    "## Second Example\n",
    "\n",
    "Dramatic loss of precision can happen when very similar numbers are subtracted\n",
    "\n",
    "* Value the following function around 0: \n",
    "\n",
    "$$f(x) = \\frac{1}{x^2}(1-\\cos(x))$$\n",
    "\n",
    " * Mathematically: $\\lim_{x\\rightarrow 0}f(x) = \\frac{1}{2}$"
   ]
  },
  {
   "cell_type": "markdown",
   "metadata": {
    "slideshow": {
     "slide_type": "subslide"
    }
   },
   "source": [
    "A straight forward implementation fails spectacularly for small $x$."
   ]
  },
  {
   "cell_type": "code",
   "execution_count": 68,
   "metadata": {
    "slideshow": {
     "slide_type": "-"
    }
   },
   "outputs": [
    {
     "data": {
      "image/png": "[encoded data removed]",
      "text/plain": [
       "<Figure size 432x288 with 1 Axes>"
      ]
     },
     "metadata": {
      "needs_background": "light"
     },
     "output_type": "display_data"
    }
   ],
   "source": [
    "import numpy as np\n",
    "import pandas as pd\n",
    "def f(x) :\n",
    "    return (1.-np.cos(x))/x**2\n",
    "\n",
    "def g(x) :\n",
    "    return (2 * np.sin(.5*x)**2)/x**2\n",
    "\n",
    "x = np.arange(-4e-8, 4e-8, 1e-9)\n",
    "df = pd.DataFrame(np.array([f(x), g(x)]).T, index=x, columns=['Numerical f(x)', 'True Value']);\n",
    "df.plot(figsize=(6, 4));"
   ]
  },
  {
   "cell_type": "markdown",
   "metadata": {
    "slideshow": {
     "slide_type": "subslide"
    }
   },
   "source": [
    "### How did it happen?"
   ]
  },
  {
   "cell_type": "code",
   "execution_count": 69,
   "metadata": {
    "slideshow": {
     "slide_type": "-"
    }
   },
   "outputs": [
    {
     "name": "stdout",
     "output_type": "stream",
     "text": [
      "cos(1.0999999999999999e-08) = 0.9999999999999999\n",
      "1-cos(1e-08) = 1.1102230246251565e-16\n",
      "true value of 1-cos(1e-08) = 6.0499999999999997e-17\n"
     ]
    }
   ],
   "source": [
    "x = 1.1e-8 # an x close to zero\n",
    "print(\"cos({:.16e}) = {:.16f}\".format(x, np.cos(x))) # cosine of that x\n",
    "print(\"1-cos({:.0e}) = {:.16e}\".format(x, 1.-np.cos(x))) # 1- cosine x\n",
    "print(\"true value of 1-cos({:.0e}) = {:.16e}\".format(x, 2*np.sin(.5*x)**2)) # true value of 1 minus that cosine"
   ]
  },
  {
   "cell_type": "markdown",
   "metadata": {
    "slideshow": {
     "slide_type": "-"
    }
   },
   "source": [
    "* Dramatic precision loss when subtracting numbers that are very similar \n",
    " * Most leading significant digits cancel\n",
    " * The result has much fewer number of significant digits\n",
    " \n",
    " \n",
    "* Catastrophic cancellation could easily happen in practice\n",
    "\n",
    "\n",
    "* For example, deltas for hedging are often computed by bump and re-value\n",
    " * Very small bump sizes should be avoided"
   ]
  },
  {
   "cell_type": "markdown",
   "metadata": {
    "slideshow": {
     "slide_type": "subslide"
    }
   },
   "source": [
    "# A finance example\n",
    "The Cox-Ingersoll-Ross (CIR) process is widely used in quant finance, *e.g.* in the short rate and Heston model:\n",
    "\n",
    "$$ dr_t = \\kappa(\\mu - r) dt + \\sigma \\sqrt{r_t} dW_t\n",
    "$$\n",
    "\n",
    "the variance of $r_t$ at $t > 0$:\n",
    "\n",
    "$$\\text{Var}[r_t | r_0] = \\frac{r_0\\sigma^2}{\\kappa}(e^{-\\kappa t} - e^{-2\\kappa t}) + \\frac{\\mu\\sigma^2}{2\\kappa}(1-e^{-\\kappa t})^2$$\n",
    "\n",
    "how can catastrophic cancellation arise?"
   ]
  },
  {
   "cell_type": "code",
   "execution_count": 70,
   "metadata": {
    "slideshow": {
     "slide_type": "subslide"
    }
   },
   "outputs": [
    {
     "data": {
      "image/png": "[encoded data removed]",
      "text/plain": [
       "<Figure size 576x432 with 1 Axes>"
      ]
     },
     "metadata": {
      "needs_background": "light"
     },
     "output_type": "display_data"
    }
   ],
   "source": [
    "k = np.arange(-3e-8, 3e-8, 1e-9)*1e-7\n",
    "t = 1\n",
    "v = (1-np.exp(-k*t))/k\n",
    "plt.figure(figsize=(8,6))\n",
    "plt.plot(k, v, '.-')\n",
    "plt.title(r'$\\frac{1}{\\kappa} \\left(1-\\exp(-\\kappa)\\right)$')\n",
    "plt.xlabel(r'$\\kappa$');"
   ]
  },
  {
   "cell_type": "markdown",
   "metadata": {},
   "source": [
    "We can use `sympy` to evaluate what $\\kappa$ should be at 0."
   ]
  },
  {
   "cell_type": "code",
   "execution_count": 71,
   "metadata": {
    "slideshow": {
     "slide_type": "skip"
    }
   },
   "outputs": [
    {
     "data": {
      "image/png": "[encoded data removed]",
      "text/latex": [
       "$\\displaystyle 1$"
      ],
      "text/plain": [
       "1"
      ]
     },
     "execution_count": 71,
     "metadata": {},
     "output_type": "execute_result"
    }
   ],
   "source": [
    "sp.init_printing(use_latex = True)\n",
    "\n",
    "kappa = sp.symbols(\"k\", positive = True)\n",
    "expression = (1-sp.exp(-kappa))/kappa\n",
    "sp.limit(expression, kappa, 0)"
   ]
  },
  {
   "cell_type": "markdown",
   "metadata": {
    "slideshow": {
     "slide_type": "subslide"
    }
   },
   "source": [
    "## Bump Size for Delta in a Derivative\n",
    "\n",
    "How should you choose the $h$ so that the following finite difference approximation is the most accurate?\n",
    "\n",
    "$$ f'(x) \\approx \\frac{1}{h}(f(x+h) - f(x)) $$\n",
    "\n",
    "Often, the best $h$ is when truncation error equals to the rounding error:\n",
    "\n",
    "$$ \\frac{1}{2} f''(x) h^2 = f(x) \\epsilon_m $$\n",
    "\n",
    "Thus the \"optimal\" would be $h^* = \\sqrt{\\frac{2 f(x)\\epsilon_m}{f''(x)}} $. "
   ]
  },
  {
   "cell_type": "markdown",
   "metadata": {},
   "source": [
    "   <p>&nbsp;</p>"
   ]
  },
  {
   "cell_type": "code",
   "execution_count": 72,
   "metadata": {
    "slideshow": {
     "slide_type": "skip"
    }
   },
   "outputs": [
    {
     "data": {
      "image/png": "[encoded data removed]",
      "text/plain": [
       "<Figure size 576x360 with 1 Axes>"
      ]
     },
     "metadata": {
      "needs_background": "light"
     },
     "output_type": "display_data"
    }
   ],
   "source": [
    "import numpy as np\n",
    "\n",
    "def f(x):\n",
    "    return np.exp(x)\n",
    "\n",
    "def g(x):\n",
    "    return np.exp(x)\n",
    "\n",
    "def g2(x):\n",
    "    delta = 1e-4\n",
    "    return (f(x+delta) + f(x-delta) - 2*f(x))/delta/delta\n",
    "\n",
    "x = 1.\n",
    "hs = 10.**np.arange(-12., -3., .05)\n",
    "\n",
    "fd = [(f(x+h)-f(x))/h for h in hs] # forward difference\n",
    "fd2 = [.5*(f(x+h)-f(x-h))/h for h in hs] # central difference\n",
    "e1 = abs(fd - g(x))\n",
    "e2 = abs(fd2 - g(x))\n",
    "ho = np.sqrt(2.*f(x)*prec64/g2(x))\n",
    "\n",
    "plt.figure(figsize=(8,5))\n",
    "plt.loglog(hs, e1, '.-')\n",
    "plt.loglog(hs, e2, '.-')\n",
    "plt.axvline(x=ho, color='r')\n",
    "plt.legend([\"Forward Difference\", \"Central Difference\", '\"Optimal\"'])\n",
    "plt.xlabel(\"BumpSize\")\n",
    "plt.ylabel(\"Error\");"
   ]
  },
  {
   "cell_type": "markdown",
   "metadata": {
    "slideshow": {
     "slide_type": "subslide"
    }
   },
   "source": [
    "However, in this case we are better off using central difference (which is a different numerical approximation of the derivative):\n",
    "\n",
    "$$ f'(x) \\approx \\frac{1}{2h}\\left(f(x+h) - f(x-h)\\right) $$"
   ]
  },
  {
   "cell_type": "markdown",
   "metadata": {
    "slideshow": {
     "slide_type": "subslide"
    }
   },
   "source": [
    "# Condition number\n",
    "Consider the relative error of a function with multiple arguments: $f = f(x_1, ..., x_n)$:\n",
    "\n",
    "$$\n",
    "\\small\n",
    "df = \\sum_i \\frac{\\partial f}{\\partial x_i} dx_i \\iff\n",
    "\\frac{df}{f} = \\sum_i \\frac{x_i}{f}\\frac{\\partial f}{\\partial x_i} \\frac{dx_i}{x_i}\n",
    "$$\n",
    "\n",
    "Assuming input argument's relative errors are $\\epsilon_i$ (could be negative):\n",
    "\n",
    "$$\n",
    "\\small\n",
    "\\left| \\frac{\\Delta f}{f} \\right| = \\left| \\sum_i \\frac{x_i}{f}\\frac{\\partial f}{\\partial x_i} \\epsilon_i \\right|\n",
    "\\le \\sum_i \\left| \\frac{x_i}{f}\\frac{\\partial f}{\\partial x_i} \\right| \\left|\\epsilon_i\\right| \\le \\sum_i \\left| \\frac{x_i}{f}\\frac{\\partial f}{\\partial x_i} \\right| \\epsilon_m \\equiv k(f) \\epsilon_m\n",
    "$$\n",
    "\n",
    "where $\\epsilon_m$ is the maximum relative error of all inputs. \n",
    "\n",
    "* $k(f) = \\sum_i \\left| \\frac{x_i}{f}\\frac{\\partial f}{\\partial x_i} \\right|$ is defined as the condition number of a **function**, \n",
    "* it is the maximum growth factor of the relative error.\n",
    "* the calculation loses about $\\log_{10}(k(f))$ decimal digits of accuracy."
   ]
  },
  {
   "cell_type": "markdown",
   "metadata": {
    "slideshow": {
     "slide_type": "subslide"
    }
   },
   "source": [
    " ## Well-posed and ill-posed problems\n",
    " \n",
    " Condition number is the systematic approach to detect potential numerical problems:\n",
    " \n",
    " Example 1:\n",
    " * $f(x_1, x_2) = x_1 - x_2$ \n",
    " \n",
    "   $k(f) = \\frac{|x_1| + |-x_2|}{|x_1 - x_2|}$, ill conditioned when $x_1 \\approx x_2$, catastrophic cancellation\n",
    "   \n",
    "   \n",
    "   "
   ]
  },
  {
   "cell_type": "markdown",
   "metadata": {
    "slideshow": {
     "slide_type": "subslide"
    }
   },
   "source": [
    "   \n",
    "Example 2:   \n",
    " * $f(x_1, x_2) = x_1 x_2$ \n",
    " \n",
    "$$ k(f) = = \\sum_i \\left| \\frac{x_i}{f}\\frac{\\partial f}{\\partial x_i} \\right| = \\frac{|x_1 x_2 + x_2 x_1|}{x_1 x_2} $$\n",
    " \n",
    "therefore, $k(f) = 2$, the multiplication is well conditioned"
   ]
  },
  {
   "cell_type": "markdown",
   "metadata": {
    "slideshow": {
     "slide_type": "subslide"
    }
   },
   "source": [
    "\n",
    "Conclusion\n",
    "\n",
    "The problem is ill-posed if its condition number is large.\n",
    "\n",
    "* In practice, however, it is impossible to run condition number analysis over complicated calculations:\n",
    "* We have to rely upon monitoring and testing"
   ]
  },
  {
   "cell_type": "markdown",
   "metadata": {
    "slideshow": {
     "slide_type": "subslide"
    }
   },
   "source": [
    "## Even a well-posed problem can be unstable\n",
    "\n",
    "Consider the previous example of $f(x) = \\frac{1}{x^2}(1-\\cos(x))$:\n",
    "\n",
    "$$\n",
    "k(f) = \\left|\\, 2 + \\frac{x \\sin{\\left (x \\right )}}{\\cos{\\left (x \\right )} - 1} \\, \\right|\n",
    "$$\n",
    "\n",
    " * $k(f) \\rightarrow \\infty$, it is ill-posed near $x = 2\\pi$ due to catastrophic cancellation.\n",
    " * $k(f) \\rightarrow 0$, it is well-posed near $x = 0$."
   ]
  },
  {
   "cell_type": "markdown",
   "metadata": {
    "slideshow": {
     "slide_type": "subslide"
    }
   },
   "source": [
    "A numerical algorithm can be unstable even if the problem itself is well-posed.\n",
    " * A better algorithm near $x=0$ is $f(x) = \\frac{2}{x^2}\\sin^2(\\frac{x}{2})$ \n",
    " "
   ]
  },
  {
   "cell_type": "markdown",
   "metadata": {
    "slideshow": {
     "slide_type": "subslide"
    }
   },
   "source": [
    "But an ill-posed problem is **always** numerically unstable by definition.\n"
   ]
  }
 ],
 "metadata": {
  "hide_input": false,
  "kernelspec": {
   "display_name": "Python 3 (ipykernel)",
   "language": "python",
   "name": "python3"
  },
  "language_info": {
   "codemirror_mode": {
    "name": "ipython",
    "version": 3
   },
   "file_extension": ".py",
   "mimetype": "text/x-python",
   "name": "python",
   "nbconvert_exporter": "python",
   "pygments_lexer": "ipython3",
   "version": "3.7.4"
  },
  "toc": {
   "base_numbering": 1,
   "nav_menu": {},
   "number_sections": true,
   "sideBar": true,
   "skip_h1_title": false,
   "title_cell": "Table of Contents",
   "title_sidebar": "Contents",
   "toc_cell": false,
   "toc_position": {},
   "toc_section_display": true,
   "toc_window_display": false
  },
  "varInspector": {
   "cols": {
    "lenName": 16,
    "lenType": 16,
    "lenVar": 40
   },
   "kernels_config": {
    "python": {
     "delete_cmd_postfix": "",
     "delete_cmd_prefix": "del ",
     "library": "var_list.py",
     "varRefreshCmd": "print(var_dic_list())"
    },
    "r": {
     "delete_cmd_postfix": ") ",
     "delete_cmd_prefix": "rm(",
     "library": "var_list.r",
     "varRefreshCmd": "cat(var_dic_list()) "
    }
   },
   "types_to_exclude": [
    "module",
    "function",
    "builtin_function_or_method",
    "instance",
    "_Feature"
   ],
   "window_display": false
  },
  "vscode": {
   "interpreter": {
    "hash": "be60bb5fd22e76771b67818329a3d56c024a7ed6d0249a1f31be4c971f5627eb"
   }
  }
 },
 "nbformat": 4,
 "nbformat_minor": 1
}
