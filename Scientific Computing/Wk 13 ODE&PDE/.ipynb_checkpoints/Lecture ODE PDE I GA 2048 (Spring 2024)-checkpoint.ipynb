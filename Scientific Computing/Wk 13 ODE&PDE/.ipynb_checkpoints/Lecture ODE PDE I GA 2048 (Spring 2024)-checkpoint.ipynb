{
 "cells": [
  {
   "cell_type": "code",
   "execution_count": 1,
   "metadata": {
    "slideshow": {
     "slide_type": "skip"
    }
   },
   "outputs": [],
   "source": [
    "import matplotlib.pyplot as plt"
   ]
  },
  {
   "cell_type": "markdown",
   "metadata": {
    "slideshow": {
     "slide_type": "slide"
    }
   },
   "source": [
    "# Numerical Methods for Ordinary Differential Equations and Partial Differential Equations\n",
    "\n",
    "## Topics\n",
    "\n",
    "* I. Introduction\n",
    "    * Cauchy-Lipschitz (Picard-Lindelof) Theorem    \n",
    "    \n",
    "* II. Examples in Finance\n",
    "    * Black-Scholes Equation\n",
    "    * Affine Term-structure model\n",
    "    \n",
    "* III. Numerical Methods\n",
    "    * Finite Difference Methods\n",
    "    * The Euler's Methods\n",
    "    * Consistency, Stability and Convergence\n",
    "    * The Backward Euler's Methods\n",
    "    * The Crank-Nicholson Method\n",
    "    * The Runge-Kutta Method\n",
    "    \n",
    "* IV. Numerical Examples in Python\n",
    "\n",
    "* V. Introduction to PDE in Finance"
   ]
  },
  {
   "cell_type": "markdown",
   "metadata": {},
   "source": [
    "# References\n",
    "\n",
    "* [Finite Difference Methods in Financial Engineering: A Partial Differential Equation Approach, Daniel J. Duffie](https://www.amazon.com/Finite-Difference-Methods-Financial-Engineering/dp/0470858826)\n",
    "* J. Stoer and R. Bulirsch, Chapter 7 of Introduction to Numerical Analysis, Second Edition, Springer, 1993.\n",
    "* J. Guyon and P. Henry-Labordere, Nonlinear Option Pricing, Chapman \\& hall/CRC, 2014.\n",
    "* A. Cartea, S. Jaimungal and J. Penalva, Algorithmic and High-Frequency Trading, Cambridge University Press, 2018."
   ]
  },
  {
   "cell_type": "markdown",
   "metadata": {
    "slideshow": {
     "slide_type": "slide"
    }
   },
   "source": [
    "# I. Introduction\n",
    "\n",
    "\n",
    "* The initial value problem (IVP) of a general **first** order ordinary differential equation (ODE) \n",
    "\n",
    "$$\n",
    "y' = f(t,y), \\;\\; y(t_0) = y_0\n",
    "$$\n",
    "\n",
    "* The integral formulation\n",
    "\n",
    "$$\n",
    "y(t) = y_0 + \\int_{t_0}^t f(s,y(s)) \\; ds\n",
    "$$\n",
    "\n",
    "* If $f(t,y)$ is independent of $y$, solving the ODE is simply an integration. \n",
    "\n",
    "* In general, the integral equation is not any easier to solve.\n",
    "\n",
    "* If $f(t,y)$ is independent of $t$, the ODE is said to be **autonomous**\n",
    "\n",
    "\n",
    "\n",
    "\n"
   ]
  },
  {
   "cell_type": "markdown",
   "metadata": {
    "slideshow": {
     "slide_type": "subslide"
    }
   },
   "source": [
    "* If $y$ and $f$ are vectors, this becomes a system of first order ODEs\n",
    "\n",
    "$$\n",
    "\\renewcommand{bs}{\\boldsymbol}\n",
    "\\renewcommand{by}{\\boldsymbol{y}}\n",
    "\\renewcommand{bf}{\\boldsymbol{f}}\n",
    "\\by' = \\bf(t, \\by), \\;\\; \\by(t_0) = \\by_0\n",
    "$$\n",
    "\n",
    "* General $n^{th}$ order ODE\n",
    "\n",
    "$$\n",
    "y^{(n)}(t) = f(t,y(t),y'(t), \\cdots, y^{(n-1)}(t))\n",
    "$$\n",
    "\n",
    "* Can be converted into a system of first order ODEs\n",
    "\n",
    "$$\n",
    "\\bs{z}' = \\bs{g}(t, \\bs{z})\n",
    "$$\n",
    "\n",
    "$\\hspace{0.3in}$ where \n",
    "\n",
    "$$\n",
    "\\begin{matrix}\n",
    "\\bs{z} =  \\left[\n",
    "\\begin{matrix}\n",
    "y(t) \\\\\n",
    "y'(t) \\\\\n",
    "\\vdots \\\\\n",
    "y^{(n-1)}(t) \n",
    "\\end{matrix}\n",
    "\\right], \\;\\; \\mbox{and} \\;\\;\n",
    "\\end{matrix}\n",
    "\\begin{matrix}\n",
    "\\bs{g}(t, \\bs{z}) =  \\left[\n",
    "\\begin{matrix}\n",
    "y'(t) \\\\\n",
    "y''(t) \\\\\n",
    "\\vdots \\\\\n",
    "y^{(n-1)}(t) \\\\\n",
    "f(t,y(t),y'(t), \\cdots, y^{(n-1)}(t))\n",
    "\\end{matrix}\n",
    "\\right]\n",
    "\\end{matrix}\n",
    "$$\n",
    "\n"
   ]
  },
  {
   "cell_type": "markdown",
   "metadata": {
    "slideshow": {
     "slide_type": "subslide"
    }
   },
   "source": [
    "## Cauchy-Lipschitz Theorem\n",
    "\n",
    "Also called [Picard-Lindelof](https://en.wikipedia.org/wiki/Picard%E2%80%93Lindel%C3%B6f_theorem) theorem or Picard's existence theorem, or existence and uniqueness theorem.\n",
    "\n",
    "* Interesting things one want to know about the IVP of the general first order systems of ODE:\n",
    "\n",
    "    * 1) Is there a solution?\n",
    "\n",
    "    * 2) Is the solution unique?\n",
    "\n",
    "    * 3) Is the solution sensitive to the data?\n",
    "\n",
    "    * 4) How to solve for the solution?\n",
    "    \n",
    "\n",
    "* **Picard's theorem**:\n",
    "If $f(t,y)$ is **Lipschitz continuous** in $y$ in a neighborhood of $(t_0, y(t_0))$, then the IVP of the ODE has a unique solution in the neighborhood.\n",
    "\n",
    "In particular, if $f$ is $\\mathcal{C}^1$, then the theorem is applicable.\n"
   ]
  },
  {
   "cell_type": "markdown",
   "metadata": {
    "slideshow": {
     "slide_type": "slide"
    }
   },
   "source": [
    "# II. Examples in Finance\n",
    "\n",
    "### **Black-Scholes** equation\n",
    "\n",
    "$$\n",
    "C_t = \\frac{1}{2}\\sigma^2S^2C_{SS} + rSC_S - rC\n",
    "$$\n",
    "\n",
    "Define the Laplace transform of option price function $C(t,S)$ as\n",
    "\n",
    "$$\n",
    "\\renewcommand{hC}{\\hat{C}}\n",
    "\\hC(z,S) := \\mathcal{L}[C](z) = \\int_{0}^{\\infty}C(t,S)e^{-zt} \\; dt\n",
    "$$\n",
    "\n",
    "Taking the Laplace transform of the Black-Scholes equation,\n",
    "\n",
    "$$\n",
    "z\\hC = \\frac{1}{2}\\sigma^2S^2 \\hC_{SS} + rS \\hC_S - r \\hC + C_0\n",
    "$$\n",
    "\n",
    "Here $C_0$ is the time reversed payoff condition (*).\n",
    "\n",
    "So one way to solve Black-Scholes is to solve an ODE and then invert the Laplace Transform.\n",
    "\n"
   ]
  },
  {
   "cell_type": "markdown",
   "metadata": {
    "slideshow": {
     "slide_type": "subslide"
    }
   },
   "source": [
    "\n",
    "### Affine Term Structure model\n",
    "\n",
    "Assume the short rate is affine under the risk-neutral measure\n",
    "\n",
    "$$\n",
    "dr_t = \\kappa(\\theta-r_t)dt + \\sqrt{\\sigma_1 +\\sigma_2 r_t}\\;dW_t\n",
    "$$\n",
    "\n",
    "Then bond prices $P(t,T) = P(t,r_t) = E_t\\left[e^{-\\int_t^T r_u du}\\right]$ are solution to the PDE:\n",
    "\n",
    "$$\n",
    "\\partial_t P  + \\kappa(\\theta - r) \\partial_r P + \\frac{1}{2}(\\sigma_1 +\\sigma_2 r)\\partial_{rr} P -rP = 0\n",
    "$$\n",
    "\n",
    "with $P(T,T) = 1$. Looking for solution in the form \n",
    "\n",
    "$$\n",
    "P(r,t,T) = e^{A(T-t) - B(T-t)r},\n",
    "$$\n",
    "\n",
    "we find that $A(\\cdot), B(\\cdot)$ solve the following system of ODE\n",
    "\n",
    "\\begin{aligned}\n",
    "-B' & = \\frac{1}{2}\\sigma_2B^2 + \\kappa B - 1\n",
    "\\\\\n",
    " A' & = \\frac{1}{2}\\sigma_1B^2 - \\kappa \\theta B\n",
    "\\end{aligned}\n",
    "with $A(0) = B(0) = 0$.\n",
    "\n"
   ]
  },
  {
   "cell_type": "markdown",
   "metadata": {
    "slideshow": {
     "slide_type": "slide"
    }
   },
   "source": [
    "# III. Numerical Methods \n",
    "\n",
    "* Will focus on **Finite Difference Methods**(FDM) here.\n",
    "\n",
    "\n",
    "* Other methods for ODE/PDEs: Finite element methods, Spectral Methods, etc.\n",
    "\n",
    "\n",
    "* All methods for IVP of ODE are recursions that generate $y^{n+1}$ from previous $y^n$ together with evaluating the function $f(t, y)$ a few times around $t^n$.\n",
    "\n",
    "\n",
    "\n"
   ]
  },
  {
   "cell_type": "markdown",
   "metadata": {
    "slideshow": {
     "slide_type": "subslide"
    }
   },
   "source": [
    "\n",
    "## Finite Difference Methods(FDM)\n",
    "\n",
    "Employing finite difference method typically means:\n",
    "\n",
    "1) Generate a grid of points $(t_k, y_i)$ where we want to find the solutions\n",
    "\n",
    "2) Substitute the derivatives in ODE/PDE with finite difference schemes, which converts the ODE/PDE into a system of algebraic equations.\n",
    "\n",
    "3) Solve the system of algebraic equations.\n",
    "\n",
    "4) Implement and debug the compute code.\n",
    "\n",
    "5) Perform sanity check, error analysis, sensitivity analysis, etc, by any available means: intuitively, analytically or numerically.\n",
    "\n",
    "\n",
    "\n"
   ]
  },
  {
   "cell_type": "markdown",
   "metadata": {
    "slideshow": {
     "slide_type": "subslide"
    }
   },
   "source": [
    "## The Euler's Method \n",
    "\n",
    "* Approximate the first derivative by the forward difference formula\n",
    "\n",
    "$$\n",
    "\\mathcal{D}_+y(t) = \\frac{y(t+h)-y(t)}{h}  = y'(t) + O(h)\n",
    "$$\n",
    "\n",
    "* The one step (forward) Euler's method:\n",
    "\n",
    "$$\n",
    "\\frac{y^{n+1} - y^n}{h}  = f(t^n, y^n);\n",
    "$$\n",
    "\n",
    "* or\n",
    "\n",
    "$$\n",
    "y^{n+1} = y^n  + h f(t^n, y^n).\n",
    "$$\n",
    "\n",
    "* The method is **explicit**, we do not need to solve any equations.\n"
   ]
  },
  {
   "cell_type": "markdown",
   "metadata": {
    "slideshow": {
     "slide_type": "subslide"
    }
   },
   "source": [
    "## Consistency, Stability and Convergence\n",
    "\n",
    "* For any FDM that are employed to solve practical problems, we should ask\n",
    "\n",
    "    * 1) How accurate is the method?\n",
    "    * 2) Does it converge?\n",
    "    * 3) What is the best choice of step sizes?\n",
    "\n",
    "\n"
   ]
  },
  {
   "cell_type": "markdown",
   "metadata": {
    "slideshow": {
     "slide_type": "subslide"
    }
   },
   "source": [
    "### Local Truncation Error \n",
    "\n",
    "* Defined as the amount by which the exact solution does not satisfy the numerical scheme.\n",
    "\n",
    "\n",
    "* Just plug the exact values of the functions/variable into the FDM scheme and calculate the error, for Euler scheme, this is,\n",
    "\n",
    "\n",
    "\\begin{aligned}\n",
    "\\small\n",
    "\\mathcal{N}_h y(t^n) & = y(t^{n+1}) - y(t^n)  - h f(t^n, y(t^n))\n",
    "\\\\\n",
    "    & = y(t^{n}+h) - y(t^n)  - h f(t^n, y(t^n))\n",
    "\\\\\n",
    "    & = \\left( y(t^n) + hy'(t^n) + \\frac{h^2}{2}y''(t^n)+ \\cdots \\right) - y(t^n)  - h f(t^n, y(t^n))\n",
    "\\\\\n",
    "    & = \\frac{h^2}{2}y''(t^n) + O(h^3).\n",
    "\\end{aligned}\n",
    "\n",
    "   $\\\\$ where we used the exact ODE equation $y'(t^n) = f(t^n, y(t^n))$.\n",
    "\n",
    "\n"
   ]
  },
  {
   "cell_type": "markdown",
   "metadata": {
    "slideshow": {
     "slide_type": "subslide"
    }
   },
   "source": [
    "### Consistency \n",
    "\n",
    "* An FDM is **consistent** if the local truncation error goes to 0 as the step size goes to 0.\n",
    "\n",
    "\n",
    "* An FDM is **consistent with order $q>1$** if $|\\mathcal{N}_h y(t^n) | = O(h^q)$.\n",
    "\n",
    "\n",
    "* The Euler method is consistent with the second order.\n",
    "\n",
    "\n"
   ]
  },
  {
   "cell_type": "markdown",
   "metadata": {
    "slideshow": {
     "slide_type": "subslide"
    }
   },
   "source": [
    "### \"Consistently Insufficient\"\n",
    "\n",
    "* Turns out being consistent is not enough.\n",
    "\n",
    "\n",
    "* Consider the model (for analyzing stability) ODE\n",
    "$$\n",
    "y'(t) = \\lambda y(t), \\; y(0) = 1.0, \\; \\lambda < 0.\n",
    "$$\n",
    "\n",
    "\n",
    "* Applying the Euler's method, gives:\n",
    "\n",
    "$$\n",
    "y^{n+1} = y^n + \\lambda y^n h = ( 1 + \\lambda h) y^n = ( 1 + \\lambda h)^2 y^{n-1} = \\cdots \\bs{\\leadsto}\n",
    "$$\n",
    "$$\n",
    "y^n =  ( 1 + \\lambda h)^n \n",
    "$$\n",
    "\n"
   ]
  },
  {
   "cell_type": "markdown",
   "metadata": {
    "slideshow": {
     "slide_type": "subslide"
    }
   },
   "source": [
    "\n",
    "* The solution will explode if $|1+\\lambda h| > 1$. For example, when $\\lambda = -10$ and $h = 0.25$.\n",
    "\n",
    "\n",
    "* While the exact solution of the problem is $y(t) = e^{\\lambda t}$, which decays exponentially with $\\lambda <0$.\n",
    "\n",
    "\n",
    "* The problem is with error propagation of the FDM, we need more..."
   ]
  },
  {
   "cell_type": "markdown",
   "metadata": {
    "slideshow": {
     "slide_type": "subslide"
    }
   },
   "source": [
    "### Stability\n",
    "\n",
    "* We need one more property: **zero-stability**\n",
    "\n",
    "\n",
    "* A method is called **zero-stable** if there are constants $h_0$ and $K$ such that for any mesh functions $y_h$ and $z_h$ on an interval $[0,T]$ , then for $h \\leq h_0$,\n",
    "\n",
    "$$\n",
    "|y^n - z^n| \\leq K |y^0 - z^0| \n",
    "$$\n",
    "or the weaker version\n",
    "$$\n",
    "|y^n - z^n| \\leq K\\left\\{ |y^0 - z^0| + \\max_{1 \\leq j \\leq N} | \\mathcal{N}_h y(t^j) - \\mathcal{N}_h z(t^j) | \\right\\}\n",
    "$$\n",
    "for $1 \\leq n \\leq N$.\n",
    "\n",
    "\n"
   ]
  },
  {
   "cell_type": "markdown",
   "metadata": {
    "slideshow": {
     "slide_type": "subslide"
    }
   },
   "source": [
    "\n",
    "* Zero-stability essentially says errors (e.g. roundoff errors, function evaluation errors) introduced in any step does not get magnified later on.\n",
    "\n",
    "\n",
    "* One-step FDM can be shown to be zero-stable given sufficiently small step size and if $f$ is Lipschitz continuous in $y$."
   ]
  },
  {
   "cell_type": "markdown",
   "metadata": {
    "slideshow": {
     "slide_type": "subslide"
    }
   },
   "source": [
    "### Consistency + Stability = Convergence\n",
    "\n",
    "* An FDM  is said to be **convergent with order $p > 0$ **, or to have the order of accuracy $p$, if for any finite $T$ for which the ODE has  a solution,\n",
    "\n",
    "$$\n",
    "|y^n  - y(t^n)| = O(h^p), \\;\\; \\forall 0 \\leq n \\leq T/h.\n",
    "$$\n",
    "\n",
    "\n",
    "* A central theorem in numerical method for differential equations is the [**Lax equivalence theorem**](https://en.wikipedia.org/wiki/Lax_equivalence_theorem): $\\;\\;$Any consistent method is convergent if and only if it is zero-stable or\n",
    "\n",
    "$$\n",
    "\\mbox{consistency + stability = convergence}\n",
    "$$\n",
    "\n"
   ]
  },
  {
   "cell_type": "markdown",
   "metadata": {
    "slideshow": {
     "slide_type": "subslide"
    }
   },
   "source": [
    "\n",
    "* For the Euler method, the stability can be satisfied if the time step satisfies the **stability criterion**\n",
    "\n",
    "$$\n",
    "|1+\\lambda h| \\leq 1 \\Longrightarrow  0 < h < -\\frac{2}{\\lambda }.\n",
    "$$\n",
    "\n",
    "\n",
    "* This condition is often referred to as the **CFL ([Courant-Friedrichs–Lewy](https://en.wikipedia.org/wiki/Courant%E2%80%93Friedrichs%E2%80%93Lewy_condition))** condition."
   ]
  },
  {
   "cell_type": "markdown",
   "metadata": {
    "slideshow": {
     "slide_type": "subslide"
    }
   },
   "source": [
    "### Absolute Stability\n",
    "\n",
    "* The Euler's method is said to be **conditionally stable**.\n",
    "\n",
    "\n",
    "* Its **region of absolute stability** is defined as the set of complex numbers $z = \\lambda h$, such that the FDM solution decays to 0, that is\n",
    "\n",
    "$$\n",
    "|1+\\lambda h| = |1+z| = |z - (-1)| \\leq 1,\n",
    "$$\n",
    "\n",
    "amounts to a unit disk with radius 1 and center $(-1,0)$.\n",
    "\n",
    "\n",
    "* An FDM is called **A-Stable** or **unconditionally stable** if its region of absolute stability is the entire negative left half plan, i.e. $\\Re{z} < 0$.\n",
    "\n"
   ]
  },
  {
   "cell_type": "markdown",
   "metadata": {},
   "source": [
    "## Additional remark\n",
    "\n",
    "In the simple case $y' =y$, when we look to estimate the solution only for $t\\in[0,T]$, and discretize as $h = \\frac{T}{N}$ then\n",
    "$$y_N = \\left(1+\\lambda \\frac{T}{N}\\right)^N \\to e^{\\lambda T} \\;\\;as \\; N \\to +\\infty$$\n",
    "\n",
    "an intermediary points $t_n = n \\frac{T}{N}$ will be estimated as\n",
    "$$ y(t_n) \\approx y_n = \\left(1+\\lambda \\frac{T}{N}\\right)^n = \\left(1+\\lambda \\frac{t_n}{n}\\right)^n $$\n"
   ]
  },
  {
   "cell_type": "markdown",
   "metadata": {
    "slideshow": {
     "slide_type": "subslide"
    }
   },
   "source": [
    "## The backward Euler's Method \n",
    "\n",
    "* The one step backward Eulers method:\n",
    "\n",
    "$$\n",
    "\\frac{y^{n+1} - y^n}{h}  = f(t^{n+1}, y^{n+1})\\; \\Longrightarrow \\;\n",
    "y^{n+1} = y^n  + h f(t^{n+1}, y^{n+1}).\n",
    "$$\n",
    "\n",
    "* The method is **implicit**: if $f(t,y)$ is nonlinear, we would have to solve a nonlinear equation to get $y^{n+1}$.\n",
    "\n",
    "* The local truncation error is\n",
    "\n",
    "\\begin{aligned}\n",
    "\\mathcal{N}_h y(t^n) & = y(t^{n+1}) - y(t^n)  - h f(t^{n+1}, y(t^{n+1}))\n",
    "\\\\\n",
    "    & = y(t^{n+1}) - y(t^{n+1}-h)  - h f(t^{n+1}, y(t^{n+1}))\n",
    "\\\\\n",
    "    & = -\\frac{h^2}{2}y''(t^{n+1}) + O(h^3).\n",
    "\\end{aligned}\n"
   ]
  },
  {
   "cell_type": "markdown",
   "metadata": {
    "slideshow": {
     "slide_type": "subslide"
    }
   },
   "source": [
    "\n",
    "* Set $f(t,y) = \\lambda y$, then \n",
    "\n",
    "$$\n",
    "y^{n+1} = y^n + h\\lambda y^{n+1}, \\Longrightarrow y^{n+1} =\\frac{1}{1-h\\lambda}y^n\n",
    "$$\n",
    "\n",
    "* The CFL condition is $\\frac{1}{1-h\\lambda} \\leq 1$, which is always satisfied with $h > 0, \\lambda < 0$, so it is A-Stable."
   ]
  },
  {
   "cell_type": "markdown",
   "metadata": {
    "slideshow": {
     "slide_type": "subslide"
    }
   },
   "source": [
    "## The Crank-Nicholson Method \n",
    "\n",
    "* Both Euler's method are of first order, Crank-Nicholson (also called **Trapezoidal method**) is second order:\n",
    "\n",
    "$$\n",
    "\\frac{y^{n+1} - y^n}{h}  = \\frac{1}{2}\\left( f(t^n, y^n) + f(t^{n+1}, y^{n+1}) \\right)\\; \\Longrightarrow \\;\n",
    "$$\n",
    "$$\n",
    "y^{n+1} = y^n  + \\frac{h}{2}\\left( f(t^n, y^n) + f(t^{n+1}, y^{n+1}) \\right).\n",
    "$$\n",
    "\n",
    "* The local truncation error is\n",
    "\n",
    "\\begin{aligned}\n",
    "\\mathcal{N}_h y(t^n) & = y(t^{n+1}) - y(t^n)  - \\frac{h}{2}\\left( f(t^n, y^n) + f(t^{n+1}, y^{n+1}) \\right).\n",
    "\\\\\n",
    "    & = -\\frac{h^3}{6}y'''(t^{n+1/2}) + O(h^4).\n",
    "\\end{aligned}"
   ]
  },
  {
   "cell_type": "markdown",
   "metadata": {
    "slideshow": {
     "slide_type": "subslide"
    }
   },
   "source": [
    "* Set $f(t,y) = \\lambda y$,\n",
    "\n",
    "$$\n",
    "y^{n+1} =\\frac{1+h\\lambda}{1-h\\lambda}y^n\n",
    "$$\n",
    "\n",
    "\n",
    "* The CFL condition is $|\\frac{1+h\\lambda}{1-h\\lambda} |\\leq 1$, which is always satisfied with $h > 0, \\lambda < 0$, so it is also unconditionally stable."
   ]
  },
  {
   "cell_type": "markdown",
   "metadata": {
    "slideshow": {
     "slide_type": "subslide"
    }
   },
   "source": [
    "## The Runge-Kutta Method \n",
    "\n",
    "* The Crank-Nicholson method is implicit, to make it explicit, we can approximate $y^{n+1}$ in right hand side using the forward Euler's method, and this gets us to the simplest explicit Runge-Kutta method (usually called the Heun's method)\n",
    "\n",
    "\\begin{aligned}\n",
    "y^* & = y^n  + h f(t^n, y^n)\n",
    "\\\\\n",
    "y^{n+1} & = y^n  + \\frac{h}{2}\\left( f(t^n, y^n) + f(t^{n+1}, y^*) \\right).\n",
    "\\end{aligned}\n",
    "\n",
    "* The method is second order, but only conditionally stable.\n",
    "\n",
    "* This is an example of a powerful class of mulit-step methods called **predictor-corrector** methods: the forward Euler as the predictor and the Crank-Nicholson is the corrector."
   ]
  },
  {
   "cell_type": "markdown",
   "metadata": {
    "slideshow": {
     "slide_type": "subslide"
    }
   },
   "source": [
    "\n",
    "* The classical Runge-Kutta scheme is the RK4, based on Simpson's integral formula\n",
    "\n",
    "\\begin{aligned}\n",
    "K_0 & = f(t^n, y^n)\n",
    "\\\\\n",
    "K_1 & = f(t^n + \\frac{h}{2}, y^n + \\frac{h}{2} K_0)\n",
    "\\\\\n",
    "K_2 & = f(t^n + \\frac{h}{2}, y^n + \\frac{h}{2} K_1)\n",
    "\\\\\n",
    "K_3 & = f(t^n + h, y^n + hK_2)\n",
    "\\\\\n",
    "y^{n+1} & = y^n  + \\frac{h}{6}\\left( K_0 + 2K_1 + 2K_2 + K_3 \\right).\n",
    "\\end{aligned}\n",
    "\n",
    "* The method is fourth-order accurate and conditionally stable.\n"
   ]
  },
  {
   "cell_type": "markdown",
   "metadata": {
    "slideshow": {
     "slide_type": "subslide"
    }
   },
   "source": [
    "## Stiff ODEs\n",
    "\n",
    "* ODEs with rapidly decaying transients or with varying time scales often presents huge problems for numerical methods which are not A-Stable.\n",
    "\n",
    "* Example:\n",
    "$$\n",
    "y'(t) = -50[y(t) - t] + 1, \\;\\; y(0) = 1;\n",
    "$$\n",
    "\n",
    "\n",
    "* The solution to the problem can be found exactly: $y(t) = e^{-50t} + t$. It has a slow varying part $t$ and a rapidly decaying part $e^{-50t}$.\n",
    "\n",
    "\n",
    "* Using the explicit Euler's method requires a time step $h<2/50 = 0.04 << 1$, i.e. many time steps before reaching the reasonable solution.\n",
    "\n",
    "\n",
    "* For stiff ODEs, you either choose really small step size with explicit method (very inefficient!) or choose an A-Stable method (it will cost more in each step)."
   ]
  },
  {
   "cell_type": "markdown",
   "metadata": {
    "slideshow": {
     "slide_type": "slide"
    }
   },
   "source": [
    "# IV. Numerical Examples in Python\n",
    "\n",
    "* scipy.integrate contains a collection of ODE solvers: mostly wrapped around the matured software package ODEPACK (A Fortran ODE solver package). New updates are available (please check).\n",
    "\n",
    "* Integrating \"Van der Pol Oscillator\" using odeint in scipy:\n",
    "\n",
    "\n",
    "\n"
   ]
  },
  {
   "cell_type": "code",
   "execution_count": 2,
   "metadata": {},
   "outputs": [
    {
     "data": {
      "image/png": "[encoded data removed]",
      "text/plain": [
       "<Figure size 1200x400 with 2 Axes>"
      ]
     },
     "metadata": {},
     "output_type": "display_data"
    }
   ],
   "source": [
    "import numpy as np\n",
    "from scipy.integrate import odeint\n",
    "\n",
    "r = 0.1\n",
    "def f(y,t):\n",
    "    return [y[1], r*(1 - y[0]*y[0])*y[1] - y[0]]\n",
    "\n",
    "# initial value\n",
    "y0 = [2.0, 1.]\n",
    "\n",
    "n = 10000\n",
    "T = 3.0*r\n",
    "h = T/n\n",
    "# print h\n",
    "ts = np.arange(0.0001,T, h)\n",
    "ys = odeint(f, y0, ts)\n",
    "   \n",
    "fig = plt.figure(figsize=[12, 4])\n",
    "plt.subplot(1, 2, 1)\n",
    "plt.plot(ts, ys[:, :], '.-')  \n",
    "plt.xlabel('Time')\n",
    "plt.title('odeint')\n",
    "\n",
    "ax = fig.add_subplot(122)\n",
    "ax.set_axis_off()\n",
    "ax.text(0, .5, \"$\\;\\; y' = \\mu (1-x^2)y - x$ \", size=\"xx-large\");\n",
    "ax.text(0, .6, \"$\\;\\; x' = y$\", size=\"xx-large\");\n",
    "ax.text(0, .75, \"Integrating Van der Pol system\", size=\"x-large\");\n",
    "\n",
    "plt.show()\n",
    "\n"
   ]
  },
  {
   "cell_type": "markdown",
   "metadata": {
    "slideshow": {
     "slide_type": "subslide"
    }
   },
   "source": [
    "\n",
    "* Integrating lorenz system using ode(*) in scipy\n",
    "* The lorenz system describing the atmospheric convection: chaotic but resembles a beautiful butterfly \n",
    "\n",
    "\n"
   ]
  },
  {
   "cell_type": "code",
   "execution_count": 3,
   "metadata": {},
   "outputs": [
    {
     "data": {
      "image/png": "[encoded data removed]",
      "text/plain": [
       "<Figure size 640x480 with 2 Axes>"
      ]
     },
     "metadata": {},
     "output_type": "display_data"
    }
   ],
   "source": [
    "from scipy.integrate import ode\n",
    "from mpl_toolkits.mplot3d import Axes3D\n",
    "import numpy as np\n",
    "\n",
    "def lorenz_sys(t, q):\n",
    "    x = q[0]\n",
    "    y = q[1]\n",
    "    z = q[2]\n",
    "    # sigma, rho and beta are global.\n",
    "    f = [sigma * (y - x),\n",
    "         rho*x - y - x*z,\n",
    "         x*y - beta*z]\n",
    "    return f\n",
    "\n",
    "\n",
    "#ic = [1.0, 2.0, 1.0]\n",
    "ic = [0.01, 0.01, 0.01]\n",
    "t0 = 0.0\n",
    "t1 = 70.0\n",
    "dt = 0.01\n",
    "\n",
    "sigma = 10.0\n",
    "rho = 28.0\n",
    "beta = 8.0/3.0\n",
    "\n",
    "#sigma = 28.0\n",
    "#rho = 46.92\n",
    "#beta = 4.0\n",
    "\n",
    "solver = ode(lorenz_sys)\n",
    "\n",
    "t = []\n",
    "sol = []\n",
    "solver.set_initial_value(ic, t0)\n",
    "#solver.set_integrator('dop853')\n",
    "solver.set_integrator('dopri5')\n",
    "\n",
    "while solver.successful() and solver.t < t1:\n",
    "    solver.integrate(solver.t + dt)\n",
    "    t.append(solver.t)\n",
    "    sol.append(solver.y)\n",
    "\n",
    "t = np.array(t)\n",
    "sol = np.array(sol)\n",
    "\n",
    "fig = plt.figure()\n",
    "ax = Axes3D(fig)\n",
    "ax.plot(sol[:,0], sol[:,1], sol[:,2])\n",
    "plt.xlabel('x')\n",
    "plt.ylabel('y')\n",
    "\n",
    "ax = fig.add_subplot(122)\n",
    "ax.set_axis_off()\n",
    "ax.text(2, .3, \"$\\;\\; z' = x y -\\kappa z$\", size=\"xx-large\");\n",
    "ax.text(2, .4, \"$\\;\\; y' = x ( \\gamma - z ) - y $\", size=\"xx-large\");\n",
    "ax.text(2, .5, \"$\\;\\; x' = \\sigma (y - x) $\", size=\"xx-large\");\n",
    "ax.text(2, .65, \"Integrating Lorenz system\", size=\"x-large\");\n",
    "\n",
    "plt.show()\n"
   ]
  },
  {
   "cell_type": "markdown",
   "metadata": {
    "slideshow": {
     "slide_type": "slide"
    }
   },
   "source": [
    "# Introduction to PDE in Finance\n",
    "\n",
    "* In finance, most partial differential equations (PDE) we encounter are of the second order (the highest derivative)\n",
    "\n",
    "$$\n",
    "\\renewcommand{PDut}{\\frac{\\partial u}{\\partial t}}\n",
    "\\renewcommand{PDux}{\\frac{\\partial u}{\\partial x}}\n",
    "\\renewcommand{PDutt}{\\frac{\\partial ^2u}{\\partial t^2}}\n",
    "\\renewcommand{PDuxx}{\\frac{\\partial ^2u}{\\partial x^2}}\n",
    "\\renewcommand{PDuyy}{\\frac{\\partial ^2u}{\\partial y^2}}\n",
    "a(x,t)\\PDutt + 2b(x,t)\\frac{\\partial ^2u}{\\partial t\\partial x} + c(x,t)\\PDuxx +  d(x,t)\\PDut + e(x,t)\\PDux = f(t,x,u)\n",
    "$$\n",
    "\n",
    "* It can be classified into three categories: **Hyperbolic, Parabolic and Elliptic**\n",
    "\n",
    "* In general, the different types of equations make a big difference in how the solutions behave and\n",
    "\n",
    "* on how we can solve them more effectively\n",
    "\n"
   ]
  },
  {
   "cell_type": "markdown",
   "metadata": {},
   "source": [
    "## Classification\n",
    "\n",
    "### Hyperbolic \n",
    "\n",
    "* $b^2(x,t) - a(x,t)c(x,t) > 0 $\n",
    "     $\\;$\n",
    "\n",
    "* The canonical form:\n",
    "$$\n",
    "\\large{\n",
    "\\PDutt = c^2 \\PDuxx\n",
    "}\n",
    "$$\n",
    "\n",
    "* No steady state and no diffusion, mostly referred to as the **Wave equation** or **Advection equation**"
   ]
  },
  {
   "cell_type": "markdown",
   "metadata": {},
   "source": [
    "### Parabolic \n",
    "\n",
    "\n",
    "* $b^2(x,t) - a(x,t)c(x,t) = 0 $\n",
    "     $\\;$\n",
    "\n",
    "* The canonical form:\n",
    "$$\n",
    "\\large{\n",
    "\\PDut = d \\;\\PDuxx\n",
    "}\n",
    "$$\n",
    "\n",
    "\n",
    "* Evolving to a steady state due to diffusion, referred to as the **Heat equation**"
   ]
  },
  {
   "cell_type": "markdown",
   "metadata": {},
   "source": [
    "### Elliptic \n",
    "\n",
    "\n",
    "* $b^2(x,y) - a(x,y)c(x,y) < 0 $\n",
    "     $\\;$\n",
    "\n",
    "* The canonical form:\n",
    "$$\n",
    "\\large{\n",
    "\\PDuxx + \\PDuyy = f(x,y)\n",
    "}\n",
    "$$\n",
    "\n",
    "\n",
    "* Steady state (time independent), mostly referred to as the **Laplace** ($f(x,y) = 0$) or **Poisson** equation."
   ]
  },
  {
   "cell_type": "markdown",
   "metadata": {},
   "source": [
    "# Feyman Kac Theorem\n",
    "\n",
    "\n",
    "Let's consider an SDE of the form\n",
    "$$ dX_t = \\mu(t,X_t) dt + \\sigma(t,X_t) dW_t $$\n",
    "\n",
    "and the function $u(t,X_t) = E_t(g(X_T))$ for some (nice) Borelian function $g$. Then the function $u(t,x)$, under suitable conditions satisfies\n",
    "\n",
    "$$ \\PDut + \\mu(t,x) \\PDux + \\frac{1}{2} \\sigma^2(t,x) \\PDuxx = 0 $$\n",
    "\n"
   ]
  },
  {
   "cell_type": "markdown",
   "metadata": {},
   "source": [
    "If instead we consider the function $u(t,X_t) =E_t\\left(g(X_T)e^{-\\int_t^T r_u du}\\right) $ then \n",
    "$$M_t = u(t,X_t) e^{-\\int_0^t r_u du} = E_t(g(X_T) e^{\\int_0^T r_u du})  $$\n",
    "\n",
    "is a (local) martingale and should therefore be driftless, and from\n",
    "$$ dM_t = (du(t, X_t) - r_t u(t,X_t)) e^{-\\int_0^t r_u du} $$\n",
    "\n",
    "one gets\n",
    "$$ \\PDut + \\mu(t,x) \\PDux + \\frac{1}{2} \\sigma^2(t,x) \\PDuxx = r_t u(t,x) $$\n",
    "\n",
    "**Note** that if $r_t = r(t)$ is a deterministic function, then the above equation yields a PDE. Same if $r$ is $r(t,X_t)$.\n",
    "\n"
   ]
  },
  {
   "cell_type": "markdown",
   "metadata": {},
   "source": [
    "Let's define $u(t,X_t) = E_t(\\int_t^T a_u du)$, then intuitively\n",
    "\n",
    "\\begin{split}\n",
    "u(t, X_t) &= E_t\\left(\\int_t^{t+h} a_u du + E_{t+h}\\left( \\int_{t+h}^T a_u du \\right)\\right) \\\\\n",
    "&= a_t dt + o(dt) +  E_t\\left( u(t+h, X_{t+h})\\right)\\\\ \n",
    " \\Rightarrow E_t\\left( u(t+h, X_{t+h}) - u(t, X_t)\\right) &= -a_t dt + o(dt)\n",
    "\\end{split}\n",
    "\n",
    "i.e., the drift of $u(t,X_t)$ should be $-a_t dt$.\n",
    "\n",
    "More formaly, consider the martingale \n",
    "$$M_t = E_t\\left( \\int_0^T a_u du \\right) = \\int_0^t a_u du + u(t,X_t)$$\n",
    "\n",
    "then $dM_t = a_tdt + du(t,X_t)$. Ito's formula and having the drift equal to zero yields\n",
    "$$ \\PDut + \\mu(t,x) \\PDux + \\frac{1}{2} \\sigma^2(t,x) \\PDuxx + a_t = 0 $$\n",
    "\n",
    "\n",
    "**Note** that like precedently, if $a_t = a(t,X_t)$, then the above equation yields a PDE.\n",
    "\n"
   ]
  },
  {
   "cell_type": "markdown",
   "metadata": {},
   "source": [
    "**Exercise:** Repeat the above approach to find the PDE (with its terminal condition) of \n",
    "$$ u(t,X_t) = E_t\\left(g(X_T) e^{-\\int_t^T r_u du} + \\int_t^T e^{-\\int_t^{u} r_s ds} a(u,X_u) du\\right)$$"
   ]
  },
  {
   "cell_type": "markdown",
   "metadata": {},
   "source": [
    "## Pricing PDEs in Finance\n",
    "\n",
    "We consider the simple case of a local volatility model with deterministic rates (extensions to this framework are straightforward), namely\n",
    "\n",
    "$$ \\frac{dS_t}{S_t} = (r-q)dt + \\sigma(t,S_t) dW_t $$\n",
    "\n",
    "Basic framework in EQD or FX derivatives. Rates and dividend yields can be chosen to be deterministic function of time.\n"
   ]
  },
  {
   "cell_type": "markdown",
   "metadata": {},
   "source": [
    "## **Black-Scholes** Equation\n",
    "\n",
    "$$\n",
    "\\renewcommand{PDuS}{\\frac{\\partial u}{\\partial S}}\n",
    "\\renewcommand{PDuSS}{\\frac{\\partial ^2u}{\\partial S^2}}\n",
    "\\PDut + rS\\PDuS + \\frac{1}{2}\\sigma^2(t,S)S^2\\PDuSS - ru = 0\n",
    "$$\n",
    "\n",
    "* It belongs to the parabolic type, and can be converted into the standard Heat equation form by a change-of-variables"
   ]
  },
  {
   "cell_type": "markdown",
   "metadata": {},
   "source": [
    "* For **European Call** option, the \"initial\" (the payoff function) and boundary conditions are\n",
    "\n",
    "\\begin{aligned}\n",
    "&u(S,T) = \\max(S-K, 0);\n",
    "\\\\\n",
    "&u(0,t) = 0; \n",
    "\\\\\n",
    "&u(S,t) \\sim S - Ke^{-r(T-t)}, \\;\\mbox{as } \\; S \\rightarrow \\infty\n",
    "\\end{aligned}"
   ]
  },
  {
   "cell_type": "markdown",
   "metadata": {},
   "source": [
    "* For **European Put** option, the \"initial\" (the payoff function) and boundary conditions are\n",
    "\n",
    "\\begin{aligned}\n",
    "\\renewcommand{FDut}{\\frac{u_{i,k+1}-u_{i,k}}{\\triangle t}}\n",
    "\\renewcommand{FDutb}{\\frac{u_{i,k}-u_{i,k-1}}{\\triangle t}}\n",
    "\\renewcommand{FDutc}{\\frac{u_{i,k+1}-u_{i,k-1}}{2\\triangle t}}\n",
    "\\renewcommand{FDutt}{\\frac{u_{i,k+1}-2u_{i,k}+u_{i,k-1}}{\\triangle t^2}}\n",
    "\\renewcommand{FDux}{\\frac{u_{i+1,k}-u_{i,k}}{\\triangle x}}\n",
    "\\renewcommand{FDuxb}{\\frac{u_{i,k}-u_{i-1,k}}{\\triangle x}}\n",
    "\\renewcommand{FDuxc}{\\frac{u_{i+1,k}-u_{i-1,k}}{2\\triangle x}}\n",
    "\\renewcommand{FDuxx}{\\frac{u_{i+1,k}-2u_{i,k}+u_{i-1,k}}{\\triangle x^2}}\n",
    "&u(S,T) = \\max(K-S, 0);\n",
    "\\\\\n",
    "&u(0,t) = Ke^{-r(T-t)}; \n",
    "\\\\\n",
    "&u(S,t) = 0, \\;\\mbox{as } \\; S \\rightarrow \\infty\n",
    "\\end{aligned}"
   ]
  },
  {
   "cell_type": "markdown",
   "metadata": {},
   "source": [
    "## American Options\n",
    "\n",
    "For a payoff $g(x)$, the PDE of an American option is given by:\n",
    "\n",
    "$$  \\max \\left(\\PDut + rS\\PDuS + \\frac{1}{2}\\sigma^2(t,S)S^2\\PDuSS - ru, g(x) - u \\right) = 0 $$\n",
    "\n",
    "\n"
   ]
  },
  {
   "cell_type": "markdown",
   "metadata": {},
   "source": [
    "## Barrier Options\n",
    "\n",
    "Let us consider an Up-And-Out option with strike $K < B$. Noting $\\tau_B = \\inf(t>0, S_t \\geq B)$, the price has the form\n",
    "$$ u(t,S_t) 1_{\\{ t < \\tau_B \\}} = 1_{\\{ t < \\tau_B \\}} E_t\\left( g(S_{\\tau_b \\wedge T}) e^{-r \\tau_b \\wedge T} \\right) $$\n",
    "\n",
    "If $S \\geq B$, then $u(t,S) = 0$. Otherwise, it would follow the usual pricing PDE.\n",
    "\n",
    "The additional boundary condition becomes $u(t,B) = 0$."
   ]
  },
  {
   "cell_type": "markdown",
   "metadata": {},
   "source": [
    "## Asian Options\n",
    "\n",
    "The payoff has the form\n",
    "$$ g\\left(S_T, \\frac{1}{T} \\int_0^T S_t dt \\right) $$\n",
    "\n",
    "From there, we have two possible approaches.\n",
    "\n",
    "One can define $A_t = \\frac{1}{T} \\int_0^t S_u du$, in which case $A_0 = 0$ and the price function as a function $u(t,X_t, A_t)$ follows the PDE\n",
    "$$ \\PDut + r S \\PDuS + \\frac{1}{2} S^2 \\sigma^2(t,S) \\PDuSS + \\frac{S}{T} \\frac{\\partial u}{\\partial A} = ru$$\n",
    "\n",
    "Or, one can define $A_t = \\frac{1}{t} \\int_0^t S_u du$, in which case $A_0 = S_0$ but then \n",
    "$$ \\PDut + r S \\PDuS + \\frac{1}{2} S^2 \\sigma^2(t,S) \\PDuSS + \\frac{S-A}{t} \\frac{\\partial u}{\\partial A} = ru$$\n",
    "\n",
    "Note the singularity as $t \\to 0$ when $S \\neq A$ in the PDE operator.\n",
    "\n",
    "\n",
    "And the terminal condition has the form $u(T,s,a) = g(s,a)$ or $u(T,s,a) = g(s,a/T)$ depending on the convention choice.\n"
   ]
  },
  {
   "cell_type": "markdown",
   "metadata": {},
   "source": [
    "## Lookback Options\n",
    "$$ g\\left(S_T, M_T \\right) $$\n",
    "\n",
    "where $M_T = \\sup_{0\\leq u \\leq T} S_u$.\n",
    "\n",
    "Here again, the pair $(S_t, M_t)$ is Markovian. Intuitively $dM_t = 1_{\\{ S_t = M_t \\}} (dS_t)^+$, but this needs to be interpreted in the sense of (random) measure for $dM_t$.\n",
    "\n",
    "The pricing function becomes $u(t,S,M) = E_t(g(S_T, M_T)e^{-r(T-t)}) = E(g(S_T, M_T) | S_t = S, M_t = M)$ and the pricing PDE is \n",
    "$$ \\frac{\\partial u}{\\partial t}(t,S,M) + rS \\frac{\\partial u}{\\partial S}(t,s,M) + \\frac{1}{2} S^2 \\sigma^2(t,S) \\frac{\\partial^2  u}{\\partial S ^2}(t,S,M) = r u(t,x,M) $$\n",
    "\n",
    "with the boundary conditions\n",
    "$$ u(t,0, M) = e^{-r(T-t)}g(0,M) \\;,\\;\\; 0\\leq t \\leq T \\;, \\;\\; M \\geq 0 $$\n",
    "\n",
    "$$ \\partial_m u(t,S,m)|_{S=m} = 0 \\;,\\;\\; 0\\leq t \\leq T \\;, \\;\\; M > 0 $$\n",
    "\n",
    "$$ u(T,S,m) = g(S,m) \\;\\; S \\leq 0 \\leq S \\leq M $$"
   ]
  },
  {
   "cell_type": "markdown",
   "metadata": {},
   "source": [
    "# Finite Difference Methods for Solving PDEs\n",
    "\n",
    "\n",
    "* Very rare that the PDEs have closed form solutions, in general, can only be solved numerically.\n",
    "\n",
    "\n",
    "* Will focus on the finite difference method (FDM): other numerical methods exist and can be more appropriate---very much depends on the actual problems at hand.\n",
    "\n",
    "* Schemes involves tridiagonal matrices and solving for $Ax =b$ for $A$ trigionaly, which can be done with the efficient [Thomas algorithm](https://en.wikipedia.org/wiki/Tridiagonal_matrix_algorithm)."
   ]
  },
  {
   "cell_type": "markdown",
   "metadata": {},
   "source": [
    "## Discretization\n",
    "\n",
    "\n",
    "* First step in solving PDEs using FDM is to represent the solution $u(x,t)$ as a discrete collection of values at a well distributed grid points in space and time in the proper domain.\n",
    "\n",
    "\n",
    "* For example, for the  rectangular domain in space and time with $t \\in [0, T]$ and $x\\in [x_{min}, x_{max}]$, we can represent the points simply as \n",
    "\n",
    "$$t_0 = 0, t_1, t_2, \\cdots, t_M = T$$\n",
    "\n",
    "in time and \n",
    "\n",
    "$$x_0 = x_{min}, x_1, x_2, \\cdots, x_N = x_{max}$$\n",
    "\n",
    "in space. The grid is uniform, i.e. $t_{k+1} = t_k + \\triangle t, \\;\\triangle t = \\frac{T}{M}$ and $x_{i+1} = x_i + \\triangle x, \\;\\triangle x = \\frac{x_{max}-x_{min}}{N}$."
   ]
  },
  {
   "cell_type": "markdown",
   "metadata": {},
   "source": [
    "\n",
    "* The discretized version of the solution will be represented by the values of\n",
    "\n",
    "$$\n",
    "u_{i,k} = u(x_i, t_k), \\;\\mbox{for   }  i = 0,1,\\cdots,N, \\mbox{  and  } k = 0,1,\\cdots,M\n",
    "$$\n",
    "\n",
    "\n",
    "* The values of $u(x,t)$ at any other desired points can be approximated via interpolation.\n",
    "\n",
    "\n",
    "* A uniform mesh may not necessary be the most efficient form to work with, in fact, it rarely is.\n"
   ]
  },
  {
   "cell_type": "markdown",
   "metadata": {},
   "source": [
    "* A greatly simplified rule-of-thumb: the mesh needs to be refined around the region where the function varies a lot\n",
    "\n",
    "\n",
    "* On the other hand, the mesh can be relatively coarse if the function is smooth and changing slowly\n",
    "\n",
    "\n",
    "* In finance, the time grid is well advised to keep the **important** dates as grid points: such as cash flow dates, contractual schedule dates, etc. The spacing of these dates is most likely not uniform.\n"
   ]
  },
  {
   "cell_type": "markdown",
   "metadata": {},
   "source": [
    "\n",
    "## Finite Difference Methods(FDM)\n",
    "\n",
    "* Toolkit for finite difference approximation\n",
    "\n",
    "|  Partial Derivative | Finite Difference | Type | Order | \n",
    "| :------: | :-----: | :-----: | :-----: | \n",
    "|  $\\PDux$ | $\\FDux$ | forward | 1st in $x$ | \n",
    "|  $\\PDux$ | $\\FDuxb$ | backward | 1st in $x$ | \n",
    "|  $\\PDux$ | $\\FDuxc$ | central | 2nd in $x$ | \n",
    "|  $\\PDuxx$ | $\\FDuxx$ | symmetric | 2nd in $x$ |  \n",
    "|  $\\PDut$ | $\\FDut$ | forward | 1st in $t$ | \n",
    "|  $\\PDut$ | $\\FDutb$ | backward | 1st in $t$ | \n",
    "|  $\\PDut$ | $\\FDutc$ | central | 2nd in $t$ | \n",
    "|  $\\PDutt$ | $\\FDutt$ | symmetric | 2nd in $t$ | \n"
   ]
  },
  {
   "cell_type": "markdown",
   "metadata": {},
   "source": [
    "## The Explicit Method \n",
    "\n",
    "* For convenience, reverse the time for Black-Scholes notation: $ t \\leftarrow T - t$\n",
    "\n",
    "$$\n",
    "\\small\n",
    "\\PDut - \\frac{1}{2}\\sigma^2S^2\\PDuSS - rS\\PDuS + ru = 0\n",
    "$$\n",
    "\n",
    "* Approximate the Black-Scholes Eqn by\n",
    "\n",
    "$$\n",
    "\\small\n",
    "\\FDut - \\frac{1}{2} \\sigma^2 x_i^2 \\FDuxx - r x_i \\FDuxc + r u_{i,k} = 0\n",
    "$$"
   ]
  },
  {
   "cell_type": "markdown",
   "metadata": {},
   "source": [
    "* This can be rewritten simply as\n",
    "\n",
    "\\begin{aligned}\n",
    "\\small\n",
    "u_{i,k+1} & = \\left\\{ \\frac{1}{2}\\sigma^2 x_i^2 \\frac{\\triangle t}{\\triangle x^2} - r x_i \\frac{\\triangle t}{2\\triangle x} \\right\\} u_{i-1,k}\n",
    "\\\\\n",
    "& + \\left\\{ 1 - \\sigma^2 x_i^2 \\frac{\\triangle t}{\\triangle x^2}  -r \\triangle t \\right\\} u_{i,k}\n",
    "\\\\\n",
    "& + \\left\\{ \\frac{1}{2}\\sigma^2 x_i^2 \\frac{\\triangle t}{\\triangle x^2} + r x_i \\frac{\\triangle t}{2\\triangle x} \\right\\} u_{i+1,k}\n",
    "\\end{aligned}"
   ]
  },
  {
   "cell_type": "markdown",
   "metadata": {},
   "source": [
    "**Exercise**: Noting $u_k = (u_{1,k}, u_{2,k},...,u_{M,k})^T$, find the matrix $A$ such that $u_{k+1} = A u_k$."
   ]
  },
  {
   "cell_type": "markdown",
   "metadata": {},
   "source": [
    "## Consistency, Stability and Convergence\n",
    "\n",
    "* For any FDM that are used to solve practical problems, we should ask\n",
    "\n",
    "    * 1) How accurate is the method?    \n",
    "    \n",
    "    * 2) Does it converge?    \n",
    "    \n",
    "    * 3) What is the best choice of step sizes?\n",
    "\n",
    "\n"
   ]
  },
  {
   "cell_type": "markdown",
   "metadata": {},
   "source": [
    "### Consistency \n",
    "\n",
    "* For the explicit method above, the local truncation error is\n",
    "\n",
    "$$\n",
    "T(x,t) = O(\\triangle x^2 + \\triangle t)\n",
    "$$\n",
    "\n",
    "\n",
    "\n",
    "* Taylor series expansion can verify this (or one can simply read this off of the Toolkit Table).\n",
    "\n",
    "\n",
    "* So the explicit method above is consistent of order 1 in time and order 2 in spatial variable.\n",
    "\n"
   ]
  },
  {
   "cell_type": "markdown",
   "metadata": {},
   "source": [
    "\n",
    "* The stability condition for the explicit scheme is:\n",
    "\n",
    "$$\n",
    "\\triangle t < \\frac{\\triangle x^2}{ \\sigma^2 x_{max}^2 }\n",
    "$$\n",
    "\n",
    "* This is the CFL condition for the explicit method, which says, in order for the explicit method to be stable, the time step size needs to be really small."
   ]
  },
  {
   "cell_type": "markdown",
   "metadata": {},
   "source": [
    "### Lax Theorem: Consistency + Stability = Convergence\n",
    "\n",
    "\n",
    "* The **Lax equivalence theorem** holds for PDE as well."
   ]
  },
  {
   "cell_type": "markdown",
   "metadata": {},
   "source": [
    "## The Implicit Method \n",
    "\n",
    "* Approximate the Black-Scholes Eqn by\n",
    "\n",
    "$$\n",
    "\\small\n",
    "\\FDutb - \\frac{1}{2} \\sigma^2 x_i^2 \\FDuxx - r x_i \\FDuxc = - r u_{i,k}\n",
    "$$\n",
    "\n",
    "* Which can be rewritten as\n",
    "\n",
    "\\begin{aligned}\n",
    "\\small\n",
    "u_{i,k-1} & = \\left\\{ -\\frac{1}{2}\\sigma^2 x_i^2 \\frac{\\triangle t}{\\triangle x^2} + r x_i \\frac{\\triangle t}{2\\triangle x} \\right\\} u_{i-1,k}\n",
    "\\\\\n",
    "& + \\left\\{ 1 + \\sigma^2 x_i^2 \\frac{\\triangle t}{\\triangle x^2}  + r \\triangle t \\right\\} u_{i,k}\n",
    "\\\\\n",
    "& + \\left\\{ -\\frac{1}{2}\\sigma^2 x_i^2 \\frac{\\triangle t}{\\triangle x^2} - r x_i \\frac{\\triangle t}{2\\triangle x} \\right\\} u_{i+1,k}\n",
    "\\end{aligned}\n"
   ]
  },
  {
   "cell_type": "markdown",
   "metadata": {},
   "source": [
    "\n",
    "* The local truncation error\n",
    "\n",
    "$$\n",
    "T(x,t) = O(\\triangle x^2 + \\triangle t)\n",
    "$$\n",
    "\n",
    "\n",
    "* The implicit method is unconditionally stable.\n"
   ]
  },
  {
   "cell_type": "markdown",
   "metadata": {},
   "source": [
    "## The Crank-Nicholson Method \n",
    "\n",
    "* Crank-Nicholson is an average of the explicit and implicit scheme:\n",
    "\n",
    "\\begin{aligned}\n",
    "\\small\n",
    "\\FDut & = \\frac{1}{4}  \\sigma^2 x_i^2 \\left\\{ \\FDuxx + \\frac{u_{i+1,k+1}-2u_{i,k+1}+u_{i-1,k+1}}{\\triangle x^2} \\right\\}\n",
    "\\\\ \n",
    "    & + \\frac{1}{2} r x_i \\left\\{ \\FDuxc + \\frac{u_{i+1,k+1}-u_{i-1,k+1}}{2\\triangle x} \\right\\} \n",
    "\\\\\n",
    "    & - \\frac{1}{2} r \\left\\{  u_{i,k} +  u_{i,k+1} \\right\\} \n",
    "\\end{aligned}\n",
    "\n",
    "\n",
    "* The local truncation error is (Note: expanding the Taylor series at $(i, k+\\frac{1}{2})$)\n",
    "\n",
    "$$\n",
    "T(x,t) = O(\\triangle x^2 + \\triangle t^2)\n",
    "$$\n",
    "\n",
    "* Unconditionally stable"
   ]
  },
  {
   "cell_type": "markdown",
   "metadata": {},
   "source": [
    "# Numerical Examples \n",
    "\n",
    "* Black Scholes formulae and FDM methods for vanilla European call and up-and-out Barrier Call.\n"
   ]
  },
  {
   "cell_type": "markdown",
   "metadata": {},
   "source": [
    "## Vanilla European Option:\n",
    "* Strike = 100\n",
    "* Risk Free Rate = 5%\n",
    "* Constant Volatility = 35%\n",
    "* Option Maturity = 1 year\n",
    "* Option Type = Call"
   ]
  },
  {
   "cell_type": "code",
   "execution_count": 4,
   "metadata": {},
   "outputs": [
    {
     "data": {
      "image/png": "[encoded data removed]",
      "text/plain": [
       "<Figure size 1000x400 with 2 Axes>"
      ]
     },
     "metadata": {},
     "output_type": "display_data"
    }
   ],
   "source": [
    "import numpy as np\n",
    "from scipy.stats import norm\n",
    "import time \n",
    "\n",
    "#Black and Scholes\n",
    "def BlackScholesFormula(type, S0, K, r, sigma, T):\n",
    "    dtmp1 = np.log(S0 / K)\n",
    "    dtmp2 = 1.0/(sigma * np.sqrt(T))\n",
    "    sigsq = 0.5 * sigma * sigma\n",
    "    d1 =  dtmp2 * (dtmp1 + T * (r + sigsq))\n",
    "    d2 =  dtmp2 * (dtmp1 + T * (r - sigsq))\n",
    "    if type==\"C\":\n",
    "        return S0 * norm.cdf(d1) - K * np.exp(-r * T) * norm.cdf(d2)\n",
    "    else:\n",
    "        return K * np.exp(-r * T) * stats.cdf(-d2) - S0 * norm.cdf(-d1)\n",
    "\n",
    "K = 100.0\n",
    "r = 0.05\n",
    "sigma = 0.35\n",
    "T = 1\n",
    "putCall ='C'\n",
    "\n",
    "Smin = 0.0\n",
    "Smax = 200.0\n",
    "ns = 201\n",
    "Ss = np.linspace(Smin, Smax, ns, endpoint=True)\n",
    "Ss = Ss[1:-1]\n",
    "#print Ss\n",
    "\n",
    "t=time.time()\n",
    "px = BlackScholesFormula(putCall, Ss, K, r, sigma, T)\n",
    "elapsed=time.time()-t\n",
    "#print(px)\n",
    "#print(\"Elapsed Time:\", elapsed)\n",
    "#idx = 200-1\n",
    "#print Ss[idx]\n",
    "#print px[idx]\n",
    "\n",
    "payoff = np.clip(Ss-K, 0.0, 1e50)\n",
    "#print \"payoff = \", payoff\n",
    "\n",
    "plt.figure(figsize=[10, 4])\n",
    "plt.subplot(1, 2, 1)\n",
    "plt.plot(Ss, payoff)\n",
    "plt.xlabel('Stock', fontsize=14);\n",
    "plt.title('Payoff' , fontsize=16);\n",
    "\n",
    "plt.subplot(1, 2, 2)\n",
    "plt.plot(Ss, px)\n",
    "plt.xlabel('Stock', fontsize=14);\n",
    "plt.title('Analytical Solution' , fontsize=16);"
   ]
  },
  {
   "cell_type": "markdown",
   "metadata": {},
   "source": [
    "## Discretization parameters and results for the forward scheme"
   ]
  },
  {
   "cell_type": "code",
   "execution_count": 10,
   "metadata": {},
   "outputs": [
    {
     "name": "stdout",
     "output_type": "stream",
     "text": [
      "Smin =  0.0\n",
      "Smax =  200.0\n",
      "ns = 201\n",
      "dx = 1.0\n",
      "sigma = 0.35\n",
      "by CFL, dt < 0.0002\n",
      "which requires in time domain the number of steps ~=  4900\n"
     ]
    }
   ],
   "source": [
    "from scipy import sparse\n",
    "import scipy.sparse.linalg.dsolve as linsolve\n",
    "\n",
    "class BS_FDM_explicit:\n",
    "    def __init__(self, \n",
    "               r, \n",
    "               sigma, \n",
    "               maturity, \n",
    "               Smin, \n",
    "               Smax, \n",
    "               Fl, \n",
    "               Fu, \n",
    "               payoff, \n",
    "               nt, \n",
    "               ns):\n",
    "        self.r  = r \n",
    "        self.sigma = sigma \n",
    "        self.maturity  = maturity\n",
    "\n",
    "        self.Smin = Smin     \n",
    "        self.Smax = Smax\n",
    "        self.Fl = Fl        \n",
    "        self.Fu = Fu\n",
    "\n",
    "        self.nt  = nt\n",
    "        self.ns  = ns\n",
    "\n",
    "        self.dt = float(maturity)/nt\n",
    "        self.dx = float(Smax-Smin)/(ns+1)\n",
    "        self.xs = Smin/self.dx\n",
    "\n",
    "        self.u = np.empty((nt + 1, ns))\n",
    "        self.u[0,:] = payoff\n",
    "\n",
    "        ## Building Coefficient matrix:        \n",
    "        A = sparse.lil_matrix((self.ns, self.ns))\n",
    "\n",
    "        for j in range(0, self.ns):\n",
    "            xd = j + 1 + self.xs\n",
    "            sx = self.sigma * xd\n",
    "            sxsq = sx * sx\n",
    "\n",
    "            dtmp1 = self.dt * sxsq\n",
    "            dtmp2 = self.dt * self.r\n",
    "            A[j,j] = 1.0 - dtmp1 - dtmp2\n",
    "            dtmp1 = 0.5 * dtmp1\n",
    "            dtmp2 = 0.5 * dtmp2 * xd\n",
    "            if j > 0:\n",
    "                A[j,j-1] = dtmp1 - dtmp2\n",
    "            if j < self.ns - 1:\n",
    "                A[j,j+1] = dtmp1 + dtmp2\n",
    "\n",
    "        self.A = A.tocsr()\n",
    "\n",
    "        ### Building bc_coef:\n",
    "        nxl = 1 + self.xs\n",
    "        sxl = self.sigma * nxl\n",
    "        nxu = self.ns + self.xs\n",
    "        sxu = self.sigma * nxu\n",
    "\n",
    "        self.blcoef = 0.5 * self.dt * (sxl * sxl - self.r * nxl)\n",
    "        self.bucoef = 0.5 * self.dt * (sxu * sxu + self.r * nxu)\n",
    "\n",
    "    def solve(self):\n",
    "        for i in range(0, self.nt):\n",
    "            self.u[i+1,:]          = self.A * self.u[i,:]\n",
    "            self.u[i+1,0]         += self.blcoef * self.Fl[i]\n",
    "            self.u[i+1,self.ns-1] += self.bucoef * self.Fu[i]\n",
    "\n",
    "        return self.u\n",
    "\n",
    "dx = (Smax - Smin)/(ns-1)\n",
    "print(\"Smin = \", Smin)\n",
    "print(\"Smax = \", Smax)\n",
    "print(\"ns =\", ns)\n",
    "print(\"dx =\", dx)\n",
    "print(\"sigma =\", sigma)\n",
    "dt_max = dx*dx/(sigma*sigma*Smax*Smax)\n",
    "print(\"by CFL, dt <\", \"%.4f\"%dt_max)\n",
    "mt_min = int(T/dt_max)+1\n",
    "print(\"which requires in time domain the number of steps ~= \", mt_min)"
   ]
  },
  {
   "cell_type": "code",
   "execution_count": 11,
   "metadata": {},
   "outputs": [
    {
     "name": "stdout",
     "output_type": "stream",
     "text": [
      "Elapsed Time1: 0.12582921981811523\n",
      "Elapsed Time2: 0.12583327293395996\n",
      "Elapsed Time3: 0.17226576805114746\n"
     ]
    },
    {
     "data": {
      "image/png": "[encoded data removed]",
      "text/plain": [
       "<Figure size 1500x400 with 3 Axes>"
      ]
     },
     "metadata": {},
     "output_type": "display_data"
    }
   ],
   "source": [
    "n = ns-2\n",
    "X = np.linspace(0.0, Smax, n+2)\n",
    "X = X[1:-1]\n",
    "\n",
    "payoff = np.clip(X-K, 0.0, 1e50)\n",
    "#print \"payoff = \", payoff\n",
    "  \n",
    "m = 4555 \n",
    "Fl = np.zeros((m+1,))\n",
    "Fu = Smax - K*np.exp(-r * np.linspace(0.0, T, m+1))\n",
    "    \n",
    "t = time.time()\n",
    "bs1 = BS_FDM_explicit(r, sigma, T, Smin, Smax, Fl, Fu, payoff, m, n)\n",
    "px_fd_mat = bs1.solve()\n",
    "elapsed=time.time()-t\n",
    "print(\"Elapsed Time1:\", elapsed)\n",
    "\n",
    "##print  px_fd_mat.shape\n",
    "nrow = len(px_fd_mat[:,1])\n",
    "#print(px_fd_mat[nrow-1,:])\n",
    "\n",
    "plt.figure(figsize=[15, 4]);\n",
    "plt.subplot(1, 3, 1)\n",
    "plt.plot(X, px_fd_mat[nrow-1,:])\n",
    "plt.xlabel('Stock', fontsize=14);\n",
    "plt.title('nt = %.f'%m, fontsize=16);\n",
    "\n",
    "m = 4560\n",
    "Fl = np.zeros((m+1,))\n",
    "Fu = Smax - K*np.exp(-r * np.linspace(0.0, T, m+1))\n",
    "\n",
    "t = time.time()\n",
    "bs2 = BS_FDM_explicit(r, sigma, T, Smin, Smax, Fl, Fu, payoff, m, n)\n",
    "px_fd_mat = bs2.solve()\n",
    "elapsed=time.time()-t\n",
    "print(\"Elapsed Time2:\", elapsed)\n",
    "\n",
    "plt.subplot(1, 3, 2)\n",
    "nrow = len(px_fd_mat[:,1])\n",
    "plt.plot(X, px_fd_mat[nrow-1,:])\n",
    "plt.xlabel('Stock', fontsize=14);\n",
    "plt.title('nt = %.f'%m, fontsize=16);\n",
    "\n",
    "m = 4565\n",
    "Fl = np.zeros((m+1,))\n",
    "Fu = Smax - K*np.exp(-r * np.linspace(0.0, T, m+1))\n",
    "    \n",
    "t = time.time()\n",
    "bs3 = BS_FDM_explicit(r, sigma, T, Smin, Smax, Fl, Fu, payoff, m, n)\n",
    "px_fd_mat = bs3.solve()\n",
    "elapsed=time.time()-t\n",
    "print(\"Elapsed Time3:\", elapsed)\n",
    "\n",
    "plt.subplot(1, 3, 3)\n",
    "nrow = len(px_fd_mat[:,1])\n",
    "plt.plot(X, px_fd_mat[nrow-1,:])\n",
    "plt.xlabel('Stock', fontsize=14);\n",
    "plt.title('nt = %.f' % m, fontsize=16);"
   ]
  },
  {
   "cell_type": "markdown",
   "metadata": {},
   "source": [
    "## Now look at the behavior of the implicit scheme"
   ]
  },
  {
   "cell_type": "code",
   "execution_count": 16,
   "metadata": {},
   "outputs": [],
   "source": [
    "from scipy import sparse\n",
    "import scipy.sparse.linalg.dsolve as linsolve\n",
    "\n",
    "class BS_FDM_implicit:\n",
    "    def __init__(self, \n",
    "               r, \n",
    "               sigma, \n",
    "               maturity, \n",
    "               Smin, \n",
    "               Smax, \n",
    "               Fl, \n",
    "               Fu, \n",
    "               payoff, \n",
    "               nt, \n",
    "               ns):\n",
    "        self.r  = r \n",
    "        self.sigma = sigma \n",
    "        self.maturity  = maturity\n",
    "\n",
    "        self.Smin = Smin     \n",
    "        self.Smax = Smax\n",
    "        self.Fl = Fl        \n",
    "        self.Fu = Fu\n",
    "\n",
    "        self.nt  = nt\n",
    "        self.ns  = ns\n",
    "\n",
    "        self.dt = float(maturity)/nt\n",
    "        self.dx = float(Smax-Smin)/(ns+1)\n",
    "        self.xs = Smin/self.dx\n",
    "\n",
    "        self.u = np.empty((nt + 1, ns))\n",
    "        self.u[0,:] = payoff\n",
    "\n",
    "        ## Building Coefficient matrix:        \n",
    "        A = sparse.lil_matrix((self.ns, self.ns))\n",
    "\n",
    "        for j in range(0, self.ns):\n",
    "            xd = j + 1 + self.xs\n",
    "            sx = self.sigma * xd\n",
    "            sxsq = sx * sx\n",
    "\n",
    "            dtmp1 = self.dt * sxsq\n",
    "            dtmp2 = self.dt * self.r\n",
    "            A[j,j] = 1.0 + dtmp1 + dtmp2\n",
    "\n",
    "            dtmp1 = -0.5 * dtmp1\n",
    "            dtmp2 = -0.5 * dtmp2 * xd\n",
    "            if j > 0:\n",
    "                A[j,j-1] = dtmp1 - dtmp2\n",
    "            if j < self.ns - 1:\n",
    "                A[j,j+1] = dtmp1 + dtmp2\n",
    "\n",
    "        self.A = linsolve.splu(A)\n",
    "        self.rhs = np.empty((self.ns, ))\n",
    "\n",
    "        ### Building bc_coef:\n",
    "        nxl = 1 + self.xs\n",
    "        sxl = self.sigma * nxl\n",
    "        nxu = self.ns + self.xs\n",
    "        sxu = self.sigma * nxu\n",
    "\n",
    "        self.blcoef = 0.5 * self.dt * (- sxl * sxl + self.r * nxl)\n",
    "        self.bucoef = 0.5 * self.dt * (- sxu * sxu - self.r * nxu)    \n",
    "\n",
    "    def solve(self):\n",
    "        for i in range(0, self.nt):\n",
    "            self.rhs[:] = self.u[i,:]\n",
    "            self.rhs[0]         -= self.blcoef * self.Fl[i]\n",
    "            self.rhs[self.ns-1] -= self.bucoef * self.Fu[i]\n",
    "            self.u[i+1,:] = self.A.solve(self.rhs)\n",
    "\n",
    "        return self.u\n"
   ]
  },
  {
   "cell_type": "code",
   "execution_count": 17,
   "metadata": {},
   "outputs": [
    {
     "name": "stderr",
     "output_type": "stream",
     "text": [
      "C:\\Users\\msont\\AppData\\Local\\Temp\\ipykernel_11972\\293456213.py:54: DeprecationWarning: Please use `splu` from the `scipy.sparse.linalg` namespace, the `scipy.sparse.linalg.eigen` namespace is deprecated.\n",
      "  self.A = linsolve.splu(A)\n",
      "C:\\Users\\msont\\anaconda3\\lib\\site-packages\\scipy\\sparse\\linalg\\_dsolve\\linsolve.py:347: SparseEfficiencyWarning: splu converted its input to CSC format\n",
      "  warn('splu converted its input to CSC format', SparseEfficiencyWarning)\n"
     ]
    },
    {
     "name": "stdout",
     "output_type": "stream",
     "text": [
      "Elapsed Time1: 0.17183637619018555\n",
      "Elapsed Time2: 0.041620492935180664\n",
      "Elapsed Time3: 0.01613759994506836\n"
     ]
    },
    {
     "data": {
      "image/png": "[encoded data removed]",
      "text/plain": [
       "<Figure size 1500x400 with 3 Axes>"
      ]
     },
     "metadata": {},
     "output_type": "display_data"
    }
   ],
   "source": [
    "Smax = 200\n",
    "n = ns-2\n",
    "X = np.linspace(0.0, Smax, n+2)\n",
    "X = X[1:-1]\n",
    "\n",
    "payoff = np.clip(X-K, 0.0, 1e600)\n",
    "  \n",
    "m = 4555 \n",
    "Fl = np.zeros((m+1,))\n",
    "Fu = Smax - K*np.exp(-r * np.linspace(0.0, T, m+1))\n",
    "    \n",
    "t = time.time()\n",
    "bs1 = BS_FDM_implicit(r, sigma, T, Smin, Smax, Fl, Fu, payoff, m, n)\n",
    "px_fd_mat = bs1.solve()\n",
    "elapsed=time.time()-t\n",
    "print(\"Elapsed Time1:\", elapsed)\n",
    "\n",
    "#print  px_fd_mat.shape\n",
    "\n",
    "plt.figure(figsize=[15, 4]);\n",
    "plt.subplot(1, 3, 1)\n",
    "nrow = len(px_fd_mat[:,1])\n",
    "plt.plot(X, px_fd_mat[nrow-1,:])\n",
    "plt.xlabel('Stock', fontsize=14);\n",
    "plt.title('nt = %.f'%m,  fontsize=16);\n",
    "\n",
    "m = 1000\n",
    "Fl = np.zeros((m+1,))\n",
    "Fu = Smax - K*np.exp(-r * np.linspace(0.0, T, m+1))\n",
    "\n",
    "t = time.time()\n",
    "bs2 = BS_FDM_implicit(r, sigma, T, Smin, Smax, Fl, Fu, payoff, m, n)\n",
    "px_fd_mat = bs2.solve()\n",
    "elapsed=time.time()-t\n",
    "print(\"Elapsed Time2:\", elapsed)\n",
    "\n",
    "plt.subplot(1, 3, 2)\n",
    "nrow = len(px_fd_mat[:,1])\n",
    "plt.plot(X, px_fd_mat[nrow-1,:])\n",
    "plt.xlabel('Stock', fontsize=14);\n",
    "plt.title('nt = %.f'%m, fontsize=16);\n",
    "\n",
    "m = 100\n",
    "Fl = np.zeros((m+1,))\n",
    "Fu = Smax - K*np.exp(-r * np.linspace(0.0, T, m+1))\n",
    "    \n",
    "t = time.time()\n",
    "bs3 = BS_FDM_implicit(r, sigma, T, Smin, Smax, Fl, Fu, payoff, m, n)\n",
    "px_fd_mat = bs3.solve()\n",
    "elapsed=time.time()-t\n",
    "print(\"Elapsed Time3:\", elapsed)\n",
    "\n",
    "plt.subplot(1, 3, 3)\n",
    "nrow = len(px_fd_mat[:,1])\n",
    "plt.plot(X, px_fd_mat[nrow-1,:])\n",
    "plt.xlabel('Stock', fontsize=14);\n",
    "plt.title('nt = %.f'%m, fontsize=16);\n"
   ]
  },
  {
   "cell_type": "markdown",
   "metadata": {},
   "source": []
  }
 ],
 "metadata": {
  "celltoolbar": "Slideshow",
  "kernelspec": {
   "display_name": "Python 3 (ipykernel)",
   "language": "python",
   "name": "python3"
  },
  "language_info": {
   "codemirror_mode": {
    "name": "ipython",
    "version": 3
   },
   "file_extension": ".py",
   "mimetype": "text/x-python",
   "name": "python",
   "nbconvert_exporter": "python",
   "pygments_lexer": "ipython3",
   "version": "3.7.4"
  }
 },
 "nbformat": 4,
 "nbformat_minor": 1
}
