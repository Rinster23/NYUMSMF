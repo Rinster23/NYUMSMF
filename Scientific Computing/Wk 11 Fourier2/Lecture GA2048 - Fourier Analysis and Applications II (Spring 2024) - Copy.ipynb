{
 "cells": [
  {
   "cell_type": "markdown",
   "id": "73ebc583",
   "metadata": {},
   "source": [
    "# Lecture Fourier Analysis II - Overview and Applications in Finance\n",
    "\n",
    "Topics:\n",
    "\n",
    "* More on Fourier Analysis\n",
    "    - Characteristic Functions as Fourier Transform of the Probability Density Function\n",
    "    - Shannon-Nyquist Sampling Formula for Stochastic Processes\n",
    "    \n",
    "* Examples of Application in Finance\n",
    "    - Derivatives Pricing\n",
    "    - Stationary processes analysis\n",
    "    - Instantaneous volatility estimation\n",
    "\n",
    "* Wavelet Analysis\n",
    "    - Introduction Overview and Main Concepts\n",
    "    - Examples of Applications\n",
    "\n",
    "References on Fourier analysis are extremely numerous:\n",
    "- [Fourier Analysis: An Introduction, Elias M. Stein, Rami Shakarchi](https://www.amazon.com/Fourier-Analysis-Introduction-Princeton-Lectures/dp/069111384X)\n",
    "- [Fourier Analysis and Stochastic Processes, P. Bremaud](https://www.amazon.com/Fourier-Analysis-Stochastic-Processes-Universitext/dp/3319095897/)\n",
    "- [Fourier Analysis of Time Series: An Introduction, Peter Bloomfield](https://www.amazon.com/Fourier-Analysis-Time-Peter-Bloomfield/dp/0471889482)\n",
    "- [Fourier Analysis and Nonlinear Partial Differential Equations, Hajer Bahouri, Jean-Yves Chemin, Raphaël Danchin](https://www.amazon.com/Nonlinear-Differential-Grundlehren-mathematischen-Wissenschaften-ebook/dp/B00F76VY70/)\n",
    "- [Handbook of Fourier Analysis and its Applications, R.J. Marks](https://www.handbookoffourieranalysis.com/)\n",
    "\n",
    "\n",
    "Reference on wavelets:\n",
    "- [An Introduction to Wavelets Analysis, David F. Walnut](https://www.amazon.com/Introduction-Wavelets-Filtering-Methods-Economics-ebook/dp/B00F8I22DM/)\n",
    "- [An Introduction to Wavelets and Other Filtering Methods in Finance and Economics](https://www.amazon.com/Introduction-Wavelets-Filtering-Methods-Economics-ebook/dp/B00F8I22DM/)\n",
    "- [Introduction To Wavelet Theory In Finance, An: A Wavelet Multiscale Approach](https://www.amazon.com/Introduction-Wavelet-Theory-Finance-Multiscale-ebook/dp/B009QYISXM/)\n",
    "\n",
    "$\\renewcommand{bt}[1]{\\tilde{\\boldsymbol #1}}$\n",
    "$\\renewcommand{bs}{\\boldsymbol} \\renewcommand{var}{\\text{var}} \\renewcommand{std}{\\text{std}} \\renewcommand{cov}{\\text{cov}}$\n",
    "$\\newcommand{\\eps}{\\varepsilon} \\renewcommand{\\s}{\\sigma} \\newcommand{\\E}{\\mathbb{E}} \\newcommand{\\P}{\\mathbb{P}}$\n",
    "$\\newcommand{\\F}{\\mathcal{F}} \\newcommand{\\half}{\\frac{1}{2}} \\newcommand{\\R}{\\mathbb{R}} \\newcommand{\\Z}{\\mathbb{Z}} $\n",
    "$\\newcommand{\\w} {\\omega} \\newcommand{\\l} {\\ell} \\newcommand{\\lbd} {\\lambda} \\renewcommand{\\S}{\\Sigma}$ \n",
    "$\\newcommand{\\a} {\\alpha} $\n",
    "$\\newcommand{\\Z} {\\mathbb{Z}} $"
   ]
  },
  {
   "cell_type": "markdown",
   "id": "3c53d368",
   "metadata": {},
   "source": [
    "## Link of Fourier Transform and Probability Theory\n",
    "\n",
    "If X is a random variable, and noting $F_X(x) = \\P(X\\leq x)$ it's cumulative distribution function, and if it admits a density function $p_X$, then its **characteristic function**\n",
    "$$ \\varphi(\\lambda)= E\\left( e^{i\\lambda X} \\right) = \\int_{\\R} e^{i\\lambda x} dF_X(x) = \\int_{\\R} e^{i\\lambda x} p_X(x) dx = \\hat p_X(\\lambda) $$\n",
    "\n",
    "is the Fourier tranform of $p_X$. If the characteristic function is known, then from the Inverse Fourier transform\n",
    "$$ p_X(x) = \\frac{1}{2 \\pi} \\int_{\\R} \\varphi(\\lambda) e^{-i \\lambda x} d\\lambda $$\n",
    "\n",
    "and\n",
    "$$ E(h(X)) = \\int_{\\R} h(x) p_X(x) dx = \\int_{\\R} h(x) \\frac{1}{2 \\pi} \\int_{\\R} \\varphi(\\lambda) e^{-i \\lambda x} d\\lambda dx $$\n",
    "\n",
    "One might be tempted to interchange the integral and write\n",
    "$$ E(h(X)) = \\int_{\\R} \\varphi(\\lambda) \\frac{1}{2 \\pi} \\int_{\\R} h(x) e^{-i \\lambda x} dx d\\lambda = \\int_{\\R} \\varphi(\\lambda) \\tilde \\F ^{-1} h(\\lambda) d\\lambda $$\n",
    "\n",
    "but in general, the function $h$ is not integrable over $\\R$ (just think of $E(X)$!) so that $\\F ^{-1} h(\\lambda)$ is in general not likely defined.\n",
    "\n",
    "The classic remedy to that is to consider instead the function $h_{\\a}(x) = h(x) e^{-a|x|}$ so that for some $\\a > 0$, we have $h_{\\a} \\in L^1$ and if also $\\F h_{\\a} \\in L^1$ then\n",
    "\\begin{split}\n",
    "E(h(X)) &= \\int_{\\R} h_\\a(x)e^{a|x|} p_X(x) dx = \\int_{\\R} \\left(\\int_\\R \\F^{-1} h_\\a(\\lambda) e^{i \\lambda x} d\\lambda \\right) e^{a|x|} p_X(x) dx \\\\\n",
    "&= \\int_\\R \\hat h_\\a(\\lambda) \\left(\\int_\\R e^{i(\\lambda - i|a|)x} p_X(x) dx \\right) d\\lambda = \\int_\\R \\hat h_\\a(\\lambda) \\hat p_X(\\lambda - i|a|) d\\lambda\n",
    "\\end{split}\n",
    "\n",
    "\n"
   ]
  },
  {
   "cell_type": "markdown",
   "id": "dcd27fdb",
   "metadata": {},
   "source": [
    "### Examples of Characteristic Functions\n",
    "\n",
    "#### Gaussian Integral\n",
    "The most important example is surely that of the Gaussian integral, which in the context of probability is\n",
    "$$ E(e^{i\\lambda X}) = \\int_{\\R} e^{i\\lambda x} e^{-\\half x^2} \\frac{dx}{\\sqrt{2 \\pi}} = e^{-\\half \\lambda^2} $$\n"
   ]
  },
  {
   "cell_type": "markdown",
   "id": "35afc687",
   "metadata": {},
   "source": [
    "#### Poisson Process\n",
    "For the Poisson process, i.e. with $\\P(N_t= k) = \\frac{(\\lambda t)^n}{n!} e^{-\\lambda t}$. then \n",
    "$$ E\\left(e^{i y N_t} \\right) = e^{\\lambda t (e^{iy}-1)} $$\n",
    "\n",
    "\n",
    "#### Compound Poisson Process\n",
    "Consider now the process $X_t = \\sum_{k=0}^{N_t} Z_k$ with $Z_k$ an i.i.d. families of random variables and note $\\phi_z(x) = E(e^{iyZ})$, the characteristic function of $Z$, then\n",
    "$$ E\\left(e^{iy X_t} \\right) = e^{\\lambda t E(e^{iyZ}-1)} = e^{\\lambda t (\\phi_z(y)-1)} $$\n"
   ]
  },
  {
   "cell_type": "markdown",
   "id": "87dcf142",
   "metadata": {},
   "source": [
    "#### More complex models\n",
    "In pricing applications, CIR, the Heston, Heston-Bates (i.e. Heston with Jumps), the Variance-Gamma Models, are famous examples of models with an analytic representaiton of the characteristic function of $\\ln(S_t)$."
   ]
  },
  {
   "cell_type": "markdown",
   "id": "a82db6f7",
   "metadata": {},
   "source": [
    "# Applications of Fourier Analysis"
   ]
  },
  {
   "cell_type": "markdown",
   "id": "777de95a",
   "metadata": {},
   "source": [
    "## Spectral Analysis of Stationary Processes"
   ]
  },
  {
   "cell_type": "markdown",
   "id": "fbff254a",
   "metadata": {},
   "source": [
    "### Sampling Theorem for Stationary Processes\n",
    "\n",
    "The previous concepts can be extended to continuous time process using the Fourier transform. In this case, the (power) spectracl density function verifies $f(x) = \\int_{\\R} c(\\tau) e^{-i2\\pi \\tau x} d\\tau$ and the Cramer representation for instance becomes $X_t = \\int_{\\R} e^{i 2\\pi t x} dz(x)$ for some random measure $z$.\n",
    "\n",
    "If the spectral density of a (weakly) stationary process has its support in the interval $[-F, F]$, then the Cramer representation of $X_t$ combined with the fact that \n",
    "$$ e^{i 2\\pi xt} = \\sum_{n \\in \\Z} e^{i 2\\pi x \\frac{n}{2M}} \\frac{\\sin\\left(2 \\pi M\\left(t-\\frac{n}{2M}\\right)\\right)}{2 \\pi M\\left(t-\\frac{n}{2M}\\right)} $$\n",
    "\n",
    "yields that for any $T > 1/(2F)$ then one has (in quadratic convergene)\n",
    "$$ X_t = T \\sum_{n\\in \\Z} X_{nT} \\frac{\\sin\\left(\\frac{\\pi}{T}\\left(t-nT\\right)\\right)}{\\pi\\left(t-nT\\right)}$$ \n"
   ]
  },
  {
   "cell_type": "markdown",
   "id": "b8da7053",
   "metadata": {},
   "source": [
    "# Spectral Analysis of Stationary Processes"
   ]
  },
  {
   "cell_type": "markdown",
   "id": "c5e30108",
   "metadata": {},
   "source": [
    "The spectral analysis of stationary process is classically covered in econometry courses. We just mention the crux of it. In the below we assum all the integrability and summability assumptions hold.\n",
    "\n",
    "We consider $(X_t)$ be a stationary process with autocovariance and autocorrelation functions defined by:\n",
    "$$ c(\\tau) = E(X_t X_{t+\\tau}) \\;\\; \\text{-}\\;\\; \\rho(\\tau) = \\frac{c(\\tau)}{c(0)} $$\n",
    "\n",
    "A (weak) white noise $(\\eps_t)$ is then a stationary process such that $E(\\eps_t) = 0$, $c_{\\eps}(0) = \\s_{\\eps}^2$ and $\\rho_{\\eps}(\\tau) = 0$ for $\\tau \\neq 0$.\n",
    "\n",
    "The (power) **spectral density** function (when it exists, e.g. $\\sum_{\\tau \\in \\Z} |c(\\tau)| < +\\infty$) is the function \n",
    "$$ c(\\tau) = \\int_{-\\pi}^{\\pi} e^{i\\tau x} f_X(x) dx$$\n",
    "\n",
    "Then the spectral density is given by:\n",
    "$$ f_X(x) = \\frac{1}{2\\pi} \\sum_{\\tau \\in \\Z} c(\\tau) e^{-i\\tau x} = \\frac{1}{2\\pi}\\left(c(0) + \\sum_{k\\geq1}c(k)(e^{ikx}+e^{-ikx}) \\right)$$\n",
    "\n",
    "Since $c(\\tau) = c(-\\tau)$ we also have $f_X(x) = f_X(-x)$.\n",
    "\n",
    "<div class=\"class alert alert-block alert-info\">\n",
    "<b>Remark:</b> Note that this is different from the <b>Cramer representation</b> (also called Cramer-Khinchin or (power) spectral decomposition) of a stationary process which states that a stationary process can be represented as the Fourier coefficient of a <b>random measure</b> $z$ by:\n",
    "$$ X_t(\\omega) = \\int_{-\\pi}^{\\pi} e^{it x} dz(x) $$\n",
    "</div>\n",
    "\n",
    "For a second order stationnary process (ARMA processes are the classic prototype), the idea is that the covariance function of the process is the Fourier coefficient of a function, called the spectral density of the stationnary process.\n",
    "\n",
    "Why is this useful? The spectral density gives many information on the (stationary) process under consideration. For instance, a stationary process is a white noise if and only if its spectral density is constant. Also, the quantity \n",
    "$2\\pi e^{\\frac{1}{2\\pi}\\int_0^{2\\pi} \\log(f_X(x)) dx}$ is the variance of the innovation process, which can then be estimated from the spectral density."
   ]
  },
  {
   "cell_type": "markdown",
   "id": "7a11237f",
   "metadata": {},
   "source": [
    "#### Examples\n",
    "- For a white noise $\\eps_t$ one has $c_{\\eps}(\\tau) = \\s^2 \\delta_0(\\tau)$ and $f_{\\eps}(x) = \\frac{\\s^2}{2\\pi}$.\n",
    "- If $X_t = \\sum_{k\\in \\Z} x_k \\eps_{t-k}$, then $c_X(\\tau) = \\s^2 \\sum_{j \\in \\Z} x_k x_{k - \\tau} $ and $f_X(x) = \\frac{\\s^2}{2\\pi} \\left| \\sum_{k \\in \\Z} x_k e^{-ikx}\\right| $."
   ]
  },
  {
   "cell_type": "markdown",
   "id": "dc324962",
   "metadata": {},
   "source": [
    "#### Estimation\n",
    "The periodogram is the standard estimator of the spectral density and is defined as:\n",
    "$$ I_T(x) = \\frac{1}{2\\pi T} \\left| \\sum_{t=1}^T X_t e^{itx} \\right|^2 = \\frac{1}{2\\pi} \\sum_{|\\tau| \\leq T} \\tilde c(\\tau) e^{i \\tau x} $$\n",
    "\n",
    "where $\\tilde c(\\tau)$ is the standard covariance estimator $\\tilde c(\\tau) = \\frac{1}{T-\\tau} \\sum_{t=1}^{T-\\tau} (X_t-\\bar X_T)(X_{t-h}-\\bar X_T)$ and $\\bar X_T = \\frac{1}{T} \\sum_{t=1}^T X_t$\n",
    "\n",
    "\n",
    "The non parametric estimation of that density (the periodogram) enables the analysis of such spectral density which then enables one to use an FFT calculation to recover an estimation for the covariance function which can then be analysed in order to infer properties of the process at hands.\n",
    "\n",
    "In practice, financial time series are not stationary and needs to be transformed (trend, seasonality, noise removal) in order to exhibit finer statistical properties."
   ]
  },
  {
   "cell_type": "markdown",
   "id": "5e45f84f",
   "metadata": {},
   "source": [
    "## Fourier Transform application to Pricing \n",
    "\n",
    "The main reference is likely the paper \"Option valuation  using the fast Fourier transform\" from [Carr&Madan](https://engineering.nyu.edu/sites/default/files/2018-08/CarrMadan2_0.pdf).\n",
    "\n",
    "References:\n",
    "- [Applications of Fourier Transform to Smile Modeling](https://www.springer.com/gp/book/9783642018077)\n",
    "- [Fourier Transform Methods in Finance](https://www.wiley.com/en-us/Fourier+Transform+Methods+in+Finance-p-9781119207825)\n",
    "\n",
    "are complete expositions on the topic.\n",
    "\n",
    "This technique is classic for the calibration of many models: Heston model, [Variance Gamma](https://en.wikipedia.org/wiki/Variance_gamma_process) model and more generally affine models."
   ]
  },
  {
   "cell_type": "markdown",
   "id": "ecd8991d",
   "metadata": {},
   "source": [
    "### Characteristic Function\n",
    "\n",
    "The premise of the methods using Fourier Transform for pricing purposes is to assume that if $X_T$ is the asset under consideration, then we have an analytical representation for its characteristic function (i.e. Fourier transform)\n",
    "\n",
    "$$ \\hat q_T(\\lbd) = \\int_{\\R} e^{i\\lbd x} q_T(x) dx $$\n",
    "\n",
    "where $q_T(x)$ is the density function of $X_T$. So in principle, from the Fourier inversion formula, one has:\n",
    "$$ E(h(X_T)) = \\int h(x) q_T(x)dx = \\int h(x) \\left( \\frac{1}{2\\pi}\\int_{\\R} e^{-i\\lbd x} \\hat q_T(\\lbd) d\\lbd \\right) dx$$\n",
    "\n",
    "But this requires two integrations which could still be slow.\n",
    "\n",
    "In equity, $X_T = \\ln(S_T)$."
   ]
  },
  {
   "cell_type": "markdown",
   "id": "0afee067",
   "metadata": {},
   "source": [
    "### Damped Call Fourier Transform\n",
    "\n",
    "The idea is to be able to price call options at \"all\" strike with one integration. Noting $k = \\ln(K)$ the log-strike.\n",
    "\n",
    "and let's consider the undiscounted (in practice the discount is added back at the end) call price:\n",
    "$$ C_T(k) = E[(S_T - K)^+] = E\\left[\\left(e^{X_T} - e^k\\right)^+\\right] = \\int_{\\R} (e^x - e^k)^+ q_T(x) dx$$\n",
    "\n",
    "we want to infer an expression of the Fourier transform of $C_T(k)$ in terms of that Fourier transform of $q_T$. The first issue is that as $\\lim_{k \\to -\\infty} C_T(k) = S_0$, then $C_T \\notin L^1(\\R)$. To palliate this issue, [Carr and Madan](https://engineering.nyu.edu/sites/default/files/2018-08/CarrMadan2_0.pdf) consider instead the function $c_T(k) = e^{\\alpha k} C_T(k)$ for $\\a >0$. Assuming now that $c_T \\in L^1(\\R)$ (we'll see simple condition on $\\a$ ensuring that).\n",
    "\n",
    "It then comes:\n",
    "\\begin{split}\n",
    "\\hat c_T(y) & = \\int_{\\R} c_T(k) e^{iky} dk = \\int_{\\R} \\left( \\int_{\\R} (e^x - e^k)^+ q_T(x) dx \\right) e^{\\a k} e^{iky} dk = \\int_{\\R} \\left( \\int_{\\R} (e^x - e^k)^+ e^{iky} e^{\\a k} dk \\right) q_T(x) dx\\\\\n",
    "&= \\int_{\\R} \\left( \\int_{-\\infty}^x (e^x - e^k) e^{iky} e^{\\a k} dk \\right) q_T(x) dx \\\\\n",
    "\\end{split}\n",
    "\n",
    "Besides\n",
    "\\begin{split}\n",
    "\\int_{-\\infty}^x (e^x - e^k) e^{iky} e^{\\a k} dk & =  e^x \\int_{-\\infty}^x e^{(\\a +iy)k} dk - \\int_{-\\infty}^x e^{(1+\\a +iy)k} dk\\\\\n",
    "&= \\frac{e^x}{\\a + iy} e^{(\\a+iy)x} -\\frac{1}{1+\\a + iy} e^{(1+\\a+iy)x} \\\\\n",
    "&= \\frac{e^{(1+\\a+iy)x}}{(\\a + iy)(1+\\a + iy)} \\\\\n",
    "\\end{split}\n",
    "\n",
    "since $\\lim_{k\\to -\\infty} e^{(\\a+iy)k} = \\lim_{k\\to -\\infty} e^{(1+\\a+iy)k} = 0$ (why?).\n",
    "\n",
    "This gives\n",
    "$$ \\hat c_T(y) = \\frac{1}{(\\a + iy)(1+\\a + iy)} \\int_{\\R} e^{(1+\\a+iy)x} q_T(x)dx = \\frac{1}{(\\a + iy)(1+\\a + iy)} \\hat q_T(y-i(1+\\a)) $$\n",
    "\n",
    "which gives an explicit relation between $\\hat c_T$ and $\\hat q_T$."
   ]
  },
  {
   "cell_type": "markdown",
   "id": "2557b282",
   "metadata": {},
   "source": [
    "<div class=\"alert-class alert-block alert-info\">\n",
    "<b>Remark:</b> This shows that \n",
    "    $$|\\hat c_T(y)| = \\frac{1}{(\\a + iy)(1+\\a + iy)} E\\left( e^{(1+\\a+iy)\\ln(S_T)}\\right) \\leq \\left| \\frac{1}{(\\a + iy)(1+\\a + iy)} \\right|  E\\left(\\left| e^{(1+\\a+iy)\\ln(S_T)}\\right|\\right) = \\left| \\frac{1}{(\\a + iy)(1+\\a + iy)} \\right|  E\\left( S_T^{1+\\a} \\right) $$\n",
    "so that as long as $\\alpha < \\sup\\{u>0, E(S_T^{1+u}) <+\\infty \\}$ then $\\hat c_T(k) \\in L^1(\\R)$.<br>\n",
    "    \n",
    "In this case then \n",
    "    $$ |\\hat c_T(y)| \\leq \\left| \\frac{1}{(\\a + iy)(1+\\a + iy)} \\right|  E\\left( S_T^{1+\\a} \\right) \\leq \\frac{A}{y^2}$$\n",
    "</div>"
   ]
  },
  {
   "cell_type": "markdown",
   "id": "a51357c0",
   "metadata": {},
   "source": [
    "Finally, from the Fourier inverse formula, one has\n",
    "$$ C_T(k) = e^{-\\a k} c_T(k) = e^{-\\a k} \\frac{1}{2 \\pi} \\int_{\\R} \\hat c_T(y) e^{-iyk} dy = e^{-\\a k} \\frac{1}{\\pi} \\int_0^{+\\infty} \\hat c_T(y) e^{-iyk} dy $$\n",
    "\n",
    "from a symmetry argument since the $c_T$ is real-valued.\n",
    "\n",
    "From this, using the numerical example on Fourier transform computation using FFT, one can use the above approach to compute calls for **all** strikes (up to discretization) at once.\n",
    "\n",
    "To get an accuracy of order $\\epsilon$, the truncation boundary $z$ in $\\int_0^{+\\infty} c_T(k) e^{-iyk} dy \\approx \\int_0^z c_T(k) e^{-iyk} dy $ can be roughly chosen such that $z > \\frac{1}{\\pi}\\frac{A}{\\epsilon}$"
   ]
  },
  {
   "cell_type": "markdown",
   "id": "0b2553f5",
   "metadata": {},
   "source": [
    "### Black-Scholes Price Correction Fourier Transform\n",
    "\n",
    "As noticed in [Carr and Madan](https://engineering.nyu.edu/sites/default/files/2018-08/CarrMadan2_0.pdf), for short term option, numerical instability can arise. Instead of considering a damped call options, they use a function $z_T(k)$ which is a **put** for strikes **lower** than the forward ($F_T = E(S_T)$ for simplicity) and **call** for strikes **higher** than the forward value and multiply that function with an hyperbolic sine to deal with the singularity at $T\\to 0$. See [Carr and Madan](https://engineering.nyu.edu/sites/default/files/2018-08/CarrMadan2_0.pdf) for details.\n",
    "\n",
    "Another approach consists in considering the difference with the Black-Scholes call function for a given constant implied volatility (e.g. the ATM implied volatility). Let's note\n",
    "$$ \\eps_T(k) = C_T(k) - C_T^{bs, \\s}(k) $$\n",
    "\n",
    "where $C_T^{bs, \\s}(k)$ is the Black-Scholes function of a call option with constant volatility $\\s$.\n",
    "\n",
    "Tedious calculations yields:\n",
    "$$ \\hat C_T^{bs, \\s}(y) = \\frac{1}{2\\pi} \\int_{\\R} e^{iyk} C_T^{bs, \\s}(k) dk = e^{-\\half \\s^2 T (y^2 + iy)}  $$\n",
    "\n",
    "It then comes the useful result:\n",
    "$$ \\hat \\eps_T(y) = \\frac{1}{2\\pi} \\int_{\\R} e^{iyk} \\eps_T(k) dx = \\frac{\\hat q_T(y)- \\hat C_T^{bs, \\s}(y)}{-y^2 + iy} $$\n",
    "\n",
    "and \n",
    "$$ C_T(k) = C_T^{bs, \\s}(k) + \\int_{\\R} e^{-iyk} \\hat \\eps_T(y) dy $$\n"
   ]
  },
  {
   "cell_type": "markdown",
   "id": "64175e3c",
   "metadata": {},
   "source": [
    "### Damped Payoff Fourier Transform and pricing of European Options\n",
    "\n",
    "The key of the above technique is that it prices (call) options for all strikes at once. When payoffs are parametrized (for options with a strike) and the Fourier transform technique can be applied to this parameter, \n",
    "\n",
    "But all European options do not always have a strike, or even if they do, we might want to be interested in an approach to directly price an European option of the form $h(x)$. \n",
    "\n",
    "Let's note $ h_{\\a}(x) = h(x) e^{-\\a x} $ and consider $x \\geq 0$ (to simply the presentation, generalizating to different situation is straightforward) so tha $h_{\\a} \\in L^1$.\n",
    "\n",
    "It then comes (ignoring discounting, assuming enough regularity for the inverse transform to hold, Fubuni's theorem, etc.), noting $p(x)$ the (risk neutral) density of the underlying:\n",
    "\\begin{split}\n",
    "E(h(S_T)) &= \\int h(x) p(x) dx = \\int h_{\\a}(x) e^{\\a x} p(x) dx \\\\\n",
    "& = \\frac{1}{2 \\pi} \\int \\left(\\int \\hat h_{\\a}(y) e^{-ixy} dy \\right) e^{\\a x} p(x) dx \\\\\n",
    "& = \\frac{1}{2 \\pi} \\int \\hat h_{\\a}(y) \\left(\\int  e^{-ixy} e^{\\a x} p(x) dx \\right) dy \\\\\n",
    "& = \\frac{1}{2 \\pi} \\int \\hat h_{\\a}(y) \\hat p(i\\a-y ) dy \n",
    "\\end{split}\n",
    "\n",
    "\n",
    "More details can be found in what is (usually) referred as to the [Lewis Approach](http://www.optioncity.net/pubs/ExpLevy.pdf)"
   ]
  },
  {
   "cell_type": "markdown",
   "id": "0b20348a",
   "metadata": {},
   "source": [
    "### Pricing Volatility Swaps\n",
    "\n",
    "The key is the following relationship:\n",
    "\n",
    "$$ \\sqrt{x} = \\frac{1}{2\\sqrt{\\pi}}\\int_0^{+\\infty} \\frac{1-e^{-zx}}{z\\sqrt{z}}dz $$\n",
    "\n",
    "\n",
    "Noting $V_T = \\int_0^T \\sigma^2_t dt$, it then comes\n",
    "$$ E(V_T) = \\frac{1}{2\\sqrt{\\pi}}\\int_0^{+\\infty} \\frac{1-E\\left(e^{-zV_T}\\right)}{z\\sqrt{z}}dz =\\frac{1}{2\\sqrt{\\pi}}\\int_0^{+\\infty} \\frac{1-\\varphi_{V_T}(iz)}{z\\sqrt{z}}dz $$\n",
    "\n",
    "\n"
   ]
  },
  {
   "cell_type": "markdown",
   "id": "c9ae4c0c",
   "metadata": {},
   "source": [
    "### Option on Realized Variance\n",
    "..."
   ]
  },
  {
   "cell_type": "markdown",
   "id": "1c76146d",
   "metadata": {},
   "source": [
    "## Fourier-Malliavin Methods for Multivariate Volatilty Estimation\n",
    "\n",
    "The original paper on this is from [Malliavin et al.](https://www.researchgate.net/publication/24055673_Fourier_Series_Method_for_Measurement_of_Multi-Variate_Volatilities) relying on Fourier Series analysis and subsequently developped in [Malliavin et al.2](https://arxiv.org/abs/0908.1890) using Fourier Transform based analysis.\n",
    "\n",
    "A book on this from [Fourier-Malliavin Volatility Estimation](https://link.springer.com/book/10.1007/978-3-319-50969-3) discuss some subsequent analysis; high frequency, market microstructure, asynchronuos observation.\n"
   ]
  },
  {
   "cell_type": "markdown",
   "id": "7ab38348",
   "metadata": {},
   "source": [
    "Let's consider processes of the form\n",
    "$$ dX^n_t = \\mu^n dt + \\sum_{m=1}^d \\s^{nm}_t dW^m_t $$\n",
    "\n",
    "Then $d<X^n, X^m>_t = \\sum_{k=1}^{d} \\s^{nk}_t\\s^{mk}_t dt$ and setting $\\S^{nm}_t = \\sum_{k=1}^{d} \\s^{nk}_t\\s^{mk}_t$, the purposes of the Fourier-Malliavin estimation is to find a non-parametric estimator for $\\S^{nm}_t$.\n",
    "\n",
    "To this end, let's define various Fourier coefficients and the Bohr-convolution product:\n",
    "$$ \\F(dX^n)(k) = \\frac{1}{2\\pi} \\int_0^{2\\pi} e^{-ikt} dX^n_t $$\n",
    "$$ \\F(\\S^{nm}) = \\frac{1}{2\\pi} \\int_0^{2\\pi} e^{-ikt} \\S^{nm}_t dt $$\n",
    "$$ (\\Phi *_B \\Psi)(k) = \\lim_{N\\to +\\infty} \\frac{1}{2N+1} \\sum_{s=-N}^N \\Phi(s)\\Psi(k-s) $$"
   ]
  },
  {
   "cell_type": "markdown",
   "id": "1061f0de",
   "metadata": {},
   "source": [
    "The interesting results are the convergence formulas given by:\n",
    "$$ \\frac{1}{2\\pi} \\F(\\S^{nm})(k) = \\F(dX^n) *_B \\F(dX^m)(k) $$\n",
    "\n",
    "From this, one can recover $\\S^{nm}$ from its Fourier Series representation but convergence could be challenging.\n",
    "\n",
    "Instead, the authors in [Malliavin et al.](https://www.researchgate.net/publication/24055673_Fourier_Series_Method_for_Measurement_of_Multi-Variate_Volatilities) / [Malliavin et al.2](https://arxiv.org/abs/0908.1890) defines a truncated version of the Bohr-convolution product defined for $|k| \\leq N$:\n",
    "$$ c_N^{nm}(k) = \\frac{1}{2N+1}\\sum_{|s| \\leq N } \\F(dX^n)(s)  \\F(dX^m)(k-s) $$\n",
    "\n",
    "and show that a Fourier-Fejer formula enables one to get an estimator for the covariance matrix.\n",
    "$$ \\S^{nm}_t = \\lim_{N \\to +\\infty} \\sum_{k=-N}^N \\left(1-\\frac{|k|}N{}\\right) c_N^{nm}(k) e^{ikt} $$\n",
    "\n",
    "The reason for using the Fourier-Fejer formula is to preserve the semi-definite positiveness of the covariance matrix.\n",
    "\n",
    "**Remark**: to compute the Bohr-convolution product for $|k| \\leq N$, we need to have $\\F(dX^n)(q)$ for $|q| \\leq 2N$."
   ]
  },
  {
   "cell_type": "markdown",
   "id": "5e93a6cb",
   "metadata": {},
   "source": [
    "Note that:\n",
    "- Just like the standard quadratic varation formula, the drift is not invovled.\n",
    "- The estimation is based on pathwise observations of the stochastic processes under consideration.\n",
    "- The methods can be adapated for high-frequency and asynchronuous, market microstructure effect with little modification as long as the Fourier coefficients are correctly approximated. More details on microstructure effects are discussed in the [book](https://link.springer.com/book/10.1007/978-3-319-50969-3) or the short [presentation](https://pdfs.semanticscholar.org/20c9/44ab9d13cfa12c936a8f3bf6d08162758f29.pdf)."
   ]
  },
  {
   "cell_type": "markdown",
   "id": "cf2daf45",
   "metadata": {},
   "source": [
    "# Other Topics"
   ]
  },
  {
   "cell_type": "markdown",
   "id": "0f84dfb4",
   "metadata": {},
   "source": [
    "## More on Stochastic Process Volatility Estimation\n",
    "\n",
    "Building on the work of Malliavin and its successors, the paper [Bayesian approach for parameter estimation of continuous-time stochastic volatility models using Fourier transform methods](https://www.sciencedirect.com/science/article/abs/pii/S0167715219302469) discusses methods to include a Bayesian approach to estimate volatility.\n"
   ]
  },
  {
   "cell_type": "markdown",
   "id": "ff811a31",
   "metadata": {},
   "source": [
    "## Fourier Neural Network\n",
    "\n",
    "Fourier Analysis naturally makes its way in the realm of neural network application. A simple Google search yields a myriad of results.\n",
    "\n",
    "Let's give two interesting examples at the time of the writting:\n",
    "- Fourier Neural Operator for Parametric Partial Differential Equations [here](https://arxiv.org/abs/2010.08895).\n",
    "- An interesting review work can be found [here](https://arxiv.org/abs/1902.03011).\n",
    "- Fourier Convolutional Neural Network [click](https://link.springer.com/chapter/10.1007/978-3-319-71249-9_47) and [here](http://ecmlpkdd2017.ijs.si/papers/paperID11.pdf) for the pdf."
   ]
  },
  {
   "cell_type": "markdown",
   "id": "6a7f51c3",
   "metadata": {},
   "source": [
    "## Simulation of Gaussian Process\n",
    "\n",
    "An application of Fourier series technique to simulating Gaussian random processes can be found [here](http://staff.washington.edu/dbp/PDFFILES/Interface-92-all.pdf).\n",
    "\n",
    "FFT can be found everywhere, even where Fourier Analysis is not the basis of the scientific approach. The recent advent of [Rough Volatility models](https://sites.google.com/site/roughvol/) consider in particular the simulation of process of the form (where $0 < \\alpha < \\half$ which is the difficult case):\n",
    "$$ X_t = \\int_0^t (t-h)^{-\\alpha} dW_u $$\n",
    "\n",
    "Standard approaches, either from the correlation matrix or a step by step disretisation yield either very time consuming or imprecise calculation. The now classic [hybrid scheme](https://link.springer.com/article/10.1007/s00780-017-0335-5) overcomes many difficulties and makes use of FFT to speed-up the calculation although Fourier Analysis is not part of the analysis therein."
   ]
  },
  {
   "cell_type": "markdown",
   "id": "d85d7eb7",
   "metadata": {},
   "source": [
    "## Fourier Methods for Solving Backward SDEs\n",
    "\n",
    "See papers [here](https://www.sciencedirect.com/science/article/abs/pii/S0168927416000040?via%3Dihub) and [here](https://www.sciencedirect.com/science/article/pii/S0377042715005191?via%3Dihub)."
   ]
  }
 ],
 "metadata": {
  "kernelspec": {
   "display_name": "Python 3 (ipykernel)",
   "language": "python",
   "name": "python3"
  },
  "language_info": {
   "codemirror_mode": {
    "name": "ipython",
    "version": 3
   },
   "file_extension": ".py",
   "mimetype": "text/x-python",
   "name": "python",
   "nbconvert_exporter": "python",
   "pygments_lexer": "ipython3",
   "version": "3.8.5"
  }
 },
 "nbformat": 4,
 "nbformat_minor": 5
}
