{
 "cells": [
  {
   "cell_type": "markdown",
   "metadata": {
    "slideshow": {
     "slide_type": "slide"
    }
   },
   "source": [
    "# Lecture 9: Optimization I\n",
    "\n",
    "\n",
    "## Topics\n",
    "\n",
    "* I. Introduction\n",
    "\n",
    "    * Formulation\n",
    "    * Types of Optimization Problems\n",
    "    * Basic Concepts\n",
    "    * Optimization Examples in Finance\n",
    "    \n",
    "* II. Unconstrained Optimization\n",
    "\n",
    "    * Optimality Characterization\n",
    "    * Solution Methods\n",
    "        * Direct search method\n",
    "        * Descent Methods\n",
    "        \n",
    "* III. Constrained Optimization\n",
    "    * General framework\n",
    "    * Duality\n",
    "    * Optimality conditions\n",
    "        * Why KKT conditions\n",
    "    * Solution Methods\n",
    "    \n",
    "The current go to source for optimization is [*Convex Optimization*](https://web.stanford.edu/~boyd/cvxbook/) by Stephen Boyd and Lieven Vandenberghe. [`scipy`](https://docs.scipy.org/doc/scipy/reference/optimize.html) can be used for most problems you will encounter (at least in class), but there are many other optimization packages available (*e.g.* [`cvxop`](https://cvxopt.org/), [`cvxpy`](https://github.com/cvxgrp/cvxpy) and  [`mystic`](https://github.com/uqfoundation/mystic)).\n",
    " \n",
    " \n"
   ]
  },
  {
   "cell_type": "markdown",
   "metadata": {
    "slideshow": {
     "slide_type": "slide"
    }
   },
   "source": [
    "\n",
    "# Introduction\n",
    "\n",
    "Optimization exists in every field and most activities in finance revolve around some goals that needed to be optimized, *e.g.* maximizing profits, minimizing risk, maximizing utility, minimizing costs, and estimating parameters etc.\n",
    "\n",
    "The theory of optimization has developed over time: \n",
    "\n",
    "In general, optimization problems are very difficult to solve and solution methods almost always involve some compromise (*e.g.* very long computation times or simplification of the problem).\n",
    "\n",
    "There are certain exceptions -- problems that can be solved efficiently and reliably:\n",
    "* least-squares problems\n",
    "* linear programming problems\n",
    "* convex optimization problems\n",
    "\n"
   ]
  },
  {
   "cell_type": "markdown",
   "metadata": {},
   "source": [
    "### Least-Squares\n",
    "\n",
    "$$\\min \\| A \\mathbf x - \\mathbf{b} \\|_2^2$$\n",
    "\n",
    "These problems are easy to recognize and, as you know, have an analytical solution\n",
    "\n",
    "$$ \\mathbf x^* = (A^T A)^{-1} A^T \\mathbf{b}$$\n",
    "\n",
    "Numerically, there are reliable and efficient algorithms and widely available software. \n",
    "\n",
    "Computation time is proportional to $n^2 k$ when $A \\in \\mathbb{R}^{k \\times n}$.\n",
    "\n",
    "There are standard techniques which increase flexibility (*e.g.* adding weights or regularization terms -- remember ridge regression?)."
   ]
  },
  {
   "cell_type": "markdown",
   "metadata": {},
   "source": [
    "### Linear Programming\n",
    "\n",
    "$$ \\min \\mathbf{c}^T \\mathbf x $$\n",
    "$$ \\text{s.t. } a_i^T \\mathbf x \\le \\mathbf{b}_i, \\;\\, i = 1, \\dots , m$$\n",
    "\n",
    "Not as easy to recognize as least-squares problems.\n",
    "\n",
    "There is no analytical solution, but there are reliable and efficient algorithms.\n",
    "\n",
    "Computation time is proportional to $n^2 m$ if $m \\ge n$ (less if the problem has a certain structure).\n",
    "\n",
    "There are standard tricks to convert problems involving $L_1$ and $L_{\\infty}$ norms or piecewise-linear functions into linear programs.\n"
   ]
  },
  {
   "cell_type": "markdown",
   "metadata": {},
   "source": [
    "### Convex Optimization\n",
    "\n",
    "$$ \\min f_0 (\\mathbf x)$$\n",
    "$$\\text{s.t. } f_i(\\mathbf x) \\le b_i, \\,\\, i=1, \\dots , m$$\n",
    "\n",
    "Many problems can be solved through convex optimization, but they are often difficult to recognize.\n",
    "\n",
    "There is no analytical solution, but there are reliable and efficient algorithms.\n",
    "\n",
    "Computation time is roughly proportional to $\\max \\{n^3,n^2 m, F\\}$, where $F$ is the cost of evaluating $f_i$'s and their first and second derivatives.\n",
    "\n",
    "Convex optimization problems include least-squares and linear problems as special cases."
   ]
  },
  {
   "cell_type": "markdown",
   "metadata": {
    "slideshow": {
     "slide_type": "subslide"
    }
   },
   "source": [
    "\n",
    "## Formulation\n",
    "\n",
    "An optimization problem usually involves three elements:\n",
    "* **Objective function**: the function to be optimized, that is, minimized or maximized: profit, loss, risk, etc.\n",
    "\n",
    "\n",
    "* **Decision Variables**: variables that are used to find the solution: number of shares in each stock, amount of capital to be invested in each sector, etc.\n",
    "\n",
    "\n",
    "* **Constraints**: choices that are restricted: total risk cannot exceed certain criteria, total amount of capital is limited, etc.\n",
    "\n",
    "\n",
    "Problems that lack constraints are called *unconstrained optimization* problems, while other are called *constrained optimization* problems. Problems with no objective function are called *feasibility* problems.\n",
    "\n",
    "Some problems may have multiple objective functions -- they are usually addressed by reducing them to a single objective function optimization or a sequence of optimization problems.\n",
    "\n",
    "If the decision variables are restricted to integers or a set of discrete possibilities, the optimization is referred to a as an *integer* or *discrete optimization*. If there is no restriction on the variables, it is a *continuous optimization* problem.\n",
    "\n",
    "\n"
   ]
  },
  {
   "cell_type": "markdown",
   "metadata": {
    "slideshow": {
     "slide_type": "subslide"
    }
   },
   "source": [
    "### Mathematically\n",
    "\n",
    "$$\n",
    "\\min_{\\mathbf x\\in \\Psi, \\; \\Psi\\subset \\mathbb{R}^n} f(\\mathbf x)\n",
    "$$\n",
    "\n",
    "where $ f(\\mathbf x): \\mathbb{R}^n \\to \\mathbb{R} $ is a scalar **objective function**, $\\Psi$ is a subset of $\\mathbb{R}^n$ and called the **feasible region**.\n",
    "\n",
    "\n",
    "\n"
   ]
  },
  {
   "cell_type": "markdown",
   "metadata": {
    "slideshow": {
     "slide_type": "fragment"
    }
   },
   "source": [
    "#### Definitions\n",
    "\n",
    "* Minimization and maximization problems are equivalent\n",
    "\n",
    "$$\n",
    "\\min_{\\mathbf x\\in \\Psi} f(\\mathbf x) = \\max_{\\mathbf x\\in \\Psi} (-f(\\mathbf x))\n",
    "$$\n",
    "\n",
    "\n"
   ]
  },
  {
   "cell_type": "markdown",
   "metadata": {
    "slideshow": {
     "slide_type": "subslide"
    }
   },
   "source": [
    "\n",
    "\n",
    "* If $\\Psi = \\mathbb{R}^n$, the problem is **unconstrained**, otherwise, it is **constrained**.\n",
    "\n",
    "\n",
    "\n",
    "\n",
    "\n"
   ]
  },
  {
   "cell_type": "markdown",
   "metadata": {
    "slideshow": {
     "slide_type": "fragment"
    }
   },
   "source": [
    "* If $f(\\mathbf x)$ is linear and $\\Psi$ is a polyhedron, then it is a **Linear Programming** problem, otherwise, **Nonlinear Programming**. (Polyhedron is defined as intersection of finite number of halfspaces and hyperplanes).\n",
    "\n"
   ]
  },
  {
   "cell_type": "markdown",
   "metadata": {
    "slideshow": {
     "slide_type": "fragment"
    }
   },
   "source": [
    "* If $f(\\mathbf x)$ is quadratic and $\\Psi$ is a polyhedron, then it is a **Quadratic Programming** problem."
   ]
  },
  {
   "cell_type": "markdown",
   "metadata": {
    "slideshow": {
     "slide_type": "fragment"
    }
   },
   "source": [
    "\n",
    "\n",
    "\n",
    "* If $f(\\mathbf x)$ and $\\Psi$ are convex, then it is a **Convex Optimization** problem (of which linear and quadratic programming are special cases).\n",
    "\n",
    "\n",
    "\n",
    "\n",
    "\n"
   ]
  },
  {
   "cell_type": "markdown",
   "metadata": {
    "slideshow": {
     "slide_type": "subslide"
    }
   },
   "source": [
    "\n",
    "\n",
    "\n",
    "\n",
    "* If $\\Psi$ contains only discrete variables, then it is a **Discrete Optimization** problem.\n",
    "\n",
    "\n",
    "\n",
    "\n",
    "\n"
   ]
  },
  {
   "cell_type": "markdown",
   "metadata": {
    "slideshow": {
     "slide_type": "fragment"
    }
   },
   "source": [
    "\n",
    "\n",
    "* If only integer variables are allowed, then it is an **Integer Programming** problem, (**Mixed Integer Programming** problems involve those in which only some of the variables are constrained to be integers).\n",
    "\n",
    "\n"
   ]
  },
  {
   "cell_type": "markdown",
   "metadata": {
    "slideshow": {
     "slide_type": "fragment"
    }
   },
   "source": [
    "\n",
    "\n",
    "\n",
    "* If the specifications of $f(\\mathbf x)$ and $\\Psi$ are NOT deterministic, then it is a  **Stochastic Programming** problem.\n",
    "\n",
    "\n"
   ]
  },
  {
   "cell_type": "markdown",
   "metadata": {
    "slideshow": {
     "slide_type": "fragment"
    }
   },
   "source": [
    "\n",
    "\n",
    "\n",
    "* Another name you often hear is **Dynamic Programming**, this does not refer to a particular type of optimization problem, rather it is a method for solving an optimization problem by breaking it down to a collection of simpler subproblems, using Bellman's Principle of Optimality.\n",
    "\n",
    "\n",
    "\n"
   ]
  },
  {
   "cell_type": "markdown",
   "metadata": {},
   "source": [
    "<center><img src = \"optimization tree.svg\" height=500 width=1050></center>"
   ]
  },
  {
   "cell_type": "markdown",
   "metadata": {},
   "source": [
    "Figure by [Cliburn Chan](https://genome.duke.edu/directory/cbb-faculty/cliburn-chan-phd)."
   ]
  },
  {
   "cell_type": "markdown",
   "metadata": {
    "slideshow": {
     "slide_type": "subslide"
    }
   },
   "source": [
    "### Basic Concepts\n",
    "\n",
    "* A point $\\mathbf x^*$ is called a **local minimum**, if $\\exists \\, \\epsilon > 0$ \n",
    "$$\n",
    "f(\\mathbf x^*) \\leq f(\\mathbf x), \\forall \\mathbf x\\in\\Psi, \\text{s.t. } \\|  \\mathbf x  - \\mathbf x^* \\| \\lt \\epsilon.\n",
    "$$"
   ]
  },
  {
   "cell_type": "markdown",
   "metadata": {
    "slideshow": {
     "slide_type": "subslide"
    }
   },
   "source": [
    "* A point $\\mathbf x^*$ is a **global minimum**, if  \n",
    "$$\n",
    "f(\\mathbf x^*) \\leq f(\\mathbf x), \\forall \\mathbf x\\in\\Psi.\n",
    "$$"
   ]
  },
  {
   "cell_type": "markdown",
   "metadata": {
    "slideshow": {
     "slide_type": "fragment"
    }
   },
   "source": [
    "* Finding the global minimum is considerably harder than a local minimum --- imaging the difference in the difficulties of getting to the top of your neighborhood hill vs getting to the top of Mt. Everest.\n",
    "\n",
    "* With one exception: **Convexity guarantees that if an optimizer converges,it converges to the global minimum**.\n",
    "\n",
    "\n"
   ]
  },
  {
   "cell_type": "code",
   "execution_count": 1,
   "metadata": {},
   "outputs": [],
   "source": [
    "import numpy as np\n",
    "import matplotlib.pyplot as plt\n",
    "import scipy.optimize as opt\n",
    "%matplotlib inline"
   ]
  },
  {
   "cell_type": "code",
   "execution_count": 4,
   "metadata": {},
   "outputs": [
    {
     "name": "stdout",
     "output_type": "stream",
     "text": [
      "     2\n",
      "1.3 x + 4 x + 0.6\n"
     ]
    }
   ],
   "source": [
    "# Create a function\n",
    "objective = np.poly1d([1.3, 4.0, 0.6]) # 1.3x^2+4x+0.6\n",
    "print(objective)"
   ]
  },
  {
   "cell_type": "code",
   "execution_count": 3,
   "metadata": {},
   "outputs": [
    {
     "name": "stdout",
     "output_type": "stream",
     "text": [
      "Optimization terminated successfully.\n",
      "         Current function value: -2.476923\n",
      "         Iterations: 20\n",
      "         Function evaluations: 40\n",
      "solved: x = [-1.53845215]\n"
     ]
    }
   ],
   "source": [
    "# Optimize\n",
    "x_ = opt.fmin(objective, [3])\n",
    "print(\"solved: x = {}\".format(x_))"
   ]
  },
  {
   "cell_type": "markdown",
   "metadata": {},
   "source": [
    "Minimizes a function using the downhill simplex algorithm. This algorithm only uses function values, not derivatives or second derivatives."
   ]
  },
  {
   "cell_type": "code",
   "execution_count": 4,
   "metadata": {},
   "outputs": [
    {
     "data": {
      "image/png": "[encoded data removed]",
      "text/plain": [
       "<Figure size 640x480 with 1 Axes>"
      ]
     },
     "metadata": {},
     "output_type": "display_data"
    }
   ],
   "source": [
    "# Plot\n",
    "x = np.linspace(-4,1,101)\n",
    "plt.plot(x, objective(x))\n",
    "plt.plot(x_, objective(x_), 'ro');"
   ]
  },
  {
   "cell_type": "markdown",
   "metadata": {},
   "source": [
    "<p>&nbsp;</p>  "
   ]
  },
  {
   "cell_type": "code",
   "execution_count": 5,
   "metadata": {},
   "outputs": [],
   "source": [
    "# Create a function\n",
    "def f(x):\n",
    "    return x**4 + 3*(x-2)**3 - 15*(x)**2 + 1"
   ]
  },
  {
   "cell_type": "code",
   "execution_count": 6,
   "metadata": {},
   "outputs": [
    {
     "name": "stdout",
     "output_type": "stream",
     "text": [
      "     fun: -54.21003937712762\n",
      " message: 'Solution found.'\n",
      "    nfev: 12\n",
      "     nit: 12\n",
      "  status: 0\n",
      " success: True\n",
      "       x: 2.668865104039653\n"
     ]
    }
   ],
   "source": [
    "soln = opt.minimize_scalar(f, method='bounded', bounds=[0, 6])\n",
    "print(soln)"
   ]
  },
  {
   "cell_type": "markdown",
   "metadata": {},
   "source": [
    "[key](https://docs.scipy.org/doc/scipy/reference/generated/scipy.optimize.OptimizeResult.html#scipy.optimize.OptimizeResult)"
   ]
  },
  {
   "cell_type": "code",
   "execution_count": 7,
   "metadata": {},
   "outputs": [
    {
     "data": {
      "image/png": "[encoded data removed]",
      "text/plain": [
       "<Figure size 640x480 with 1 Axes>"
      ]
     },
     "metadata": {},
     "output_type": "display_data"
    }
   ],
   "source": [
    "# Plot function\n",
    "x = np.linspace(-8, 5, 100)\n",
    "plt.plot(x, f(x));\n"
   ]
  },
  {
   "cell_type": "code",
   "execution_count": 8,
   "metadata": {},
   "outputs": [
    {
     "data": {
      "text/plain": [
       "     fun: -803.3955308825884\n",
       " message: '\\nOptimization terminated successfully;\\nThe returned value satisfies the termination criteria\\n(using xtol = 1.48e-08 )'\n",
       "    nfev: 17\n",
       "     nit: 11\n",
       " success: True\n",
       "       x: -5.528801125219663"
      ]
     },
     "execution_count": 8,
     "metadata": {},
     "output_type": "execute_result"
    }
   ],
   "source": [
    "opt.minimize_scalar(f, method='Brent')"
   ]
  },
  {
   "cell_type": "code",
   "execution_count": 9,
   "metadata": {},
   "outputs": [
    {
     "name": "stdout",
     "output_type": "stream",
     "text": [
      "     fun: -803.3955308825871\n",
      " message: 'Solution found.'\n",
      "    nfev: 12\n",
      "     nit: 12\n",
      "  status: 0\n",
      " success: True\n",
      "       x: -5.528801009131873\n"
     ]
    }
   ],
   "source": [
    "soln2 = opt.minimize_scalar(f, method='bounded', bounds=[-8, 6])\n",
    "print(soln2)"
   ]
  },
  {
   "cell_type": "markdown",
   "metadata": {},
   "source": [
    "<p>&nbsp;</p>  "
   ]
  },
  {
   "cell_type": "markdown",
   "metadata": {},
   "source": [
    "There are three available solvers that can be selected by the ‘method’ parameter. The default method is Brent.\n",
    "\n",
    "1. Brent uses Brent’s algorithm to find a local minimum. The algorithm uses inverse parabolic interpolation when possible to speed up convergence of the golden section method.\n",
    "\n",
    "2. Golden uses the golden section search technique. It uses analog of the bisection method to decrease the bracketed interval. It is usually preferable to use the Brent method.\n",
    "\n",
    "3. Bounded can perform bounded minimization. It uses the Brent method to find a local minimum in the interval $x_1 < x_{opt} < x_2$."
   ]
  },
  {
   "cell_type": "markdown",
   "metadata": {},
   "source": [
    "<p>&nbsp;</p>   "
   ]
  },
  {
   "cell_type": "markdown",
   "metadata": {
    "slideshow": {
     "slide_type": "subslide"
    }
   },
   "source": [
    "\n",
    "\n",
    "\n",
    "\n",
    "If $f(\\mathbf x)$ is differentiable (*i.e.* first derivatives exist), then a **necessary condition** for a local minimizer is that $\\mathbf x^*$ is a **critical point**\n",
    "\n",
    "$$\n",
    "g (\\mathbf x^*) = {\\mathbf\\nabla} _\\mathbf x f(\\mathbf x^*)  = 0\n",
    "$$\n",
    "\n",
    "* Clearly, finding the critical points is equivalent to root searching problems you encountered earlier.\n",
    "\n",
    "* Observe that solving $f(\\mathbf x) = \\mathbf{0}$ is equivalent to\n",
    "\n",
    "$$\n",
    "\\min_{\\mathbf x}\\left[ f(\\mathbf x)^T f(\\mathbf x)\\right],\n",
    "$$\n",
    "\n",
    "(although this is normally ill-advised --- doing anything through a square or higher power when you can avoid it is a bad idea --- it makes the problem harder to solve, think ill-conditioned as a starter).\n",
    "\n",
    "* But this shows the root searching problem and the optimization problem are closely related.\n"
   ]
  },
  {
   "cell_type": "markdown",
   "metadata": {
    "slideshow": {
     "slide_type": "subslide"
    }
   },
   "source": [
    "* A critical point is only a **necessary** condition for an optimum, it is not a **sufficient** condition,"
   ]
  },
  {
   "cell_type": "markdown",
   "metadata": {
    "slideshow": {
     "slide_type": "subslide"
    }
   },
   "source": [
    "<center><img src = \"saddle_point_func.png\" height=450 width=450></center>"
   ]
  },
  {
   "cell_type": "markdown",
   "metadata": {
    "slideshow": {
     "slide_type": "subslide"
    }
   },
   "source": [
    "\n",
    "* If $f(\\mathbf x)$ is twice-differentiable (*i.e.* second derivatives exist), then a **sufficient condition** for a local minimizer is that, in addition to being a critical point, the **Hessian** at $\\mathbf x^*$ is positive definite\n",
    "\n",
    "$$\n",
    " H\\, (\\mathbf x^*) = {\\mathbf\\nabla^2} _\\mathbf x f(\\mathbf x^*)  \\gt \\mathbf{0}\n",
    "$$\n",
    "\n",
    "\n",
    "\n"
   ]
  },
  {
   "cell_type": "markdown",
   "metadata": {
    "slideshow": {
     "slide_type": "fragment"
    }
   },
   "source": [
    "\n",
    "\n",
    "* These are all  natural conclusions from what you are already very familiar with (hopefully!): properties of a quadratic function and the Taylor series for a general (twice-differentiable) function\n",
    "\n",
    "$$\n",
    "f(\\mathbf x^* + \\mathbf\\delta x) = f(\\mathbf x^*) + {\\mathbf\\nabla} f(\\mathbf x^*)^T {\\mathbf\\delta x} + \\frac{1}{2} {\\mathbf\\delta x}^T{\\mathbf\\nabla^2} f(\\mathbf x^*)  {\\mathbf\\delta x} + {O}\\,(||{\\mathbf\\delta x}||^3)\n",
    "$$\n",
    "\n",
    "\n"
   ]
  },
  {
   "cell_type": "markdown",
   "metadata": {
    "slideshow": {
     "slide_type": "subslide"
    }
   },
   "source": [
    "## Optimization Examples in Finance\n",
    "\n",
    "### Portfolio Optimization\n",
    "\n",
    "$$\n",
    "\\min_{\\mathbf x}  \\frac{1}{2} \\lambda\\; \\mathbf x^T V \\mathbf x - \\mu^T \\mathbf x \\\\\n",
    "\\text{s.t. } \\;\\mathbf{e}^T \\mathbf x = 1\n",
    "$$\n",
    "\n",
    "where $\\lambda$ is the risk-aversion coefficient, $\\mu$ is the expected asset return vector and $V$ is the covariance matrix. This is a quadratic programming problem which combines expected return and weighted risk in the objective function.\n",
    "\n"
   ]
  },
  {
   "cell_type": "markdown",
   "metadata": {},
   "source": [
    "Note that this problem can be constructed in several ways:"
   ]
  },
  {
   "cell_type": "markdown",
   "metadata": {},
   "source": [
    "$$\n",
    "\\min_{\\mathbf x}  \\mathbf x^T V \\mathbf x - \\mu^T \\mathbf x \\\\\n",
    "\\text{s.t. } \\;\\mathbf{\\mu}^T \\mathbf x \\ge R \\\\\n",
    "\\mathbf{e}^T \\mathbf x = 1 \\\\\n",
    "\\mathbf x \\ge \\mathbf{0}\n",
    "$$\n",
    "the classic Markowitz mean-variance problem with no short sales or:"
   ]
  },
  {
   "cell_type": "markdown",
   "metadata": {},
   "source": [
    "$$\n",
    "\\min_{\\mathbf x} \\:  - \\mu^T \\mathbf x \\\\\n",
    "\\text{s.t. } \\;\\mathbf x^T V \\mathbf x \\le \\sigma^2 \\\\\n",
    "\\mathbf{e}^T \\mathbf x = 1 \\\\\n",
    "\\mathbf x \\ge \\mathbf{0}\n",
    "$$\n",
    "the dual to the classic Markowitz mean-variance problem with no short sales."
   ]
  },
  {
   "cell_type": "markdown",
   "metadata": {},
   "source": [
    "Or in a generalized multi-objective non-linear program:\n",
    "$$\n",
    "\\min_{\\mathbf x}  \\alpha V(\\mathbf x) - (1-\\alpha) \\mu( \\mathbf x) \\\\\n",
    "\\text{s.t. } \\;\\mathbf{e}^T \\mathbf x = 1 \\\\\n",
    "\\mathbf x \\in X\n",
    "$$\n",
    "where $\\alpha$ and $(1-\\alpha)$ are the weights given to the risk and return and  $X$ is in the set of feasible solutions."
   ]
  },
  {
   "cell_type": "markdown",
   "metadata": {},
   "source": [
    "The optimization could be constructed with excess returns, $[\\mathbf x - r_f \\mathbf{e}]$ (the formulations above have the riskless asset in the $\\mathbf x$ vector, usually as $\\mathbf x_0$). "
   ]
  },
  {
   "cell_type": "markdown",
   "metadata": {},
   "source": [
    "The optimization could be constructed with a cash budget constraint where  $\\sum_i \\mathbf w_i = \\text{W}$ where $\\text{W}$ is the amount of capital to be invested and $\\mathbf x_i$ is the cash amount invested in asset $i$. "
   ]
  },
  {
   "cell_type": "markdown",
   "metadata": {},
   "source": [
    "You will encounter all of these formulations (and more) -- the actual construct used often depends on what you are trying to achieve or demonstrate."
   ]
  },
  {
   "cell_type": "markdown",
   "metadata": {},
   "source": [
    "Obviously, constraints like short sales, diversification objectives, minimum and maximum position sizes, sector allocations, etc. can be included in the problem."
   ]
  },
  {
   "cell_type": "markdown",
   "metadata": {},
   "source": [
    "Along with tax lot considerations, transaction costs, factor models, portfolio revisions, and liabilities."
   ]
  },
  {
   "cell_type": "markdown",
   "metadata": {},
   "source": [
    "<p>&nbsp;</p>  "
   ]
  },
  {
   "cell_type": "markdown",
   "metadata": {},
   "source": [
    "<p>&nbsp;</p>  "
   ]
  },
  {
   "cell_type": "markdown",
   "metadata": {},
   "source": [
    "<center><img src = \"portfolio optimization decision.png\" height=850 width=850></center>"
   ]
  },
  {
   "cell_type": "markdown",
   "metadata": {},
   "source": [
    "From [Newfound Research](https://blog.thinknewfound.com)."
   ]
  },
  {
   "cell_type": "markdown",
   "metadata": {
    "slideshow": {
     "slide_type": "subslide"
    }
   },
   "source": [
    "\n",
    "### (Static) Asset-Liability Management\n",
    "\n",
    "$$\n",
    "\\min_{\\mathbf x} \\sum_j x_j P_j\n",
    "$$\n",
    "$$\n",
    "\\text{s.t. } \\sum_j x_j C_j(t) \\geq L(t) \\;\\;  \\forall t\n",
    "$$\n",
    "$$\n",
    "x_j \\geq 0 \\;\\; \\forall j\n",
    "$$\n",
    "\n",
    "where $x_j, P_j, C_j(t)$ are the amount, price and cashflow at time $t$ of asset $j$. $L(t)$ is the liability payment at time $t$. This is a linear programming problem.\n"
   ]
  },
  {
   "cell_type": "markdown",
   "metadata": {
    "slideshow": {
     "slide_type": "subslide"
    }
   },
   "source": [
    "\n",
    "### Volatility Surface fitting\n",
    "\n",
    "$$\n",
    "\\min_{\\sigma(S,t)} \\sum_j^n (C(\\sigma(S,t),K_j,T_j) - C_j)^2 \n",
    "$$\n",
    "\n",
    "where $\\sigma(S,t) > 0$ is the volatility value at the surface point $(S,t)$, $C(\\sigma(S,t),K_j,T_j)$ is the standard Black-Scholes formula for European call options, $C_j$ is the market quoted price of the option. This a non-linear optimization problem.\n",
    "\n"
   ]
  },
  {
   "cell_type": "markdown",
   "metadata": {},
   "source": [
    "### Bond Portfolio Immunization\n",
    "\n",
    "$$\n",
    "\\max_{\\mathbf x} \\sum_i^n D_i^{\\text{FW}} P_i y_i x_i\n",
    "$$\n",
    "$$\n",
    "\\text{s.t. } \\sum_i^n P_ix_i = P_L\n",
    "$$\n",
    "$$\n",
    "\\sum_i^n D_i^{\\text{FW}}P_ix_i = D_L^{\\text{FW}}P_L\n",
    "$$\n",
    "$$\n",
    "\\mathbf x \\ge 0\n",
    "$$"
   ]
  },
  {
   "cell_type": "markdown",
   "metadata": {},
   "source": [
    "where $P_i$ is the price of a bond, $y_i$ is the yield, $x_i$ is the weight of bond $i$ in the portfolio, $P_L$ is the present value of the liabilities. And $D^{\\text{FW}}$ is the Fisher-Weil duration given by:\n",
    "$$\n",
    "D_i^{\\text{FW}} = -\\frac{1}{P_i} \\frac{d P_i}{d r}\n",
    "$$"
   ]
  },
  {
   "cell_type": "markdown",
   "metadata": {},
   "source": [
    "note that this is for a small parallel shift in the term structure."
   ]
  },
  {
   "cell_type": "markdown",
   "metadata": {},
   "source": [
    "We could add a second-order condition to this where\n",
    "$$\n",
    "\\sum_i^n C_i P_i x_i \\ge C_L P_L\n",
    "$$\n",
    "where $C_i$ is the convexity\n",
    "$$\n",
    "C_i = -\\frac{1}{P_i} \\frac{d^2 P_i}{d r^2}\n",
    "$$"
   ]
  },
  {
   "cell_type": "markdown",
   "metadata": {},
   "source": [
    "### Approximating Correlation Matrices"
   ]
  },
  {
   "cell_type": "markdown",
   "metadata": {},
   "source": [
    "$$\n",
    "\\min \\; \\big [\\sum_{i,j}(\\Sigma_{i,j} - \\Sigma_{i,j} )^2 \\big ]^{\\frac{1}{2}}\n",
    "$$\n",
    "$$\n",
    "\\text{s.t. } \\; l_{i,j} \\le \\Sigma_{i,j} \\le u_{i,j} \\;\\;  \\forall (i,j) \\in E\n",
    "$$\n",
    "$$\n",
    "\\Sigma \\in C_s^n\n",
    "$$\n",
    "\n",
    "where $l$ and $u$ are lower and upper bounds on entries; $l_{i,i} =-1, u_{i,i} = 1, \\; \\forall i$, and $C_s^n$ is the cone of $n \\times n$ symmetric and positive semidefinite matrices.\n"
   ]
  },
  {
   "cell_type": "markdown",
   "metadata": {},
   "source": [
    "### Estimating Distribution Parameters"
   ]
  },
  {
   "cell_type": "markdown",
   "metadata": {},
   "source": [
    "With a random sample $X_1, X_2, \\cdots , X_n$ and an **assumed** probability distribution $f(x_i,\\theta)$ which depends on an unknown parameter $\\theta$. We want to find an point estimate for $\\theta$ (note that $\\theta$ could be a vector of parameters). A good estimate of the unknown parameter is the value of $\\theta$ that **maximizes** the **likelihood** of observing the data. This can be written:"
   ]
  },
  {
   "cell_type": "markdown",
   "metadata": {},
   "source": [
    "$$\n",
    "\\begin{split}\n",
    "L(\\theta) &= \\text{Pr} (X_1=x_1,X_2=x_2,\\cdots,X_n=x_n)\\\\\n",
    "&= f(x_1,\\theta) \\cdot f(x_2,\\theta)\\cdots f(x_n,\\theta)\\\\\n",
    "& = \\prod_{i=1}^n f(x_i,\\theta)\n",
    "\\end{split}\n",
    "$$"
   ]
  },
  {
   "cell_type": "markdown",
   "metadata": {},
   "source": [
    "The first equality is the definition of the joint probability mass function. The second comes from the fact that we have a random sample, which implies that the data are iid. And the last is just shorthand. While one could try to maximize the function $L(\\theta)$, taking the derivative of these functions is often complicated. Instead, we can use the fact that the natural logarithm is an increasing function of $x$ an maximize the **log-likelihood function**. Or, in practice, we minimize the negative of the log-likelihood function."
   ]
  },
  {
   "cell_type": "markdown",
   "metadata": {},
   "source": [
    "In many cases, we can simply take the derivative and set it equal to zero, but for complicated probability distributions, we rely on numerical optimization."
   ]
  },
  {
   "cell_type": "markdown",
   "metadata": {},
   "source": [
    "<p>&nbsp;</p>  "
   ]
  },
  {
   "cell_type": "markdown",
   "metadata": {
    "slideshow": {
     "slide_type": "slide"
    }
   },
   "source": [
    "# Unconstrained Optimization\n",
    "\n",
    "* Unconstrained means:\n",
    "\n",
    "$$\n",
    "\\min_{\\mathbf x\\in  \\mathbb{R}^n} f(\\mathbf x)\n",
    "$$\n",
    "\n",
    "\n",
    "\n",
    "* We will focus on smooth functions (typically at least twice differentiable). \n",
    "\n",
    "The main purpose here is to show the various types of algorithms for solving the unconstrained optimization problems.\n",
    "\n",
    "\n"
   ]
  },
  {
   "cell_type": "markdown",
   "metadata": {
    "slideshow": {
     "slide_type": "subslide"
    }
   },
   "source": [
    "\n",
    "## Optimality Characterization\n",
    "\n",
    "* The **necessary condition**: the solution must be a **critical point**:\n",
    "\n",
    "$$\n",
    "{g} (\\mathbf x^*) = {\\mathbf\\nabla} _\\mathbf x f(\\mathbf x^*)  = 0\n",
    "$$\n",
    "\n",
    "\n"
   ]
  },
  {
   "cell_type": "markdown",
   "metadata": {
    "slideshow": {
     "slide_type": "fragment"
    }
   },
   "source": [
    "\n",
    "* The **sufficient condition**: the **Hessian** at the optimal point must be positive definite,\n",
    "\n",
    "$$\n",
    "{H} (\\mathbf x^*) = {\\mathbf\\nabla _\\mathbf x}^2  f(\\mathbf x^*)  \\gt \\mathbf 0\n",
    "$$\n",
    "\n",
    "\n"
   ]
  },
  {
   "cell_type": "markdown",
   "metadata": {
    "slideshow": {
     "slide_type": "subslide"
    }
   },
   "source": [
    "## Solution Methods\n",
    "\n",
    "* In practice, optimization problems are often solved using an **iterative algorithm**, which searches for a sequence of points,\n",
    "\n",
    "$$\n",
    "\\mathbf x^0, \\mathbf x^1, \\mathbf x^2, \\cdots, \\mathbf x^n, \\cdots\n",
    "$$\n",
    "with \n",
    "$$\n",
    "f(\\mathbf x^{k+1}) < f(\\mathbf x^k).\n",
    "$$\n",
    "\n",
    "* The algorithm typically stops at $||{\\mathbf\\nabla} f(\\mathbf x) || < \\epsilon $ for some small $\\epsilon$.\n",
    "\n",
    "\n",
    "* Step size and search direction are critical choices that change the behavior of the search.\n",
    "* No guarantee for finding the global minimum.\n",
    "\n",
    "\n"
   ]
  },
  {
   "cell_type": "markdown",
   "metadata": {
    "slideshow": {
     "slide_type": "subslide"
    }
   },
   "source": [
    "### Direct Search Method\n",
    "\n",
    "* Similar in spirit to the Bisection method but in more than one dimension. Requires only function evaluations.\n",
    "* Often applied to nonlinear optimization problems for which derivatives may not be known.\n",
    "\n",
    "* Representative: [Nelder-Mead Method](https://en.wikipedia.org/wiki/Nelder%E2%80%93Mead_method) (or Simplex Search method)\n",
    "    * Searches through the simplex vertices (polytope of N+1 vertices in N dimensions)\n",
    "    * Techniques: reflection - expansion - contraction - reduction"
   ]
  },
  {
   "cell_type": "code",
   "execution_count": 10,
   "metadata": {},
   "outputs": [
    {
     "data": {
      "text/html": [
       "<img src=\"Nelder-Mead_Himmelblau.gif\"/>"
      ],
      "text/plain": [
       "<IPython.core.display.Image object>"
      ]
     },
     "execution_count": 10,
     "metadata": {},
     "output_type": "execute_result"
    }
   ],
   "source": [
    "from IPython.display import Image\n",
    "Image(url='Nelder-Mead_Himmelblau.gif')"
   ]
  },
  {
   "cell_type": "markdown",
   "metadata": {
    "slideshow": {
     "slide_type": "subslide"
    }
   },
   "source": [
    "* Advantages: simple, only function evaluation needed.\n",
    "\n",
    "* Deficiencies: slow, may fail to converge in higher dimensions\n",
    "\n",
    "* Suffers from the \"curse of dimensionality\"\n",
    "\n"
   ]
  },
  {
   "cell_type": "markdown",
   "metadata": {
    "slideshow": {
     "slide_type": "subslide"
    }
   },
   "source": [
    "### Descent Methods\n",
    "\n",
    "**Algorithm for general descent method**\n",
    "1. Given a starting point $ \\mathbf x_0$, generate a series of points $x_{k+1} = x_k + \\alpha_k p_k$.\n",
    "2. Repeating until the stopping criterion is satisfied.\n",
    "\n",
    "Critical choices:\n",
    "1. Determine a descent direction $p_k$ at each $k$;\n",
    "2. Line search. Choose a step size $\\alpha_k > 0$;\n"
   ]
  },
  {
   "cell_type": "markdown",
   "metadata": {},
   "source": [
    "Given the choice of direction, $p_k$, we would ideally minimize:\n",
    "\n",
    "$$ \\phi (\\alpha) = f (x_k + \\alpha p_k)$$\n",
    "\n",
    "with respect to $\\alpha$. This is usually computationally intensive. So generally, a sequence of $\\alpha$ candidates are generated and the \"best\" is chosen according to some \"condition\"."
   ]
  },
  {
   "cell_type": "markdown",
   "metadata": {},
   "source": [
    "\n",
    "<center><img src = \"topographic-map-contour_v2.jpg\" height=800 width=1050></center>"
   ]
  },
  {
   "cell_type": "markdown",
   "metadata": {
    "slideshow": {
     "slide_type": "subslide"
    }
   },
   "source": [
    "\n",
    "* Different ways of choosing the descent direction giving rise to different descent method and convergence rates.\n",
    "\n",
    "* The line search method falls into two categories: exact line search and backtracking line search. \n",
    "\n"
   ]
  },
  {
   "cell_type": "markdown",
   "metadata": {
    "slideshow": {
     "slide_type": "subslide"
    }
   },
   "source": [
    "\n",
    "#### Steepest Descent Method\n",
    "\n",
    "In steepest descent, we choose $p_k = -\\mathbf{ \\nabla f(x_k)}$, because the gradient points in the direction of steepest ascent.\n",
    "\n",
    "\n",
    "* If the objective function is differentiable, we have\n",
    "\n",
    "$$\n",
    "f(\\mathbf x_k + \\mathbf{\\alpha_k} \\mathbf{p_k}) \\approx f(\\mathbf x_k) + \\alpha [ {\\mathbf\\nabla} f(\\mathbf x_k)^T \\mathbf{p_k} ]                        \n",
    "$$\n",
    "\n",
    "* This means choosing **gradient** direction\n",
    "\n",
    "$$\n",
    "\\mathbf{p_k} = - {\\mathbf\\nabla} f(\\mathbf x_k)\n",
    "$$\n",
    "\n",
    "will lead to the **steepest** descent at points sufficiently close to $\\mathbf x_k$.\n",
    "\n",
    "\n"
   ]
  },
  {
   "cell_type": "markdown",
   "metadata": {
    "slideshow": {
     "slide_type": "subslide"
    }
   },
   "source": [
    "* The line search step size can be done in one-dimensional minimization:\n",
    "\n",
    "$$\n",
    "\\alpha_k = \\min_{\\alpha} f(\\mathbf x_k + \\alpha_k \\mathbf{p}_k) \\triangleq \\min_{\\alpha} \\phi(\\alpha).\n",
    "$$\n",
    "\n",
    "\n",
    "* Exact line search (choosing the minimizing $\\alpha_k$ above) leads to zig-zag path towards the minimum: which means slow convergence\n",
    "\n",
    "$$\n",
    "\\phi'(\\mathbf{\\alpha_k}) = 0 =  [{\\mathbf\\nabla} f(\\mathbf x_k + \\mathbf{\\alpha_k p_k})]^T \\mathbf{p_k} ,\n",
    "$$\n",
    "\n",
    "(notice the two consecutive search directions will be perpendicular to each other)."
   ]
  },
  {
   "cell_type": "markdown",
   "metadata": {
    "slideshow": {
     "slide_type": "subslide"
    }
   },
   "source": [
    "If we use this method of steepest descent, consecutive search directions are always perpendicular. This is clearly inefficient since we are only using the current steepest descent direction and throwing away all previous knowledge which could potentially be used to build a more accurate picture of the functional we are trying to minimize. In fact, the steepest descents method is only efficient when the minimum is **spherical** (*i.e.* when the eigenvalues of the Hessian are all of the same order). If this is not the case, then the method is very slow, and is not guaranteed to converge to the minimum in a finite number of steps.\n",
    "\n",
    "* Convergence: the steepest descent method converges linearly, and it will behave badly if the condition number of the **Hessian** (the second order derivative matrix) is large."
   ]
  },
  {
   "cell_type": "markdown",
   "metadata": {
    "slideshow": {
     "slide_type": "subslide"
    }
   },
   "source": [
    "While steepest descent is not the most efficient procedure, it captures the essence of optimization procedures with the two key factors:\n",
    "1. search direction and,\n",
    "2. suitable step size."
   ]
  },
  {
   "cell_type": "markdown",
   "metadata": {
    "slideshow": {
     "slide_type": "subslide"
    }
   },
   "source": [
    "\n",
    "#### Newton's Method\n",
    "\n",
    "* If the objective function is twice differentiable, we have with more accuracy\n",
    "\n",
    "$$\n",
    "f(\\mathbf x_k + \\mathbf{p_k}) \\approx f(\\mathbf x_k) + {\\mathbf{\\nabla}} f(\\mathbf x_k)^T {\\mathbf{p_k}} + \\frac{1}{2} {\\mathbf{p_k}}^T{\\mathbf{\\nabla}^2} f(\\mathbf x_k)  {\\mathbf{p_k}}\n",
    "$$\n",
    "\n",
    "* The right hand side is a quadratic function in ${\\mathbf{p_k}}$, so the minimum is achieved at\n",
    "\n",
    "$$\n",
    "\\mathbf{p_k} = - \\frac{\\mathbf{\\nabla} f(\\mathbf x_k)}{\\mathbf{\\nabla^2} f(\\mathbf x_k)}.\n",
    "$$\n",
    "\n",
    "\n"
   ]
  },
  {
   "cell_type": "markdown",
   "metadata": {},
   "source": [
    "Notice that $\\mathbf{\\nabla^2} f(\\mathbf x_k)$ is the Hessian. If the Hessian is not positive definite, $\\mathbf{p_k}$ may not always point in the descent direction. But in the neighborhood of a local minimum, the Hessian *will be* positive definite.\n",
    "\n",
    "The advantage of combining the gradient with the Hessian is that the gradient is corrected for curvature."
   ]
  },
  {
   "cell_type": "markdown",
   "metadata": {
    "slideshow": {
     "slide_type": "subslide"
    }
   },
   "source": [
    "\n",
    "\n",
    "* Convergence of Newton's method is rapid in general, and quadratic once entering into the pure Newton phase.\n",
    "\n",
    "* Disadvantages of Newton's method:\n",
    "    * The cost of computing and storing the Hessian can be very high, if not outright prohibitive\n",
    "    * The cost of solving the set of linear equations at the Newton step\n",
    "    \n",
    "* There are various ways to compute an approximation of the Hessian to substantially reduce the cost of computing the Newton step. This leads to a family of algorithms called **Quasi-Newton methods**.\n"
   ]
  },
  {
   "cell_type": "markdown",
   "metadata": {},
   "source": [
    "#### BFGS\n",
    "\n",
    "[Broyden-Fletcher-Goldfarb-Shanno algorithm](https://en.wikipedia.org/wiki/Broyden%E2%80%93Fletcher%E2%80%93Goldfarb%E2%80%93Shanno_algorithm) is a quasi-Newton method of optimization where the Hessian is replaced by some approximation. We solve the system of equations\n",
    "\n",
    "$$ \n",
    "B_k \\mathbf{p_k} = - \\mathbf{\\nabla} f(\\mathbf x_k)\n",
    "$$\n",
    "\n",
    "for the direction $\\mathbf{p_k}$.\n",
    "\n",
    "At each step, the new approximation satisfies the secant condition:\n",
    "\n",
    "$$ \n",
    "B_{k+1} (\\mathbf{x_{k+1}} - \\mathbf{x_{k}}) = \\mathbf{\\nabla} f(\\mathbf{x_{k+1}}) -\\mathbf{\\nabla} f(\\mathbf{x_{k}})\n",
    "$$"
   ]
  },
  {
   "cell_type": "markdown",
   "metadata": {},
   "source": [
    "It may appear that this approach would require a lot of computation, and approximating the inverse of the\n",
    "Hessian directly (as was done in the previous subsection) would be a better approach. However, obtaining\n",
    "solutions to these systems is implemented quite efficiently by maintaining the so-called Cholesky\n",
    "factorization of the matrix $B_{k+1} = L \\Lambda L^T$ (here $L$ is a lower triangular matrix, and $\\Lambda$ is a diagonal\n",
    "matrix). This factorization is easy to implement and update and is numerically stable."
   ]
  },
  {
   "cell_type": "markdown",
   "metadata": {
    "slideshow": {
     "slide_type": "slide"
    }
   },
   "source": [
    "# Constrained Optimization\n",
    "\n",
    "* Now we add  constraints.\n",
    "\n",
    "* Constrained problems are much harder: even a seemingly simple Integer Programming problem is **NP-Complete** (*i.e.* it can't be solved in [polynomial time](https://mathworld.wolfram.com/PolynomialTime.html)).\n",
    "\n"
   ]
  },
  {
   "cell_type": "markdown",
   "metadata": {
    "slideshow": {
     "slide_type": "subslide"
    }
   },
   "source": [
    "\n",
    "\n",
    "## General Framework\n",
    "\n",
    "\n",
    "* Constrained Optimization Problem\n",
    "\n",
    "$$\\min_{\\mathbf x\\in \\mathbb{R}^n }   f(\\mathbf x)$$\n",
    "\n",
    "$$\n",
    "\\begin{align*}\n",
    "\\text{s.t. }\\mathbf{h}(\\mathbf x)  &= \\mathbf{0} \\\\\n",
    "\\mathbf{g}(\\mathbf x) &\\leq \\mathbf{0}\n",
    "\\end{align*}$$\n",
    "\n",
    "\n",
    "* Will be focusing on smooth functions (typically at least twice differentiable). \n",
    "\n",
    "* The goal is to find a local minimum satisfying the constraints.\n",
    "\n",
    "* And we will denote the overall domain of definition as\n",
    "$\\mathcal{D} = DOM(f)\\cap DOM(h) \\cap DOM(g)$."
   ]
  },
  {
   "cell_type": "markdown",
   "metadata": {
    "slideshow": {
     "slide_type": "subslide"
    }
   },
   "source": [
    "\n",
    "## Duality\n",
    "\n",
    "* Define the **Lagrangian** as,\n"
   ]
  },
  {
   "cell_type": "markdown",
   "metadata": {},
   "source": [
    "\n",
    "$$\n",
    "\\mathbb{\\mathcal L}(\\mathbf x, \\boldsymbol{ \\mu}, \\boldsymbol{ \\lambda}) = f(\\mathbf x) + \\boldsymbol{ \\mu}^T \\mathbf{h}(\\mathbf x) + \\boldsymbol{ \\lambda}^T \\mathbf{g}(\\mathbf x).\n",
    "$$\n"
   ]
  },
  {
   "cell_type": "markdown",
   "metadata": {},
   "source": [
    "\n",
    "Here the vectors $\\boldsymbol{ \\mu}, \\boldsymbol{ \\lambda}$ are called the **dual variables** or **Lagrange Multipliers**. When we form the Lagrangian, the idea is that instead of strictly enforcing feasibility, we penalize violation and make it part of the objective.\n",
    "   \n",
    "Then $\\mathbb{\\mathcal L}(\\mathbf x, \\boldsymbol{ \\mu}, \\boldsymbol{ \\lambda})$ is a lower bound of the optimal value of the original optimization problem.\n",
    "\n",
    "\n",
    "* Further, define the **Lagrangian dual function** as,\n"
   ]
  },
  {
   "cell_type": "markdown",
   "metadata": {},
   "source": [
    "\n",
    "$$\n",
    "\\hat{f}(\\boldsymbol{ \\mu}, \\boldsymbol{ \\lambda}) = \\inf_{\\mathbf x\\in \\mathbb{\\mathcal D}}\\; \\mathbb{\\mathcal L}(\\mathbf x, \\boldsymbol{ \\mu}, \\boldsymbol{ \\lambda}) =\\inf_{\\mathbf x\\in\\mathbb{\\mathcal D}} \\left( f(\\mathbf x) + \\boldsymbol{ \\mu}^T \\mathbf{h}(\\mathbf x) + \\boldsymbol{ \\lambda}^T \\mathbf{g}(\\mathbf x) \\right).\n",
    "$$\n",
    "\n",
    "\n",
    "* The dual function takes the pointwise infimum of a family of affine functions of $(\\boldsymbol{ \\mu}, \\boldsymbol{ \\lambda})$, it is a concave function.\n",
    "\n"
   ]
  },
  {
   "cell_type": "markdown",
   "metadata": {
    "slideshow": {
     "slide_type": "subslide"
    }
   },
   "source": [
    "\n",
    "\n",
    "\n",
    "* If $\\mathbf x^*$ is a solution to the original optimization problem (**Primal Problem**), then for $\\forall \\boldsymbol{ \\lambda} \\ge 0$ and any $\\boldsymbol{ \\mu}$,\n",
    "\n",
    "$$\n",
    "\\hat{f}(\\boldsymbol{ \\mu}, \\boldsymbol{ \\lambda}) \\leq f(\\mathbf x^*).\n",
    "$$\n",
    "\n",
    "\n"
   ]
  },
  {
   "cell_type": "markdown",
   "metadata": {
    "slideshow": {
     "slide_type": "subslide"
    }
   },
   "source": [
    "\n",
    "\n",
    "* Which leads to the optimization problem (**Dual Problem**)\n",
    "\n",
    "$$\n",
    "\\max_{(\\boldsymbol{ \\mu}, \\boldsymbol{ \\lambda})}   \\hat{f}(\\boldsymbol{ \\mu}, \\boldsymbol{ \\lambda}) =\\inf_{\\mathbf x\\in\\mathbb{\\mathcal D}} \\left( f(\\mathbf x) + \\boldsymbol{ \\mu}^T \\mathbf{h}(\\mathbf x) + \\boldsymbol{ \\lambda}^T \\mathbf{g}(\\mathbf x) \\right)\n",
    "$$\n",
    "$$\n",
    "\\text{s.t. } \\boldsymbol{ \\lambda} \\ge 0\n",
    "$$\n",
    "\n",
    "* If $(\\boldsymbol{ \\mu}^*, \\boldsymbol{ \\lambda}^*)$ is a solution to the  **Dual Problem**, it's straightforward that **weak duality** holds,\n",
    "\n",
    "$$\n",
    "\\hat{f}(\\boldsymbol{ \\mu}^*, \\boldsymbol{ \\lambda}^*) \\leq f(\\mathbf x^*).\n",
    "$$\n",
    "\n",
    "\n",
    "\n"
   ]
  },
  {
   "cell_type": "markdown",
   "metadata": {
    "slideshow": {
     "slide_type": "subslide"
    }
   },
   "source": [
    "\n",
    "\n",
    "\n",
    "* However, if the **Primal problem** satisfies certain **constraint qualifications** (such as, convexity or [Slater's condition](https://en.wikipedia.org/wiki/Slater%27s_condition)), then the **strong duality** holds,\n",
    "$$\n",
    "\\hat{f}(\\boldsymbol{ \\mu}^*, \\boldsymbol{ \\lambda}^*) = f(\\mathbf x^*),\n",
    "$$\n",
    "\n",
    "which implies the primal and the dual problems are equivalent.\n",
    "\n",
    "\n",
    "\n",
    "\n"
   ]
  },
  {
   "cell_type": "markdown",
   "metadata": {
    "slideshow": {
     "slide_type": "subslide"
    }
   },
   "source": [
    "\n",
    "## Optimality Conditions\n",
    "\n",
    "* From the duality principle, \n",
    "\n",
    "    1. $ \\mathbf{\\nabla}_{\\mathbf x}\\mathbb{\\mathcal L}(\\mathbf x^*, \\boldsymbol{ \\mu}^*, \\boldsymbol{ \\lambda}^*) = \\mathbf{0} $, stationarity \n",
    "    2. $ \\mathbf{h}(\\mathbf x^*)  = \\mathbf{0}; \\mathbf{g}(\\mathbf x^*) \\leq \\mathbf{0} $, feasibility  \n",
    "    3. $ \\boldsymbol{ \\lambda}^* \\ge \\mathbf{0} $, dual feasibility  (component-wise) \n",
    "    4. $ \\boldsymbol{ \\lambda}^*  \\mathbf{g}(\\mathbf x^*) = \\mathbf{0} $, complementary slackness (component-wise)\n",
    "    5. $ \\mathbf{\\nabla}^2\\mathbb{\\mathcal L}(\\mathbf x^*, \\boldsymbol{ \\mu}^*, \\boldsymbol{ \\lambda}^*) \\gt \\mathbf 0 $, Hessian positive definite constraints\n",
    "\n",
    "\n",
    "These conditions are called **KKT conditions** ([Karush-Kuhn-Tucker](https://en.wikipedia.org/wiki/Karush%E2%80%93Kuhn%E2%80%93Tucker_conditions)) --- the necessary and sufficient conditions for $\\mathbf x^*$ to be a local minimizer.\n",
    "\n",
    "\n"
   ]
  },
  {
   "cell_type": "markdown",
   "metadata": {
    "slideshow": {
     "slide_type": "subslide"
    }
   },
   "source": [
    "\n",
    "\n",
    "### Exploring the KKT conditions further\n",
    "\n",
    "* For the **unconstrained** case, the conditions 2, 3 and 4 drop out, what's left are:\n",
    "\n",
    "    1. $ \\mathbf{\\nabla}_{\\mathbf x}f(\\mathbf x^*) = \\mathbf{0} $, stationarity \n",
    "    5. $ \\mathbf{\\nabla}^2f(\\mathbf x^*) \\gt \\mathbf 0 $, Hessian positive definite constraints\n",
    "\n",
    "\n",
    "* which we are familiar with---the necessary and sufficient condition for $\\mathbf x^*$ to be a (local) minimizer.\n"
   ]
  },
  {
   "cell_type": "markdown",
   "metadata": {
    "slideshow": {
     "slide_type": "subslide"
    }
   },
   "source": [
    "\n",
    "* For the **equality constrained** case, let's take a look at the Lagrange function\n",
    "\n",
    "$$\n",
    "\\mathbb{\\mathcal L}(\\mathbf x, \\boldsymbol{ \\mu}) = f(\\mathbf x) + \\boldsymbol{ \\mu}^T \\mathbf{h}(\\mathbf x)\n",
    "$$\n",
    "\n",
    "\n",
    "* If we simply consider this as an unconstrained problem with $(\\mathbf x, \\boldsymbol{ \\mu})$ as the new unknown vector and apply the two conditions above\n",
    "\n",
    "    1. $ \\mathbf{\\nabla}_{\\mathbf x}\\mathbb{\\mathcal L}(\\mathbf x^*, \\boldsymbol{ \\mu}^*) = \\mathbf{0} $, stationarity \n",
    "    2. $ \\mathbf{\\nabla}_{\\boldsymbol{ \\mu}}\\mathbb{\\mathcal L}(\\mathbf x^*, \\boldsymbol{ \\mu}^*) = \\mathbf{0} $, stationarity \n",
    "    5. $ \\mathbf{\\nabla}^2_{\\mathbf x\\mathbf x}\\mathbb{\\mathcal L}(\\mathbf x^*, \\boldsymbol{ \\mu}^*) \\gt \\mathbf{0} $, Hessian positive definite constraints\n",
    "\n",
    "\n",
    "* Notice the second condition above is simply $\\mathbf{h}(\\mathbf x^*)  = \\mathbf{0}$.\n"
   ]
  },
  {
   "cell_type": "markdown",
   "metadata": {
    "slideshow": {
     "slide_type": "subslide"
    }
   },
   "source": [
    "\n",
    "* For the **inequality(only) constrained** problems, the answer can be analyzed in two scenarios based on how the local minimizer $\\mathbf x^*$ is situated in the feasible region.\n",
    "\n",
    "\n",
    "* **Scenario 1**: $\\mathbf{g}(\\mathbf x^*) < \\mathbf{0}$,  in this case the point $\\mathbf x^*$ is an interior point of the feasible domain and the constraints is called **inactive** and the case simply reduces to the unconstrained case:\n",
    "\n",
    "    1. $ \\mathbf{\\nabla}_{\\mathbf x}f(\\mathbf x^*) = \\mathbf{0} $, stationarity \n",
    "    5. $ \\mathbf{\\nabla}^2_{\\mathbf x\\mathbf x}f(\\mathbf x^*) \\gt \\mathbf{0} $, Hessian positive definite constraints\n",
    "    2. and of course $ \\mathbf{g}(\\mathbf x^*) < \\mathbf{0} $,\n",
    "\n",
    "\n"
   ]
  },
  {
   "cell_type": "markdown",
   "metadata": {
    "slideshow": {
     "slide_type": "subslide"
    }
   },
   "source": [
    "\n",
    "\n",
    "* **Scenario 2**: $\\mathbf{g}(\\mathbf x^*) = \\mathbf{0}$,  in this case the point $\\mathbf x^*$ is right on the boundary of the feasible domain and the constraints is called **active** and the case reduces to the equality constrained case:\n",
    "\n",
    "    1. $ \\mathbf{\\nabla}_{\\mathbf x}f(\\mathbf x^*) + \\boldsymbol{ \\lambda}^T \\mathbf{\\nabla}_{\\mathbf x}\\mathbf{g}(\\mathbf x^*) = \\mathbf{0} $, stationarity \n",
    "    5. $ \\mathbf{\\nabla}^2_{\\mathbf x\\mathbf x}f(\\mathbf x^*) \\gt \\mathbf{0} $, Hessian positive definite constraints\n",
    "    2. $ \\mathbf{g}(\\mathbf x^*) = \\mathbf{0} $\n",
    "    3. and $ \\boldsymbol{ \\lambda} > 0 $ component wise\n",
    "\n",
    "\n",
    "* Note the last condition ensures that the decreasing direction of $f(\\mathbf x)$ is  strictly pointing outwards of the feasible region."
   ]
  },
  {
   "cell_type": "markdown",
   "metadata": {
    "slideshow": {
     "slide_type": "subslide"
    }
   },
   "source": [
    "* Best way to visualize the conditions 1 and 4 above is through the following example, where\n",
    "\n",
    "$$ f(\\mathbf x^*) = (x_1 -2)^2 + (x_2 + 2)^2, \\;\\;\\; g(\\mathbf x^*) = x_1^2 + x_2^2 - 1$$"
   ]
  },
  {
   "cell_type": "markdown",
   "metadata": {
    "slideshow": {
     "slide_type": "subslide"
    }
   },
   "source": [
    "<center><img src = \"KKT_cond_4.PNG\" height=500 width=700></center>"
   ]
  },
  {
   "cell_type": "markdown",
   "metadata": {
    "slideshow": {
     "slide_type": "subslide"
    }
   },
   "source": [
    "  * with $ \\boldsymbol{ \\lambda} > 0 $."
   ]
  },
  {
   "cell_type": "markdown",
   "metadata": {},
   "source": [
    "Let's look at a simple unconstrained and constrained optimization:\n",
    "\n",
    "$$ \\max f(x) = 2 x_0 x_1 + 2 x_0 - x_0^2 - 2 x_1^2 $$\n",
    "$$ \\text{s.t. } x_0^3 - x_1 = 0$$\n",
    "$$ x_1 \\ge 1$$"
   ]
  },
  {
   "cell_type": "code",
   "execution_count": 11,
   "metadata": {},
   "outputs": [
    {
     "name": "stdout",
     "output_type": "stream",
     "text": [
      "Optimization terminated successfully    (Exit mode 0)\n",
      "            Current function value: -2.0\n",
      "            Iterations: 4\n",
      "            Function evaluations: 5\n",
      "            Gradient evaluations: 4\n",
      "Unconstrained solution: [2. 1.]\n"
     ]
    }
   ],
   "source": [
    "'''\n",
    "  Maximize: f(x) = 2*x0*x1 + 2*x0 - x0**2 - 2*x1**2\n",
    "  \n",
    "  Subject to:    x0**3 - x1 == 0\n",
    "                         x1 >= 1\n",
    "'''\n",
    "import numpy as np\n",
    "\n",
    "def objective(x, sign=1.0):\n",
    "    return sign*(2*x[0]*x[1] + 2*x[0] - x[0]**2 - 2*x[1]**2)\n",
    "\n",
    "def derivative(x, sign=1.0):\n",
    "    dfdx0 = sign*(-2*x[0] + 2*x[1] + 2)\n",
    "    dfdx1 = sign*(2*x[0] - 4*x[1])\n",
    "    return np.array([ dfdx0, dfdx1 ])\n",
    "\n",
    "# unconstrained\n",
    "result = opt.minimize(objective, [-1.0,1.0], args=(-1.0,),\n",
    "                      jac=derivative, method='SLSQP', options={'disp': True})\n",
    "print(\"Unconstrained solution: {}\".format(result.x))"
   ]
  },
  {
   "cell_type": "code",
   "execution_count": 12,
   "metadata": {},
   "outputs": [
    {
     "name": "stdout",
     "output_type": "stream",
     "text": [
      "Optimization terminated successfully    (Exit mode 0)\n",
      "            Current function value: -1.0000001831052137\n",
      "            Iterations: 9\n",
      "            Function evaluations: 14\n",
      "            Gradient evaluations: 9\n",
      "Constrained solution: [1.00000009 1.        ]\n"
     ]
    }
   ],
   "source": [
    "cons = ({'type': 'eq',\n",
    "         'fun' : lambda x: np.array([x[0]**3 - x[1]]),\n",
    "         'jac' : lambda x: np.array([3.0*(x[0]**2.0), -1.0])},# jac only for SLSQP\n",
    "        {'type': 'ineq',\n",
    "         'fun' : lambda x: np.array([x[1] - 1]),\n",
    "         'jac' : lambda x: np.array([0.0, 1.0])})\n",
    "\n",
    "# constrained\n",
    "result = opt.minimize(objective, [-1.0,1.0], args=(-1.0,), jac=derivative, \n",
    "                      constraints=cons, method='SLSQP', options={'disp': True})\n",
    "\n",
    "print(\"Constrained solution: {}\".format(result.x))"
   ]
  },
  {
   "cell_type": "markdown",
   "metadata": {
    "slideshow": {
     "slide_type": "subslide"
    }
   },
   "source": [
    "## Solution Methods\n",
    "\n",
    "* There are two main competing approaches to solve the constrained optimization problems:\n",
    "    * Sequential Quadratic Programming (SQP): BFGS, NLOPT, SNOPT\n",
    "    * Interior Point Method (IPT): IPOPT, KNITRO, LOQO\n",
    "* We are not going in detail, but will touch on the SQP method slightly (and get to the IPT method later).\n",
    "\n"
   ]
  },
  {
   "cell_type": "markdown",
   "metadata": {
    "slideshow": {
     "slide_type": "subslide"
    }
   },
   "source": [
    "\n",
    "* The SQP is a natural extension of the Newton's Descent method introduced earlier for the unconstrained case: recall that the Newton's method does a quadratic optimization in each iteration step. For SQP, at each step, the original optimization problem is approximated with\n",
    "\n",
    "$$\n",
    "\\min_{\\mathbf x\\in \\mathbb{R}^n} {\\mathbf\\nabla} f(\\mathbf x_k)^T {(\\mathbf x - \\mathbf x_k)} + \\frac{1}{2} {(\\mathbf x - \\mathbf x_k)}^T{\\mathbf\\nabla^2} f(\\mathbf x_k)  (\\mathbf x - \\mathbf x_k)\n",
    "$$\n",
    "\n",
    "$$\n",
    "\\text{s.t. } \\mathbf{\\nabla} \\mathbf{h}(\\mathbf x_k)^T (\\mathbf x - \\mathbf x_k) + \\mathbf{h}(\\mathbf x_k)  = \\mathbf{0}\n",
    "$$\n",
    "\n",
    "$$\n",
    "\\mathbf{\\nabla} \\mathbf{g}(\\mathbf x_k)^T {(\\mathbf x - \\mathbf x_k)} + \\mathbf{g}(\\mathbf x_k)  \\leq \\mathbf{0}\n",
    "$$\n",
    "\n",
    "* This is a constrained quadratic programming problem, which is \"slightly\" easier to deal with than the original problem.\n",
    "\n",
    "\n",
    "**NB:**[There are several alternative solution methods](https://docs.scipy.org/doc/scipy/reference/generated/scipy.optimize.minimize.html)"
   ]
  },
  {
   "cell_type": "markdown",
   "metadata": {},
   "source": [
    "# Why is Optimization Difficult?\n",
    "\n",
    "Pictures from the paper by [Weise, Zapf, and Nebro](https://www.semanticscholar.org/paper/Why-Is-Optimization-Difficult-Weise-Zapf/982246f814961d294965a59548d3739eefc0480d):"
   ]
  },
  {
   "cell_type": "markdown",
   "metadata": {},
   "source": [
    "<center><img src = \"optimize-1.png\" height=500 width=700></center>\n",
    "\n",
    "<center><img src = \"optimize-2.png\" height=500 width=700></center>\n",
    "\n",
    "<center><img src = \"optimize-3.png\" height=500 width=700></center>\n",
    "\n",
    "<center><img src = \"optimize-4.png\" height=500 width=700></center>\n",
    "\n",
    "<center><img src = \"optimize-5.png\" height=500 width=700></center>\n",
    "\n",
    "<center><img src = \"optimize-6.png\" height=500 width=700></center>\n",
    "\n",
    "<center><img src = \"optimize-7.png\" height=500 width=700></center>\n",
    "\n",
    "<center><img src = \"optimize-8.png\" height=500 width=700></center>"
   ]
  },
  {
   "cell_type": "markdown",
   "metadata": {},
   "source": [
    "<p>&nbsp;</p>   "
   ]
  },
  {
   "cell_type": "markdown",
   "metadata": {},
   "source": [
    "<p>&nbsp;</p>"
   ]
  },
  {
   "cell_type": "markdown",
   "metadata": {},
   "source": [
    "<p>&nbsp;</p>"
   ]
  },
  {
   "cell_type": "markdown",
   "metadata": {},
   "source": [
    "<center><img src = \"local-global.png\" height=500 width=700></center>"
   ]
  },
  {
   "cell_type": "markdown",
   "metadata": {},
   "source": [
    "# Difficult Optimizations?\n",
    "\n",
    "Let's try the last one in the image above -- it is known as the [Rosenbrock function](https://en.wikipedia.org/wiki/Rosenbrock_function) and is often used as a test function for optimization. `scipy` includes it as a test function."
   ]
  },
  {
   "cell_type": "markdown",
   "metadata": {},
   "source": [
    "The Rosenbrock function of $N$ variables is given by:\n",
    "$$ \n",
    "f(x) = \\sum_{i=1}^{N-1} 100 (x_{i+1}-x_i^2)^2 + (1- x_i)^2\n",
    "$$\n",
    "\n",
    "The minimum value of this function is $0$ achieved when $x_i = 1$."
   ]
  },
  {
   "cell_type": "markdown",
   "metadata": {},
   "source": [
    "<center><img src = \"rosenbrock.png\" height=500 width=700></center>"
   ]
  },
  {
   "cell_type": "markdown",
   "metadata": {
    "slideshow": {
     "slide_type": "subslide"
    }
   },
   "source": [
    "Solving the optimization using `scipy` using **Nelder-Mead** algorithm:"
   ]
  },
  {
   "cell_type": "code",
   "execution_count": 33,
   "metadata": {
    "slideshow": {
     "slide_type": "subslide"
    }
   },
   "outputs": [
    {
     "name": "stdout",
     "output_type": "stream",
     "text": [
      "Optimization terminated successfully.\n",
      "         Current function value: 0.000000\n",
      "         Iterations: 475\n",
      "         Function evaluations: 748\n",
      "The solution from Nelder-Mead: [0.99999436 1.00000238 1.00000132 1.00000071 1.00000564 1.00001216]\n"
     ]
    }
   ],
   "source": [
    "import numpy as np\n",
    "from scipy.optimize import minimize\n",
    "import warnings\n",
    "warnings.simplefilter(\"ignore\")\n",
    "\n",
    "x0 = np.array([1.3, 0.7, 0.8, 2.2, 1.2, 2.1])\n",
    "res = minimize(opt.rosen, x0, method='nelder-mead',\n",
    "                options={'xtol': 1e-8, 'disp': True})\n",
    "\n",
    "print(\"The solution from Nelder-Mead:\", res.x)"
   ]
  },
  {
   "cell_type": "markdown",
   "metadata": {},
   "source": [
    "If you don't specify the algorithm, `scipy` will **choose** for you (BFGS):"
   ]
  },
  {
   "cell_type": "code",
   "execution_count": 24,
   "metadata": {},
   "outputs": [
    {
     "name": "stdout",
     "output_type": "stream",
     "text": [
      "The result is: [0.99999958 0.99999917 0.99999836 0.99999675 0.99999351 0.99998702]\n",
      "With  308  function evaluations\n"
     ]
    }
   ],
   "source": [
    "import scipy.optimize as opt\n",
    "import numpy as np\n",
    "\n",
    "# initial guess\n",
    "x0 = 1.3, 0.7, 0.8, 2.2, 1.2, 2.1\n",
    "\n",
    "result1 = opt.minimize(opt.rosen, x0)\n",
    "print('The result is:',result1.x)\n",
    "# number of function evaluations\n",
    "print('With ', result1.nfev, ' function evaluations')"
   ]
  },
  {
   "cell_type": "code",
   "execution_count": 25,
   "metadata": {},
   "outputs": [
    {
     "name": "stdout",
     "output_type": "stream",
     "text": [
      "Complete Output\n",
      "      fun: 5.634337620724431e-11\n",
      " hess_inv: array([[0.00266813, 0.00343834, 0.00591772, 0.0114173 , 0.02290438,\n",
      "        0.04590847],\n",
      "       [0.00343834, 0.00716736, 0.01223109, 0.0235568 , 0.0470258 ,\n",
      "        0.09429555],\n",
      "       [0.00591772, 0.01223109, 0.02476797, 0.04757588, 0.09488584,\n",
      "        0.19027688],\n",
      "       [0.0114173 , 0.0235568 , 0.04757588, 0.09570821, 0.19082238,\n",
      "        0.38268512],\n",
      "       [0.02290438, 0.0470258 , 0.09488584, 0.19082238, 0.38533657,\n",
      "        0.77286466],\n",
      "       [0.04590847, 0.09429555, 0.19027688, 0.38268512, 0.77286466,\n",
      "        1.55532096]])\n",
      "      jac: array([-2.68424802e-06,  4.17130669e-07,  1.04201190e-08,  2.30714263e-07,\n",
      "        1.61945953e-08,  1.58069335e-08])\n",
      "  message: 'Optimization terminated successfully.'\n",
      "     nfev: 308\n",
      "      nit: 34\n",
      "     njev: 44\n",
      "   status: 0\n",
      "  success: True\n",
      "        x: array([0.99999958, 0.99999917, 0.99999836, 0.99999675, 0.99999351,\n",
      "       0.99998702])\n"
     ]
    }
   ],
   "source": [
    "print('Complete Output')\n",
    "print(result1)"
   ]
  },
  {
   "cell_type": "markdown",
   "metadata": {},
   "source": [
    "You can also provide the **derivative**:"
   ]
  },
  {
   "cell_type": "code",
   "execution_count": 26,
   "metadata": {},
   "outputs": [
    {
     "name": "stdout",
     "output_type": "stream",
     "text": [
      "The result is: [1.         1.         1.00000001 1.00000001 1.00000002 1.00000005]\n",
      "With  44  function evaluations\n",
      "With  44  derivative evaluations\n"
     ]
    }
   ],
   "source": [
    "# again, but this time provide the derivative\n",
    "result2 = opt.minimize(opt.rosen, x0, jac=opt.rosen_der)\n",
    "print('The result is:',result2.x)\n",
    "# number of function evaluations and derivative evaluations\n",
    "print('With ',result2.nfev, ' function evaluations')\n",
    "print('With ',result2.njev, ' derivative evaluations')"
   ]
  },
  {
   "cell_type": "code",
   "execution_count": 27,
   "metadata": {},
   "outputs": [
    {
     "name": "stdout",
     "output_type": "stream",
     "text": [
      "Complete Output\n",
      "      fun: 7.399068228134796e-15\n",
      " hess_inv: array([[0.00266783, 0.00343817, 0.00591675, 0.01141399, 0.02290045,\n",
      "        0.04590083],\n",
      "       [0.00343817, 0.00716844, 0.01223267, 0.02355795, 0.04703565,\n",
      "        0.09431259],\n",
      "       [0.00591675, 0.01223267, 0.02477024, 0.04757661, 0.09490205,\n",
      "        0.19030383],\n",
      "       [0.01141399, 0.02355795, 0.04757661, 0.09570213, 0.19083814,\n",
      "        0.38270653],\n",
      "       [0.02290045, 0.04703565, 0.09490205, 0.19083814, 0.38542173,\n",
      "        0.77301225],\n",
      "       [0.04590083, 0.09431259, 0.19030383, 0.38270653, 0.77301225,\n",
      "        1.55556117]])\n",
      "      jac: array([-3.03593892e-06,  4.47130478e-07, -1.52471141e-08,  3.56704746e-07,\n",
      "       -1.68484675e-08,  1.91083593e-08])\n",
      "  message: 'Optimization terminated successfully.'\n",
      "     nfev: 44\n",
      "      nit: 34\n",
      "     njev: 44\n",
      "   status: 0\n",
      "  success: True\n",
      "        x: array([1.        , 1.        , 1.00000001, 1.00000001, 1.00000002,\n",
      "       1.00000005])\n"
     ]
    }
   ],
   "source": [
    "print('Complete Output')\n",
    "print(result2)"
   ]
  },
  {
   "cell_type": "markdown",
   "metadata": {},
   "source": [
    "**But** if we choose a different starting point:"
   ]
  },
  {
   "cell_type": "code",
   "execution_count": 28,
   "metadata": {},
   "outputs": [
    {
     "name": "stdout",
     "output_type": "stream",
     "text": [
      "[-0.96205102  0.93573939  0.8807136   0.77787767  0.60509366] @ 77 evals\n",
      "[1.         1.         1.00000001 1.00000001 1.00000002] @ 113 evals\n",
      "[1. 1. 1. 1. 1.] @ 127 evals\n",
      "[-0.96205101  0.93573936  0.88071353  0.77787756  0.60509351] @ 74 evals\n",
      "[1.         1.         1.         0.99999999 0.99999999] @ 64 evals\n",
      "[-0.96205102  0.93573939  0.88071357  0.77787763  0.60509358] @ 164 evals\n",
      "[1.         0.99999999 0.99999999 0.99999997 0.99999994] @ 115 evals\n",
      "[1.         1.         1.         1.         0.99999999] @ 155 evals\n",
      "[-0.96205102  0.93573939  0.88071359  0.77787766  0.60509365] @ 133 evals\n",
      "[1.         0.99999999 0.99999998 0.99999996 0.99999992] @ 133 evals\n"
     ]
    }
   ],
   "source": [
    "# however, note for a different x0...\n",
    "for i in range(10):\n",
    "    x0 = np.random.randint(-20,20,5)\n",
    "    result = opt.minimize(opt.rosen, x0, jac=opt.rosen_der)\n",
    "    print(\"{} @ {} evals\".format(result.x, result.nfev))"
   ]
  },
  {
   "cell_type": "markdown",
   "metadata": {},
   "source": [
    "Let's try another complex optimization, the negative [normalized sinc function](https://en.wikipedia.org/wiki/Sinc_function):"
   ]
  },
  {
   "cell_type": "code",
   "execution_count": 29,
   "metadata": {},
   "outputs": [
    {
     "data": {
      "image/png": "[encoded data removed]",
      "text/plain": [
       "<Figure size 640x480 with 1 Axes>"
      ]
     },
     "metadata": {},
     "output_type": "display_data"
    }
   ],
   "source": [
    "%matplotlib inline\n",
    "def f(x, offset):\n",
    "    return -np.sinc(x-offset)\n",
    "\n",
    "x = np.linspace(-20, 20, 100)\n",
    "plt.plot(x, f(x, 5));"
   ]
  },
  {
   "cell_type": "code",
   "execution_count": 30,
   "metadata": {},
   "outputs": [
    {
     "data": {
      "text/plain": [
       "     fun: -0.049029624014074166\n",
       " message: '\\nOptimization terminated successfully;\\nThe returned value satisfies the termination criteria\\n(using xtol = 1.48e-08 )'\n",
       "    nfev: 15\n",
       "     nit: 10\n",
       " success: True\n",
       "       x: -1.4843871263953001"
      ]
     },
     "execution_count": 30,
     "metadata": {},
     "output_type": "execute_result"
    }
   ],
   "source": [
    "# note how additional function arguments are passed in\n",
    "sol = opt.minimize_scalar(f, args=(5,)) # offset = 5\n",
    "sol"
   ]
  },
  {
   "cell_type": "code",
   "execution_count": 31,
   "metadata": {},
   "outputs": [
    {
     "data": {
      "text/plain": [
       "<matplotlib.lines.Line2D at 0x255da8fb760>"
      ]
     },
     "execution_count": 31,
     "metadata": {},
     "output_type": "execute_result"
    },
    {
     "data": {
      "image/png": "[encoded data removed]",
      "text/plain": [
       "<Figure size 640x480 with 1 Axes>"
      ]
     },
     "metadata": {},
     "output_type": "display_data"
    }
   ],
   "source": [
    "plt.plot(x, f(x, 5))\n",
    "plt.axvline(sol.x,color='r')"
   ]
  },
  {
   "cell_type": "code",
   "execution_count": 32,
   "metadata": {},
   "outputs": [
    {
     "data": {
      "image/png": "[encoded data removed]",
      "text/plain": [
       "<Figure size 640x480 with 1 Axes>"
      ]
     },
     "metadata": {},
     "output_type": "display_data"
    }
   ],
   "source": [
    "lower = np.random.uniform(-20, 20, 100)\n",
    "upper = lower + 1\n",
    "sols = [opt.minimize_scalar(f, args=(5,),\n",
    "                            bracket=(l, u)) for (l, u) in zip(lower, upper)]\n",
    "\n",
    "idx = np.argmin([sol.fun for sol in sols])\n",
    "sol = sols[idx]\n",
    "\n",
    "plt.plot(x, f(x, 5))\n",
    "plt.axvline(sol.x,color='r');"
   ]
  },
  {
   "cell_type": "markdown",
   "metadata": {},
   "source": [
    "This is an example of stochastic optimization where we have built our own \"stochastic\" component."
   ]
  },
  {
   "cell_type": "markdown",
   "metadata": {},
   "source": [
    "# Solving Optimization Problems\n",
    "\n",
    "Optimization is more art than science. You have to choose both the correct problem to solve, the correct optimizer, the correct starting point, and the correct bounds. You should think of optimization as a tool to **help** you get to the solution, not as something that produces the \"answer\" to your problem. Never just believe the solution an optimizer (of any kind) produces -- test the solution. And before you use any optimizer, it is a good idea to test it on a problem where you know the solution (maybe an analytical solution).\n",
    "\n",
    "**If** you can plot your problem, you should. Your eye probably provides the best approximate solution for low dimensional problems. Even using contour plots can help.\n",
    "\n",
    "Standard diagnostic tools for optimization:\n",
    "* Eye-squared -- look at the plotted solution against the objective\n",
    "* Run the optimization several times to see if it produces consistent results\n",
    "* Change the starting values several times to see if it produces consistent results\n",
    "* Analyze a log of intermediate results per iteration -- does it converge in a way that makes sense?\n",
    "* Look at the covariance matrix, the Jacobian, and the Hessian (whichever makes sense in the context of the problem) -- what is the condition number? Can you trust its stability?\n",
    "\n",
    "\n",
    "\n",
    "\n",
    "\n"
   ]
  },
  {
   "cell_type": "markdown",
   "metadata": {},
   "source": [
    "<p>&nbsp;</p>"
   ]
  },
  {
   "cell_type": "markdown",
   "metadata": {
    "slideshow": {
     "slide_type": "subslide"
    }
   },
   "source": [
    "\n",
    "# References: \n",
    "S. Boyd and L. Vandenberghe (2004), Convex Optimization, Cambridge University Press.\n"
   ]
  }
 ],
 "metadata": {
  "hide_input": false,
  "kernelspec": {
   "display_name": "Python 3 (ipykernel)",
   "language": "python",
   "name": "python3"
  },
  "language_info": {
   "codemirror_mode": {
    "name": "ipython",
    "version": 3
   },
   "file_extension": ".py",
   "mimetype": "text/x-python",
   "name": "python",
   "nbconvert_exporter": "python",
   "pygments_lexer": "ipython3",
   "version": "3.7.4"
  },
  "toc": {
   "base_numbering": 1,
   "nav_menu": {},
   "number_sections": true,
   "sideBar": true,
   "skip_h1_title": false,
   "title_cell": "Table of Contents",
   "title_sidebar": "Contents",
   "toc_cell": false,
   "toc_position": {},
   "toc_section_display": true,
   "toc_window_display": false
  },
  "varInspector": {
   "cols": {
    "lenName": 16,
    "lenType": 16,
    "lenVar": 40
   },
   "kernels_config": {
    "python": {
     "delete_cmd_postfix": "",
     "delete_cmd_prefix": "del ",
     "library": "var_list.py",
     "varRefreshCmd": "print(var_dic_list())"
    },
    "r": {
     "delete_cmd_postfix": ") ",
     "delete_cmd_prefix": "rm(",
     "library": "var_list.r",
     "varRefreshCmd": "cat(var_dic_list()) "
    }
   },
   "types_to_exclude": [
    "module",
    "function",
    "builtin_function_or_method",
    "instance",
    "_Feature"
   ],
   "window_display": false
  },
  "vscode": {
   "interpreter": {
    "hash": "3e6b2df9b109e3c6fb59c52c4b7d0de50c5b5ffa8dffcba1947487826ddefa10"
   }
  }
 },
 "nbformat": 4,
 "nbformat_minor": 1
}
