{
 "cells": [
  {
   "cell_type": "markdown",
   "metadata": {
    "id": "PtcBjMq7YV3f"
   },
   "source": [
    "\n",
    "\n",
    "# Homework 2 - Recurrent Neural Networks"
   ]
  },
  {
   "cell_type": "markdown",
   "metadata": {
    "id": "Rn-cOk1iZTtR"
   },
   "source": [
    "In this part of the homework we are going to work with Recurrent Neural Networks, in particular GRU. One of the greatest things that Recurrent Neural Networks can do when working with sequences is retaining data from several timesteps in the past. We are going to explore that property by constructing an 'echo' Recurrent Neural Network.\n",
    "\n",
    "The goal here is to make a model that given a sequence of letters or digits will output that same sequence, but with a certain delay. Let's say the input is a string 'abacaba', we want the model to not output anything for 3 steps (delay length), and then output the original string step by step, except the last 3 characters. So, target output is then 'XXXabac', where 'X' is empty output.\n",
    "\n",
    "This is similar to [this notebook](https://github.com/Atcold/pytorch-Deep-Learning/blob/master/09-echo_data.ipynb) (which you should refer to when doing this assignment), except we're working not with a binary string, but with a sequence of integers between 0 and some N. In our case N is 26, which is the number of letters in the alphabet."
   ]
  },
  {
   "cell_type": "markdown",
   "metadata": {
    "id": "npLlE973as6x"
   },
   "source": [
    "## Dataset\n",
    "\n",
    "Let's implement the dataset. In our case, the data is basically infinite, as we can always generate more examples on the fly, so there's no need to load it from disk."
   ]
  },
  {
   "cell_type": "code",
   "execution_count": 1,
   "metadata": {
    "executionInfo": {
     "elapsed": 2402,
     "status": "ok",
     "timestamp": 1707872886947,
     "user": {
      "displayName": "xinqiao Tong",
      "userId": "11012755143423850768"
     },
     "user_tz": 300
    },
    "id": "mkEEMyvzIMRx"
   },
   "outputs": [],
   "source": [
    "import random\n",
    "import string\n",
    "import torch\n",
    "\n",
    "# Max value of the generated integer. 26 is chosen becuase it's\n",
    "# the number of letters in English alphabet.\n",
    "N = 26\n",
    "\n",
    "\n",
    "def idx_to_onehot(x, k=N+1):\n",
    "    \"\"\" Converts the generated integers to one-hot vectors \"\"\"\n",
    "    ones = torch.sparse.torch.eye(k)\n",
    "    shape = x.shape\n",
    "    res = ones.index_select(0, x.view(-1).type(torch.int64))\n",
    "    return res.view(*shape, res.shape[-1])\n",
    "\n",
    "\n",
    "class EchoDataset(torch.utils.data.IterableDataset):\n",
    "\n",
    "    def __init__(self, delay=4, seq_length=15, size=1000):\n",
    "        self.delay = delay\n",
    "        self.seq_length = seq_length\n",
    "        self.size = size\n",
    "\n",
    "    def __len__(self):\n",
    "        return self.size\n",
    "\n",
    "    def __iter__(self):\n",
    "        \"\"\" Iterable dataset doesn't have to implement __getitem__.\n",
    "            Instead, we only need to implement __iter__ to return\n",
    "            an iterator (or generator).\n",
    "        \"\"\"\n",
    "        for _ in range(self.size):\n",
    "            seq = torch.tensor([random.choice(range(1, N + 1)) for i in range(self.seq_length)], dtype=torch.int64)\n",
    "            result = torch.cat((torch.zeros(self.delay), seq[:self.seq_length - self.delay])).type(torch.int64)\n",
    "            yield seq, result\n",
    "\n",
    "DELAY = 4\n",
    "DATASET_SIZE = 200000\n",
    "ds = EchoDataset(delay=DELAY, size=DATASET_SIZE)\n",
    "\n",
    "def batch_data_generator(single_data_generator, batch_size):\n",
    "    batch_data = []\n",
    "    batch_labels = []\n",
    "    res = []\n",
    "    for data_point, label in single_data_generator:\n",
    "        batch_data.append(idx_to_onehot(data_point))\n",
    "        batch_labels.append(label)\n",
    "        if len(batch_data) == batch_size:\n",
    "            res.append((torch.stack(batch_data,dim=0), torch.stack(batch_labels,dim=0)))\n",
    "            batch_data = []\n",
    "            batch_labels = []\n",
    "    # Yield the remaining data if it's less than the batch size\n",
    "    if batch_data:\n",
    "        res.append((torch.stack(batch_data,dim=0), torch.stack(batch_labels,dim=0)))\n",
    "    return res"
   ]
  },
  {
   "cell_type": "markdown",
   "metadata": {
    "id": "nNrZqYURcKSl"
   },
   "source": [
    "## Model\n",
    "\n",
    "Now, we want to implement the model. For our purposes, we want to use GRU. The architecture consists of GRU and a decoder. Decoder is responsible for decoding the GRU hidden state to yield a predicting for the next output. The parts you are responsible for filling with your code are marked with `TODO`."
   ]
  },
  {
   "cell_type": "code",
   "execution_count": 2,
   "metadata": {
    "executionInfo": {
     "elapsed": 4,
     "status": "ok",
     "timestamp": 1707872886947,
     "user": {
      "displayName": "xinqiao Tong",
      "userId": "11012755143423850768"
     },
     "user_tz": 300
    },
    "id": "rLEWi76Hn33j"
   },
   "outputs": [],
   "source": [
    "def string_to_one_hot(s):\n",
    "    # Initialize one-hot encoding tensor\n",
    "    one_hot = torch.zeros(len(s), N+1, dtype=torch.float)\n",
    "    # Iterate over each character in the string\n",
    "    for i, char in enumerate(s):\n",
    "        one_hot[i,ord(char)-96] = 1\n",
    "    return one_hot"
   ]
  },
  {
   "cell_type": "code",
   "execution_count": 3,
   "metadata": {
    "executionInfo": {
     "elapsed": 3,
     "status": "ok",
     "timestamp": 1707872886947,
     "user": {
      "displayName": "xinqiao Tong",
      "userId": "11012755143423850768"
     },
     "user_tz": 300
    },
    "id": "nigN_o4Mb9Nx"
   },
   "outputs": [],
   "source": [
    "import torch.nn.functional as F\n",
    "\n",
    "class GRUMemory(torch.nn.Module):\n",
    "\n",
    "    def __init__(self, hidden_size):\n",
    "        super().__init__()\n",
    "        self.gru = torch.nn.GRU(N+1,hidden_size,batch_first=True)\n",
    "        self.fc1 = torch.nn.Linear(in_features=hidden_size, out_features=128)\n",
    "        self.fc2 = torch.nn.Linear(in_features=128, out_features=N+1)\n",
    "\n",
    "    def forward(self, x, hidden=None):\n",
    "        # inputs: x - input tensor of shape (batch_size, seq_length, N+1)\n",
    "        # returns:\n",
    "        # logits (scores for softmax) of shape (batch size, seq_length, N + 1)\n",
    "        x, hidden = self.gru(x, hidden)\n",
    "        x = F.relu(self.fc1(x))\n",
    "        x = self.fc2(x)\n",
    "        return x, hidden\n",
    "\n",
    "    @torch.no_grad()\n",
    "    def test_run(self, s):\n",
    "        # This function accepts one string s containing lowercase characters a-z.\n",
    "        # You need to map those characters to one-hot encodings,\n",
    "        # then get the result from your network, and then convert the output\n",
    "        # back to a string of the same length, with 0 mapped to ' ',\n",
    "        # and 1-26 mapped to a-z.\n",
    "        x = string_to_one_hot(s)\n",
    "        output, _ = self.forward(x)\n",
    "        output = F.softmax(output,dim=1)\n",
    "        _ , pred = torch.max(output,dim=1)\n",
    "        pred = pred.tolist()\n",
    "        res = ''\n",
    "        for i in pred:\n",
    "            if i == 0:\n",
    "                res += ' '\n",
    "            else:\n",
    "                res += chr(i+96)\n",
    "        return res"
   ]
  },
  {
   "cell_type": "markdown",
   "metadata": {
    "id": "A9whwmVu9OIx"
   },
   "source": [
    "## Training\n",
    "Below you need to implement the training of the model. We give you more freedom as for the implementation. The two limitations are that it has to execute within 10 minutes, and that error rate should be below 1%."
   ]
  },
  {
   "cell_type": "code",
   "execution_count": 4,
   "metadata": {
    "executionInfo": {
     "elapsed": 2,
     "status": "ok",
     "timestamp": 1707872886947,
     "user": {
      "displayName": "xinqiao Tong",
      "userId": "11012755143423850768"
     },
     "user_tz": 300
    },
    "id": "lUZkeRnVTNzG"
   },
   "outputs": [],
   "source": [
    "def test_model(model, sequence_length=15):\n",
    "    \"\"\"\n",
    "    This is the test function that runs 100 different strings through your model,\n",
    "    and checks the error rate.\n",
    "    \"\"\"\n",
    "    total = 0\n",
    "    correct = 0\n",
    "    for i in range(500):\n",
    "        s = ''.join([random.choice(string.ascii_lowercase) for i in range(random.randint(15, 25))])\n",
    "        result = model.test_run(s)\n",
    "        for c1, c2 in zip(s[:-DELAY], result[DELAY:]):\n",
    "            correct += int(c1 == c2)\n",
    "        total += len(s) - DELAY\n",
    "\n",
    "    return correct / total"
   ]
  },
  {
   "cell_type": "code",
   "execution_count": 5,
   "metadata": {
    "executionInfo": {
     "elapsed": 13949,
     "status": "ok",
     "timestamp": 1707872900894,
     "user": {
      "displayName": "xinqiao Tong",
      "userId": "11012755143423850768"
     },
     "user_tz": 300
    },
    "id": "OKLavgkwzLBM"
   },
   "outputs": [],
   "source": [
    "batch_size = 64\n",
    "train_data = batch_data_generator(ds,batch_size)"
   ]
  },
  {
   "cell_type": "code",
   "execution_count": 6,
   "metadata": {
    "executionInfo": {
     "elapsed": 1308,
     "status": "ok",
     "timestamp": 1707872902200,
     "user": {
      "displayName": "xinqiao Tong",
      "userId": "11012755143423850768"
     },
     "user_tz": 300
    },
    "id": "ZmUX2SIrS_r-"
   },
   "outputs": [],
   "source": [
    "model = GRUMemory(128)\n",
    "criterion = torch.nn.CrossEntropyLoss()\n",
    "optimizer = torch.optim.RMSprop(model.parameters(), lr=0.005)\n",
    "n_epochs = 5"
   ]
  },
  {
   "cell_type": "code",
   "execution_count": 7,
   "metadata": {
    "executionInfo": {
     "elapsed": 5,
     "status": "ok",
     "timestamp": 1707872902200,
     "user": {
      "displayName": "xinqiao Tong",
      "userId": "11012755143423850768"
     },
     "user_tz": 300
    },
    "id": "Jd4cK6KPPog5"
   },
   "outputs": [],
   "source": [
    "def train():\n",
    "    model.train()\n",
    "    for epoch in range(1,n_epochs+1):\n",
    "        correct = 0\n",
    "        hidden = None\n",
    "        for batch_idx in range(len(train_data)):\n",
    "            data, target = train_data[batch_idx]\n",
    "            if hidden is not None: hidden.detach_()\n",
    "            logits, hidden = model(data, hidden)\n",
    "            _ , pred = torch.max(logits,dim=2)\n",
    "            optimizer.zero_grad()\n",
    "            #logits = logits.permute(0,2,1)\n",
    "            loss = criterion(logits.view(-1,N+1), target.view(-1))\n",
    "            loss.backward()\n",
    "            optimizer.step()\n",
    "            correct += (pred == target).int().sum().item()\n",
    "        print(f'Train Epoch: {epoch}/{n_epochs}, loss: {loss.item():.3f}, accuracy {correct/DATASET_SIZE/15*100:.1f}%')"
   ]
  },
  {
   "cell_type": "code",
   "execution_count": 8,
   "metadata": {
    "colab": {
     "base_uri": "https://localhost:8080/"
    },
    "executionInfo": {
     "elapsed": 241436,
     "status": "ok",
     "timestamp": 1707873146113,
     "user": {
      "displayName": "xinqiao Tong",
      "userId": "11012755143423850768"
     },
     "user_tz": 300
    },
    "id": "9lV9BscxCCAI",
    "outputId": "09a64971-2bda-4379-d2e1-654ff6376268"
   },
   "outputs": [
    {
     "name": "stdout",
     "output_type": "stream",
     "text": [
      "Train Epoch: 1/5, loss: 0.598, accuracy 66.5%\n",
      "Train Epoch: 2/5, loss: 0.586, accuracy 72.9%\n",
      "Train Epoch: 3/5, loss: 0.588, accuracy 73.1%\n",
      "Train Epoch: 4/5, loss: 0.585, accuracy 73.2%\n",
      "Train Epoch: 5/5, loss: 0.584, accuracy 73.3%\n",
      "tests passed\n"
     ]
    }
   ],
   "source": [
    "import time\n",
    "start_time = time.time()\n",
    "train()\n",
    "end_time = time.time()\n",
    "duration = end_time - start_time\n",
    "accuracy = test_model(model)\n",
    "assert duration < 600, 'execution took f{duration:.2f} seconds, which longer than 10 mins'\n",
    "assert accuracy > 0.99, f'accuracy is too low, got {accuracy}, need 0.99'\n",
    "print('tests passed')"
   ]
  },
  {
   "cell_type": "markdown",
   "metadata": {
    "id": "sB0EVNBtDhpN"
   },
   "source": [
    "## Variable delay model\n",
    "\n",
    "Now, to make this more complicated, we want to have varialbe delay. So, now, the goal is to transform a sequence of pairs (character, delay) into a character sequence with given delay. Delay is constant within one sequence."
   ]
  },
  {
   "cell_type": "markdown",
   "metadata": {
    "id": "3i_iwX_AEOCH"
   },
   "source": [
    "### Dataset\n",
    "As before, we first implement the dataset:"
   ]
  },
  {
   "cell_type": "code",
   "execution_count": 25,
   "metadata": {
    "id": "E4G5b8kuEUEd"
   },
   "outputs": [],
   "source": [
    "import random\n",
    "import string\n",
    "import torch\n",
    "import torch.nn.functional as F\n",
    "\n",
    "# Max value of the generated integer. 26 is chosen becuase it's\n",
    "# the number of letters in English alphabet.\n",
    "N = 26\n",
    "\n",
    "\n",
    "def idx_to_onehot(x, k=N+1):\n",
    "    \"\"\" Converts the generated integers to one-hot vectors \"\"\"\n",
    "    ones = torch.sparse.torch.eye(k)\n",
    "    shape = x.shape\n",
    "    res = ones.index_select(0, x.view(-1).type(torch.int64))\n",
    "    return res.view(*shape, res.shape[-1])\n",
    "\n",
    "\n",
    "class VariableDelayEchoDataset(torch.utils.data.IterableDataset):\n",
    "\n",
    "    def __init__(self, max_delay=8, seq_length=20, size=1000):\n",
    "        self.max_delay = max_delay\n",
    "        self.seq_length = seq_length\n",
    "        self.size = size\n",
    "\n",
    "    def __len__(self):\n",
    "        return self.size\n",
    "\n",
    "    def __iter__(self):\n",
    "        for _ in range(self.size):\n",
    "            seq = torch.tensor([random.choice(range(1, N + 1)) for i in range(self.seq_length)], dtype=torch.int64)\n",
    "            delay = random.randint(0, self.max_delay)\n",
    "            result = torch.cat((torch.zeros(delay), seq[:self.seq_length - delay])).type(torch.int64)\n",
    "            yield seq, delay, result\n",
    "\n",
    "def batch_data_generator2(k,single_data_generator, batch_size):\n",
    "    batch_data = []\n",
    "    batch_labels = []\n",
    "    batch_delay = []\n",
    "    res = []\n",
    "    for data_point, delay, label in single_data_generator:\n",
    "        batch_data.append(idx_to_onehot(data_point))\n",
    "        batch_delay.append(delay)\n",
    "        batch_labels.append(label)\n",
    "        if len(batch_data) == batch_size:\n",
    "            res.append((idx_to_onehot(torch.tensor(batch_delay),k+1), torch.stack(batch_data,dim=0), torch.stack(batch_labels,dim=0)))\n",
    "            batch_data = []\n",
    "            batch_labels = []\n",
    "            batch_delay = []\n",
    "    # Yield the remaining data if it's less than the batch size\n",
    "    if batch_data:\n",
    "        res.append((torch.tensor(batch_delay),torch.stack(batch_data,dim=0), torch.stack(batch_labels,dim=0)))\n",
    "    return res"
   ]
  },
  {
   "cell_type": "markdown",
   "metadata": {
    "id": "oTRVOND3HEJZ"
   },
   "source": [
    "### Model\n",
    "\n",
    "And the model."
   ]
  },
  {
   "cell_type": "code",
   "execution_count": 26,
   "metadata": {},
   "outputs": [],
   "source": [
    "def string_to_one_hot(s):\n",
    "    # Initialize one-hot encoding tensor\n",
    "    one_hot = torch.zeros(len(s), N+1, dtype=torch.float)\n",
    "    # Iterate over each character in the string\n",
    "    for i, char in enumerate(s):\n",
    "        one_hot[i,ord(char)-96] = 1\n",
    "    return one_hot"
   ]
  },
  {
   "cell_type": "code",
   "execution_count": 27,
   "metadata": {
    "id": "IYolFIB8Hg0U"
   },
   "outputs": [],
   "source": [
    "class VariableDelayGRUMemory(torch.nn.Module):\n",
    "\n",
    "    def __init__(self, hidden_size, max_delay):\n",
    "        super().__init__()\n",
    "        self.gru = torch.nn.GRU(N+1+9,hidden_size,batch_first=True)\n",
    "        self.fc1 = torch.nn.Linear(in_features=hidden_size, out_features=128)\n",
    "        self.fc2 = torch.nn.Linear(in_features=128, out_features=N+1)\n",
    "        self.max_delay = max_delay\n",
    "\n",
    "    def forward(self, x, delays):\n",
    "        # inputs:\n",
    "        # x - tensor of shape (batch size, seq length, N + 1)\n",
    "        # delays - tensor of shape (batch size, max_delay+1)\n",
    "        # returns:\n",
    "        # logits (scores for softmax) of shape (batch size, seq_length, N + 1)\n",
    "        replicated_tensor = delays.unsqueeze(1).repeat(1, 20, 1)\n",
    "        concatenated_tensor = torch.cat((replicated_tensor,x), dim=2)\n",
    "        x,_ = self.gru(concatenated_tensor)\n",
    "        x = F.relu(self.fc1(x))\n",
    "        x = self.fc2(x)\n",
    "        return x\n",
    "\n",
    "\n",
    "\n",
    "    @torch.no_grad()\n",
    "    def test_run(self, s, delay):\n",
    "        # This function accepts one string s containing lowercase characters a-z,\n",
    "        # and a delay - the desired output delay.\n",
    "        # You need to map those characters to one-hot encodings,\n",
    "        # then get the result from your network, and then convert the output\n",
    "        # back to a string of the same length, with 0 mapped to ' ',\n",
    "        # and 1-26 mapped to a-z.\n",
    "        x = string_to_one_hot(s).unsqueeze(0)\n",
    "        delay = idx_to_onehot(torch.tensor([delay]),self.max_delay+1)\n",
    "        output = self.forward(x, delay)\n",
    "        output = F.softmax(output,dim=2)\n",
    "        _ , pred = torch.max(output,dim=2)\n",
    "        pred = pred.tolist()[0]\n",
    "        res = ''\n",
    "        for i in pred:\n",
    "            if i == 0:\n",
    "                res += ' '\n",
    "            else:\n",
    "                res += chr(i+96)\n",
    "        return res\n"
   ]
  },
  {
   "cell_type": "markdown",
   "metadata": {
    "id": "riu3qHWgKjsx"
   },
   "source": [
    "### Train\n",
    "\n",
    "As before, you're free to do what you want, as long as training finishes within 10 minutes and accuracy is above 0.99 for delays between 0 and 8."
   ]
  },
  {
   "cell_type": "code",
   "execution_count": 28,
   "metadata": {
    "id": "4FZHojnGO3aw"
   },
   "outputs": [],
   "source": [
    "def test_variable_delay_model(model, seq_length=20):\n",
    "    \"\"\"\n",
    "    This is the test function that runs 100 different strings through your model,\n",
    "    and checks the error rate.\n",
    "    \"\"\"\n",
    "    total = 0\n",
    "    correct = 0\n",
    "    for i in range(500):\n",
    "        s = ''.join([random.choice(string.ascii_lowercase) for i in range(seq_length)])\n",
    "        d = random.randint(0, model.max_delay)\n",
    "        result = model.test_run(s, d)\n",
    "        if d > 0:\n",
    "            z = zip(s[:-d], result[d:])\n",
    "        else:\n",
    "            z = zip(s, result)\n",
    "        for c1, c2 in z:\n",
    "            correct += int(c1 == c2)\n",
    "        total += len(s) - d\n",
    "\n",
    "    return correct / total"
   ]
  },
  {
   "cell_type": "code",
   "execution_count": 29,
   "metadata": {},
   "outputs": [],
   "source": [
    "def train():\n",
    "    model.train()\n",
    "    for epoch in range(1,n_epochs+1):\n",
    "        correct = 0\n",
    "        for batch_idx in range(len(train_data)):\n",
    "            delay, data, target = train_data[batch_idx]\n",
    "            logits = model(data, delay)\n",
    "            _ , pred = torch.max(logits,dim=2)\n",
    "            optimizer.zero_grad()\n",
    "            logits = logits.permute(0,2,1)\n",
    "            loss = criterion(logits, target)\n",
    "            loss.backward()\n",
    "            optimizer.step()\n",
    "            correct += (pred == target).int().sum().item()\n",
    "        print(f'Train Epoch: {epoch}/{n_epochs}, loss: {loss.item():.3f}, accuracy {correct/DATASET_SIZE/SEQ_LENGTH*100:.1f}%')"
   ]
  },
  {
   "cell_type": "code",
   "execution_count": 14,
   "metadata": {},
   "outputs": [],
   "source": [
    "MAX_DELAY = 8\n",
    "SEQ_LENGTH = 20\n",
    "\n",
    "DATASET_SIZE = 200000\n",
    "data_set = VariableDelayEchoDataset(size=DATASET_SIZE)\n",
    "\n",
    "batch_size = 64\n",
    "train_data = batch_data_generator2(MAX_DELAY,data_set,batch_size)"
   ]
  },
  {
   "cell_type": "code",
   "execution_count": 31,
   "metadata": {
    "id": "YJ18Ef6vKi4s"
   },
   "outputs": [
    {
     "name": "stdout",
     "output_type": "stream",
     "text": [
      "Train Epoch: 1/5, loss: 0.103, accuracy 88.3%\n",
      "Train Epoch: 2/5, loss: 0.041, accuracy 98.5%\n",
      "Train Epoch: 3/5, loss: 0.020, accuracy 99.2%\n",
      "Train Epoch: 4/5, loss: 0.020, accuracy 99.5%\n",
      "Train Epoch: 5/5, loss: 0.023, accuracy 99.6%\n",
      "tests passed\n"
     ]
    }
   ],
   "source": [
    "import time\n",
    "\n",
    "start_time = time.time()\n",
    "\n",
    "# TODO: implement model training here.\n",
    "model = VariableDelayGRUMemory(128, MAX_DELAY)\n",
    "criterion = torch.nn.CrossEntropyLoss()\n",
    "optimizer = torch.optim.RMSprop(model.parameters(), lr=0.005)\n",
    "n_epochs = 5\n",
    "\n",
    "train()\n",
    "\n",
    "end_time = time.time()\n",
    "assert end_time - start_time < 600, 'executing took longer than 10 mins'\n",
    "accuracy = test_variable_delay_model(model)\n",
    "assert accuracy > 0.99, f'accuracy is too low, got {accuracy}, need 0.99'\n",
    "print('tests passed')"
   ]
  },
  {
   "cell_type": "code",
   "execution_count": null,
   "metadata": {},
   "outputs": [],
   "source": []
  }
 ],
 "metadata": {
  "colab": {
   "gpuType": "T4",
   "provenance": []
  },
  "kernelspec": {
   "display_name": "Python 3 (ipykernel)",
   "language": "python",
   "name": "python3"
  },
  "language_info": {
   "codemirror_mode": {
    "name": "ipython",
    "version": 3
   },
   "file_extension": ".py",
   "mimetype": "text/x-python",
   "name": "python",
   "nbconvert_exporter": "python",
   "pygments_lexer": "ipython3",
   "version": "3.7.4"
  }
 },
 "nbformat": 4,
 "nbformat_minor": 1
}
