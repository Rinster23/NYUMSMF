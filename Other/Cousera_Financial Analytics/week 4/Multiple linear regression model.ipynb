{
 "cells": [
  {
   "cell_type": "markdown",
   "metadata": {},
   "source": [
    "# Multiple linear regression model\n",
    "### Let's mimic the process of building our trading model of SPY, base on the historical data of different stock markets"
   ]
  },
  {
   "cell_type": "code",
   "execution_count": 1,
   "metadata": {},
   "outputs": [],
   "source": [
    "import pandas as pd\n",
    "import statsmodels.formula.api as smf\n",
    "import numpy as np\n",
    "import matplotlib.pyplot as plt\n",
    "%matplotlib inline"
   ]
  },
  {
   "cell_type": "code",
   "execution_count": 6,
   "metadata": {},
   "outputs": [],
   "source": [
    "import warnings\n",
    "warnings.filterwarnings(\"ignore\")"
   ]
  },
  {
   "cell_type": "code",
   "execution_count": 7,
   "metadata": {},
   "outputs": [],
   "source": [
    "# import all stock market data into DataFrame\n",
    "aord = pd.read_csv('../data/indice/ALLOrdinary.csv')\n",
    "nikkei = pd.read_csv('../data/indice/Nikkei225.csv')\n",
    "hsi = pd.read_csv('../data/indice/HSI.csv')\n",
    "daxi = pd.read_csv('../data/indice/DAXI.csv')\n",
    "cac40 = pd.read_csv('../data/indice/CAC40.csv')\n",
    "sp500 = pd.read_csv('../data/indice/SP500.csv')\n",
    "dji = pd.read_csv('../data/indice/DJI.csv')\n",
    "nasdaq =pd.read_csv('../data/indice/nasdaq_composite.csv')\n",
    "spy = pd.read_csv('../data/indice/SPY.csv')"
   ]
  },
  {
   "cell_type": "code",
   "execution_count": 8,
   "metadata": {},
   "outputs": [
    {
     "data": {
      "text/html": [
       "<div>\n",
       "<style scoped>\n",
       "    .dataframe tbody tr th:only-of-type {\n",
       "        vertical-align: middle;\n",
       "    }\n",
       "\n",
       "    .dataframe tbody tr th {\n",
       "        vertical-align: top;\n",
       "    }\n",
       "\n",
       "    .dataframe thead th {\n",
       "        text-align: right;\n",
       "    }\n",
       "</style>\n",
       "<table border=\"1\" class=\"dataframe\">\n",
       "  <thead>\n",
       "    <tr style=\"text-align: right;\">\n",
       "      <th></th>\n",
       "      <th>Date</th>\n",
       "      <th>Open</th>\n",
       "      <th>High</th>\n",
       "      <th>Low</th>\n",
       "      <th>Close</th>\n",
       "      <th>Adj Close</th>\n",
       "      <th>Volume</th>\n",
       "    </tr>\n",
       "  </thead>\n",
       "  <tbody>\n",
       "    <tr>\n",
       "      <th>0</th>\n",
       "      <td>2008-01-02</td>\n",
       "      <td>2653.909912</td>\n",
       "      <td>2661.500000</td>\n",
       "      <td>2597.810059</td>\n",
       "      <td>2609.629883</td>\n",
       "      <td>2609.629883</td>\n",
       "      <td>2076690000</td>\n",
       "    </tr>\n",
       "    <tr>\n",
       "      <th>1</th>\n",
       "      <td>2008-01-03</td>\n",
       "      <td>2611.959961</td>\n",
       "      <td>2624.270020</td>\n",
       "      <td>2592.179932</td>\n",
       "      <td>2602.679932</td>\n",
       "      <td>2602.679932</td>\n",
       "      <td>1970200000</td>\n",
       "    </tr>\n",
       "    <tr>\n",
       "      <th>2</th>\n",
       "      <td>2008-01-04</td>\n",
       "      <td>2571.080078</td>\n",
       "      <td>2571.080078</td>\n",
       "      <td>2502.679932</td>\n",
       "      <td>2504.649902</td>\n",
       "      <td>2504.649902</td>\n",
       "      <td>2516310000</td>\n",
       "    </tr>\n",
       "    <tr>\n",
       "      <th>3</th>\n",
       "      <td>2008-01-07</td>\n",
       "      <td>2514.149902</td>\n",
       "      <td>2521.620117</td>\n",
       "      <td>2471.229980</td>\n",
       "      <td>2499.459961</td>\n",
       "      <td>2499.459961</td>\n",
       "      <td>2600100000</td>\n",
       "    </tr>\n",
       "    <tr>\n",
       "      <th>4</th>\n",
       "      <td>2008-01-08</td>\n",
       "      <td>2506.969971</td>\n",
       "      <td>2527.419922</td>\n",
       "      <td>2440.510010</td>\n",
       "      <td>2440.510010</td>\n",
       "      <td>2440.510010</td>\n",
       "      <td>2566480000</td>\n",
       "    </tr>\n",
       "  </tbody>\n",
       "</table>\n",
       "</div>"
      ],
      "text/plain": [
       "         Date         Open         High          Low        Close  \\\n",
       "0  2008-01-02  2653.909912  2661.500000  2597.810059  2609.629883   \n",
       "1  2008-01-03  2611.959961  2624.270020  2592.179932  2602.679932   \n",
       "2  2008-01-04  2571.080078  2571.080078  2502.679932  2504.649902   \n",
       "3  2008-01-07  2514.149902  2521.620117  2471.229980  2499.459961   \n",
       "4  2008-01-08  2506.969971  2527.419922  2440.510010  2440.510010   \n",
       "\n",
       "     Adj Close      Volume  \n",
       "0  2609.629883  2076690000  \n",
       "1  2602.679932  1970200000  \n",
       "2  2504.649902  2516310000  \n",
       "3  2499.459961  2600100000  \n",
       "4  2440.510010  2566480000  "
      ]
     },
     "execution_count": 8,
     "metadata": {},
     "output_type": "execute_result"
    }
   ],
   "source": [
    "nasdaq.head()"
   ]
  },
  {
   "cell_type": "markdown",
   "metadata": {},
   "source": [
    "## Step 1: Data Munging"
   ]
  },
  {
   "cell_type": "code",
   "execution_count": 9,
   "metadata": {},
   "outputs": [],
   "source": [
    "# Due to the timezone issues, we extract and calculate appropriate stock market data for analysis\n",
    "# Indicepanel is the DataFrame of our trading model\n",
    "indicepanel=pd.DataFrame(index=spy.index)\n",
    "\n",
    "indicepanel['spy']=spy['Open'].shift(-1)-spy['Open']\n",
    "indicepanel['spy_lag1']=indicepanel['spy'].shift(1)\n",
    "indicepanel['sp500']=sp500[\"Open\"]-sp500['Open'].shift(1)\n",
    "indicepanel['nasdaq']=nasdaq['Open']-nasdaq['Open'].shift(1)\n",
    "indicepanel['dji']=dji['Open']-dji['Open'].shift(1)\n",
    "\n",
    "indicepanel['cac40']=cac40['Open']-cac40['Open'].shift(1)\n",
    "indicepanel['daxi']=daxi['Open']-daxi['Open'].shift(1)\n",
    "\n",
    "indicepanel['aord']=aord['Close']-aord['Open']\n",
    "indicepanel['hsi']=hsi['Close']-hsi['Open']\n",
    "indicepanel['nikkei']=nikkei['Close']-nikkei['Open']\n",
    "indicepanel['Price']=spy['Open']"
   ]
  },
  {
   "cell_type": "code",
   "execution_count": 10,
   "metadata": {},
   "outputs": [
    {
     "data": {
      "text/html": [
       "<div>\n",
       "<style scoped>\n",
       "    .dataframe tbody tr th:only-of-type {\n",
       "        vertical-align: middle;\n",
       "    }\n",
       "\n",
       "    .dataframe tbody tr th {\n",
       "        vertical-align: top;\n",
       "    }\n",
       "\n",
       "    .dataframe thead th {\n",
       "        text-align: right;\n",
       "    }\n",
       "</style>\n",
       "<table border=\"1\" class=\"dataframe\">\n",
       "  <thead>\n",
       "    <tr style=\"text-align: right;\">\n",
       "      <th></th>\n",
       "      <th>spy</th>\n",
       "      <th>spy_lag1</th>\n",
       "      <th>sp500</th>\n",
       "      <th>nasdaq</th>\n",
       "      <th>dji</th>\n",
       "      <th>cac40</th>\n",
       "      <th>daxi</th>\n",
       "      <th>aord</th>\n",
       "      <th>hsi</th>\n",
       "      <th>nikkei</th>\n",
       "      <th>Price</th>\n",
       "    </tr>\n",
       "  </thead>\n",
       "  <tbody>\n",
       "    <tr>\n",
       "      <th>0</th>\n",
       "      <td>-1.619995</td>\n",
       "      <td>NaN</td>\n",
       "      <td>NaN</td>\n",
       "      <td>NaN</td>\n",
       "      <td>NaN</td>\n",
       "      <td>NaN</td>\n",
       "      <td>NaN</td>\n",
       "      <td>15.500000</td>\n",
       "      <td>-71.679688</td>\n",
       "      <td>-464.320313</td>\n",
       "      <td>146.529999</td>\n",
       "    </tr>\n",
       "    <tr>\n",
       "      <th>1</th>\n",
       "      <td>-1.570008</td>\n",
       "      <td>-1.619995</td>\n",
       "      <td>-20.419922</td>\n",
       "      <td>-41.949951</td>\n",
       "      <td>-217.70019</td>\n",
       "      <td>-71.779785</td>\n",
       "      <td>-104.450195</td>\n",
       "      <td>-50.100097</td>\n",
       "      <td>-162.750000</td>\n",
       "      <td>-48.830078</td>\n",
       "      <td>144.910004</td>\n",
       "    </tr>\n",
       "    <tr>\n",
       "      <th>2</th>\n",
       "      <td>-1.529998</td>\n",
       "      <td>-1.570008</td>\n",
       "      <td>-3.540039</td>\n",
       "      <td>-40.879883</td>\n",
       "      <td>2.43945</td>\n",
       "      <td>5.489746</td>\n",
       "      <td>-27.990235</td>\n",
       "      <td>-2.300293</td>\n",
       "      <td>515.349609</td>\n",
       "      <td>99.370117</td>\n",
       "      <td>143.339996</td>\n",
       "    </tr>\n",
       "    <tr>\n",
       "      <th>3</th>\n",
       "      <td>0.270004</td>\n",
       "      <td>-1.529998</td>\n",
       "      <td>-29.940064</td>\n",
       "      <td>-56.930176</td>\n",
       "      <td>-245.40918</td>\n",
       "      <td>-111.689941</td>\n",
       "      <td>-102.709961</td>\n",
       "      <td>-117.399903</td>\n",
       "      <td>216.951171</td>\n",
       "      <td>234.450195</td>\n",
       "      <td>141.809998</td>\n",
       "    </tr>\n",
       "    <tr>\n",
       "      <th>4</th>\n",
       "      <td>-2.990006</td>\n",
       "      <td>0.270004</td>\n",
       "      <td>1.640015</td>\n",
       "      <td>-7.179931</td>\n",
       "      <td>19.75000</td>\n",
       "      <td>44.509766</td>\n",
       "      <td>33.680176</td>\n",
       "      <td>-27.500000</td>\n",
       "      <td>-354.060547</td>\n",
       "      <td>-158.209961</td>\n",
       "      <td>142.080002</td>\n",
       "    </tr>\n",
       "  </tbody>\n",
       "</table>\n",
       "</div>"
      ],
      "text/plain": [
       "        spy  spy_lag1      sp500     nasdaq        dji       cac40  \\\n",
       "0 -1.619995       NaN        NaN        NaN        NaN         NaN   \n",
       "1 -1.570008 -1.619995 -20.419922 -41.949951 -217.70019  -71.779785   \n",
       "2 -1.529998 -1.570008  -3.540039 -40.879883    2.43945    5.489746   \n",
       "3  0.270004 -1.529998 -29.940064 -56.930176 -245.40918 -111.689941   \n",
       "4 -2.990006  0.270004   1.640015  -7.179931   19.75000   44.509766   \n",
       "\n",
       "         daxi        aord         hsi      nikkei       Price  \n",
       "0         NaN   15.500000  -71.679688 -464.320313  146.529999  \n",
       "1 -104.450195  -50.100097 -162.750000  -48.830078  144.910004  \n",
       "2  -27.990235   -2.300293  515.349609   99.370117  143.339996  \n",
       "3 -102.709961 -117.399903  216.951171  234.450195  141.809998  \n",
       "4   33.680176  -27.500000 -354.060547 -158.209961  142.080002  "
      ]
     },
     "execution_count": 10,
     "metadata": {},
     "output_type": "execute_result"
    }
   ],
   "source": [
    "indicepanel.head()"
   ]
  },
  {
   "cell_type": "code",
   "execution_count": 11,
   "metadata": {},
   "outputs": [
    {
     "data": {
      "text/plain": [
       "spy          1\n",
       "spy_lag1     1\n",
       "sp500        1\n",
       "nasdaq       1\n",
       "dji          1\n",
       "cac40        3\n",
       "daxi        11\n",
       "aord         2\n",
       "hsi         57\n",
       "nikkei      57\n",
       "Price        0\n",
       "dtype: int64"
      ]
     },
     "execution_count": 11,
     "metadata": {},
     "output_type": "execute_result"
    }
   ],
   "source": [
    "# Lets check whether do we have NaN values in indicepanel\n",
    "indicepanel.isnull().sum()"
   ]
  },
  {
   "cell_type": "code",
   "execution_count": 12,
   "metadata": {},
   "outputs": [],
   "source": [
    "# We can use method 'fillna()' from dataframe to forward filling the Nan values\n",
    "# Then we can drop the reminding Nan values\n",
    "indicepanel = indicepanel.fillna(method='ffill')\n",
    "indicepanel = indicepanel.dropna()"
   ]
  },
  {
   "cell_type": "code",
   "execution_count": 13,
   "metadata": {},
   "outputs": [
    {
     "data": {
      "text/plain": [
       "spy         0\n",
       "spy_lag1    0\n",
       "sp500       0\n",
       "nasdaq      0\n",
       "dji         0\n",
       "cac40       0\n",
       "daxi        0\n",
       "aord        0\n",
       "hsi         0\n",
       "nikkei      0\n",
       "Price       0\n",
       "dtype: int64"
      ]
     },
     "execution_count": 13,
     "metadata": {},
     "output_type": "execute_result"
    }
   ],
   "source": [
    "# Lets check whether do we have Nan values in indicepanel now\n",
    "indicepanel.isnull().sum()"
   ]
  },
  {
   "cell_type": "code",
   "execution_count": 14,
   "metadata": {},
   "outputs": [],
   "source": [
    "# save this indicepanel for part 4.5\n",
    "path_save = '../data/indice/indicepanel.csv'\n",
    "indicepanel.to_csv(path_save)"
   ]
  },
  {
   "cell_type": "code",
   "execution_count": 15,
   "metadata": {},
   "outputs": [
    {
     "name": "stdout",
     "output_type": "stream",
     "text": [
      "(2678, 11)\n"
     ]
    }
   ],
   "source": [
    "print(indicepanel.shape)"
   ]
  },
  {
   "cell_type": "markdown",
   "metadata": {},
   "source": [
    "## Step 2: Data Spliting"
   ]
  },
  {
   "cell_type": "code",
   "execution_count": 16,
   "metadata": {},
   "outputs": [
    {
     "name": "stdout",
     "output_type": "stream",
     "text": [
      "(1000, 11) (1000, 11)\n"
     ]
    }
   ],
   "source": [
    "#split the data into (1)train set and (2)test set\n",
    "\n",
    "Train = indicepanel.iloc[-2000:-1000, :]\n",
    "Test = indicepanel.iloc[-1000:, :]\n",
    "print(Train.shape, Test.shape)"
   ]
  },
  {
   "cell_type": "markdown",
   "metadata": {},
   "source": [
    "## Step 3: Explore the train data set"
   ]
  },
  {
   "cell_type": "code",
   "execution_count": 17,
   "metadata": {
    "scrolled": true
   },
   "outputs": [
    {
     "ename": "ModuleNotFoundError",
     "evalue": "No module named 'pandas.tools'",
     "output_type": "error",
     "traceback": [
      "\u001b[1;31m---------------------------------------------------------------------------\u001b[0m",
      "\u001b[1;31mModuleNotFoundError\u001b[0m                       Traceback (most recent call last)",
      "\u001b[1;32m~\\AppData\\Local\\Temp\\ipykernel_15400\\2294762524.py\u001b[0m in \u001b[0;36m<module>\u001b[1;34m\u001b[0m\n\u001b[0;32m      1\u001b[0m \u001b[1;31m# Generate scatter matrix among all stock markets (and the price of SPY) to observe the association\u001b[0m\u001b[1;33m\u001b[0m\u001b[1;33m\u001b[0m\u001b[1;33m\u001b[0m\u001b[0m\n\u001b[0;32m      2\u001b[0m \u001b[1;33m\u001b[0m\u001b[0m\n\u001b[1;32m----> 3\u001b[1;33m \u001b[1;32mfrom\u001b[0m \u001b[0mpandas\u001b[0m\u001b[1;33m.\u001b[0m\u001b[0mtools\u001b[0m\u001b[1;33m.\u001b[0m\u001b[0mplotting\u001b[0m \u001b[1;32mimport\u001b[0m \u001b[0mscatter_matrix\u001b[0m\u001b[1;33m\u001b[0m\u001b[1;33m\u001b[0m\u001b[0m\n\u001b[0m\u001b[0;32m      4\u001b[0m \u001b[0msm\u001b[0m \u001b[1;33m=\u001b[0m \u001b[0mscatter_matrix\u001b[0m\u001b[1;33m(\u001b[0m\u001b[0mTrain\u001b[0m\u001b[1;33m,\u001b[0m \u001b[0mfigsize\u001b[0m\u001b[1;33m=\u001b[0m\u001b[1;33m(\u001b[0m\u001b[1;36m10\u001b[0m\u001b[1;33m,\u001b[0m \u001b[1;36m10\u001b[0m\u001b[1;33m)\u001b[0m\u001b[1;33m)\u001b[0m\u001b[1;33m\u001b[0m\u001b[1;33m\u001b[0m\u001b[0m\n",
      "\u001b[1;31mModuleNotFoundError\u001b[0m: No module named 'pandas.tools'"
     ]
    }
   ],
   "source": [
    "# Generate scatter matrix among all stock markets (and the price of SPY) to observe the association\n",
    "\n",
    "from pandas.tools.plotting import scatter_matrix\n",
    "sm = scatter_matrix(Train, figsize=(10, 10))"
   ]
  },
  {
   "cell_type": "markdown",
   "metadata": {},
   "source": [
    "## Step 4: Check the correlation of each index between spy"
   ]
  },
  {
   "cell_type": "code",
   "execution_count": 18,
   "metadata": {},
   "outputs": [
    {
     "name": "stdout",
     "output_type": "stream",
     "text": [
      "spy         1.000000\n",
      "spy_lag1   -0.011623\n",
      "sp500      -0.018632\n",
      "nasdaq      0.012333\n",
      "dji        -0.037097\n",
      "cac40       0.076886\n",
      "daxi        0.019410\n",
      "aord        0.048200\n",
      "hsi        -0.038361\n",
      "nikkei      0.035379\n",
      "Name: spy, dtype: float64\n"
     ]
    }
   ],
   "source": [
    "# Find the indice with largest correlation\n",
    "corr_array = Train.iloc[:, :-1].corr()['spy']\n",
    "print(corr_array)"
   ]
  },
  {
   "cell_type": "code",
   "execution_count": 19,
   "metadata": {},
   "outputs": [
    {
     "data": {
      "text/html": [
       "<table class=\"simpletable\">\n",
       "<caption>OLS Regression Results</caption>\n",
       "<tr>\n",
       "  <th>Dep. Variable:</th>           <td>spy</td>       <th>  R-squared:         </th> <td>   0.019</td>\n",
       "</tr>\n",
       "<tr>\n",
       "  <th>Model:</th>                   <td>OLS</td>       <th>  Adj. R-squared:    </th> <td>   0.010</td>\n",
       "</tr>\n",
       "<tr>\n",
       "  <th>Method:</th>             <td>Least Squares</td>  <th>  F-statistic:       </th> <td>   2.133</td>\n",
       "</tr>\n",
       "<tr>\n",
       "  <th>Date:</th>             <td>Wed, 26 Jul 2023</td> <th>  Prob (F-statistic):</th>  <td>0.0245</td> \n",
       "</tr>\n",
       "<tr>\n",
       "  <th>Time:</th>                 <td>18:01:59</td>     <th>  Log-Likelihood:    </th> <td> -1643.1</td>\n",
       "</tr>\n",
       "<tr>\n",
       "  <th>No. Observations:</th>      <td>  1000</td>      <th>  AIC:               </th> <td>   3306.</td>\n",
       "</tr>\n",
       "<tr>\n",
       "  <th>Df Residuals:</th>          <td>   990</td>      <th>  BIC:               </th> <td>   3355.</td>\n",
       "</tr>\n",
       "<tr>\n",
       "  <th>Df Model:</th>              <td>     9</td>      <th>                     </th>     <td> </td>   \n",
       "</tr>\n",
       "<tr>\n",
       "  <th>Covariance Type:</th>      <td>nonrobust</td>    <th>                     </th>     <td> </td>   \n",
       "</tr>\n",
       "</table>\n",
       "<table class=\"simpletable\">\n",
       "<tr>\n",
       "      <td></td>         <th>coef</th>     <th>std err</th>      <th>t</th>      <th>P>|t|</th>  <th>[0.025</th>    <th>0.975]</th>  \n",
       "</tr>\n",
       "<tr>\n",
       "  <th>Intercept</th> <td>    0.0798</td> <td>    0.040</td> <td>    1.993</td> <td> 0.047</td> <td>    0.001</td> <td>    0.158</td>\n",
       "</tr>\n",
       "<tr>\n",
       "  <th>spy_lag1</th>  <td>   -0.1233</td> <td>    0.092</td> <td>   -1.340</td> <td> 0.180</td> <td>   -0.304</td> <td>    0.057</td>\n",
       "</tr>\n",
       "<tr>\n",
       "  <th>sp500</th>     <td>    0.0178</td> <td>    0.014</td> <td>    1.273</td> <td> 0.203</td> <td>   -0.010</td> <td>    0.045</td>\n",
       "</tr>\n",
       "<tr>\n",
       "  <th>nasdaq</th>    <td>    0.0047</td> <td>    0.004</td> <td>    1.240</td> <td> 0.215</td> <td>   -0.003</td> <td>    0.012</td>\n",
       "</tr>\n",
       "<tr>\n",
       "  <th>dji</th>       <td>   -0.0023</td> <td>    0.001</td> <td>   -1.588</td> <td> 0.113</td> <td>   -0.005</td> <td>    0.001</td>\n",
       "</tr>\n",
       "<tr>\n",
       "  <th>cac40</th>     <td>    0.0021</td> <td>    0.001</td> <td>    2.485</td> <td> 0.013</td> <td>    0.000</td> <td>    0.004</td>\n",
       "</tr>\n",
       "<tr>\n",
       "  <th>aord</th>      <td>    0.0017</td> <td>    0.001</td> <td>    1.497</td> <td> 0.135</td> <td>   -0.001</td> <td>    0.004</td>\n",
       "</tr>\n",
       "<tr>\n",
       "  <th>daxi</th>      <td>    0.0003</td> <td>    0.000</td> <td>    0.724</td> <td> 0.469</td> <td>   -0.001</td> <td>    0.001</td>\n",
       "</tr>\n",
       "<tr>\n",
       "  <th>nikkei</th>    <td>    0.0004</td> <td>    0.000</td> <td>    1.293</td> <td> 0.196</td> <td>   -0.000</td> <td>    0.001</td>\n",
       "</tr>\n",
       "<tr>\n",
       "  <th>hsi</th>       <td>   -0.0003</td> <td>    0.000</td> <td>   -1.412</td> <td> 0.158</td> <td>   -0.001</td> <td>    0.000</td>\n",
       "</tr>\n",
       "</table>\n",
       "<table class=\"simpletable\">\n",
       "<tr>\n",
       "  <th>Omnibus:</th>       <td>85.811</td> <th>  Durbin-Watson:     </th> <td>   2.001</td>\n",
       "</tr>\n",
       "<tr>\n",
       "  <th>Prob(Omnibus):</th> <td> 0.000</td> <th>  Jarque-Bera (JB):  </th> <td> 235.379</td>\n",
       "</tr>\n",
       "<tr>\n",
       "  <th>Skew:</th>          <td>-0.444</td> <th>  Prob(JB):          </th> <td>7.73e-52</td>\n",
       "</tr>\n",
       "<tr>\n",
       "  <th>Kurtosis:</th>      <td> 5.205</td> <th>  Cond. No.          </th> <td>    385.</td>\n",
       "</tr>\n",
       "</table><br/><br/>Notes:<br/>[1] Standard Errors assume that the covariance matrix of the errors is correctly specified."
      ],
      "text/plain": [
       "<class 'statsmodels.iolib.summary.Summary'>\n",
       "\"\"\"\n",
       "                            OLS Regression Results                            \n",
       "==============================================================================\n",
       "Dep. Variable:                    spy   R-squared:                       0.019\n",
       "Model:                            OLS   Adj. R-squared:                  0.010\n",
       "Method:                 Least Squares   F-statistic:                     2.133\n",
       "Date:                Wed, 26 Jul 2023   Prob (F-statistic):             0.0245\n",
       "Time:                        18:01:59   Log-Likelihood:                -1643.1\n",
       "No. Observations:                1000   AIC:                             3306.\n",
       "Df Residuals:                     990   BIC:                             3355.\n",
       "Df Model:                           9                                         \n",
       "Covariance Type:            nonrobust                                         \n",
       "==============================================================================\n",
       "                 coef    std err          t      P>|t|      [0.025      0.975]\n",
       "------------------------------------------------------------------------------\n",
       "Intercept      0.0798      0.040      1.993      0.047       0.001       0.158\n",
       "spy_lag1      -0.1233      0.092     -1.340      0.180      -0.304       0.057\n",
       "sp500          0.0178      0.014      1.273      0.203      -0.010       0.045\n",
       "nasdaq         0.0047      0.004      1.240      0.215      -0.003       0.012\n",
       "dji           -0.0023      0.001     -1.588      0.113      -0.005       0.001\n",
       "cac40          0.0021      0.001      2.485      0.013       0.000       0.004\n",
       "aord           0.0017      0.001      1.497      0.135      -0.001       0.004\n",
       "daxi           0.0003      0.000      0.724      0.469      -0.001       0.001\n",
       "nikkei         0.0004      0.000      1.293      0.196      -0.000       0.001\n",
       "hsi           -0.0003      0.000     -1.412      0.158      -0.001       0.000\n",
       "==============================================================================\n",
       "Omnibus:                       85.811   Durbin-Watson:                   2.001\n",
       "Prob(Omnibus):                  0.000   Jarque-Bera (JB):              235.379\n",
       "Skew:                          -0.444   Prob(JB):                     7.73e-52\n",
       "Kurtosis:                       5.205   Cond. No.                         385.\n",
       "==============================================================================\n",
       "\n",
       "Notes:\n",
       "[1] Standard Errors assume that the covariance matrix of the errors is correctly specified.\n",
       "\"\"\""
      ]
     },
     "execution_count": 19,
     "metadata": {},
     "output_type": "execute_result"
    }
   ],
   "source": [
    "formula = 'spy~spy_lag1+sp500+nasdaq+dji+cac40+aord+daxi+nikkei+hsi'\n",
    "lm = smf.ols(formula=formula, data=Train).fit()\n",
    "lm.summary()"
   ]
  },
  {
   "cell_type": "markdown",
   "metadata": {},
   "source": [
    "## Step 5: Make prediction"
   ]
  },
  {
   "cell_type": "code",
   "execution_count": 20,
   "metadata": {},
   "outputs": [],
   "source": [
    "Train['PredictedY'] = lm.predict(Train)\n",
    "Test['PredictedY'] = lm.predict(Test)"
   ]
  },
  {
   "cell_type": "code",
   "execution_count": 21,
   "metadata": {},
   "outputs": [
    {
     "data": {
      "text/plain": [
       "<matplotlib.collections.PathCollection at 0x20366727ac8>"
      ]
     },
     "execution_count": 21,
     "metadata": {},
     "output_type": "execute_result"
    },
    {
     "data": {
      "image/png": "[encoded data removed]",
      "text/plain": [
       "<Figure size 432x288 with 1 Axes>"
      ]
     },
     "metadata": {
      "needs_background": "light"
     },
     "output_type": "display_data"
    }
   ],
   "source": [
    "plt.scatter(Train['spy'], Train['PredictedY'])"
   ]
  },
  {
   "cell_type": "markdown",
   "metadata": {},
   "source": [
    "## Step 6: Model evaluation - Statistical standard"
   ]
  },
  {
   "cell_type": "markdown",
   "metadata": {},
   "source": [
    "We can measure the performance of our model using some statistical metrics - **RMSE**, **Adjusted $R^2$ **"
   ]
  },
  {
   "cell_type": "code",
   "execution_count": 22,
   "metadata": {},
   "outputs": [],
   "source": [
    "# RMSE - Root Mean Squared Error, Adjusted R^2\n",
    "def adjustedMetric(data, model, model_k, yname):\n",
    "    data['yhat'] = model.predict(data)\n",
    "    SST = ((data[yname] - data[yname].mean())**2).sum()\n",
    "    SSR = ((data['yhat'] - data[yname].mean())**2).sum()\n",
    "    SSE = ((data[yname] - data['yhat'])**2).sum()\n",
    "    r2 = SSR/SST\n",
    "    adjustR2 = 1 - (1-r2)*(data.shape[0] - 1)/(data.shape[0] -model_k -1)\n",
    "    RMSE = (SSE/(data.shape[0] -model_k -1))**0.5\n",
    "    return adjustR2, RMSE"
   ]
  },
  {
   "cell_type": "code",
   "execution_count": 23,
   "metadata": {},
   "outputs": [],
   "source": [
    "def assessTable(test, train, model, model_k, yname):\n",
    "    r2test, RMSEtest = adjustedMetric(test, model, model_k, yname)\n",
    "    r2train, RMSEtrain = adjustedMetric(train, model, model_k, yname)\n",
    "    assessment = pd.DataFrame(index=['R2', 'RMSE'], columns=['Train', 'Test'])\n",
    "    assessment['Train'] = [r2train, RMSEtrain]\n",
    "    assessment['Test'] = [r2test, RMSEtest]\n",
    "    return assessment"
   ]
  },
  {
   "cell_type": "code",
   "execution_count": 24,
   "metadata": {},
   "outputs": [
    {
     "data": {
      "text/html": [
       "<div>\n",
       "<style scoped>\n",
       "    .dataframe tbody tr th:only-of-type {\n",
       "        vertical-align: middle;\n",
       "    }\n",
       "\n",
       "    .dataframe tbody tr th {\n",
       "        vertical-align: top;\n",
       "    }\n",
       "\n",
       "    .dataframe thead th {\n",
       "        text-align: right;\n",
       "    }\n",
       "</style>\n",
       "<table border=\"1\" class=\"dataframe\">\n",
       "  <thead>\n",
       "    <tr style=\"text-align: right;\">\n",
       "      <th></th>\n",
       "      <th>Train</th>\n",
       "      <th>Test</th>\n",
       "    </tr>\n",
       "  </thead>\n",
       "  <tbody>\n",
       "    <tr>\n",
       "      <th>R2</th>\n",
       "      <td>0.010102</td>\n",
       "      <td>0.013609</td>\n",
       "    </tr>\n",
       "    <tr>\n",
       "      <th>RMSE</th>\n",
       "      <td>1.257534</td>\n",
       "      <td>1.759693</td>\n",
       "    </tr>\n",
       "  </tbody>\n",
       "</table>\n",
       "</div>"
      ],
      "text/plain": [
       "         Train      Test\n",
       "R2    0.010102  0.013609\n",
       "RMSE  1.257534  1.759693"
      ]
     },
     "execution_count": 24,
     "metadata": {},
     "output_type": "execute_result"
    }
   ],
   "source": [
    "# Get the assement table fo our model\n",
    "assessTable(Test, Train, lm, 9, 'spy')"
   ]
  },
  {
   "cell_type": "code",
   "execution_count": null,
   "metadata": {},
   "outputs": [],
   "source": []
  },
  {
   "cell_type": "code",
   "execution_count": null,
   "metadata": {},
   "outputs": [],
   "source": []
  },
  {
   "cell_type": "code",
   "execution_count": null,
   "metadata": {},
   "outputs": [],
   "source": []
  },
  {
   "cell_type": "code",
   "execution_count": null,
   "metadata": {},
   "outputs": [],
   "source": []
  }
 ],
 "metadata": {
  "kernelspec": {
   "display_name": "Python 3 (ipykernel)",
   "language": "python",
   "name": "python3"
  },
  "language_info": {
   "codemirror_mode": {
    "name": "ipython",
    "version": 3
   },
   "file_extension": ".py",
   "mimetype": "text/x-python",
   "name": "python",
   "nbconvert_exporter": "python",
   "pygments_lexer": "ipython3",
   "version": "3.7.4"
  }
 },
 "nbformat": 4,
 "nbformat_minor": 2
}
