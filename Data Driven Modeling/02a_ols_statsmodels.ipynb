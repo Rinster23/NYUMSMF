{
 "cells": [
  {
   "cell_type": "markdown",
   "metadata": {
    "collapsed": true
   },
   "source": [
    "# OLS with Statsmodels\n",
    "\n",
    "See the statsmodels OLS examples [here](https://www.statsmodels.org/stable/examples/notebooks/generated/ols.html)\n"
   ]
  },
  {
   "cell_type": "code",
   "execution_count": 1,
   "metadata": {},
   "outputs": [],
   "source": [
    "%matplotlib inline\n",
    "\n",
    "import numpy as np\n",
    "import pandas as pd\n",
    "import matplotlib.pyplot as plt\n",
    "\n",
    "import statsmodels.api as sm\n",
    "from statsmodels.sandbox.regression.predstd import wls_prediction_std\n",
    "\n",
    "np.random.seed(9876789)\n"
   ]
  },
  {
   "cell_type": "markdown",
   "metadata": {},
   "source": [
    "## Generate some noisy features and input parameters"
   ]
  },
  {
   "cell_type": "code",
   "execution_count": 5,
   "metadata": {},
   "outputs": [
    {
     "data": {
      "text/plain": [
       "array([[0.00000000e+00, 0.00000000e+00],\n",
       "       [1.00100100e-02, 1.00200300e-04],\n",
       "       [2.00200200e-02, 4.00801202e-04],\n",
       "       ...,\n",
       "       [9.97997998e+00, 9.96000004e+01],\n",
       "       [9.98998999e+00, 9.97999000e+01],\n",
       "       [1.00000000e+01, 1.00000000e+02]])"
      ]
     },
     "execution_count": 5,
     "metadata": {},
     "output_type": "execute_result"
    },
    {
     "data": {
      "image/png": "[encoded data removed]",
      "text/plain": [
       "<Figure size 432x288 with 1 Axes>"
      ]
     },
     "metadata": {
      "needs_background": "light"
     },
     "output_type": "display_data"
    }
   ],
   "source": [
    "nsample = 1000\n",
    "x = np.linspace(0, 10, nsample)\n",
    "X = np.column_stack((x, x**2))\n",
    "\n",
    "# e = np.random.normal(size=nsample)\n",
    "\n",
    "e = np.random.normal(size=nsample) * (x + x**2 + 1)\n",
    "e = e/e.std()\n",
    "\n",
    "plt.plot(e)\n",
    "X"
   ]
  },
  {
   "cell_type": "code",
   "execution_count": 3,
   "metadata": {},
   "outputs": [
    {
     "data": {
      "text/plain": [
       "array([[0.        , 0.        ],\n",
       "       [0.01001001, 0.0001002 ],\n",
       "       [0.02002002, 0.0004008 ],\n",
       "       [0.03003003, 0.0009018 ],\n",
       "       [0.04004004, 0.0016032 ],\n",
       "       [0.05005005, 0.00250501],\n",
       "       [0.06006006, 0.00360721],\n",
       "       [0.07007007, 0.00490981],\n",
       "       [0.08008008, 0.00641282],\n",
       "       [0.09009009, 0.00811622]])"
      ]
     },
     "execution_count": 3,
     "metadata": {},
     "output_type": "execute_result"
    }
   ],
   "source": [
    "X[:10,:] # the non-constant features look like this"
   ]
  },
  {
   "cell_type": "markdown",
   "metadata": {},
   "source": [
    "## Generate a linear model\n",
    "\n",
    "\\begin{align}\n",
    "y = \\mu + {\\bf X}{\\bf \\beta} + \\varepsilon\n",
    "\\end{align}\n",
    "or if we absorb the constant term $\\mu$ into the definition of $\\beta$ and $X$:\n",
    "\n",
    "\\begin{align}\n",
    "y = {\\bf X}{\\bf \\beta} + \\varepsilon\n",
    "\\end{align}"
   ]
  },
  {
   "cell_type": "code",
   "execution_count": 4,
   "metadata": {},
   "outputs": [
    {
     "data": {
      "text/plain": [
       "array([[1.00000000e+00, 0.00000000e+00, 0.00000000e+00],\n",
       "       [1.00000000e+00, 1.00100100e-02, 1.00200300e-04],\n",
       "       [1.00000000e+00, 2.00200200e-02, 4.00801202e-04],\n",
       "       [1.00000000e+00, 3.00300300e-02, 9.01802704e-04],\n",
       "       [1.00000000e+00, 4.00400400e-02, 1.60320481e-03],\n",
       "       [1.00000000e+00, 5.00500501e-02, 2.50500751e-03],\n",
       "       [1.00000000e+00, 6.00600601e-02, 3.60721081e-03],\n",
       "       [1.00000000e+00, 7.00700701e-02, 4.90981472e-03],\n",
       "       [1.00000000e+00, 8.00800801e-02, 6.41281923e-03],\n",
       "       [1.00000000e+00, 9.00900901e-02, 8.11622433e-03]])"
      ]
     },
     "execution_count": 4,
     "metadata": {},
     "output_type": "execute_result"
    }
   ],
   "source": [
    "X = sm.add_constant(X)\n",
    "beta = np.array([1, 0.1, 10])\n",
    "\n",
    "X[:10,:]"
   ]
  },
  {
   "cell_type": "code",
   "execution_count": 5,
   "metadata": {},
   "outputs": [
    {
     "data": {
      "text/plain": [
       "array([0.98328516, 1.03409262, 1.01545702, 1.001603  , 1.08081883,\n",
       "       1.03869759, 1.02212553, 1.04389361, 1.07923578, 1.08937078])"
      ]
     },
     "execution_count": 5,
     "metadata": {},
     "output_type": "execute_result"
    }
   ],
   "source": [
    "\n",
    "y = np.dot(X, beta) + e # The linear model\n",
    "\n",
    "y[:10]\n"
   ]
  },
  {
   "cell_type": "markdown",
   "metadata": {
    "collapsed": true
   },
   "source": [
    "## Instantiate an OLS model and fit it"
   ]
  },
  {
   "cell_type": "code",
   "execution_count": 6,
   "metadata": {},
   "outputs": [
    {
     "name": "stdout",
     "output_type": "stream",
     "text": [
      "                            OLS Regression Results                            \n",
      "==============================================================================\n",
      "Dep. Variable:                      y   R-squared:                       1.000\n",
      "Model:                            OLS   Adj. R-squared:                  1.000\n",
      "Method:                 Least Squares   F-statistic:                 4.450e+07\n",
      "Date:                Tue, 12 Sep 2023   Prob (F-statistic):               0.00\n",
      "Time:                        16:14:23   Log-Likelihood:                -1418.8\n",
      "No. Observations:                1000   AIC:                             2844.\n",
      "Df Residuals:                     997   BIC:                             2858.\n",
      "Df Model:                           2                                         \n",
      "Covariance Type:            nonrobust                                         \n",
      "==============================================================================\n",
      "                 coef    std err          t      P>|t|      [0.025      0.975]\n",
      "------------------------------------------------------------------------------\n",
      "const          1.0254      0.095     10.815      0.000       0.839       1.211\n",
      "x1             0.0788      0.044      1.800      0.072      -0.007       0.165\n",
      "x2            10.0019      0.004   2358.925      0.000       9.994      10.010\n",
      "==============================================================================\n",
      "Omnibus:                       99.466   Durbin-Watson:                   2.070\n",
      "Prob(Omnibus):                  0.000   Jarque-Bera (JB):              690.319\n",
      "Skew:                           0.002   Prob(JB):                    1.26e-150\n",
      "Kurtosis:                       7.070   Cond. No.                         146.\n",
      "==============================================================================\n",
      "\n",
      "Notes:\n",
      "[1] Standard Errors assume that the covariance matrix of the errors is correctly specified.\n"
     ]
    }
   ],
   "source": [
    "model = sm.OLS(y, X)\n",
    "results = model.fit()\n",
    "print(results.summary())"
   ]
  },
  {
   "cell_type": "markdown",
   "metadata": {},
   "source": [
    "## Obtain fitted parameters\n",
    "\n",
    "### beta"
   ]
  },
  {
   "cell_type": "code",
   "execution_count": 7,
   "metadata": {},
   "outputs": [
    {
     "data": {
      "text/plain": [
       "(array([ 1. ,  0.1, 10. ]), array([ 1.02539027,  0.07880683, 10.00185749]))"
      ]
     },
     "execution_count": 7,
     "metadata": {},
     "output_type": "execute_result"
    }
   ],
   "source": [
    "beta_fit = results.params\n",
    "beta, beta_fit"
   ]
  },
  {
   "cell_type": "markdown",
   "metadata": {},
   "source": [
    "## confidence intervals of our estimates of beta"
   ]
  },
  {
   "cell_type": "code",
   "execution_count": 8,
   "metadata": {},
   "outputs": [
    {
     "data": {
      "text/plain": [
       "array([[ 8.39341380e-01,  1.21143915e+00],\n",
       "       [-7.13085628e-03,  1.64744508e-01],\n",
       "       [ 9.99353713e+00,  1.00101779e+01]])"
      ]
     },
     "execution_count": 8,
     "metadata": {},
     "output_type": "execute_result"
    }
   ],
   "source": [
    "results.conf_int()"
   ]
  },
  {
   "cell_type": "markdown",
   "metadata": {},
   "source": [
    "## confidence of our model parameter estimates: t-stats"
   ]
  },
  {
   "cell_type": "code",
   "execution_count": 9,
   "metadata": {},
   "outputs": [
    {
     "data": {
      "text/plain": [
       "array([1.08152796e+01, 1.79951651e+00, 2.35892511e+03])"
      ]
     },
     "execution_count": 9,
     "metadata": {},
     "output_type": "execute_result"
    }
   ],
   "source": [
    "results.tvalues"
   ]
  },
  {
   "cell_type": "markdown",
   "metadata": {},
   "source": [
    "# Robust regression"
   ]
  },
  {
   "cell_type": "code",
   "execution_count": 10,
   "metadata": {},
   "outputs": [
    {
     "name": "stdout",
     "output_type": "stream",
     "text": [
      "                            OLS Regression Results                            \n",
      "==============================================================================\n",
      "Dep. Variable:                      y   R-squared:                       1.000\n",
      "Model:                            OLS   Adj. R-squared:                  1.000\n",
      "Method:                 Least Squares   F-statistic:                 4.470e+07\n",
      "Date:                Tue, 12 Sep 2023   Prob (F-statistic):               0.00\n",
      "Time:                        16:14:23   Log-Likelihood:                -1418.8\n",
      "No. Observations:                1000   AIC:                             2844.\n",
      "Df Residuals:                     997   BIC:                             2858.\n",
      "Df Model:                           2                                         \n",
      "Covariance Type:                  HC0                                         \n",
      "==============================================================================\n",
      "                 coef    std err          z      P>|z|      [0.025      0.975]\n",
      "------------------------------------------------------------------------------\n",
      "const          1.0254      0.047     21.888      0.000       0.934       1.117\n",
      "x1             0.0788      0.039      2.043      0.041       0.003       0.154\n",
      "x2            10.0019      0.005   2097.855      0.000       9.993      10.011\n",
      "==============================================================================\n",
      "Omnibus:                       99.466   Durbin-Watson:                   2.070\n",
      "Prob(Omnibus):                  0.000   Jarque-Bera (JB):              690.319\n",
      "Skew:                           0.002   Prob(JB):                    1.26e-150\n",
      "Kurtosis:                       7.070   Cond. No.                         146.\n",
      "==============================================================================\n",
      "\n",
      "Notes:\n",
      "[1] Standard Errors are heteroscedasticity robust (HC0)\n"
     ]
    }
   ],
   "source": [
    "model = sm.OLS(y, X)\n",
    "robust_results = model.fit(cov_type='HC0')\n",
    "print(robust_results.summary())"
   ]
  },
  {
   "cell_type": "code",
   "execution_count": 11,
   "metadata": {},
   "outputs": [
    {
     "name": "stdout",
     "output_type": "stream",
     "text": [
      "                            OLS Regression Results                            \n",
      "==============================================================================\n",
      "Dep. Variable:                      y   R-squared:                       1.000\n",
      "Model:                            OLS   Adj. R-squared:                  1.000\n",
      "Method:                 Least Squares   F-statistic:                 4.450e+07\n",
      "Date:                Tue, 12 Sep 2023   Prob (F-statistic):               0.00\n",
      "Time:                        16:14:23   Log-Likelihood:                -1418.8\n",
      "No. Observations:                1000   AIC:                             2844.\n",
      "Df Residuals:                     997   BIC:                             2858.\n",
      "Df Model:                           2                                         \n",
      "Covariance Type:            nonrobust                                         \n",
      "==============================================================================\n",
      "                 coef    std err          t      P>|t|      [0.025      0.975]\n",
      "------------------------------------------------------------------------------\n",
      "const          1.0254      0.095     10.815      0.000       0.839       1.211\n",
      "x1             0.0788      0.044      1.800      0.072      -0.007       0.165\n",
      "x2            10.0019      0.004   2358.925      0.000       9.994      10.010\n",
      "==============================================================================\n",
      "Omnibus:                       99.466   Durbin-Watson:                   2.070\n",
      "Prob(Omnibus):                  0.000   Jarque-Bera (JB):              690.319\n",
      "Skew:                           0.002   Prob(JB):                    1.26e-150\n",
      "Kurtosis:                       7.070   Cond. No.                         146.\n",
      "==============================================================================\n",
      "\n",
      "Notes:\n",
      "[1] Standard Errors assume that the covariance matrix of the errors is correctly specified.\n"
     ]
    }
   ],
   "source": [
    "print(results.summary())"
   ]
  },
  {
   "cell_type": "code",
   "execution_count": null,
   "metadata": {},
   "outputs": [],
   "source": []
  }
 ],
 "metadata": {
  "kernelspec": {
   "display_name": "Python 3 (ipykernel)",
   "language": "python",
   "name": "python3"
  },
  "language_info": {
   "codemirror_mode": {
    "name": "ipython",
    "version": 3
   },
   "file_extension": ".py",
   "mimetype": "text/x-python",
   "name": "python",
   "nbconvert_exporter": "python",
   "pygments_lexer": "ipython3",
   "version": "3.7.4"
  }
 },
 "nbformat": 4,
 "nbformat_minor": 2
}
