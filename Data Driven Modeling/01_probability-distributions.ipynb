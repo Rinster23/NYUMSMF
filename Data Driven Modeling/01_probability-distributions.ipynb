{
 "cells": [
  {
   "cell_type": "markdown",
   "id": "3fd18194",
   "metadata": {},
   "source": [
    "# Introduction to Probability Distributions"
   ]
  },
  {
   "cell_type": "code",
   "execution_count": 1,
   "id": "6a63f2e2",
   "metadata": {},
   "outputs": [],
   "source": [
    "import matplotlib.pyplot as plt\n",
    "from IPython.display import Math, Latex"
   ]
  },
  {
   "cell_type": "markdown",
   "id": "bdd155f6",
   "metadata": {},
   "source": [
    "# Binomial Distribution"
   ]
  },
  {
   "cell_type": "code",
   "execution_count": 2,
   "id": "8d3816ad",
   "metadata": {},
   "outputs": [],
   "source": [
    "from scipy.stats import binom\n",
    "data_binom = binom.rvs(n=10,p=0.8,size=10000)"
   ]
  },
  {
   "cell_type": "code",
   "execution_count": 3,
   "id": "daca409f",
   "metadata": {},
   "outputs": [
    {
     "data": {
      "text/plain": [
       "10000"
      ]
     },
     "execution_count": 3,
     "metadata": {},
     "output_type": "execute_result"
    }
   ],
   "source": [
    "data_binom.size"
   ]
  },
  {
   "cell_type": "code",
   "execution_count": 4,
   "id": "d946e668",
   "metadata": {},
   "outputs": [
    {
     "data": {
      "image/png": "[encoded data removed]",
      "text/plain": [
       "<Figure size 432x288 with 1 Axes>"
      ]
     },
     "metadata": {
      "needs_background": "light"
     },
     "output_type": "display_data"
    }
   ],
   "source": [
    "n, bins, patches = plt.hist(data_binom, 50, facecolor='blue', alpha=0.5)\n",
    "plt.show()"
   ]
  },
  {
   "cell_type": "code",
   "execution_count": 5,
   "id": "ba980599",
   "metadata": {},
   "outputs": [],
   "source": [
    "import numpy as np\n",
    "from scipy.stats import binom\n",
    "import math\n",
    "prob = binom.cdf(data_binom, n=10, p=0.8)"
   ]
  },
  {
   "cell_type": "markdown",
   "id": "bd9762bc",
   "metadata": {},
   "source": [
    "A pair of dice is thrown 20 times. Find the probability of getting a double 6 at least 3 times."
   ]
  },
  {
   "cell_type": "code",
   "execution_count": 6,
   "id": "850d2431",
   "metadata": {},
   "outputs": [
    {
     "data": {
      "text/plain": [
       "0.3252915807703044"
      ]
     },
     "execution_count": 6,
     "metadata": {},
     "output_type": "execute_result"
    }
   ],
   "source": [
    "# Double 6: 1 time:\n",
    "# (n choose k) * p^k * (1-p)^(n-k)\n",
    "# (20 choose 1) * ((1/36)^1) * ((35/36)^19)\n",
    "float(math.factorial(20)) / (math.factorial(19) * math.factorial(1)) * ((1.0/36.0)**1) * ((35.0/36.0)**19)"
   ]
  },
  {
   "cell_type": "code",
   "execution_count": 7,
   "id": "eae268fd",
   "metadata": {},
   "outputs": [
    {
     "data": {
      "text/plain": [
       "0.32529158077030434"
      ]
     },
     "execution_count": 7,
     "metadata": {},
     "output_type": "execute_result"
    }
   ],
   "source": [
    "n = 20\n",
    "p = 1.0/36\n",
    "binom.pmf(1, n, p)"
   ]
  },
  {
   "cell_type": "code",
   "execution_count": 8,
   "id": "898b2ffa",
   "metadata": {},
   "outputs": [
    {
     "data": {
      "image/png": "[encoded data removed]",
      "text/plain": [
       "<Figure size 432x288 with 1 Axes>"
      ]
     },
     "metadata": {
      "needs_background": "light"
     },
     "output_type": "display_data"
    }
   ],
   "source": [
    "data_binom = binom.rvs(n=n,p=p,size=10000)\n",
    "nn, bins, patches = plt.hist(data_binom, 50, facecolor='blue', alpha=0.5)\n",
    "plt.show()"
   ]
  },
  {
   "cell_type": "code",
   "execution_count": 9,
   "id": "d8586b01",
   "metadata": {},
   "outputs": [
    {
     "data": {
      "text/plain": [
       "[0.5692602663480327, 0.32529158077030434, 0.08829342906622555]"
      ]
     },
     "execution_count": 9,
     "metadata": {},
     "output_type": "execute_result"
    }
   ],
   "source": [
    "[binom.pmf(0, n, p), binom.pmf(1, n, p), binom.pmf(2, n, p)]"
   ]
  },
  {
   "cell_type": "markdown",
   "id": "9330c18c",
   "metadata": {},
   "source": [
    "A pair of dice is thrown 20 times. Find the probability of getting a double 6 at least 3 times."
   ]
  },
  {
   "cell_type": "code",
   "execution_count": 10,
   "id": "ab92123e",
   "metadata": {},
   "outputs": [
    {
     "data": {
      "text/plain": [
       "0.017154723815437367"
      ]
     },
     "execution_count": 10,
     "metadata": {},
     "output_type": "execute_result"
    }
   ],
   "source": [
    "1.0 - (binom.pmf(0, n, p) + binom.pmf(1, n, p) + binom.pmf(2, n, p))"
   ]
  },
  {
   "cell_type": "markdown",
   "id": "ffffd446",
   "metadata": {},
   "source": [
    "# Gaussian (Normal) Distribution & Hypothesis Testing"
   ]
  },
  {
   "cell_type": "markdown",
   "id": "eab24ed0",
   "metadata": {},
   "source": [
    "Imagine a trading platform receives on average 300 trades per second, that follow a Gaussian distribution, with a standard deviation of 30 trades per second. If there is a technical error with one of your servers, you might see fewer trades per second. At which point might you get worried about your servers, at a 95% confidence level?"
   ]
  },
  {
   "cell_type": "code",
   "execution_count": 11,
   "id": "e7d37945",
   "metadata": {},
   "outputs": [
    {
     "data": {
      "image/png": "[encoded data removed]",
      "text/plain": [
       "<Figure size 432x288 with 1 Axes>"
      ]
     },
     "metadata": {
      "needs_background": "light"
     },
     "output_type": "display_data"
    }
   ],
   "source": [
    "import scipy.stats as stats\n",
    "\n",
    "mu = 300\n",
    "variance = 30**2\n",
    "sigma = math.sqrt(variance)\n",
    "x = np.linspace(mu - 3*sigma, mu + 3*sigma, 100)\n",
    "plt.plot(x, stats.norm.pdf(x, mu, sigma))\n",
    "plt.show()"
   ]
  },
  {
   "cell_type": "markdown",
   "id": "06d1a461",
   "metadata": {},
   "source": [
    "Null Hypothesis: M = 300"
   ]
  },
  {
   "cell_type": "markdown",
   "id": "3faca0f1",
   "metadata": {},
   "source": [
    "Alternative Hypothesis: M < 300"
   ]
  },
  {
   "cell_type": "markdown",
   "id": "eb124630",
   "metadata": {},
   "source": [
    "A One Tail Test, at 5% critical value (95% confidence level)"
   ]
  },
  {
   "cell_type": "code",
   "execution_count": 12,
   "id": "271cc3ff",
   "metadata": {},
   "outputs": [
    {
     "data": {
      "text/plain": [
       "-1.6448536269514729"
      ]
     },
     "execution_count": 12,
     "metadata": {},
     "output_type": "execute_result"
    }
   ],
   "source": [
    "import scipy\n",
    "scipy.stats.norm.ppf(.05)"
   ]
  },
  {
   "cell_type": "code",
   "execution_count": 13,
   "id": "d9541349",
   "metadata": {},
   "outputs": [
    {
     "data": {
      "text/plain": [
       "-1.9599639845400545"
      ]
     },
     "execution_count": 13,
     "metadata": {},
     "output_type": "execute_result"
    }
   ],
   "source": [
    "scipy.stats.norm.ppf(.025)"
   ]
  },
  {
   "cell_type": "code",
   "execution_count": 14,
   "id": "b9ee2f09",
   "metadata": {},
   "outputs": [
    {
     "data": {
      "text/plain": [
       "250.65439119145583"
      ]
     },
     "execution_count": 14,
     "metadata": {},
     "output_type": "execute_result"
    }
   ],
   "source": [
    "scipy.stats.norm.ppf(.05, 300, 30)"
   ]
  },
  {
   "cell_type": "code",
   "execution_count": 15,
   "id": "16fe69f2",
   "metadata": {},
   "outputs": [
    {
     "data": {
      "text/plain": [
       "230.2095637787748"
      ]
     },
     "execution_count": 15,
     "metadata": {},
     "output_type": "execute_result"
    }
   ],
   "source": [
    "scipy.stats.norm.ppf(.01, 300, 30)"
   ]
  },
  {
   "cell_type": "markdown",
   "id": "dcd1f5a7",
   "metadata": {},
   "source": [
    "If you observe 228 Trades per Second, you can reject the Null Hypothesis at both the 95% and 99% confidence levels, and alert your IT manager to the likely server problem"
   ]
  },
  {
   "cell_type": "markdown",
   "id": "213c11b7",
   "metadata": {},
   "source": [
    "# Chi-Square Distribution & Goodness of Fit"
   ]
  },
  {
   "cell_type": "markdown",
   "id": "a72d7132",
   "metadata": {},
   "source": [
    "A chemical company produces five chemicals, as follows: 1300 bottles a day of chemical A, 800 of chemical B, 1100 of chemical C, 500 of D and 1400 of chemmical E. As an analyst at an Investment Bank, you request a random sample of your products to be sent to an independent third party company for analysis, as part of an audit. The third party company receives 101 samples of product A, 30 of B, 69 of C, 17 of D and 83 of E. Using a 0.1% significance level, test whether the samples appear to be providing an unbiased representation of the products of the company."
   ]
  },
  {
   "cell_type": "markdown",
   "id": "56ec4269",
   "metadata": {},
   "source": [
    "Null Hypothesis: all products are equally likely to be represented in the sample"
   ]
  },
  {
   "cell_type": "markdown",
   "id": "46251f28",
   "metadata": {},
   "source": [
    "Alternative Hypothesis: The sample is in some way biased (a two-way test)"
   ]
  },
  {
   "cell_type": "code",
   "execution_count": 16,
   "id": "af5d4211",
   "metadata": {},
   "outputs": [
    {
     "data": {
      "text/plain": [
       "[76.47058823529412,\n",
       " 47.05882352941177,\n",
       " 64.70588235294117,\n",
       " 29.41176470588235,\n",
       " 82.3529411764706]"
      ]
     },
     "execution_count": 16,
     "metadata": {},
     "output_type": "execute_result"
    }
   ],
   "source": [
    "Observed = [101, 30, 69, 17, 83]\n",
    "Expected = [1300, 800, 1100, 500, 1400]\n",
    "Expected = [x * np.sum(Observed) / np.sum(Expected) for x in Expected]\n",
    "Expected"
   ]
  },
  {
   "cell_type": "code",
   "execution_count": 17,
   "id": "1f32470d",
   "metadata": {},
   "outputs": [
    {
     "data": {
      "text/html": [
       "<div>\n",
       "<style scoped>\n",
       "    .dataframe tbody tr th:only-of-type {\n",
       "        vertical-align: middle;\n",
       "    }\n",
       "\n",
       "    .dataframe tbody tr th {\n",
       "        vertical-align: top;\n",
       "    }\n",
       "\n",
       "    .dataframe thead th {\n",
       "        text-align: right;\n",
       "    }\n",
       "</style>\n",
       "<table border=\"1\" class=\"dataframe\">\n",
       "  <thead>\n",
       "    <tr style=\"text-align: right;\">\n",
       "      <th></th>\n",
       "      <th>Expected</th>\n",
       "      <th>Observed</th>\n",
       "    </tr>\n",
       "  </thead>\n",
       "  <tbody>\n",
       "    <tr>\n",
       "      <th>0</th>\n",
       "      <td>76.470588</td>\n",
       "      <td>101</td>\n",
       "    </tr>\n",
       "    <tr>\n",
       "      <th>1</th>\n",
       "      <td>47.058824</td>\n",
       "      <td>30</td>\n",
       "    </tr>\n",
       "    <tr>\n",
       "      <th>2</th>\n",
       "      <td>64.705882</td>\n",
       "      <td>69</td>\n",
       "    </tr>\n",
       "    <tr>\n",
       "      <th>3</th>\n",
       "      <td>29.411765</td>\n",
       "      <td>17</td>\n",
       "    </tr>\n",
       "    <tr>\n",
       "      <th>4</th>\n",
       "      <td>82.352941</td>\n",
       "      <td>83</td>\n",
       "    </tr>\n",
       "  </tbody>\n",
       "</table>\n",
       "</div>"
      ],
      "text/plain": [
       "    Expected  Observed\n",
       "0  76.470588       101\n",
       "1  47.058824        30\n",
       "2  64.705882        69\n",
       "3  29.411765        17\n",
       "4  82.352941        83"
      ]
     },
     "execution_count": 17,
     "metadata": {},
     "output_type": "execute_result"
    }
   ],
   "source": [
    "import pandas as pd\n",
    "Data = pd.DataFrame({'Expected':Expected, 'Observed':Observed})\n",
    "Data"
   ]
  },
  {
   "cell_type": "markdown",
   "id": "f983a0f3",
   "metadata": {},
   "source": [
    "Define: $$X^2 = \\sum_{i=1}^m\\frac{(O_i - E_i)^2}{E_i}$$ where Oi and Ei are observed and expected frequencies and m is the number of categories being compared. X^2 is approximately an observation from a chi-squared distribution with m-1 degrees of freedom: $$X^2 \\sim \\chi^2_{m-1}$$"
   ]
  },
  {
   "cell_type": "code",
   "execution_count": 18,
   "id": "a2430855",
   "metadata": {},
   "outputs": [
    {
     "data": {
      "text/plain": [
       "19.579926073926078"
      ]
     },
     "execution_count": 18,
     "metadata": {},
     "output_type": "execute_result"
    }
   ],
   "source": [
    "X2 = np.sum((Data['Observed'] - Data['Expected'])**2 / Data['Expected'])\n",
    "X2"
   ]
  },
  {
   "cell_type": "code",
   "execution_count": 19,
   "id": "8cca4b49",
   "metadata": {},
   "outputs": [
    {
     "data": {
      "text/plain": [
       "[<matplotlib.lines.Line2D at 0x204515f90c8>]"
      ]
     },
     "execution_count": 19,
     "metadata": {},
     "output_type": "execute_result"
    },
    {
     "data": {
      "image/png": "[encoded data removed]",
      "text/plain": [
       "<Figure size 432x288 with 1 Axes>"
      ]
     },
     "metadata": {
      "needs_background": "light"
     },
     "output_type": "display_data"
    }
   ],
   "source": [
    "from scipy.stats import chi2\n",
    "X = np.arange(0, 30, 0.001)\n",
    "plt.plot(X, chi2.pdf(X, df=4))"
   ]
  },
  {
   "cell_type": "code",
   "execution_count": 20,
   "id": "16deceb7",
   "metadata": {},
   "outputs": [
    {
     "data": {
      "text/plain": [
       "18.46682695290317"
      ]
     },
     "execution_count": 20,
     "metadata": {},
     "output_type": "execute_result"
    }
   ],
   "source": [
    "# Critical Value (at 0.1% significance level):\n",
    "scipy.stats.chi2.ppf((1.0-0.001), 4)"
   ]
  },
  {
   "cell_type": "markdown",
   "id": "e655eb6f",
   "metadata": {},
   "source": [
    "Reject the Null Hypothesis!"
   ]
  },
  {
   "cell_type": "markdown",
   "id": "f9ff9de8",
   "metadata": {},
   "source": [
    "# The F Distribution & A Ratio of Variances"
   ]
  },
  {
   "cell_type": "markdown",
   "id": "6b4d82fa",
   "metadata": {},
   "source": [
    "An experiment was conducted to investigate the effects of two alternative fertilizers on the growth of spinach plants. The plants were grown in controlled conditions, with 12 randomly selected plants being given fertilizer A, and a further 12 being given fertilizer B. Before the end of the experiment, some plants were attacked by a fungus, and they were removed from the experiment. The final results are summarized below:"
   ]
  },
  {
   "cell_type": "code",
   "execution_count": 21,
   "id": "bda353d5",
   "metadata": {},
   "outputs": [
    {
     "data": {
      "text/html": [
       "<div>\n",
       "<style scoped>\n",
       "    .dataframe tbody tr th:only-of-type {\n",
       "        vertical-align: middle;\n",
       "    }\n",
       "\n",
       "    .dataframe tbody tr th {\n",
       "        vertical-align: top;\n",
       "    }\n",
       "\n",
       "    .dataframe thead th {\n",
       "        text-align: right;\n",
       "    }\n",
       "</style>\n",
       "<table border=\"1\" class=\"dataframe\">\n",
       "  <thead>\n",
       "    <tr style=\"text-align: right;\">\n",
       "      <th></th>\n",
       "      <th>Fertilizer</th>\n",
       "      <th>Sample Size</th>\n",
       "      <th>sum X</th>\n",
       "      <th>sum X^2</th>\n",
       "      <th>Sigma^2</th>\n",
       "    </tr>\n",
       "  </thead>\n",
       "  <tbody>\n",
       "    <tr>\n",
       "      <th>0</th>\n",
       "      <td>A</td>\n",
       "      <td>11</td>\n",
       "      <td>1098</td>\n",
       "      <td>175644</td>\n",
       "      <td>6604.36</td>\n",
       "    </tr>\n",
       "    <tr>\n",
       "      <th>1</th>\n",
       "      <td>B</td>\n",
       "      <td>10</td>\n",
       "      <td>1083</td>\n",
       "      <td>145350</td>\n",
       "      <td>3117.90</td>\n",
       "    </tr>\n",
       "  </tbody>\n",
       "</table>\n",
       "</div>"
      ],
      "text/plain": [
       "  Fertilizer  Sample Size  sum X  sum X^2  Sigma^2\n",
       "0          A           11   1098   175644  6604.36\n",
       "1          B           10   1083   145350  3117.90"
      ]
     },
     "execution_count": 21,
     "metadata": {},
     "output_type": "execute_result"
    }
   ],
   "source": [
    "Data = pd.DataFrame({'Fertilizer':['A','B'], 'Sample Size':[11,10], 'sum X':[1098, 1083], 'sum X^2':[175644, 145350], 'Sigma^2':[6604.36, 3117.90]})\n",
    "Data"
   ]
  },
  {
   "cell_type": "markdown",
   "id": "e70424da",
   "metadata": {},
   "source": [
    "Null Hypothesis: $$\\sigma_x^2 = \\sigma_y^2$$"
   ]
  },
  {
   "cell_type": "markdown",
   "id": "4311c512",
   "metadata": {},
   "source": [
    "Alternative Hypothesis: $$\\sigma_x^2 \\neq \\sigma_y^2$$"
   ]
  },
  {
   "cell_type": "markdown",
   "id": "ec3be43e",
   "metadata": {},
   "source": [
    "A two tailed test"
   ]
  },
  {
   "cell_type": "markdown",
   "id": "9ebe866f",
   "metadata": {},
   "source": [
    "Note: $$ \\frac{n_x-1}{\\sigma^2} S^2_x \\sim \\chi^2_{n_x-1} $$"
   ]
  },
  {
   "cell_type": "markdown",
   "id": "928b80ac",
   "metadata": {},
   "source": [
    "$$ \\frac{n_y-1}{\\sigma^2} S^2_y \\sim \\chi^2_{n_y-1} $$"
   ]
  },
  {
   "cell_type": "markdown",
   "id": "032f3574",
   "metadata": {},
   "source": [
    "From the definition of the F-Distribution, taking the scaled ratio of random variables with chi^2 distributions, we get:"
   ]
  },
  {
   "cell_type": "markdown",
   "id": "ebefc1a6",
   "metadata": {},
   "source": [
    " $$ \\frac{\\frac{n_x-1}{\\sigma^2} S^2_x}{n_x-1} : \\frac{\\frac{n_y-1}{\\sigma^2} S^2_y}{n_y-1} \\sim F_{n_x-1, n_y-1}$$"
   ]
  },
  {
   "cell_type": "markdown",
   "id": "8b2afce5",
   "metadata": {},
   "source": [
    "Which simplifies to give: $$\\frac{S^2_x}{S^2_y} \\sim F_{n_x-1, n_Y-1}$$"
   ]
  },
  {
   "cell_type": "code",
   "execution_count": null,
   "id": "b507dfea",
   "metadata": {},
   "outputs": [],
   "source": [
    "6604.36 / 3117.90"
   ]
  },
  {
   "cell_type": "code",
   "execution_count": null,
   "id": "f6c569f3",
   "metadata": {},
   "outputs": [],
   "source": [
    "# Critical Values\n",
    "scipy.stats.f.ppf(q=1-0.025, dfn=10, dfd=9)"
   ]
  },
  {
   "cell_type": "markdown",
   "id": "c1bd685a",
   "metadata": {},
   "source": [
    "Accept the Null Hypothesis: Not enough evidence to reject the null. The two fertilizer appear to result in similar varainces."
   ]
  },
  {
   "cell_type": "markdown",
   "id": "3fdaaa2c",
   "metadata": {},
   "source": [
    "Under the null, the pooled estimate of the common variance is therefore: $$s^2 = \\frac{(n_x-1)s^2_x + (n_y-1)s^2_y}{n_x+n_y-2}$$"
   ]
  },
  {
   "cell_type": "code",
   "execution_count": null,
   "id": "cec067ba",
   "metadata": {},
   "outputs": [],
   "source": [
    "s2 = 1.0/19.0 * ((175644.0 - 1.0/11.0*(1098.0**2)) + (145350.0 - 1.0/10.0*(1083.0**2)))\n",
    "s2"
   ]
  },
  {
   "cell_type": "markdown",
   "id": "77a9571d",
   "metadata": {},
   "source": [
    "The upper and lower 0.5% points of the chi^2(19) distribution are:"
   ]
  },
  {
   "cell_type": "code",
   "execution_count": null,
   "id": "39b38beb",
   "metadata": {},
   "outputs": [],
   "source": [
    "[scipy.stats.chi2.ppf((0.005), 19), scipy.stats.chi2.ppf((1.0-0.005), 19)]"
   ]
  },
  {
   "cell_type": "markdown",
   "id": "92e226b1",
   "metadata": {},
   "source": [
    "And therefore the symmetric 99% confidence interval for the common variance is:"
   ]
  },
  {
   "cell_type": "code",
   "execution_count": null,
   "id": "864b66fb",
   "metadata": {},
   "outputs": [],
   "source": [
    "[((19 * 4952.88) / 38.58), (19 * 4952.88) / 6.844]"
   ]
  },
  {
   "cell_type": "markdown",
   "id": "a65da9dc",
   "metadata": {},
   "source": [
    "Approx: (2440, 13750), which includes both 6604.36 and 3117.90 observed above"
   ]
  },
  {
   "cell_type": "code",
   "execution_count": null,
   "id": "7841f645",
   "metadata": {},
   "outputs": [],
   "source": []
  }
 ],
 "metadata": {
  "kernelspec": {
   "display_name": "Python 3 (ipykernel)",
   "language": "python",
   "name": "python3"
  },
  "language_info": {
   "codemirror_mode": {
    "name": "ipython",
    "version": 3
   },
   "file_extension": ".py",
   "mimetype": "text/x-python",
   "name": "python",
   "nbconvert_exporter": "python",
   "pygments_lexer": "ipython3",
   "version": "3.7.4"
  }
 },
 "nbformat": 4,
 "nbformat_minor": 5
}
