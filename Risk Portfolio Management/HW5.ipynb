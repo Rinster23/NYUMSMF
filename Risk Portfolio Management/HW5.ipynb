{
 "cells": [
  {
   "cell_type": "code",
   "execution_count": 1,
   "id": "eec3fa0b",
   "metadata": {},
   "outputs": [],
   "source": [
    "# chap4.py\n",
    "import pandas as pd\n",
    "import numpy as np\n",
    "import qrpm_funcs as qf\n",
    "import matplotlib.pyplot as plt\n",
    "# Get 3 currencies until the end of\n",
    "# previous year. Form sample covariance matrix\n",
    "# and do simple efficient frontier calculations\n",
    "\n",
    "lastday = qf.LastYearEnd()\n",
    "# Swiss franc, pound sterling, Japanese Yen\n",
    "seriesnames = ['DEXSZUS', 'DEXUSUK', 'DEXJPUS']\n",
    "cdates, ratematrix = qf.GetFREDMatrix(seriesnames, enddate=lastday)\n",
    "multipliers = [-1, 1, -1]\n",
    "lgdates, difflgs = qf.levels_to_log_returns(cdates, ratematrix, multipliers)"
   ]
  },
  {
   "cell_type": "code",
   "execution_count": 2,
   "id": "ce26b77c",
   "metadata": {},
   "outputs": [],
   "source": [
    "ind = lgdates.index(\"2020-12-31\")\n",
    "train_set = difflgs[:ind + 1]\n",
    "test_set = difflgs[ind + 1:]"
   ]
  },
  {
   "cell_type": "code",
   "execution_count": 8,
   "id": "d8a16685",
   "metadata": {},
   "outputs": [
    {
     "data": {
      "image/png": "[encoded data removed]",
      "text/plain": [
       "<Figure size 720x360 with 1 Axes>"
      ]
     },
     "metadata": {
      "needs_background": "light"
     },
     "output_type": "display_data"
    }
   ],
   "source": [
    "ret = 100 * np.array(train_set)\n",
    "C = np.cov(ret.T)\n",
    "C_inv = np.linalg.inv(C)\n",
    "m_t = np.mean(ret,axis = 0).reshape(1,3)*100\n",
    "mu_list = []\n",
    "std_list = []\n",
    "u = np.ones((3,1))\n",
    "a = (((u.T@C_inv@u)*(m_t@C_inv@m_t.T) - (u.T@C_inv@m_t.T)**2)/(u.T@C_inv@u))[0][0]\n",
    "b = (u.T@C_inv@m_t.T/(u.T@C_inv@u))[0][0]\n",
    "c = (1/(u.T@C_inv@u))[0][0]\n",
    "omega_list = []\n",
    "for i in range(11):\n",
    "    lam = i*0.01\n",
    "    mu_list.append(lam*a+b)\n",
    "    std_list.append(np.sqrt(lam*lam*a+c))\n",
    "    omega_list.append(lam*(np.identity(3)-C_inv@u@u.T*c)@C_inv@m_t.T + C_inv@u*c)\n",
    "\n",
    "plt.figure(figsize=(10, 5))\n",
    "plt.scatter(std_list,mu_list)\n",
    "plt.xlabel(\"Standard Deviation (%/day)\")\n",
    "plt.ylabel(\"Return (bps/day)\")\n",
    "plt.show()"
   ]
  },
  {
   "cell_type": "code",
   "execution_count": 9,
   "id": "17859aba",
   "metadata": {},
   "outputs": [
    {
     "name": "stdout",
     "output_type": "stream",
     "text": [
      "Variances of portf in the test set: \n",
      " [0.09150359805358824, 0.08925399461055813, 0.08780360688917921, 0.08715243488945146, 0.08730047861137491, 0.08824773805494955, 0.08999421322017537, 0.09253990410705239, 0.0958848107155806, 0.10002893304575998, 0.10497227109759055]\n"
     ]
    },
    {
     "data": {
      "text/plain": [
       "[(3, 0.08715243488945146),\n",
       " (4, 0.08730047861137491),\n",
       " (2, 0.08780360688917921),\n",
       " (5, 0.08824773805494955),\n",
       " (1, 0.08925399461055813),\n",
       " (6, 0.08999421322017537),\n",
       " (0, 0.09150359805358824),\n",
       " (7, 0.09253990410705239),\n",
       " (8, 0.0958848107155806),\n",
       " (9, 0.10002893304575998),\n",
       " (10, 0.10497227109759055)]"
      ]
     },
     "execution_count": 9,
     "metadata": {},
     "output_type": "execute_result"
    }
   ],
   "source": [
    "ret_test = 100*np.array(test_set)\n",
    "C_test = np.cov(ret_test.T)\n",
    "var_test = []\n",
    "for i in range(11):\n",
    "    omega = omega_list[i]\n",
    "    var = (omega.T@C_test@omega)[0][0]\n",
    "    var_test.append(var)\n",
    "print(\"Variances of portf in the test set: \\n\", var_test)\n",
    "temp = enumerate(var_test)\n",
    "temp = sorted(temp,key=lambda x:x[1])\n",
    "temp"
   ]
  }
 ],
 "metadata": {
  "kernelspec": {
   "display_name": "Python 3 (ipykernel)",
   "language": "python",
   "name": "python3"
  },
  "language_info": {
   "codemirror_mode": {
    "name": "ipython",
    "version": 3
   },
   "file_extension": ".py",
   "mimetype": "text/x-python",
   "name": "python",
   "nbconvert_exporter": "python",
   "pygments_lexer": "ipython3",
   "version": "3.7.4"
  }
 },
 "nbformat": 4,
 "nbformat_minor": 5
}
