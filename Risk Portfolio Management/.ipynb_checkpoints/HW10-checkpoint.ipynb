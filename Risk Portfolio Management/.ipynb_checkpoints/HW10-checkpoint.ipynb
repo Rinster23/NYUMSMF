{
 "cells": [
  {
   "cell_type": "markdown",
   "id": "f3aa9354",
   "metadata": {},
   "source": [
    "# Q4\n"
   ]
  },
  {
   "cell_type": "code",
   "execution_count": 1,
   "id": "531db722",
   "metadata": {},
   "outputs": [],
   "source": [
    "import pandas as pd\n",
    "import numpy as np\n",
    "import datetime\n",
    "import qrpm_funcs as qf\n",
    "import matplotlib.pyplot as plt\n",
    "%matplotlib inline\n",
    "pd.set_option('display.max_columns', None)\n",
    "pd.set_option('display.max_rows', None)\n",
    "\n",
    "#Get all SPX options on CBOE as of December 31 of last year\n",
    "lastday=qf.LastYearEnd()\n",
    "df_opts=pd.read_excel(r\"SPX_UnderlyingOptionsEODCalcs_\"+lastday+\".xlsx\", \\\n",
    "                     engine=\"openpyxl\")\n",
    "\n",
    "#Subset the S&P 500 options with underlying SPX (eliminate SPXW, weekly expirations)\n",
    "df_spx = df_opts[(df_opts.underlying_symbol == \"^SPX\") & (df_opts.root == \"SPX\")]\n",
    "\n",
    "#Get S&P 500 price and quote date\n",
    "spx_price = df_spx.active_underlying_price_1545.unique()[0]\n",
    "quote_date = df_spx.quote_date.unique()[0]\n",
    "stqd = str(quote_date)[:10]    #Display version YYYY-MM-DD\n",
    "\n",
    "#Look between 80% of the money and 120% of the money\n",
    "df_spx=df_spx[(df_spx.strike > .8*spx_price) & (df_spx.strike < 1.2*spx_price)]\n",
    "\n",
    "#Eliminate expirations less than a week\n",
    "df_spx=df_spx[df_spx.expiration>quote_date+np.timedelta64(6,'D')]"
   ]
  },
  {
   "cell_type": "code",
   "execution_count": 2,
   "id": "ea1be555",
   "metadata": {},
   "outputs": [
    {
     "data": {
      "image/png": "[encoded data removed]",
      "text/plain": [
       "<Figure size 720x360 with 1 Axes>"
      ]
     },
     "metadata": {
      "needs_background": "light"
     },
     "output_type": "display_data"
    }
   ],
   "source": [
    "eprt = sorted(df_spx['expiration'].unique())[1]\n",
    "df_eprt = df_spx[(df_spx.expiration == eprt) & (df_spx.option_type == 'C')]\n",
    "prices = list(df_eprt[['bid_1545','ask_1545']].mean(axis=1))\n",
    "strikes = list(df_eprt['strike'])\n",
    "K = []\n",
    "ind = []\n",
    "C = []\n",
    "for i in range(len(strikes)):\n",
    "    if strikes[i] % 50 == 0:\n",
    "        K.append(strikes[i])\n",
    "        ind.append(i)\n",
    "for i in ind:\n",
    "    C.append(prices[i])\n",
    "partialK = [(C[i+1]-C[i])/(K[i+1]-K[i]) for i in range(len(C)-1)]\n",
    "partialKK = [(partialK[i+1]-partialK[i])/(K[i+1]-K[i]) for i in range(len(partialK)-1)]\n",
    "plt.figure(figsize=(10, 5))\n",
    "plt.plot(K[:-2],partialKK)\n",
    "plt.ylabel('density')\n",
    "plt.xlabel('Price')\n",
    "plt.title('Implied probability mass function')\n",
    "plt.show()"
   ]
  },
  {
   "cell_type": "code",
   "execution_count": 3,
   "id": "629c2bb4",
   "metadata": {},
   "outputs": [
    {
     "name": "stdout",
     "output_type": "stream",
     "text": [
      "Underlying_price is  4780.4751\n"
     ]
    }
   ],
   "source": [
    "underlying_price = (df_eprt['implied_underlying_price_1545'].iloc[0] + df_eprt['active_underlying_price_1545'].iloc[0])/2\n",
    "print('Underlying_price is ', underlying_price)"
   ]
  },
  {
   "cell_type": "markdown",
   "id": "405b580b",
   "metadata": {},
   "source": [
    "#### We cannot say anything about the risk neutral density since it has nothing to do with the physical price distribution."
   ]
  },
  {
   "cell_type": "markdown",
   "id": "dd2b51d9",
   "metadata": {},
   "source": [
    "# Q5\n"
   ]
  },
  {
   "cell_type": "code",
   "execution_count": 7,
   "id": "cb10d260",
   "metadata": {},
   "outputs": [],
   "source": [
    "lastday=qf.LastYearEnd()\n",
    "#Swiss franc, pound sterling, Japanese Yen\n",
    "seriesnames=['DEXUSUK']\n",
    "cdates,ratematrix=qf.GetFREDMatrix(seriesnames,enddate=lastday)\n",
    "multipliers=[1]\n",
    "lgdates,difflgs=qf.levels_to_log_returns(cdates,ratematrix,multipliers)\n",
    "ind = lgdates.index('2020-12-31')\n",
    "T = np.array(difflgs[:ind+1]) # Learning set\n",
    "V = np.array(difflgs[ind+1:]) # Hold-out set\n",
    "n = len(V)"
   ]
  },
  {
   "cell_type": "code",
   "execution_count": 9,
   "id": "a20dc0e7",
   "metadata": {},
   "outputs": [
    {
     "name": "stdout",
     "output_type": "stream",
     "text": [
      "0.08710546019265984 0.9087550165524291 3.521266884224251e-07\n",
      "Variance is  0.8984643876197116\n",
      "Kurtosis is 1.4016648997449623\n"
     ]
    }
   ],
   "source": [
    "from scipy.stats import kurtosis\n",
    "ans = qf.Garch11Fit([0.7,0.2,1],T)\n",
    "a = ans[0]\n",
    "b = ans[1]\n",
    "c = ans[2]\n",
    "print(a,b,c)\n",
    "\n",
    "sigma = [np.std(T)]\n",
    "for i in range(n):\n",
    "    sigma.append(np.sqrt(c+a*(V[i])**2+b*(sigma[-1])**2))\n",
    "res = []\n",
    "for i in range(n):\n",
    "    res.append(V[i]/sigma[i])\n",
    "print('Variance is ', np.var(res))\n",
    "print('Kurtosis is', kurtosis(res)[0])"
   ]
  },
  {
   "cell_type": "markdown",
   "id": "da366cab",
   "metadata": {},
   "source": [
    "#### Ideally, Variance should be 1 and Kurtosis should be 0. We can see from the result that the variance is somewhat close to 1, but the kurtosis not close to 0, which means that GARCH model is not perfect."
   ]
  },
  {
   "cell_type": "code",
   "execution_count": null,
   "id": "c6ed4734",
   "metadata": {},
   "outputs": [],
   "source": []
  }
 ],
 "metadata": {
  "kernelspec": {
   "display_name": "Python 3 (ipykernel)",
   "language": "python",
   "name": "python3"
  },
  "language_info": {
   "codemirror_mode": {
    "name": "ipython",
    "version": 3
   },
   "file_extension": ".py",
   "mimetype": "text/x-python",
   "name": "python",
   "nbconvert_exporter": "python",
   "pygments_lexer": "ipython3",
   "version": "3.7.4"
  }
 },
 "nbformat": 4,
 "nbformat_minor": 5
}
