{
 "cells": [
  {
   "cell_type": "code",
   "execution_count": 1,
   "id": "593c778a",
   "metadata": {},
   "outputs": [],
   "source": [
    "import numpy as np\n",
    "import pandas as pd\n",
    "import qrpm_funcs as qf\n",
    "\n",
    "def gradientmethod(xinit,objfunc,talkative):\n",
    "    global order_magnitude    #variable used to size objective function around 1\n",
    "    #Gradient descent method\n",
    "    #Starting point\n",
    "    x=xinit\n",
    "    iteration=0\n",
    "    #initialize order of magnitude - objfunc uses this to scale objective\n",
    "    order_magnitude=0.\n",
    "    \n",
    "    if talkative:\n",
    "        print(\"Initial point:\",x[0])\n",
    "        print(\"Objective function at initial point:\",objfunc(x[0]))\n",
    "        print(\"Gradient at initial point:\",gradfunc(x[0],objfunc))\n",
    "    \n",
    "    #Parameters for backtracking\n",
    "    alpha = .25\n",
    "    beta = .75\n",
    "    epsilon=10**(-10)\n",
    "    maxiter=10\n",
    "\n",
    "    #Iterate as long as necessary\n",
    "    while True:\n",
    "        deltax=-gradfunc(x[iteration],objfunc)\n",
    "        delta=1\n",
    "\n",
    "        #Backtracking\n",
    "        current_obj=objfunc(x[iteration])\n",
    "        grad_squared=np.matmul(deltax,deltax)\n",
    "        if talkative: print(iteration,\" obj:\",current_obj, \\\n",
    "                \" grad^2:\",grad_squared)\n",
    "        if grad_squared < epsilon:\n",
    "            break     #Done\n",
    "\n",
    "        while True:\n",
    "            y=x[iteration]+delta*deltax\n",
    "            new_obj=objfunc(y)\n",
    "            if new_obj > current_obj-delta*alpha*grad_squared:\n",
    "                delta*=beta\n",
    "            else:\n",
    "                break   #Backtracking done\n",
    "\n",
    "        if talkative: print(\"Delta from backtracking:\",delta)\n",
    "        x.append(y)\n",
    "        iteration+=1\n",
    "        if iteration > maxiter:\n",
    "            break\n",
    "    return(x)\n",
    "\n",
    "def gradfunc(x, objfunc):\n",
    "    #Take gradient of function by differencing\n",
    "    n=len(x)\n",
    "    epsilon=10**(-8)/n\n",
    "    bf_x=objfunc(x)\n",
    "\n",
    "    gradvec=np.array([-bf_x]*n)\n",
    "    for i in range(n):    #perturb each argument a little\n",
    "        little_vec=np.zeros(n)\n",
    "        little_vec[i]=epsilon\n",
    "        gradvec[i]+=objfunc(np.add(x,little_vec))\n",
    "    gradvec/=epsilon\n",
    "    return(gradvec)\n"
   ]
  },
  {
   "cell_type": "code",
   "execution_count": 2,
   "id": "5921a09b",
   "metadata": {},
   "outputs": [],
   "source": [
    "#Get 3 currencies until the end of\n",
    "#previous year. Form sample covariance matrix\n",
    "\n",
    "lastday=qf.LastYearEnd()\n",
    "#Swiss franc, pound sterling, Japanese Yen\n",
    "seriesnames=['DEXSZUS','DEXUSUK','DEXJPUS']\n",
    "cdates,ratematrix=qf.GetFREDMatrix(seriesnames,enddate=lastday)\n",
    "multipliers=[-1,1,-1]\n",
    "\n",
    "lgdates,difflgs=qf.levels_to_log_returns(cdates,ratematrix,multipliers)\n",
    "\n",
    "#Mean vector and covariance matrix are inputs to efficient frontier calculations\n",
    "d=np.array(difflgs)*100\n",
    "m=np.mean(d,axis=0)\n",
    "c=np.cov(d.T)"
   ]
  },
  {
   "cell_type": "code",
   "execution_count": 3,
   "id": "8caf9afc",
   "metadata": {},
   "outputs": [],
   "source": [
    "def target_func(x, gamma=0):\n",
    "    temp = np.array([1/3+x[0],1/3+x[1],1/3-x[0]-x[1]])\n",
    "    exponent = -sum([item*np.log(item) for item in temp])\n",
    "    temp = temp.reshape(-1,1)\n",
    "    return 1/2*(temp.T@c@temp)[0][0] - gamma*np.exp(exponent)\n"
   ]
  },
  {
   "cell_type": "code",
   "execution_count": 4,
   "id": "185b52a2",
   "metadata": {},
   "outputs": [
    {
     "name": "stdout",
     "output_type": "stream",
     "text": [
      "[0.06542006382815135, 0.5026582901668608, 0.4319216460049877]\n"
     ]
    }
   ],
   "source": [
    "# (a)\n",
    "weights = gradientmethod([[-0.3,0]],target_func,talkative=False)\n",
    "res = weights[-1]\n",
    "numerical_res = [1/3+res[0],1/3+res[1],1/3-res[0]-res[1]]\n",
    "print(numerical_res)"
   ]
  },
  {
   "cell_type": "code",
   "execution_count": 5,
   "id": "cbd66a1f",
   "metadata": {},
   "outputs": [
    {
     "name": "stdout",
     "output_type": "stream",
     "text": [
      "[0.05751845131641792, 0.5098898635682844, 0.4325916851152977]\n",
      "[ True  True  True]\n"
     ]
    }
   ],
   "source": [
    "# compare with the answer from formula (4.6)\n",
    "c_inv = np.linalg.inv(c)\n",
    "u = np.ones((3,1))\n",
    "theoretical = c_inv@u*(1/(u.T@c_inv@u)[0][0])\n",
    "theoretical_res = [float(i) for i in theoretical]\n",
    "print(theoretical_res)\n",
    "print(abs(np.array(numerical_res)-np.array(theoretical_res))<0.01)"
   ]
  },
  {
   "cell_type": "code",
   "execution_count": 6,
   "id": "e9d96171",
   "metadata": {},
   "outputs": [
    {
     "name": "stdout",
     "output_type": "stream",
     "text": [
      "[0.33327549168470694, 0.33336585946873026, 0.33335864884656274]\n"
     ]
    }
   ],
   "source": [
    "# (b)\n",
    "def target_func2(x):\n",
    "    return target_func(x, 100)\n",
    "\n",
    "weights = gradientmethod([[0,0]],target_func2,talkative=False)\n",
    "res = weights[-1]\n",
    "numerical_res = [1/3+res[0],1/3+res[1],1/3-res[0]-res[1]]\n",
    "print(numerical_res)"
   ]
  },
  {
   "cell_type": "code",
   "execution_count": 7,
   "id": "a79e76d9",
   "metadata": {},
   "outputs": [
    {
     "name": "stdout",
     "output_type": "stream",
     "text": [
      "Gamma:  0.02000000000000001\n",
      "[0.19912468620187174, 0.4167829166879334, 0.3840923971101948]\n"
     ]
    }
   ],
   "source": [
    "# (c)\n",
    "gamma = 0.001\n",
    "while True:\n",
    "    def target_func3(x):\n",
    "        return target_func(x, gamma)\n",
    "    res = gradientmethod([[-0.3,0]],target_func3,talkative=False)[-1]\n",
    "    if abs(1/3+res[0]-0.2) < 0.001:\n",
    "        print(\"Gamma: \", gamma)\n",
    "        print([1/3+res[0],1/3+res[1],1/3-res[0]-res[1]])\n",
    "        break\n",
    "    else:\n",
    "        gamma += 0.001"
   ]
  },
  {
   "cell_type": "code",
   "execution_count": null,
   "id": "c6247db4",
   "metadata": {},
   "outputs": [],
   "source": []
  }
 ],
 "metadata": {
  "kernelspec": {
   "display_name": "Python 3 (ipykernel)",
   "language": "python",
   "name": "python3"
  },
  "language_info": {
   "codemirror_mode": {
    "name": "ipython",
    "version": 3
   },
   "file_extension": ".py",
   "mimetype": "text/x-python",
   "name": "python",
   "nbconvert_exporter": "python",
   "pygments_lexer": "ipython3",
   "version": "3.7.4"
  }
 },
 "nbformat": 4,
 "nbformat_minor": 5
}
