{
 "cells": [
  {
   "cell_type": "markdown",
   "id": "67aee31d",
   "metadata": {},
   "source": [
    "# Q1"
   ]
  },
  {
   "cell_type": "code",
   "execution_count": 1,
   "id": "94c4a92d",
   "metadata": {},
   "outputs": [],
   "source": [
    "import pandas as pd\n",
    "import numpy as np\n",
    "import datetime\n",
    "import qrpm_funcs as qf\n",
    "import matplotlib.pyplot as plt\n",
    "%matplotlib inline\n",
    "pd.set_option('display.max_columns', None)\n",
    "pd.set_option('display.max_rows', None)"
   ]
  },
  {
   "cell_type": "code",
   "execution_count": 2,
   "id": "b08ba8b2",
   "metadata": {},
   "outputs": [],
   "source": [
    "lastday=qf.LastYearEnd()\n",
    "#Swiss franc, pound sterling, Japanese Yen\n",
    "seriesnames=['DEXUSUK']\n",
    "cdates,ratematrix=qf.GetFREDMatrix(seriesnames,enddate=lastday)\n",
    "multipliers=[1]\n",
    "lgdates,difflgs=qf.levels_to_log_returns(cdates,ratematrix,multipliers)\n",
    "ind = lgdates.index('2020-12-31')\n",
    "T = np.array(difflgs[:ind+1]) # Learning set\n",
    "V = np.array(difflgs[ind+1:]) # Hold-out set\n",
    "n = len(V)"
   ]
  },
  {
   "cell_type": "code",
   "execution_count": 3,
   "id": "554e0074",
   "metadata": {},
   "outputs": [
    {
     "name": "stdout",
     "output_type": "stream",
     "text": [
      "0.08710546019265984 0.9087550165524291 3.521266884224251e-07\n",
      "GARCH, Variance is  0.8984643876197116\n",
      "GARCH, Kurtosis is 1.4016648997449623\n"
     ]
    }
   ],
   "source": [
    "from scipy.stats import kurtosis\n",
    "ans = qf.Garch11Fit([0.7,0.2,1],T)\n",
    "a = ans[0]\n",
    "b = ans[1]\n",
    "c = ans[2]\n",
    "print(a,b,c)\n",
    "\n",
    "sigma = [np.std(T)]\n",
    "for i in range(n):\n",
    "    sigma.append(np.sqrt(c+a*(V[i])**2+b*(sigma[-1])**2))\n",
    "res = []\n",
    "for i in range(n):\n",
    "    res.append(V[i]/sigma[i])\n",
    "print('GARCH, Variance is ', np.var(res))\n",
    "print('GARCH, Kurtosis is', kurtosis(res)[0])"
   ]
  },
  {
   "cell_type": "code",
   "execution_count": 4,
   "id": "7e8bdaab",
   "metadata": {},
   "outputs": [],
   "source": [
    "# TGARCH\n",
    "def TGarch11Fit(initparams,InputData):\n",
    "    import scipy.optimize as scpo\n",
    "    import numpy as np\n",
    "    array_data=np.array(InputData)\n",
    "    def GarchMaxLike(params):\n",
    "        import numpy as np        \n",
    "        #Implement maximum likelihood formula Chapter 9\n",
    "        xa,xb,xc,xd=params\n",
    "        if xa>10: xa=10\n",
    "        if xb>10: xb=10\n",
    "        if xc>10: xc=10\n",
    "        if xd>10: xd=10\n",
    "        #Use trick to force a and b between 0 and .999;\n",
    "        #(a+b) less than .999; and c>0\n",
    "        a=.999*np.exp(xa)/(1+np.exp(xa))\n",
    "        b=(.999-a)*np.exp(xb)/(1+np.exp(xb))\n",
    "        c=np.exp(xc)\n",
    "        d=np.exp(xd)\n",
    "        t=len(array_data)\n",
    "        minimal=10**(-20)\n",
    "        vargarch=np.zeros(t)\n",
    "        \n",
    "        vargarch[0]=np.var(array_data)\n",
    "        overallmean=np.mean(array_data)\n",
    "        \n",
    "        #Compute GARCH(1,1) var's from data given parameters\n",
    "        for i in range(1,t):\n",
    "            #Note offset - i-1 observation of data\n",
    "            #is used for i estimate of variance\n",
    "            delta = int(array_data[i-1]-overallmean < 0)\n",
    "            vargarch[i]=c+b*vargarch[i-1]+\\\n",
    "            a*(array_data[i-1]-overallmean)**2 + d*delta*(array_data[i-1]-overallmean)**2 \n",
    "            if vargarch[i]<=0:\n",
    "                vargarch[i]=minimal        \n",
    "        # sum logs of variances\n",
    "        logsum=np.sum(np.log(vargarch))\n",
    "        # sum yi^2/sigma^2\n",
    "        othersum=0\n",
    "        for i in range(t):\n",
    "            othersum += ((array_data[i]-overallmean)**2)/vargarch[i]\n",
    "        #Actually -2 times objective since we are minimizing\n",
    "        return(logsum + othersum)\n",
    "    #End of GarchMaxLike\n",
    "    #Transform parameters to the form used in GarchMaxLike\n",
    "    #This ensures parameters are in bounds 0<a,b<1, 0<c\n",
    "    aparam=np.log(initparams[0]/(.999-initparams[0]))\n",
    "    bparam=np.log(initparams[1]/(.999-initparams[0]-initparams[1]))\n",
    "    cparam=np.log(initparams[2])\n",
    "    dparam=np.log(initparams[3])\n",
    "    xinit=[aparam,bparam,cparam,dparam]\n",
    "    #Run the minimization. Constraints are built-in.\n",
    "    results = scpo.minimize(GarchMaxLike,xinit,method='CG')\n",
    "    aparam,bparam,cparam,dparam=results.x\n",
    "    a=.999*np.exp(aparam)/(1+np.exp(aparam))\n",
    "    b=(.999-a)*np.exp(bparam)/(1+np.exp(bparam))\n",
    "    c=np.exp(cparam)\n",
    "    d=np.exp(dparam)\n",
    "    return([a,b,c,d])"
   ]
  },
  {
   "cell_type": "code",
   "execution_count": 8,
   "id": "ada6f8cb",
   "metadata": {},
   "outputs": [
    {
     "name": "stdout",
     "output_type": "stream",
     "text": [
      "0.08710831449763716 0.9087542180622161 3.5210641628049344e-07 3.653038921575185e-08\n",
      "TGARCH, Variance is  0.8984617058728512\n",
      "TGARCH, Kurtosis is 1.4016847896162554\n"
     ]
    }
   ],
   "source": [
    "ans2 = TGarch11Fit([0.6,0.3,2,2],T)\n",
    "a = ans2[0]\n",
    "b = ans2[1]\n",
    "c = ans2[2]\n",
    "d = ans2[3]\n",
    "print(a,b,c,d)\n",
    "sigma = [np.std(T)]\n",
    "for i in range(n):\n",
    "    delta = int(V[i] < 0)\n",
    "    sigma.append(np.sqrt(c+a*(V[i])**2+b*(sigma[-1])**2+d*delta*(V[i])**2))\n",
    "res = []\n",
    "for i in range(n):\n",
    "    res.append(V[i]/sigma[i])\n",
    "print('TGARCH, Variance is ', np.var(res))\n",
    "print('TGARCH, Kurtosis is', kurtosis(res)[0])"
   ]
  },
  {
   "cell_type": "markdown",
   "id": "07146d8c",
   "metadata": {},
   "source": [
    "#### From the above results, we can see that TGARCH gives almost the same results on the variance and kurtosis of $y_i/\\sigma_i$ as GARCH model on the holdout set."
   ]
  },
  {
   "cell_type": "markdown",
   "id": "1fa98d4d",
   "metadata": {},
   "source": [
    "# Q2"
   ]
  },
  {
   "cell_type": "code",
   "execution_count": 1,
   "id": "0bbb6dca",
   "metadata": {},
   "outputs": [],
   "source": [
    "import pandas as pd\n",
    "import qrpm_funcs as qf\n",
    "import numpy as np\n",
    "from tabulate import tabulate\n",
    "import matplotlib.pyplot as plt\n",
    "import scipy.stats as spst\n",
    "\n",
    "plt.rcParams['figure.dpi']= 300\n",
    "\n",
    "lastday=qf.LastYearEnd()\n",
    "#Swiss franc, pound sterling, Japanese Yen\n",
    "seriesnames=['DEXSZUS','DEXUSUK','DEXJPUS']\n",
    "cdates,ratematrix=qf.GetFREDMatrix(seriesnames,enddate=lastday)\n",
    "multipliers=[-1,1,-1]\n",
    "\n",
    "lgdates,difflgs=qf.levels_to_log_returns(cdates,ratematrix,multipliers)\n",
    "ind = lgdates.index('2020-12-31')\n",
    "L = np.array(difflgs[:ind+1]) #Learning set\n",
    "V = np.array(difflgs[ind+1:]) #Hold-out set"
   ]
  },
  {
   "cell_type": "code",
   "execution_count": 2,
   "id": "3710d62d",
   "metadata": {},
   "outputs": [
    {
     "name": "stdout",
     "output_type": "stream",
     "text": [
      "Correlation matrix using (equal-weighted) historical data:\n",
      " [[1.         0.57254629 0.47623944]\n",
      " [0.57254629 1.         0.30082627]\n",
      " [0.47623944 0.30082627 1.        ]]\n"
     ]
    }
   ],
   "source": [
    "from numpy.linalg import inv\n",
    "T = len(L)\n",
    "X_c = L.T@(np.identity(T)-np.ones((T,1))@np.ones((1,T))/T)\n",
    "C = X_c@X_c.T/T\n",
    "S = np.diag([np.sqrt(i) for i in np.diag(C)])\n",
    "R1 = inv(S)@C@inv(S)\n",
    "print(\"Correlation matrix using (equal-weighted) historical data:\\n\", R1)"
   ]
  },
  {
   "cell_type": "code",
   "execution_count": 3,
   "id": "e2ddc8b8",
   "metadata": {},
   "outputs": [
    {
     "name": "stdout",
     "output_type": "stream",
     "text": [
      "Correlation matrix using EWMA:\n",
      " [[1.         0.41162977 0.5366284 ]\n",
      " [0.41162977 1.         0.25379383]\n",
      " [0.5366284  0.25379383 1.        ]]\n"
     ]
    }
   ],
   "source": [
    "L = L[::-1]\n",
    "h = 1/252\n",
    "labda = 2**(-h)\n",
    "p_list = [(1-labda)*labda**i/(1-labda**T) for i in range(T)]\n",
    "P = np.diag(p_list)\n",
    "X_l = L.T@(np.identity(T)-P@np.ones((T,1))@np.ones((1,T)))\n",
    "C_l = X_l@P@X_l.T\n",
    "S = np.diag([np.sqrt(i) for i in np.diag(C_l)])\n",
    "R2 = inv(S)@C_l@inv(S)\n",
    "print(\"Correlation matrix using EWMA:\\n\", R2)"
   ]
  },
  {
   "cell_type": "code",
   "execution_count": 4,
   "id": "15625249",
   "metadata": {},
   "outputs": [
    {
     "name": "stdout",
     "output_type": "stream",
     "text": [
      "Correlation matrix on V:\n",
      " [[1.         0.49770195 0.59386854]\n",
      " [0.49770195 1.         0.24884904]\n",
      " [0.59386854 0.24884904 1.        ]]\n"
     ]
    }
   ],
   "source": [
    "R3 = np.array(pd.DataFrame(V).corr())\n",
    "print(\"Correlation matrix on V:\\n\", R3)"
   ]
  },
  {
   "cell_type": "code",
   "execution_count": 5,
   "id": "7b76a647",
   "metadata": {},
   "outputs": [
    {
     "name": "stdout",
     "output_type": "stream",
     "text": [
      "p-value of equal-weighted and R_V: 0.024969986917747544\n",
      "p-value of EWMA and R_V: 0.24283562356226296\n",
      "True\n"
     ]
    }
   ],
   "source": [
    "# Box M test\n",
    "def BoxM(T1,T2,s1,s2):\n",
    "    from scipy import stats\n",
    "    #Tests for equality of two covariance matrices, s1 and s2\n",
    "    #T1 and T2 are numbers of observations for s1 and s2\n",
    "    #Returns M statistic and p-value\n",
    "\n",
    "    #Make sure dimension is common\n",
    "    if len(s1)!=len(s2):\n",
    "        print(\"Error: different dimensions in Box M Test:\",len(s1),len(s2))\n",
    "        return(0,0)\n",
    "    \n",
    "    #Matrices are pxp\n",
    "    p=len(s1)\n",
    "\n",
    "    #Form the combined matrix\n",
    "    scomb=(T1*s1+T2*s2)/(T1+T2)\n",
    "\n",
    "    #Box M statistic\n",
    "    Mstat=(T1+T2-2)*np.log(np.linalg.det(scomb))-(T1-1)* \\\n",
    "        np.log(np.linalg.det(s1))-(T2-1)*np.log(np.linalg.det(s2))\n",
    "\n",
    "    #Multipliers from equation (49) in Box 1949.\n",
    "    A1=(2*p**2+3*p-1)/(6*(p+1))\n",
    "    A1*=(1/(T1-1)+1/(T2-1)-1/(T1+T2-2))\n",
    "\n",
    "    A2=(p-1)*(p+2)/6\n",
    "    A2*=(1/(T1-1)**2+1/(T2-1)**2-1/(T1+T2-2)**2)\n",
    "\n",
    "    discrim=A2-A1**2\n",
    "\n",
    "    #Degrees of freedom\n",
    "    df1=p*(p+1)/2\n",
    "\n",
    "    if discrim <= 0:\n",
    "        #Use chi-square (Box 1949 top p. 329)\n",
    "        test_value=Mstat*(1-A1)\n",
    "        p_value=1-spst.chi2.cdf(test_value,df1)\n",
    "    else:\n",
    "        #Use F Test (Box 1949 equation (68))\n",
    "        df2=(df1+2)/discrim\n",
    "        b=df1/(1-A1-(df1/df2))\n",
    "        test_value=Mstat/b\n",
    "        p_value=1-stats.f.cdf(test_value,df1,df2)\n",
    "    \n",
    "    return(test_value,p_value)\n",
    "\n",
    "\n",
    "_, p_value1 = BoxM(T,len(V),R1,R3)\n",
    "print(\"p-value of equal-weighted and R_V:\",p_value1)\n",
    "_, p_value2 = BoxM(T,len(V),R2,R3)\n",
    "print(\"p-value of EWMA and R_V:\",p_value2)\n",
    "print(p_value1<p_value2)"
   ]
  },
  {
   "cell_type": "markdown",
   "id": "edfb03d9",
   "metadata": {},
   "source": [
    "#### EWMA has higher p value."
   ]
  },
  {
   "cell_type": "code",
   "execution_count": 8,
   "id": "b9910c94",
   "metadata": {},
   "outputs": [
    {
     "name": "stdout",
     "output_type": "stream",
     "text": [
      "Optimal days so that EWMA correlation matrix has the highest p-value with R_V is:\n",
      " 180\n"
     ]
    }
   ],
   "source": [
    "# (b)\n",
    "def find_p(h):\n",
    "    h = 1/h\n",
    "    labda = 2**(-h)\n",
    "    p_list = [(1-labda)*labda**i/(1-labda**T) for i in range(T)]\n",
    "    P = np.diag(p_list)\n",
    "    X_l = L.T@(np.identity(T)-P@np.ones((T,1))@np.ones((1,T)))\n",
    "    C_l = X_l@P@X_l.T\n",
    "    S = np.diag([np.sqrt(i) for i in np.diag(C_l)])\n",
    "    R2 = inv(S)@C_l@inv(S)\n",
    "    _, p_value = BoxM(T,len(V),R2,R3)\n",
    "    return p_value\n",
    "\n",
    "h_list = list(range(10,501,10))\n",
    "pValue = []\n",
    "for i in h_list:\n",
    "    pValue.append(find_p(i))\n",
    "ans = h_list[pValue.index(max(pValue))]\n",
    "print(\"Optimal days so that EWMA correlation matrix has the highest p-value with R_V is:\\n\", ans)"
   ]
  },
  {
   "cell_type": "code",
   "execution_count": null,
   "id": "692c3ed8",
   "metadata": {},
   "outputs": [],
   "source": []
  }
 ],
 "metadata": {
  "kernelspec": {
   "display_name": "Python 3 (ipykernel)",
   "language": "python",
   "name": "python3"
  },
  "language_info": {
   "codemirror_mode": {
    "name": "ipython",
    "version": 3
   },
   "file_extension": ".py",
   "mimetype": "text/x-python",
   "name": "python",
   "nbconvert_exporter": "python",
   "pygments_lexer": "ipython3",
   "version": "3.7.4"
  }
 },
 "nbformat": 4,
 "nbformat_minor": 5
}
